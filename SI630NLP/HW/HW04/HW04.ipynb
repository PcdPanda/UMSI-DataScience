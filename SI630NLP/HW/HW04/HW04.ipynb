{
 "cells": [
  {
   "cell_type": "code",
   "execution_count": 1,
   "id": "639e8eb4",
   "metadata": {},
   "outputs": [
    {
     "name": "stdout",
     "output_type": "stream",
     "text": [
      "CPU times: user 955 ms, sys: 168 ms, total: 1.12 s\n",
      "Wall time: 1.23 s\n"
     ]
    }
   ],
   "source": [
    "%%time\n",
    "import json\n",
    "import logging\n",
    "import os\n",
    "import seaborn as sns\n",
    "from typing import *\n",
    "import numpy as np\n",
    "import pandas as pd\n",
    "import torch\n",
    "from transformers import Trainer, TrainingArguments, PreTrainedTokenizerFast, BertTokenizer, BertForSequenceClassification\n",
    "from sklearn.metrics import f1_score, accuracy_score, recall_score, precision_score\n",
    "import pet\n",
    "from pet.pvp import PVP, PVPS\n",
    "from pet.utils import InputExample\n",
    "from pet.tasks import DataProcessor, PROCESSORS, TASK_HELPERS \n",
    "logging.basicConfig(level=logging.CRITICAL)"
   ]
  },
  {
   "cell_type": "code",
   "execution_count": null,
   "id": "9f622fbe",
   "metadata": {},
   "outputs": [],
   "source": [
    "model_path = \"../../MiniLM\"\n",
    "df_train = pd.read_csv(\"hw4_train.csv\", index_col=\"id\")\n",
    "df_test = pd.read_csv(\"hw4_test.csv\", index_col=\"id\")"
   ]
  },
  {
   "cell_type": "markdown",
   "id": "a808126c",
   "metadata": {},
   "source": [
    "## 1: Tokenize single word into token ID"
   ]
  },
  {
   "cell_type": "code",
   "execution_count": null,
   "id": "7ad70e4c",
   "metadata": {},
   "outputs": [],
   "source": [
    "tokenizer = BertTokenizer.from_pretrained(model_path)\n",
    "device = torch.device(\"cuda:0\" if torch.cuda.is_available() else \"cpu\")\n",
    "batch_size = 36\n",
    "class Dataset(torch.utils.data.Dataset):\n",
    "    def __init__(self, encodings, labels=None):\n",
    "        self.encodings = encodings\n",
    "        self.labels = labels\n",
    "\n",
    "    def __getitem__(self, idx):\n",
    "        item = {key: torch.tensor(val[idx]) for key, val in self.encodings.items()}\n",
    "        if self.labels:\n",
    "            item[\"labels\"] = torch.tensor(self.labels[idx])\n",
    "        return item\n",
    "\n",
    "    def __len__(self):\n",
    "        return len(self.encodings[\"input_ids\"])\n",
    "\n",
    "def tokenize(word: str):\n",
    "    return tokenizer(word, add_special_tokens=False, padding=False)[\"input_ids\"]"
   ]
  },
  {
   "cell_type": "markdown",
   "id": "c6edf04d",
   "metadata": {},
   "source": [
    "## 2. 10 different prompts for classification and at least 2 verbalizations."
   ]
  },
  {
   "cell_type": "markdown",
   "id": "b25badf0",
   "metadata": {},
   "source": [
    "1. In summary, [Review text] sounds [Mask]!\n",
    "2. If someone say [Review text] to me, he must be a [Mask] guy.\n",
    "3. How can anyone say [Review text]? He must be so [Mask]!\n",
    "4. Saying something like [Review text] can make the conversation [Mask].\n",
    "5. Only [Mask] people will say [Review text] to each other!\n",
    "6. It sounds [Mask] to say [Review text]\n",
    "7. I say [Review text] when it is [Mask].\n",
    "8. [Review text]: [Mask].\n",
    "9. I feel [Mask] when hearing people say [Review text].\n",
    "10. How does [Review text] sounds like? It is [Mask]."
   ]
  },
  {
   "cell_type": "code",
   "execution_count": null,
   "id": "636a8fd6",
   "metadata": {},
   "outputs": [],
   "source": [
    "class MyTaskPVP(PVP):\n",
    "    TASK_NAME = \"SI630-HW4\"\n",
    "    VERBALIZER = {\"0\": [\"boring\",\"ordinary\"], \"1\": [\"toxic\", \"awful\"]}\n",
    "    def get_parts(self, example: InputExample):\n",
    "        \"\"\"\n",
    "        This function defines the actual patterns: It takes as input an example and outputs the result of applying a\n",
    "        pattern to it. To allow for multiple patterns, a pattern_id can be passed to the PVP's constructor. This\n",
    "        method must implement the application of all patterns.\n",
    "        \"\"\"\n",
    "        text = self.shortenable(example.text_a)\n",
    "        patterns = {\n",
    "            0: [\"In summary, \", text, \" sounds \", self.mask, \"!\"],\n",
    "            1: [\"If someone says \", text, \" to me, he must be a \", self.mask, \" guy.\"],\n",
    "            2: [\"How can anyone say \", text, \"? He must be so \", self.mask, \"!\"],\n",
    "            3: [\"Saying something like \", text, \"can make the conversation \", self.mask, \".\"],\n",
    "            4: [\"Only \", self.mask, \" people will say \", text, \" to each other!\"],\n",
    "            5: [\"It sounds \", self.mask, \" to say \", text, \".\"],\n",
    "            6: [\"I say \", text, \" when it is \", self.mask, \".\"],\n",
    "            7: [text, \": \", self.mask, \".\"],\n",
    "            8: [\"I feel \", self.mask, \" when hearing people say \", text, \".\"],\n",
    "            9: [\"How does \", text, \" sounds like? It is \", self.mask, \".\"]\n",
    "        }\n",
    "        if self.pattern_id in patterns.keys():\n",
    "            return patterns[self.pattern_id]\n",
    "        else:\n",
    "            raise ValueError(\"No pattern implemented for id {}\".format(self.pattern_id))\n",
    "\n",
    "    def verbalize(self, label) -> List[str]:\n",
    "        return MyTaskPVP.VERBALIZER[label]\n",
    "\n",
    "\n",
    "# register the PVP for this task with its name\n",
    "PVPS[MyTaskPVP.TASK_NAME] = MyTaskPVP"
   ]
  },
  {
   "cell_type": "code",
   "execution_count": null,
   "id": "a1509a3f",
   "metadata": {},
   "outputs": [],
   "source": [
    "class MyTaskDataProcessor(DataProcessor):\n",
    "    \"\"\"\n",
    "    Example for a data processor.\n",
    "    \"\"\"\n",
    "    TASK_NAME = \"SI630-HW4\"\n",
    "    TRAIN_FILE_NAME = \"hw4_train.csv\"\n",
    "    TEST_FILE_NAME = \"hw4_test.csv\"\n",
    "\n",
    "    LABELS = [\"0\", \"1\"]\n",
    "\n",
    "    def get_train_examples(self, data_dir: str=\".\", size: int=-1) -> List[InputExample]:\n",
    "        return self._create_examples(os.path.join(data_dir, MyTaskDataProcessor.TRAIN_FILE_NAME), \"train\", size=size)\n",
    "\n",
    "    def get_test_examples(self, data_dir: str=\".\", size: int=-1) -> List[InputExample]:\n",
    "        return self._create_examples(os.path.join(data_dir, MyTaskDataProcessor.TEST_FILE_NAME), \"test\", size=size)\n",
    "\n",
    "    def get_dev_examples(self, data_dir: str=\".\") -> List[InputExample]:\n",
    "        return self._create_examples(os.path.join(data_dir, MyTaskDataProcessor.DEV_FILE_NAME), \"dev\")\n",
    "\n",
    "    def get_unlabeled_examples(self, data_dir: str=\".\") -> List[InputExample]:\n",
    "        return self._create_examples(os.path.join(data_dir, MyTaskDataProcessor.UNLABELED_FILE_NAME), \"unlabeled\")\n",
    "    \n",
    "    def get_labels(self) -> List[str]:\n",
    "        \"\"\"This method returns all possible labels for the task.\"\"\"\n",
    "        return MyTaskDataProcessor.LABELS\n",
    "    \n",
    "    def _create_examples(self, path, set_type, max_examples=-1, skip_first=0, size: int=-1):\n",
    "        \"\"\"Creates examples for the training and dev sets.\"\"\"\n",
    "        examples = []\n",
    "        df = pd.read_csv(path)\n",
    "        if size != -1:\n",
    "            ratio = size / len(df)\n",
    "            df_toxic = df[df.toxic==1]\n",
    "            df_nontoxic = df[df.toxic==0]\n",
    "            df = pd.concat([df_toxic.sample(int(ratio * len(df_toxic))), df_nontoxic.sample(int(ratio * len(df_nontoxic)))])\n",
    "        for idx, row in df.iterrows():\n",
    "            guid = \"%s-%s\" % (set_type, idx)\n",
    "            example = InputExample(guid=guid, text_a=row.comment_text, text_b=None, label=str(row.toxic))\n",
    "            examples.append(example)     \n",
    "        return examples\n",
    "PROCESSORS[MyTaskDataProcessor.TASK_NAME] = MyTaskDataProcessor"
   ]
  },
  {
   "cell_type": "markdown",
   "id": "8278a539",
   "metadata": {},
   "source": [
    "## 3. Train MiniLM at least for 2 epochs and validate by F1"
   ]
  },
  {
   "cell_type": "code",
   "execution_count": null,
   "id": "31c5fcd6",
   "metadata": {},
   "outputs": [],
   "source": [
    "%%time\n",
    "train_tokenized = tokenizer(list(df_train.comment_text), padding=True, truncation=True, max_length=256)\n",
    "train_dataset = Dataset(train_tokenized, list(df_train.toxic))\n",
    "test_tokenized = tokenizer(list(df_test.comment_text), padding=True, truncation=True, max_length=256)\n",
    "test_dataset = Dataset(test_tokenized, list(df_test.toxic))"
   ]
  },
  {
   "cell_type": "code",
   "execution_count": null,
   "id": "f6b0ced6",
   "metadata": {},
   "outputs": [],
   "source": [
    "def compute_metrics(pred):    \n",
    "    labels = pred.label_ids\n",
    "    preds = pred.predictions.argmax(-1)\n",
    "    acc = accuracy_score(y_true=labels, y_pred=preds)\n",
    "    recall = recall_score(y_true=labels, y_pred=preds, average='micro')\n",
    "    precision = precision_score(y_true=labels, y_pred=preds, average='micro')\n",
    "    f1 = f1_score(y_true=labels, y_pred=preds, average='micro')\n",
    "    return {\"acc\":acc, \"recall\":recall, \"precision\": precision, \"f1\": f1}\n",
    "\n",
    "def train(model, train_dataset):\n",
    "    model.to(device)\n",
    "    args = TrainingArguments(\n",
    "        output_dir=\"output\",\n",
    "        evaluation_strategy=\"steps\",\n",
    "        eval_steps=500,\n",
    "        per_device_train_batch_size=batch_size,\n",
    "        per_device_eval_batch_size=batch_size,\n",
    "        num_train_epochs=2,\n",
    "        seed=123,\n",
    "        load_best_model_at_end=True,\n",
    "    )\n",
    "    trainer = Trainer(\n",
    "        model=model,\n",
    "        args=args,\n",
    "        train_dataset=train_dataset,\n",
    "        eval_dataset=test_dataset,\n",
    "        compute_metrics=compute_metrics\n",
    "    )\n",
    "    trainer.train()\n",
    "    return model"
   ]
  },
  {
   "cell_type": "code",
   "execution_count": null,
   "id": "79cd4e1b",
   "metadata": {},
   "outputs": [],
   "source": [
    "model = BertForSequenceClassification.from_pretrained(model_path, num_labels=2)\n",
    "train_model_path = \"MiniModelRegression\"\n",
    "trained_model = train(model, train_dataset)\n",
    "# trained_model = BertForSequenceClassification.from_pretrained(train_model_path, num_labels=1)\n",
    "trained_predictor = Trainer(model=trained_model)\n",
    "trained_predictor.save_model(train_model_path)"
   ]
  },
  {
   "cell_type": "code",
   "execution_count": null,
   "id": "011232d8",
   "metadata": {},
   "outputs": [],
   "source": [
    "%%time\n",
    "prediction = trained_predictor.predict(test_dataset).predictions\n",
    "pred_label = np.argmax(prediction, axis=1).flatten()\n",
    "acc = accuracy_score(pred_label, df_test.toxic)\n",
    "f1 = f1_score(pred_label, df_test.toxic)"
   ]
  },
  {
   "cell_type": "markdown",
   "id": "69952a32",
   "metadata": {},
   "source": [
    "For MiniLM bert model, Acc is $0.92$, F1 is $0.67$ "
   ]
  },
  {
   "cell_type": "markdown",
   "id": "1dcdb02d",
   "metadata": {},
   "source": [
    "## 4. Use pattern and verbalizer to train PET on 10, 50, 100, 500 random instances "
   ]
  },
  {
   "cell_type": "code",
   "execution_count": null,
   "id": "2ce55b08",
   "metadata": {},
   "outputs": [],
   "source": [
    "%%time\n",
    "for size in [10, 50, 100, 500]:\n",
    "    model_config = pet.WrapperConfig(\"bert\", model_path, \"sequence_classifier\", \"SI630-HW4\", 256, [\"0\", \"1\"], list(range(10)))\n",
    "    train_config = pet.TrainConfig(str(device), batch_size, batch_size)\n",
    "    eval_config = pet.EvalConfig(str(device), per_gpu_eval_batch_size=batch_size, metrics=[\"acc\", \"f1\"])\n",
    "    output_dir = \"output{}\".format(size)\n",
    "    train_data = MyTaskDataProcessor().get_train_examples(\".\", size=size)\n",
    "    test_data = MyTaskDataProcessor().get_test_examples(\".\", size=size)\n",
    "    pattern_ids = list(range(10))\n",
    "    pet.train_pet_ensemble(model_config, train_config, eval_config, pattern_ids, output_dir,train_data=train_data, eval_data=test_data)"
   ]
  },
  {
   "cell_type": "markdown",
   "id": "4bbd008e",
   "metadata": {},
   "source": [
    "For PET10, acc is $0.46\\pm0.37$, F1 is $0.18\\pm0.12$\n",
    "\n",
    "For PET50, acc is $0.53\\pm0.37$, F1 is $0.26\\pm0.14$\n",
    "\n",
    "For PET100, acc is $0.55\\pm0.21$, F1 is $0.29\\pm0.06$\n",
    "\n",
    "For PET500, acc is $0.84\\pm0.02$, F1 is $0.52\\pm0.02$"
   ]
  },
  {
   "cell_type": "markdown",
   "id": "6874558f",
   "metadata": {},
   "source": [
    "## 5. Use Seaborn to plot F1 for PET and MiniLM"
   ]
  },
  {
   "cell_type": "code",
   "execution_count": 2,
   "id": "88ffb9fa",
   "metadata": {},
   "outputs": [],
   "source": [
    "data = pd.DataFrame({\n",
    "    \"Model\":[\"PET10\", \"PET50\", \"PET100\", \"PET500\", \"MiniLM\"],\n",
    "    \"Acc\":[0.46, 0.53, 0.55, 0.84, 0.92],\n",
    "    \"F1\": [0.18, 0.26, 0.29, 0.52, 0.67]\n",
    "    }\n",
    ").melt(id_vars=[\"Model\"], value_vars=[\"Acc\", \"F1\"], var_name=\"ScoreType\", value_name=\"Value\").sort_values([\"Model\", \"ScoreType\"])"
   ]
  },
  {
   "cell_type": "code",
   "execution_count": 3,
   "id": "97928a35",
   "metadata": {},
   "outputs": [
    {
     "data": {
      "text/plain": [
       "<seaborn.axisgrid.FacetGrid at 0x7fbd6b9a7430>"
      ]
     },
     "execution_count": 3,
     "metadata": {},
     "output_type": "execute_result"
    },
    {
     "data": {
      "image/png": "[encoded data removed]",
      "text/plain": [
       "<Figure size 720x360 with 2 Axes>"
      ]
     },
     "metadata": {
      "needs_background": "light"
     },
     "output_type": "display_data"
    }
   ],
   "source": [
    "sns.catplot(data=data, x=\"Model\", col=\"ScoreType\", y=\"Value\", kind=\"bar\")"
   ]
  },
  {
   "cell_type": "markdown",
   "id": "5678ead1",
   "metadata": {},
   "source": [
    "With more instance used for PET model's training, the score for PET 500 increase greatly. The score for PET 500 is quite close to the MiniLM model. Therefore, I think 1000 samples should be enough for PET model to reach MiniLM model."
   ]
  }
 ],
 "metadata": {
  "kernelspec": {
   "display_name": "Python 3 (ipykernel)",
   "language": "python",
   "name": "python3"
  },
  "language_info": {
   "codemirror_mode": {
    "name": "ipython",
    "version": 3
   },
   "file_extension": ".py",
   "mimetype": "text/x-python",
   "name": "python",
   "nbconvert_exporter": "python",
   "pygments_lexer": "ipython3",
   "version": "3.9.12"
  }
 },
 "nbformat": 4,
 "nbformat_minor": 5
}
