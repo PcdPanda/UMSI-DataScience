{
 "cells": [
  {
   "cell_type": "code",
   "execution_count": 1,
   "id": "7483b4d0",
   "metadata": {},
   "outputs": [],
   "source": [
    "from Utils import *\n",
    "import altair as alt\n",
    "import numpy as np\n",
    "import pandas as pd\n",
    "import tqdm\n",
    "import NumpyLR\n",
    "import TorchLR"
   ]
  },
  {
   "cell_type": "markdown",
   "id": "3591d0c3",
   "metadata": {},
   "source": [
    "## Load and tokenize the data"
   ]
  },
  {
   "cell_type": "code",
   "execution_count": 3,
   "id": "50efccdd",
   "metadata": {
    "scrolled": true
   },
   "outputs": [
    {
     "name": "stderr",
     "output_type": "stream",
     "text": [
      "Build Voc: 100%|███████████████████████████████████████████████████████████████████████████| 59999/59999 [00:32<00:00, 1846.16it/s]\n",
      "Build Matrix: 59999it [00:32, 1843.77it/s]\n"
     ]
    }
   ],
   "source": [
    "train_df = load_df(\"train.csv\")\n",
    "dev_df = load_df(\"dev.csv\")\n",
    "test_df = load_df(\"test.csv\")\n",
    "# use 2-grams can achieve best performance\n",
    "tokenizer = Tokenizer(1)\n",
    "processor = Preprocessor(tokenizer)\n",
    "processor.buildVocabulary(train_df)\n",
    "train_X = processor.buildMatrix(train_df)\n",
    "train_Y = train_df[\"party_affiliation\"].values\n"
   ]
  },
  {
   "cell_type": "markdown",
   "id": "cd584b91",
   "metadata": {},
   "source": [
    "## Numpy Training"
   ]
  },
  {
   "cell_type": "code",
   "execution_count": null,
   "id": "68a96556",
   "metadata": {},
   "outputs": [],
   "source": [
    "numpy_model = NumpyLR.NumpyLR(processor)\n",
    "# Set the batch size to be 1e4 to achieve high performance\n",
    "# NumpyLR.train(train_X, train_Y, numpy_model, lr=5e-4, num_step=3e3, batch_size=10000, fig_path=\"NumpyLR.png\")\n",
    "likelihood = NumpyLR.train(train_X, train_Y, numpy_model, lr=5e-5, num_step=1e3, batch_size=1, fig_path=\"NumpyLR.png\")\n",
    "score = evaluate(numpy_model, dev_df, dev_df[\"party_affiliation\"].values)\n",
    "score"
   ]
  },
  {
   "cell_type": "code",
   "execution_count": null,
   "id": "25fe1929",
   "metadata": {},
   "outputs": [],
   "source": [
    "NumpyModel.get_token_weights()"
   ]
  },
  {
   "cell_type": "code",
   "execution_count": null,
   "id": "15e37917",
   "metadata": {},
   "outputs": [],
   "source": [
    "csv = merge_df(test_df, output)\n",
    "csv.to_csv(\"TorchLR.csv\")\n",
    "NumpyModel.save(\"/home/panda/models/NumpyLR{}.pkl\".format(1000 * round(score[\"F1\"], 4))"
   ]
  },
  {
   "cell_type": "markdown",
   "id": "7acf83e2",
   "metadata": {},
   "source": [
    "## PyTorch Training"
   ]
  },
  {
   "cell_type": "markdown",
   "id": "175edd6c",
   "metadata": {},
   "source": [
    "#### Test the regularization"
   ]
  },
  {
   "cell_type": "code",
   "execution_count": null,
   "id": "4a52da06",
   "metadata": {},
   "outputs": [],
   "source": [
    "losses = list()\n",
    "F1 = list()\n",
    "lr = 1e-3\n",
    "for l2 in [0, 1e-3, 0.1]:\n",
    "    TorchModel = TorchLR.LogisticRegression(processor)\n",
    "    optimizer = torch.optim.SGD(TorchModel.parameters(), lr=lr, weight_decay=l2)\n",
    "    score = TorchLR.train(train_X, train_Y, TorchModel, lr=lr, epoch_num=1, epoch_step=60)\n",
    "    losses.append(score[\"loss\"])\n",
    "    F1.append(score[\"F1\"])"
   ]
  },
  {
   "cell_type": "markdown",
   "id": "481cde4e",
   "metadata": {},
   "source": [
    "#### Test the optimizer type"
   ]
  },
  {
   "cell_type": "code",
   "execution_count": null,
   "id": "65e0ad90",
   "metadata": {},
   "outputs": [],
   "source": [
    "losses = list()\n",
    "F1 = list()\n",
    "lr = 1e-3\n",
    "for optimizer in [torch.optim.SGD, torch.optim.RMSprop, torch.optim.AdamW]:\n",
    "    TorchModel = TorchLR.LogisticRegression(processor)\n",
    "    optimizer = optimizer(TorchModel.parameters(), lr=lr)\n",
    "    score = TorchLR.train(train_X, train_Y, TorchModel, lr=lr, epoch_num=1, epoch_step=60)\n",
    "    losses.append(score[\"loss\"])\n",
    "    F1.append(score[\"F1\"])"
   ]
  },
  {
   "cell_type": "markdown",
   "id": "0b84bbb7",
   "metadata": {},
   "source": [
    "#### Different tokenizer"
   ]
  },
  {
   "cell_type": "code",
   "execution_count": 4,
   "id": "998932bf",
   "metadata": {},
   "outputs": [
    {
     "name": "stderr",
     "output_type": "stream",
     "text": [
      "Build Voc: 100%|███████████████████████████████████████████████████████████████████████████| 59999/59999 [00:06<00:00, 9923.27it/s]\n",
      "Build Matrix: 59999it [00:08, 7272.58it/s]\n",
      "Training Epoch:   0%|                                                                                        | 0/1 [00:00<?, ?it/s]\n",
      "Training Step in Epoch 0:   0%|                                                                             | 0/60 [00:00<?, ?it/s]\u001b[A\n",
      "Training Step in Epoch 0:   5%|███▍                                                                 | 3/60 [00:00<00:01, 29.31it/s]\u001b[A\n",
      "Training Step in Epoch 0:  10%|██████▉                                                              | 6/60 [00:00<00:01, 28.93it/s]\u001b[A\n",
      "Training Step in Epoch 0:  15%|██████████▎                                                          | 9/60 [00:00<00:01, 28.48it/s]\u001b[A\n",
      "Training Step in Epoch 0:  20%|█████████████▌                                                      | 12/60 [00:00<00:01, 28.62it/s]\u001b[A\n",
      "Training Step in Epoch 0:  25%|█████████████████                                                   | 15/60 [00:00<00:01, 28.62it/s]\u001b[A\n",
      "Training Step in Epoch 0:  30%|████████████████████▍                                               | 18/60 [00:00<00:01, 28.55it/s]\u001b[A\n",
      "Training Step in Epoch 0:  37%|████████████████████████▉                                           | 22/60 [00:00<00:01, 29.97it/s]\u001b[A\n",
      "Training Step in Epoch 0:  42%|████████████████████████████▎                                       | 25/60 [00:00<00:01, 29.88it/s]\u001b[A\n",
      "Training Step in Epoch 0:  47%|███████████████████████████████▋                                    | 28/60 [00:00<00:01, 27.98it/s]\u001b[A\n",
      "Training Step in Epoch 0:  52%|███████████████████████████████████▏                                | 31/60 [00:01<00:01, 27.03it/s]\u001b[A\n",
      "Training Step in Epoch 0:  57%|██████████████████████████████████████▌                             | 34/60 [00:01<00:00, 26.12it/s]\u001b[A\n",
      "Training Step in Epoch 0:  62%|█████████████████████████████████████████▉                          | 37/60 [00:01<00:00, 25.37it/s]\u001b[A\n",
      "Training Step in Epoch 0:  67%|█████████████████████████████████████████████▎                      | 40/60 [00:01<00:00, 25.17it/s]\u001b[A\n",
      "Training Step in Epoch 0:  72%|████████████████████████████████████████████████▋                   | 43/60 [00:01<00:00, 25.18it/s]\u001b[A\n",
      "Training Step in Epoch 0:  77%|████████████████████████████████████████████████████▏               | 46/60 [00:01<00:00, 23.89it/s]\u001b[A\n",
      "Training Step in Epoch 0:  83%|████████████████████████████████████████████████████████▋           | 50/60 [00:01<00:00, 26.04it/s]\u001b[A\n",
      "Training Step in Epoch 0:  90%|█████████████████████████████████████████████████████████████▏      | 54/60 [00:01<00:00, 28.30it/s]\u001b[A\n",
      "Training Step in Epoch 0: 100%|████████████████████████████████████████████████████████████████████| 60/60 [00:02<00:00, 27.69it/s]\u001b[A\n",
      "Training Epoch: 100%|████████████████████████████████████████████████████████████████████████████████| 1/1 [00:02<00:00,  2.17s/it]\n",
      "INFO:root:Complete training for PyTorch version with 2.18s, the working set size is 60000 samples\n",
      "Build Voc: 100%|███████████████████████████████████████████████████████████████████████████| 59999/59999 [00:33<00:00, 1810.71it/s]\n",
      "Build Matrix: 59999it [00:34, 1726.38it/s]\n",
      "Training Epoch:   0%|                                                                                        | 0/1 [00:00<?, ?it/s]\n",
      "Training Step in Epoch 0:   0%|                                                                             | 0/60 [00:00<?, ?it/s]\u001b[A\n",
      "Training Step in Epoch 0:  12%|████████                                                             | 7/60 [00:00<00:00, 67.24it/s]\u001b[A\n",
      "Training Step in Epoch 0:  23%|███████████████▊                                                    | 14/60 [00:00<00:00, 66.53it/s]\u001b[A\n",
      "Training Step in Epoch 0:  35%|███████████████████████▊                                            | 21/60 [00:00<00:00, 67.90it/s]\u001b[A\n",
      "Training Step in Epoch 0:  48%|████████████████████████████████▊                                   | 29/60 [00:00<00:00, 69.35it/s]\u001b[A\n",
      "Training Step in Epoch 0:  60%|████████████████████████████████████████▊                           | 36/60 [00:00<00:00, 67.87it/s]\u001b[A\n",
      "Training Step in Epoch 0:  72%|████████████████████████████████████████████████▋                   | 43/60 [00:00<00:00, 67.66it/s]\u001b[A\n",
      "Training Step in Epoch 0:  83%|████████████████████████████████████████████████████████▋           | 50/60 [00:00<00:00, 66.28it/s]\u001b[A\n",
      "Training Step in Epoch 0: 100%|████████████████████████████████████████████████████████████████████| 60/60 [00:00<00:00, 66.64it/s]\u001b[A\n",
      "Training Epoch: 100%|████████████████████████████████████████████████████████████████████████████████| 1/1 [00:00<00:00,  1.10it/s]\n",
      "INFO:root:Complete training for PyTorch version with 0.91s, the working set size is 60000 samples\n"
     ]
    }
   ],
   "source": [
    "losses = list()\n",
    "F1 = list()\n",
    "for level in [0, 1]:\n",
    "    tokenizer = Tokenizer(level)\n",
    "    processor = Preprocessor(tokenizer)\n",
    "    processor.buildVocabulary(train_df)\n",
    "    train_X = processor.buildMatrix(train_df)\n",
    "    TorchModel = TorchLR.LogisticRegression(processor)\n",
    "    score = TorchLR.train(train_X, train_Y, TorchModel, lr=1e-3, epoch_num=1, epoch_step=60)\n",
    "    losses.append(score[\"loss\"])\n",
    "    F1.append(score[\"F1\"])"
   ]
  },
  {
   "cell_type": "markdown",
   "id": "01b56dc2",
   "metadata": {},
   "source": [
    "#### Different learning rate"
   ]
  },
  {
   "cell_type": "code",
   "execution_count": 11,
   "id": "44c264c1",
   "metadata": {},
   "outputs": [
    {
     "name": "stderr",
     "output_type": "stream",
     "text": [
      "Build Voc: 100%|███████████████████████████████████████████████████████████████████████████| 59999/59999 [00:32<00:00, 1874.80it/s]\n",
      "Build Matrix: 59999it [00:34, 1742.07it/s]\n",
      "Training Epoch:   0%|                                                                                        | 0/1 [00:00<?, ?it/s]\n",
      "Training Step in Epoch 0:   0%|                                                                             | 0/60 [00:00<?, ?it/s]\u001b[A\n",
      "Training Step in Epoch 0:  10%|██████▉                                                              | 6/60 [00:00<00:00, 59.77it/s]\u001b[A\n",
      "Training Step in Epoch 0:  20%|█████████████▌                                                      | 12/60 [00:00<00:00, 50.16it/s]\u001b[A\n",
      "Training Step in Epoch 0:  30%|████████████████████▍                                               | 18/60 [00:00<00:00, 49.68it/s]\u001b[A\n",
      "Training Step in Epoch 0:  40%|███████████████████████████▏                                        | 24/60 [00:00<00:00, 49.35it/s]\u001b[A\n",
      "Training Step in Epoch 0:  50%|██████████████████████████████████                                  | 30/60 [00:00<00:00, 50.59it/s]\u001b[A\n",
      "Training Step in Epoch 0:  60%|████████████████████████████████████████▊                           | 36/60 [00:00<00:00, 49.22it/s]\u001b[A\n",
      "Training Step in Epoch 0:  68%|██████████████████████████████████████████████▍                     | 41/60 [00:00<00:00, 48.77it/s]\u001b[A\n",
      "Training Step in Epoch 0:  78%|█████████████████████████████████████████████████████▎              | 47/60 [00:00<00:00, 50.11it/s]\u001b[A\n",
      "Training Step in Epoch 0:  88%|████████████████████████████████████████████████████████████        | 53/60 [00:01<00:00, 51.95it/s]\u001b[A\n",
      "Training Step in Epoch 0: 100%|████████████████████████████████████████████████████████████████████| 60/60 [00:01<00:00, 51.97it/s]\u001b[A\n",
      "Training Epoch: 100%|████████████████████████████████████████████████████████████████████████████████| 1/1 [00:01<00:00,  1.16s/it]\n",
      "INFO:root:Complete training for PyTorch version with 1.17s, the working set size is 60000 samples\n",
      "Training Epoch:   0%|                                                                                        | 0/1 [00:00<?, ?it/s]\n",
      "Training Step in Epoch 0:   0%|                                                                             | 0/60 [00:00<?, ?it/s]\u001b[A\n",
      "Training Step in Epoch 0:  12%|████████                                                             | 7/60 [00:00<00:00, 63.78it/s]\u001b[A\n",
      "Training Step in Epoch 0:  25%|█████████████████                                                   | 15/60 [00:00<00:00, 68.35it/s]\u001b[A\n",
      "Training Step in Epoch 0:  37%|████████████████████████▉                                           | 22/60 [00:00<00:00, 65.52it/s]\u001b[A\n",
      "Training Step in Epoch 0:  48%|████████████████████████████████▊                                   | 29/60 [00:00<00:00, 67.14it/s]\u001b[A\n",
      "Training Step in Epoch 0:  60%|████████████████████████████████████████▊                           | 36/60 [00:00<00:00, 63.00it/s]\u001b[A\n",
      "Training Step in Epoch 0:  72%|████████████████████████████████████████████████▋                   | 43/60 [00:00<00:00, 57.50it/s]\u001b[A\n",
      "Training Step in Epoch 0:  82%|███████████████████████████████████████████████████████▌            | 49/60 [00:00<00:00, 56.38it/s]\u001b[A\n",
      "Training Step in Epoch 0: 100%|████████████████████████████████████████████████████████████████████| 60/60 [00:00<00:00, 60.73it/s]\u001b[A\n",
      "Training Epoch: 100%|████████████████████████████████████████████████████████████████████████████████| 1/1 [00:00<00:00,  1.01it/s]\n",
      "INFO:root:Complete training for PyTorch version with 1.0s, the working set size is 60000 samples\n",
      "Training Epoch:   0%|                                                                                        | 0/1 [00:00<?, ?it/s]\n",
      "Training Step in Epoch 0:   0%|                                                                             | 0/60 [00:00<?, ?it/s]\u001b[A\n",
      "Training Step in Epoch 0:  12%|████████                                                             | 7/60 [00:00<00:00, 66.13it/s]\u001b[A\n",
      "Training Step in Epoch 0:  25%|█████████████████                                                   | 15/60 [00:00<00:00, 71.18it/s]\u001b[A\n",
      "Training Step in Epoch 0:  38%|██████████████████████████                                          | 23/60 [00:00<00:00, 69.57it/s]\u001b[A\n",
      "Training Step in Epoch 0:  50%|██████████████████████████████████                                  | 30/60 [00:00<00:00, 67.25it/s]\u001b[A\n",
      "Training Step in Epoch 0:  62%|█████████████████████████████████████████▉                          | 37/60 [00:00<00:00, 68.04it/s]\u001b[A\n",
      "Training Step in Epoch 0:  73%|█████████████████████████████████████████████████▊                  | 44/60 [00:00<00:00, 67.58it/s]\u001b[A\n",
      "Training Step in Epoch 0:  87%|██████████████████████████████████████████████████████████▉         | 52/60 [00:00<00:00, 69.19it/s]\u001b[A\n",
      "Training Step in Epoch 0: 100%|████████████████████████████████████████████████████████████████████| 60/60 [00:00<00:00, 68.65it/s]\u001b[A\n",
      "Training Epoch: 100%|████████████████████████████████████████████████████████████████████████████████| 1/1 [00:00<00:00,  1.14it/s]\n",
      "INFO:root:Complete training for PyTorch version with 0.88s, the working set size is 60000 samples\n"
     ]
    }
   ],
   "source": [
    "losses = list()\n",
    "F1 = list()\n",
    "tokenizer = Tokenizer(1)\n",
    "processor = Preprocessor(tokenizer)\n",
    "processor.buildVocabulary(train_df)\n",
    "train_X = processor.buildMatrix(train_df)\n",
    "for lr in [1e-3, 5e-5, 1e-6]:\n",
    "    TorchModel = TorchLR.LogisticRegression(processor)\n",
    "    score = TorchLR.train(train_X, train_Y, TorchModel, lr=lr, epoch_num=1, epoch_step=60)\n",
    "    losses.append(score[\"loss\"])\n",
    "    F1.append(score[\"F1\"])"
   ]
  },
  {
   "cell_type": "markdown",
   "id": "9e4ed85d",
   "metadata": {},
   "source": [
    "#### Plot Loss"
   ]
  },
  {
   "cell_type": "code",
   "execution_count": 12,
   "id": "f31ac97e",
   "metadata": {},
   "outputs": [
    {
     "data": {
      "text/html": [
       "\n",
       "<div id=\"altair-viz-3d3200efcca147b8a1a45bbca4e97384\"></div>\n",
       "<script type=\"text/javascript\">\n",
       "  (function(spec, embedOpt){\n",
       "    let outputDiv = document.currentScript.previousElementSibling;\n",
       "    if (outputDiv.id !== \"altair-viz-3d3200efcca147b8a1a45bbca4e97384\") {\n",
       "      outputDiv = document.getElementById(\"altair-viz-3d3200efcca147b8a1a45bbca4e97384\");\n",
       "    }\n",
       "    const paths = {\n",
       "      \"vega\": \"https://cdn.jsdelivr.net/npm//vega@5?noext\",\n",
       "      \"vega-lib\": \"https://cdn.jsdelivr.net/npm//vega-lib?noext\",\n",
       "      \"vega-lite\": \"https://cdn.jsdelivr.net/npm//vega-lite@4.8.1?noext\",\n",
       "      \"vega-embed\": \"https://cdn.jsdelivr.net/npm//vega-embed@6?noext\",\n",
       "    };\n",
       "\n",
       "    function loadScript(lib) {\n",
       "      return new Promise(function(resolve, reject) {\n",
       "        var s = document.createElement('script');\n",
       "        s.src = paths[lib];\n",
       "        s.async = true;\n",
       "        s.onload = () => resolve(paths[lib]);\n",
       "        s.onerror = () => reject(`Error loading script: ${paths[lib]}`);\n",
       "        document.getElementsByTagName(\"head\")[0].appendChild(s);\n",
       "      });\n",
       "    }\n",
       "\n",
       "    function showError(err) {\n",
       "      outputDiv.innerHTML = `<div class=\"error\" style=\"color:red;\">${err}</div>`;\n",
       "      throw err;\n",
       "    }\n",
       "\n",
       "    function displayChart(vegaEmbed) {\n",
       "      vegaEmbed(outputDiv, spec, embedOpt)\n",
       "        .catch(err => showError(`Javascript Error: ${err.message}<br>This usually means there's a typo in your chart specification. See the javascript console for the full traceback.`));\n",
       "    }\n",
       "\n",
       "    if(typeof define === \"function\" && define.amd) {\n",
       "      requirejs.config({paths});\n",
       "      require([\"vega-embed\"], displayChart, err => showError(`Error loading script: ${err.message}`));\n",
       "    } else if (typeof vegaEmbed === \"function\") {\n",
       "      displayChart(vegaEmbed);\n",
       "    } else {\n",
       "      loadScript(\"vega\")\n",
       "        .then(() => loadScript(\"vega-lite\"))\n",
       "        .then(() => loadScript(\"vega-embed\"))\n",
       "        .catch(showError)\n",
       "        .then(() => displayChart(vegaEmbed));\n",
       "    }\n",
       "  })({\"config\": {\"view\": {\"continuousWidth\": 400, \"continuousHeight\": 300}}, \"data\": {\"name\": \"data-fbe33d46ca2f7beba1341ba5e959812e\"}, \"mark\": \"line\", \"encoding\": {\"color\": {\"type\": \"nominal\", \"field\": \"variable\"}, \"x\": {\"type\": \"quantitative\", \"field\": \"index\"}, \"y\": {\"type\": \"quantitative\", \"field\": \"value\"}}, \"$schema\": \"https://vega.github.io/schema/vega-lite/v4.8.1.json\", \"datasets\": {\"data-fbe33d46ca2f7beba1341ba5e959812e\": [{\"index\": 0, \"variable\": \"1e-3\", \"value\": 0.6973394751548767}, {\"index\": 1, \"variable\": \"1e-3\", \"value\": 0.6915451884269714}, {\"index\": 2, \"variable\": \"1e-3\", \"value\": 0.6837313175201416}, {\"index\": 3, \"variable\": \"1e-3\", \"value\": 0.6753510236740112}, {\"index\": 4, \"variable\": \"1e-3\", \"value\": 0.6692349314689636}, {\"index\": 5, \"variable\": \"1e-3\", \"value\": 0.6651695966720581}, {\"index\": 6, \"variable\": \"1e-3\", \"value\": 0.6552064418792725}, {\"index\": 7, \"variable\": \"1e-3\", \"value\": 0.6562902331352234}, {\"index\": 8, \"variable\": \"1e-3\", \"value\": 0.6491696238517761}, {\"index\": 9, \"variable\": \"1e-3\", \"value\": 0.6454289555549622}, {\"index\": 10, \"variable\": \"1e-3\", \"value\": 0.6357291340827942}, {\"index\": 11, \"variable\": \"1e-3\", \"value\": 0.6295512914657593}, {\"index\": 12, \"variable\": \"1e-3\", \"value\": 0.6321653723716736}, {\"index\": 13, \"variable\": \"1e-3\", \"value\": 0.6224422454833984}, {\"index\": 14, \"variable\": \"1e-3\", \"value\": 0.6182317137718201}, {\"index\": 15, \"variable\": \"1e-3\", \"value\": 0.6102533936500549}, {\"index\": 16, \"variable\": \"1e-3\", \"value\": 0.6068046689033508}, {\"index\": 17, \"variable\": \"1e-3\", \"value\": 0.6047342419624329}, {\"index\": 18, \"variable\": \"1e-3\", \"value\": 0.6059547066688538}, {\"index\": 19, \"variable\": \"1e-3\", \"value\": 0.5966613292694092}, {\"index\": 20, \"variable\": \"1e-3\", \"value\": 0.5958429574966431}, {\"index\": 21, \"variable\": \"1e-3\", \"value\": 0.589647114276886}, {\"index\": 22, \"variable\": \"1e-3\", \"value\": 0.5920426249504089}, {\"index\": 23, \"variable\": \"1e-3\", \"value\": 0.5827605724334717}, {\"index\": 24, \"variable\": \"1e-3\", \"value\": 0.5882468223571777}, {\"index\": 25, \"variable\": \"1e-3\", \"value\": 0.5875291228294373}, {\"index\": 26, \"variable\": \"1e-3\", \"value\": 0.5785095691680908}, {\"index\": 27, \"variable\": \"1e-3\", \"value\": 0.5702422857284546}, {\"index\": 28, \"variable\": \"1e-3\", \"value\": 0.568273663520813}, {\"index\": 29, \"variable\": \"1e-3\", \"value\": 0.5585201382637024}, {\"index\": 30, \"variable\": \"1e-3\", \"value\": 0.5640283823013306}, {\"index\": 31, \"variable\": \"1e-3\", \"value\": 0.5589723587036133}, {\"index\": 32, \"variable\": \"1e-3\", \"value\": 0.5653930902481079}, {\"index\": 33, \"variable\": \"1e-3\", \"value\": 0.572303831577301}, {\"index\": 34, \"variable\": \"1e-3\", \"value\": 0.5501265525817871}, {\"index\": 35, \"variable\": \"1e-3\", \"value\": 0.5524048805236816}, {\"index\": 36, \"variable\": \"1e-3\", \"value\": 0.5628170967102051}, {\"index\": 37, \"variable\": \"1e-3\", \"value\": 0.5491558909416199}, {\"index\": 38, \"variable\": \"1e-3\", \"value\": 0.5495069622993469}, {\"index\": 39, \"variable\": \"1e-3\", \"value\": 0.547900378704071}, {\"index\": 40, \"variable\": \"1e-3\", \"value\": 0.5436825752258301}, {\"index\": 41, \"variable\": \"1e-3\", \"value\": 0.5448510646820068}, {\"index\": 42, \"variable\": \"1e-3\", \"value\": 0.5367586612701416}, {\"index\": 43, \"variable\": \"1e-3\", \"value\": 0.5509853363037109}, {\"index\": 44, \"variable\": \"1e-3\", \"value\": 0.5466023683547974}, {\"index\": 45, \"variable\": \"1e-3\", \"value\": 0.5229296684265137}, {\"index\": 46, \"variable\": \"1e-3\", \"value\": 0.542931079864502}, {\"index\": 47, \"variable\": \"1e-3\", \"value\": 0.5385993123054504}, {\"index\": 48, \"variable\": \"1e-3\", \"value\": 0.5499235987663269}, {\"index\": 49, \"variable\": \"1e-3\", \"value\": 0.5266901850700378}, {\"index\": 50, \"variable\": \"1e-3\", \"value\": 0.5260568261146545}, {\"index\": 51, \"variable\": \"1e-3\", \"value\": 0.5373391509056091}, {\"index\": 52, \"variable\": \"1e-3\", \"value\": 0.513170063495636}, {\"index\": 53, \"variable\": \"1e-3\", \"value\": 0.5083912014961243}, {\"index\": 54, \"variable\": \"1e-3\", \"value\": 0.5308730602264404}, {\"index\": 55, \"variable\": \"1e-3\", \"value\": 0.5223717093467712}, {\"index\": 56, \"variable\": \"1e-3\", \"value\": 0.5174408555030823}, {\"index\": 57, \"variable\": \"1e-3\", \"value\": 0.5219948887825012}, {\"index\": 58, \"variable\": \"1e-3\", \"value\": 0.505103588104248}, {\"index\": 59, \"variable\": \"1e-3\", \"value\": 0.5357046127319336}, {\"index\": 0, \"variable\": \"5e-5\", \"value\": 0.6919538378715515}, {\"index\": 1, \"variable\": \"5e-5\", \"value\": 0.692710280418396}, {\"index\": 2, \"variable\": \"5e-5\", \"value\": 0.6928691267967224}, {\"index\": 3, \"variable\": \"5e-5\", \"value\": 0.6911017894744873}, {\"index\": 4, \"variable\": \"5e-5\", \"value\": 0.6909918785095215}, {\"index\": 5, \"variable\": \"5e-5\", \"value\": 0.6910871267318726}, {\"index\": 6, \"variable\": \"5e-5\", \"value\": 0.6903356909751892}, {\"index\": 7, \"variable\": \"5e-5\", \"value\": 0.6905142068862915}, {\"index\": 8, \"variable\": \"5e-5\", \"value\": 0.6919957399368286}, {\"index\": 9, \"variable\": \"5e-5\", \"value\": 0.6917698979377747}, {\"index\": 10, \"variable\": \"5e-5\", \"value\": 0.68912672996521}, {\"index\": 11, \"variable\": \"5e-5\", \"value\": 0.6888682842254639}, {\"index\": 12, \"variable\": \"5e-5\", \"value\": 0.6888933181762695}, {\"index\": 13, \"variable\": \"5e-5\", \"value\": 0.6898072361946106}, {\"index\": 14, \"variable\": \"5e-5\", \"value\": 0.6871512532234192}, {\"index\": 15, \"variable\": \"5e-5\", \"value\": 0.6867578625679016}, {\"index\": 16, \"variable\": \"5e-5\", \"value\": 0.6887907981872559}, {\"index\": 17, \"variable\": \"5e-5\", \"value\": 0.6866122484207153}, {\"index\": 18, \"variable\": \"5e-5\", \"value\": 0.6882330179214478}, {\"index\": 19, \"variable\": \"5e-5\", \"value\": 0.6858505010604858}, {\"index\": 20, \"variable\": \"5e-5\", \"value\": 0.6871450543403625}, {\"index\": 21, \"variable\": \"5e-5\", \"value\": 0.68278968334198}, {\"index\": 22, \"variable\": \"5e-5\", \"value\": 0.6867853999137878}, {\"index\": 23, \"variable\": \"5e-5\", \"value\": 0.6837366223335266}, {\"index\": 24, \"variable\": \"5e-5\", \"value\": 0.6826730966567993}, {\"index\": 25, \"variable\": \"5e-5\", \"value\": 0.6845499277114868}, {\"index\": 26, \"variable\": \"5e-5\", \"value\": 0.6830821633338928}, {\"index\": 27, \"variable\": \"5e-5\", \"value\": 0.6825372576713562}, {\"index\": 28, \"variable\": \"5e-5\", \"value\": 0.6826838254928589}, {\"index\": 29, \"variable\": \"5e-5\", \"value\": 0.6824374198913574}, {\"index\": 30, \"variable\": \"5e-5\", \"value\": 0.6820849180221558}, {\"index\": 31, \"variable\": \"5e-5\", \"value\": 0.6809812784194946}, {\"index\": 32, \"variable\": \"5e-5\", \"value\": 0.6823559999465942}, {\"index\": 33, \"variable\": \"5e-5\", \"value\": 0.68080735206604}, {\"index\": 34, \"variable\": \"5e-5\", \"value\": 0.6805960536003113}, {\"index\": 35, \"variable\": \"5e-5\", \"value\": 0.6821019053459167}, {\"index\": 36, \"variable\": \"5e-5\", \"value\": 0.6805022954940796}, {\"index\": 37, \"variable\": \"5e-5\", \"value\": 0.6817087531089783}, {\"index\": 38, \"variable\": \"5e-5\", \"value\": 0.6813026666641235}, {\"index\": 39, \"variable\": \"5e-5\", \"value\": 0.6815787553787231}, {\"index\": 40, \"variable\": \"5e-5\", \"value\": 0.6792942881584167}, {\"index\": 41, \"variable\": \"5e-5\", \"value\": 0.6785464286804199}, {\"index\": 42, \"variable\": \"5e-5\", \"value\": 0.6743607521057129}, {\"index\": 43, \"variable\": \"5e-5\", \"value\": 0.6785973906517029}, {\"index\": 44, \"variable\": \"5e-5\", \"value\": 0.6789906024932861}, {\"index\": 45, \"variable\": \"5e-5\", \"value\": 0.6760549545288086}, {\"index\": 46, \"variable\": \"5e-5\", \"value\": 0.6784078478813171}, {\"index\": 47, \"variable\": \"5e-5\", \"value\": 0.6757500767707825}, {\"index\": 48, \"variable\": \"5e-5\", \"value\": 0.6748572587966919}, {\"index\": 49, \"variable\": \"5e-5\", \"value\": 0.6774820685386658}, {\"index\": 50, \"variable\": \"5e-5\", \"value\": 0.6763261556625366}, {\"index\": 51, \"variable\": \"5e-5\", \"value\": 0.6777798533439636}, {\"index\": 52, \"variable\": \"5e-5\", \"value\": 0.6741099953651428}, {\"index\": 53, \"variable\": \"5e-5\", \"value\": 0.6761236190795898}, {\"index\": 54, \"variable\": \"5e-5\", \"value\": 0.6738967299461365}, {\"index\": 55, \"variable\": \"5e-5\", \"value\": 0.6737361550331116}, {\"index\": 56, \"variable\": \"5e-5\", \"value\": 0.6746626496315002}, {\"index\": 57, \"variable\": \"5e-5\", \"value\": 0.6727583408355713}, {\"index\": 58, \"variable\": \"5e-5\", \"value\": 0.6721894145011902}, {\"index\": 59, \"variable\": \"5e-5\", \"value\": 0.6719809174537659}, {\"index\": 0, \"variable\": \"1e-6\", \"value\": 0.7006494402885437}, {\"index\": 1, \"variable\": \"1e-6\", \"value\": 0.7012136578559875}, {\"index\": 2, \"variable\": \"1e-6\", \"value\": 0.7010690569877625}, {\"index\": 3, \"variable\": \"1e-6\", \"value\": 0.6987121105194092}, {\"index\": 4, \"variable\": \"1e-6\", \"value\": 0.6992838382720947}, {\"index\": 5, \"variable\": \"1e-6\", \"value\": 0.6996642351150513}, {\"index\": 6, \"variable\": \"1e-6\", \"value\": 0.7007700204849243}, {\"index\": 7, \"variable\": \"1e-6\", \"value\": 0.7014724016189575}, {\"index\": 8, \"variable\": \"1e-6\", \"value\": 0.6996451020240784}, {\"index\": 9, \"variable\": \"1e-6\", \"value\": 0.6980710625648499}, {\"index\": 10, \"variable\": \"1e-6\", \"value\": 0.6997213959693909}, {\"index\": 11, \"variable\": \"1e-6\", \"value\": 0.7014476656913757}, {\"index\": 12, \"variable\": \"1e-6\", \"value\": 0.700295090675354}, {\"index\": 13, \"variable\": \"1e-6\", \"value\": 0.6982244849205017}, {\"index\": 14, \"variable\": \"1e-6\", \"value\": 0.7003387212753296}, {\"index\": 15, \"variable\": \"1e-6\", \"value\": 0.6998900175094604}, {\"index\": 16, \"variable\": \"1e-6\", \"value\": 0.7017346620559692}, {\"index\": 17, \"variable\": \"1e-6\", \"value\": 0.699955940246582}, {\"index\": 18, \"variable\": \"1e-6\", \"value\": 0.6991408467292786}, {\"index\": 19, \"variable\": \"1e-6\", \"value\": 0.7011851668357849}, {\"index\": 20, \"variable\": \"1e-6\", \"value\": 0.6997019648551941}, {\"index\": 21, \"variable\": \"1e-6\", \"value\": 0.6988015174865723}, {\"index\": 22, \"variable\": \"1e-6\", \"value\": 0.7012840509414673}, {\"index\": 23, \"variable\": \"1e-6\", \"value\": 0.6992346048355103}, {\"index\": 24, \"variable\": \"1e-6\", \"value\": 0.7004015445709229}, {\"index\": 25, \"variable\": \"1e-6\", \"value\": 0.6997708082199097}, {\"index\": 26, \"variable\": \"1e-6\", \"value\": 0.7004281878471375}, {\"index\": 27, \"variable\": \"1e-6\", \"value\": 0.7008663415908813}, {\"index\": 28, \"variable\": \"1e-6\", \"value\": 0.6997824311256409}, {\"index\": 29, \"variable\": \"1e-6\", \"value\": 0.7005637884140015}, {\"index\": 30, \"variable\": \"1e-6\", \"value\": 0.7005631327629089}, {\"index\": 31, \"variable\": \"1e-6\", \"value\": 0.6995239853858948}, {\"index\": 32, \"variable\": \"1e-6\", \"value\": 0.6994384527206421}, {\"index\": 33, \"variable\": \"1e-6\", \"value\": 0.6986724138259888}, {\"index\": 34, \"variable\": \"1e-6\", \"value\": 0.6987003087997437}, {\"index\": 35, \"variable\": \"1e-6\", \"value\": 0.6997539401054382}, {\"index\": 36, \"variable\": \"1e-6\", \"value\": 0.7006982564926147}, {\"index\": 37, \"variable\": \"1e-6\", \"value\": 0.699640154838562}, {\"index\": 38, \"variable\": \"1e-6\", \"value\": 0.6991438865661621}, {\"index\": 39, \"variable\": \"1e-6\", \"value\": 0.6997170448303223}, {\"index\": 40, \"variable\": \"1e-6\", \"value\": 0.6990442276000977}, {\"index\": 41, \"variable\": \"1e-6\", \"value\": 0.6992809772491455}, {\"index\": 42, \"variable\": \"1e-6\", \"value\": 0.6999635696411133}, {\"index\": 43, \"variable\": \"1e-6\", \"value\": 0.6995839476585388}, {\"index\": 44, \"variable\": \"1e-6\", \"value\": 0.7012900114059448}, {\"index\": 45, \"variable\": \"1e-6\", \"value\": 0.7004600763320923}, {\"index\": 46, \"variable\": \"1e-6\", \"value\": 0.6995185613632202}, {\"index\": 47, \"variable\": \"1e-6\", \"value\": 0.6993497610092163}, {\"index\": 48, \"variable\": \"1e-6\", \"value\": 0.7001919746398926}, {\"index\": 49, \"variable\": \"1e-6\", \"value\": 0.7011566758155823}, {\"index\": 50, \"variable\": \"1e-6\", \"value\": 0.6999911069869995}, {\"index\": 51, \"variable\": \"1e-6\", \"value\": 0.7007935643196106}, {\"index\": 52, \"variable\": \"1e-6\", \"value\": 0.696647584438324}, {\"index\": 53, \"variable\": \"1e-6\", \"value\": 0.6986882090568542}, {\"index\": 54, \"variable\": \"1e-6\", \"value\": 0.6992558240890503}, {\"index\": 55, \"variable\": \"1e-6\", \"value\": 0.6997620463371277}, {\"index\": 56, \"variable\": \"1e-6\", \"value\": 0.6992535591125488}, {\"index\": 57, \"variable\": \"1e-6\", \"value\": 0.7012249827384949}, {\"index\": 58, \"variable\": \"1e-6\", \"value\": 0.7005428075790405}, {\"index\": 59, \"variable\": \"1e-6\", \"value\": 0.7000221610069275}]}}, {\"mode\": \"vega-lite\"});\n",
       "</script>"
      ],
      "text/plain": [
       "alt.Chart(...)"
      ]
     },
     "execution_count": 12,
     "metadata": {},
     "output_type": "execute_result"
    }
   ],
   "source": [
    "loss_df = pd.DataFrame(losses).T\n",
    "# loss_df.columns = [\"0\", \"1e-3\", \"0.1\"]\n",
    "# loss_df.columns = [\"SGD\", \"RMSprop\", \"AdamW\"]\n",
    "# loss_df.columns = [\"tokenizer\", \"better_tokenizer\"]\n",
    "loss_df.columns = [\"1e-3\", \"5e-5\", \"1e-6\"]\n",
    "loss_df = loss_df.melt(ignore_index=False).reset_index()\n",
    "alt.Chart(loss_df).mark_line().encode(\n",
    "    x = alt.X(\"index:Q\"),\n",
    "    y = alt.Y(\"value:Q\"),\n",
    "    color = alt.Color(\"variable:N\")\n",
    ")"
   ]
  },
  {
   "cell_type": "markdown",
   "id": "e637b8c9",
   "metadata": {},
   "source": [
    "#### Plot F1"
   ]
  },
  {
   "cell_type": "code",
   "execution_count": 13,
   "id": "1dede2b2",
   "metadata": {},
   "outputs": [
    {
     "data": {
      "text/html": [
       "\n",
       "<div id=\"altair-viz-edc3bf6331764a2caab89772e75c24ed\"></div>\n",
       "<script type=\"text/javascript\">\n",
       "  (function(spec, embedOpt){\n",
       "    let outputDiv = document.currentScript.previousElementSibling;\n",
       "    if (outputDiv.id !== \"altair-viz-edc3bf6331764a2caab89772e75c24ed\") {\n",
       "      outputDiv = document.getElementById(\"altair-viz-edc3bf6331764a2caab89772e75c24ed\");\n",
       "    }\n",
       "    const paths = {\n",
       "      \"vega\": \"https://cdn.jsdelivr.net/npm//vega@5?noext\",\n",
       "      \"vega-lib\": \"https://cdn.jsdelivr.net/npm//vega-lib?noext\",\n",
       "      \"vega-lite\": \"https://cdn.jsdelivr.net/npm//vega-lite@4.8.1?noext\",\n",
       "      \"vega-embed\": \"https://cdn.jsdelivr.net/npm//vega-embed@6?noext\",\n",
       "    };\n",
       "\n",
       "    function loadScript(lib) {\n",
       "      return new Promise(function(resolve, reject) {\n",
       "        var s = document.createElement('script');\n",
       "        s.src = paths[lib];\n",
       "        s.async = true;\n",
       "        s.onload = () => resolve(paths[lib]);\n",
       "        s.onerror = () => reject(`Error loading script: ${paths[lib]}`);\n",
       "        document.getElementsByTagName(\"head\")[0].appendChild(s);\n",
       "      });\n",
       "    }\n",
       "\n",
       "    function showError(err) {\n",
       "      outputDiv.innerHTML = `<div class=\"error\" style=\"color:red;\">${err}</div>`;\n",
       "      throw err;\n",
       "    }\n",
       "\n",
       "    function displayChart(vegaEmbed) {\n",
       "      vegaEmbed(outputDiv, spec, embedOpt)\n",
       "        .catch(err => showError(`Javascript Error: ${err.message}<br>This usually means there's a typo in your chart specification. See the javascript console for the full traceback.`));\n",
       "    }\n",
       "\n",
       "    if(typeof define === \"function\" && define.amd) {\n",
       "      requirejs.config({paths});\n",
       "      require([\"vega-embed\"], displayChart, err => showError(`Error loading script: ${err.message}`));\n",
       "    } else if (typeof vegaEmbed === \"function\") {\n",
       "      displayChart(vegaEmbed);\n",
       "    } else {\n",
       "      loadScript(\"vega\")\n",
       "        .then(() => loadScript(\"vega-lite\"))\n",
       "        .then(() => loadScript(\"vega-embed\"))\n",
       "        .catch(showError)\n",
       "        .then(() => displayChart(vegaEmbed));\n",
       "    }\n",
       "  })({\"config\": {\"view\": {\"continuousWidth\": 400, \"continuousHeight\": 300}}, \"data\": {\"name\": \"data-985ad85eb075d0c5a5beca1ef1550de0\"}, \"mark\": \"line\", \"encoding\": {\"color\": {\"type\": \"nominal\", \"field\": \"variable\"}, \"x\": {\"type\": \"quantitative\", \"field\": \"index\"}, \"y\": {\"type\": \"quantitative\", \"field\": \"value\"}}, \"$schema\": \"https://vega.github.io/schema/vega-lite/v4.8.1.json\", \"datasets\": {\"data-985ad85eb075d0c5a5beca1ef1550de0\": [{\"index\": 0, \"variable\": \"1e-3\", \"value\": 0.6656934306569343}, {\"index\": 1, \"variable\": \"1e-3\", \"value\": 0.7503355704697986}, {\"index\": 2, \"variable\": \"1e-3\", \"value\": 0.8228080931943593}, {\"index\": 3, \"variable\": \"1e-3\", \"value\": 0.8710433763188745}, {\"index\": 4, \"variable\": \"1e-3\", \"value\": 0.8826879271070615}, {\"index\": 5, \"variable\": \"1e-3\", \"value\": 0.8740740740740741}, {\"index\": 6, \"variable\": \"1e-3\", \"value\": 0.8810325476992144}, {\"index\": 7, \"variable\": \"1e-3\", \"value\": 0.8966666666666666}, {\"index\": 8, \"variable\": \"1e-3\", \"value\": 0.8893829905503058}, {\"index\": 9, \"variable\": \"1e-3\", \"value\": 0.8845510317902956}, {\"index\": 10, \"variable\": \"1e-3\", \"value\": 0.8991735537190082}, {\"index\": 11, \"variable\": \"1e-3\", \"value\": 0.9077007099945384}, {\"index\": 12, \"variable\": \"1e-3\", \"value\": 0.888888888888889}, {\"index\": 13, \"variable\": \"1e-3\", \"value\": 0.8901220865704773}, {\"index\": 14, \"variable\": \"1e-3\", \"value\": 0.8795518207282913}, {\"index\": 15, \"variable\": \"1e-3\", \"value\": 0.8962472406181016}, {\"index\": 16, \"variable\": \"1e-3\", \"value\": 0.8913525498891353}, {\"index\": 17, \"variable\": \"1e-3\", \"value\": 0.894416804864566}, {\"index\": 18, \"variable\": \"1e-3\", \"value\": 0.8973509933774836}, {\"index\": 19, \"variable\": \"1e-3\", \"value\": 0.8881469115191987}, {\"index\": 20, \"variable\": \"1e-3\", \"value\": 0.8845510317902956}, {\"index\": 21, \"variable\": \"1e-3\", \"value\": 0.8950276243093923}, {\"index\": 22, \"variable\": \"1e-3\", \"value\": 0.8931931377974545}, {\"index\": 23, \"variable\": \"1e-3\", \"value\": 0.8864142538975501}, {\"index\": 24, \"variable\": \"1e-3\", \"value\": 0.8845510317902956}, {\"index\": 25, \"variable\": \"1e-3\", \"value\": 0.8845510317902956}, {\"index\": 26, \"variable\": \"1e-3\", \"value\": 0.8870339454646633}, {\"index\": 27, \"variable\": \"1e-3\", \"value\": 0.8901220865704773}, {\"index\": 28, \"variable\": \"1e-3\", \"value\": 0.8864142538975501}, {\"index\": 29, \"variable\": \"1e-3\", \"value\": 0.8938053097345133}, {\"index\": 30, \"variable\": \"1e-3\", \"value\": 0.89196675900277}, {\"index\": 31, \"variable\": \"1e-3\", \"value\": 0.899284534947716}, {\"index\": 32, \"variable\": \"1e-3\", \"value\": 0.8820570150922302}, {\"index\": 33, \"variable\": \"1e-3\", \"value\": 0.8962472406181016}, {\"index\": 34, \"variable\": \"1e-3\", \"value\": 0.8820570150922302}, {\"index\": 35, \"variable\": \"1e-3\", \"value\": 0.899284534947716}, {\"index\": 36, \"variable\": \"1e-3\", \"value\": 0.8986784140969163}, {\"index\": 37, \"variable\": \"1e-3\", \"value\": 0.8925802879291251}, {\"index\": 38, \"variable\": \"1e-3\", \"value\": 0.9059080962800875}, {\"index\": 39, \"variable\": \"1e-3\", \"value\": 0.9023051591657518}, {\"index\": 40, \"variable\": \"1e-3\", \"value\": 0.8882712618121179}, {\"index\": 41, \"variable\": \"1e-3\", \"value\": 0.8931931377974545}, {\"index\": 42, \"variable\": \"1e-3\", \"value\": 0.8956377691882939}, {\"index\": 43, \"variable\": \"1e-3\", \"value\": 0.8907376594564616}, {\"index\": 44, \"variable\": \"1e-3\", \"value\": 0.8876529477196886}, {\"index\": 45, \"variable\": \"1e-3\", \"value\": 0.8980716253443526}, {\"index\": 46, \"variable\": \"1e-3\", \"value\": 0.8931931377974545}, {\"index\": 47, \"variable\": \"1e-3\", \"value\": 0.9053092501368363}, {\"index\": 48, \"variable\": \"1e-3\", \"value\": 0.8870339454646633}, {\"index\": 49, \"variable\": \"1e-3\", \"value\": 0.9010989010989011}, {\"index\": 50, \"variable\": \"1e-3\", \"value\": 0.8901220865704773}, {\"index\": 51, \"variable\": \"1e-3\", \"value\": 0.8870339454646633}, {\"index\": 52, \"variable\": \"1e-3\", \"value\": 0.8931931377974545}, {\"index\": 53, \"variable\": \"1e-3\", \"value\": 0.889505830094392}, {\"index\": 54, \"variable\": \"1e-3\", \"value\": 0.8968560397131825}, {\"index\": 55, \"variable\": \"1e-3\", \"value\": 0.8826815642458101}, {\"index\": 56, \"variable\": \"1e-3\", \"value\": 0.8907376594564616}, {\"index\": 57, \"variable\": \"1e-3\", \"value\": 0.8901220865704773}, {\"index\": 58, \"variable\": \"1e-3\", \"value\": 0.8801791713325868}, {\"index\": 59, \"variable\": \"1e-3\", \"value\": 0.9046052631578947}, {\"index\": 0, \"variable\": \"5e-5\", \"value\": 0.6757142857142856}, {\"index\": 1, \"variable\": \"5e-5\", \"value\": 0.6462882096069869}, {\"index\": 2, \"variable\": \"5e-5\", \"value\": 0.6695464362850971}, {\"index\": 3, \"variable\": \"5e-5\", \"value\": 0.6594045025417574}, {\"index\": 4, \"variable\": \"5e-5\", \"value\": 0.7016072676450035}, {\"index\": 5, \"variable\": \"5e-5\", \"value\": 0.6809116809116808}, {\"index\": 6, \"variable\": \"5e-5\", \"value\": 0.7082467082467082}, {\"index\": 7, \"variable\": \"5e-5\", \"value\": 0.7149692412850308}, {\"index\": 8, \"variable\": \"5e-5\", \"value\": 0.701949860724234}, {\"index\": 9, \"variable\": \"5e-5\", \"value\": 0.7101648351648352}, {\"index\": 10, \"variable\": \"5e-5\", \"value\": 0.7058823529411764}, {\"index\": 11, \"variable\": \"5e-5\", \"value\": 0.729766803840878}, {\"index\": 12, \"variable\": \"5e-5\", \"value\": 0.7046413502109704}, {\"index\": 13, \"variable\": \"5e-5\", \"value\": 0.7272727272727274}, {\"index\": 14, \"variable\": \"5e-5\", \"value\": 0.7349726775956283}, {\"index\": 15, \"variable\": \"5e-5\", \"value\": 0.7483443708609271}, {\"index\": 16, \"variable\": \"5e-5\", \"value\": 0.7429718875502008}, {\"index\": 17, \"variable\": \"5e-5\", \"value\": 0.7413333333333334}, {\"index\": 18, \"variable\": \"5e-5\", \"value\": 0.773142112125163}, {\"index\": 19, \"variable\": \"5e-5\", \"value\": 0.7764857881136951}, {\"index\": 20, \"variable\": \"5e-5\", \"value\": 0.7695287282117496}, {\"index\": 21, \"variable\": \"5e-5\", \"value\": 0.7784275503573749}, {\"index\": 22, \"variable\": \"5e-5\", \"value\": 0.7800511508951407}, {\"index\": 23, \"variable\": \"5e-5\", \"value\": 0.7771280051981806}, {\"index\": 24, \"variable\": \"5e-5\", \"value\": 0.7715930902111324}, {\"index\": 25, \"variable\": \"5e-5\", \"value\": 0.7949206349206348}, {\"index\": 26, \"variable\": \"5e-5\", \"value\": 0.7808306709265175}, {\"index\": 27, \"variable\": \"5e-5\", \"value\": 0.7941735275490818}, {\"index\": 28, \"variable\": \"5e-5\", \"value\": 0.787179487179487}, {\"index\": 29, \"variable\": \"5e-5\", \"value\": 0.7984838913455463}, {\"index\": 30, \"variable\": \"5e-5\", \"value\": 0.8027465667915107}, {\"index\": 31, \"variable\": \"5e-5\", \"value\": 0.7951653944020356}, {\"index\": 32, \"variable\": \"5e-5\", \"value\": 0.7992424242424242}, {\"index\": 33, \"variable\": \"5e-5\", \"value\": 0.80375}, {\"index\": 34, \"variable\": \"5e-5\", \"value\": 0.8274173806609546}, {\"index\": 35, \"variable\": \"5e-5\", \"value\": 0.8121827411167512}, {\"index\": 36, \"variable\": \"5e-5\", \"value\": 0.8339438339438339}, {\"index\": 37, \"variable\": \"5e-5\", \"value\": 0.834140435835351}, {\"index\": 38, \"variable\": \"5e-5\", \"value\": 0.8169533169533171}, {\"index\": 39, \"variable\": \"5e-5\", \"value\": 0.8258221680876979}, {\"index\": 40, \"variable\": \"5e-5\", \"value\": 0.8166047087980174}, {\"index\": 41, \"variable\": \"5e-5\", \"value\": 0.8298906439854192}, {\"index\": 42, \"variable\": \"5e-5\", \"value\": 0.8197320341047503}, {\"index\": 43, \"variable\": \"5e-5\", \"value\": 0.8431253785584494}, {\"index\": 44, \"variable\": \"5e-5\", \"value\": 0.8337378640776698}, {\"index\": 45, \"variable\": \"5e-5\", \"value\": 0.8539057841383423}, {\"index\": 46, \"variable\": \"5e-5\", \"value\": 0.8386706948640483}, {\"index\": 47, \"variable\": \"5e-5\", \"value\": 0.8544378698224853}, {\"index\": 48, \"variable\": \"5e-5\", \"value\": 0.8346456692913385}, {\"index\": 49, \"variable\": \"5e-5\", \"value\": 0.8552709946396666}, {\"index\": 50, \"variable\": \"5e-5\", \"value\": 0.8537596210775606}, {\"index\": 51, \"variable\": \"5e-5\", \"value\": 0.8404761904761905}, {\"index\": 52, \"variable\": \"5e-5\", \"value\": 0.8701223063482819}, {\"index\": 53, \"variable\": \"5e-5\", \"value\": 0.8573106283029946}, {\"index\": 54, \"variable\": \"5e-5\", \"value\": 0.8700173310225303}, {\"index\": 55, \"variable\": \"5e-5\", \"value\": 0.8527315914489311}, {\"index\": 56, \"variable\": \"5e-5\", \"value\": 0.870874348581355}, {\"index\": 57, \"variable\": \"5e-5\", \"value\": 0.8512396694214875}, {\"index\": 58, \"variable\": \"5e-5\", \"value\": 0.8601398601398601}, {\"index\": 59, \"variable\": \"5e-5\", \"value\": 0.8695143358689292}, {\"index\": 0, \"variable\": \"1e-6\", \"value\": 0.5297473512632437}, {\"index\": 1, \"variable\": \"1e-6\", \"value\": 0.5078060805258833}, {\"index\": 2, \"variable\": \"1e-6\", \"value\": 0.5129059117402165}, {\"index\": 3, \"variable\": \"1e-6\", \"value\": 0.5140495867768594}, {\"index\": 4, \"variable\": \"1e-6\", \"value\": 0.515702479338843}, {\"index\": 5, \"variable\": \"1e-6\", \"value\": 0.5450160771704181}, {\"index\": 6, \"variable\": \"1e-6\", \"value\": 0.5363489499192245}, {\"index\": 7, \"variable\": \"1e-6\", \"value\": 0.5071368597816961}, {\"index\": 8, \"variable\": \"1e-6\", \"value\": 0.5317073170731706}, {\"index\": 9, \"variable\": \"1e-6\", \"value\": 0.5247208931419458}, {\"index\": 10, \"variable\": \"1e-6\", \"value\": 0.5372168284789645}, {\"index\": 11, \"variable\": \"1e-6\", \"value\": 0.5069274653626732}, {\"index\": 12, \"variable\": \"1e-6\", \"value\": 0.5166531275385865}, {\"index\": 13, \"variable\": \"1e-6\", \"value\": 0.5303152789005658}, {\"index\": 14, \"variable\": \"1e-6\", \"value\": 0.5025041736227044}, {\"index\": 15, \"variable\": \"1e-6\", \"value\": 0.5243506493506495}, {\"index\": 16, \"variable\": \"1e-6\", \"value\": 0.5223759153783563}, {\"index\": 17, \"variable\": \"1e-6\", \"value\": 0.4991816693944353}, {\"index\": 18, \"variable\": \"1e-6\", \"value\": 0.5029045643153528}, {\"index\": 19, \"variable\": \"1e-6\", \"value\": 0.525974025974026}, {\"index\": 20, \"variable\": \"1e-6\", \"value\": 0.5090016366612111}, {\"index\": 21, \"variable\": \"1e-6\", \"value\": 0.5142857142857143}, {\"index\": 22, \"variable\": \"1e-6\", \"value\": 0.5118949958982772}, {\"index\": 23, \"variable\": \"1e-6\", \"value\": 0.4991789819376026}, {\"index\": 24, \"variable\": \"1e-6\", \"value\": 0.5154471544715447}, {\"index\": 25, \"variable\": \"1e-6\", \"value\": 0.5376518218623483}, {\"index\": 26, \"variable\": \"1e-6\", \"value\": 0.5386493083807974}, {\"index\": 27, \"variable\": \"1e-6\", \"value\": 0.4958123953098828}, {\"index\": 28, \"variable\": \"1e-6\", \"value\": 0.5008319467554078}, {\"index\": 29, \"variable\": \"1e-6\", \"value\": 0.535598705501618}, {\"index\": 30, \"variable\": \"1e-6\", \"value\": 0.5247766043866776}, {\"index\": 31, \"variable\": \"1e-6\", \"value\": 0.5194174757281553}, {\"index\": 32, \"variable\": \"1e-6\", \"value\": 0.49958915365653245}, {\"index\": 33, \"variable\": \"1e-6\", \"value\": 0.5156507413509062}, {\"index\": 34, \"variable\": \"1e-6\", \"value\": 0.5402390438247012}, {\"index\": 35, \"variable\": \"1e-6\", \"value\": 0.5077805077805078}, {\"index\": 36, \"variable\": \"1e-6\", \"value\": 0.5109135004042037}, {\"index\": 37, \"variable\": \"1e-6\", \"value\": 0.5198019801980198}, {\"index\": 38, \"variable\": \"1e-6\", \"value\": 0.5264012997562957}, {\"index\": 39, \"variable\": \"1e-6\", \"value\": 0.521951219512195}, {\"index\": 40, \"variable\": \"1e-6\", \"value\": 0.5012244897959184}, {\"index\": 41, \"variable\": \"1e-6\", \"value\": 0.5347334410339257}, {\"index\": 42, \"variable\": \"1e-6\", \"value\": 0.5028478437754272}, {\"index\": 43, \"variable\": \"1e-6\", \"value\": 0.5231519090170592}, {\"index\": 44, \"variable\": \"1e-6\", \"value\": 0.5256305939788446}, {\"index\": 45, \"variable\": \"1e-6\", \"value\": 0.556166535742341}, {\"index\": 46, \"variable\": \"1e-6\", \"value\": 0.5024549918166941}, {\"index\": 47, \"variable\": \"1e-6\", \"value\": 0.5147058823529411}, {\"index\": 48, \"variable\": \"1e-6\", \"value\": 0.5454545454545453}, {\"index\": 49, \"variable\": \"1e-6\", \"value\": 0.5351657235246565}, {\"index\": 50, \"variable\": \"1e-6\", \"value\": 0.5520504731861199}, {\"index\": 51, \"variable\": \"1e-6\", \"value\": 0.5178571428571428}, {\"index\": 52, \"variable\": \"1e-6\", \"value\": 0.49337748344370863}, {\"index\": 53, \"variable\": \"1e-6\", \"value\": 0.5245098039215687}, {\"index\": 54, \"variable\": \"1e-6\", \"value\": 0.5151267375306623}, {\"index\": 55, \"variable\": \"1e-6\", \"value\": 0.5104333868378812}, {\"index\": 56, \"variable\": \"1e-6\", \"value\": 0.521951219512195}, {\"index\": 57, \"variable\": \"1e-6\", \"value\": 0.5138662316476346}, {\"index\": 58, \"variable\": \"1e-6\", \"value\": 0.5166531275385865}, {\"index\": 59, \"variable\": \"1e-6\", \"value\": 0.5303514376996805}]}}, {\"mode\": \"vega-lite\"});\n",
       "</script>"
      ],
      "text/plain": [
       "alt.Chart(...)"
      ]
     },
     "execution_count": 13,
     "metadata": {},
     "output_type": "execute_result"
    }
   ],
   "source": [
    "F1_df = pd.DataFrame(F1).T\n",
    "# F1_df.columns = [\"0\", \"1e-3\", \"1e-1\"]\n",
    "# F1_df.columns = [\"SGD\", \"RMSprop\", \"AdamW\"]\n",
    "# F1_df.columns = [\"tokenizer\", \"better_tokenizer\"]\n",
    "F1_df.columns = [\"1e-3\", \"5e-5\", \"1e-6\"]\n",
    "F1_df = F1_df.melt(ignore_index=False).reset_index()\n",
    "alt.Chart(F1_df).mark_line().encode(\n",
    "    x = alt.X(\"index:Q\"),\n",
    "    y = alt.Y(\"value:Q\"),\n",
    "    color = alt.Color(\"variable:N\")\n",
    ")"
   ]
  },
  {
   "cell_type": "markdown",
   "id": "79fc7bec",
   "metadata": {},
   "source": [
    "# N-gram size"
   ]
  },
  {
   "cell_type": "code",
   "execution_count": 13,
   "id": "44f1d71f",
   "metadata": {},
   "outputs": [
    {
     "name": "stderr",
     "output_type": "stream",
     "text": [
      "Build Voc: 100%|███████████████████████████████████████████████████████████████████████████| 59999/59999 [00:36<00:00, 1633.09it/s]\n",
      "Build Matrix: 59999it [00:36, 1632.70it/s]\n",
      "Build Voc: 100%|███████████████████████████████████████████████████████████████████████████| 20000/20000 [00:11<00:00, 1692.60it/s]\n",
      "Build Voc: 100%|███████████████████████████████████████████████████████████████████████████| 59999/59999 [00:35<00:00, 1673.38it/s]\n",
      "Build Matrix: 59999it [00:38, 1540.83it/s]\n",
      "Build Voc: 100%|███████████████████████████████████████████████████████████████████████████| 20000/20000 [00:12<00:00, 1643.82it/s]\n",
      "Build Voc: 100%|███████████████████████████████████████████████████████████████████████████| 59999/59999 [00:37<00:00, 1608.88it/s]\n",
      "Build Matrix: 59999it [00:40, 1482.26it/s]\n",
      "Build Voc: 100%|███████████████████████████████████████████████████████████████████████████| 20000/20000 [00:12<00:00, 1615.55it/s]\n",
      "Build Voc: 100%|███████████████████████████████████████████████████████████████████████████| 59999/59999 [00:33<00:00, 1787.95it/s]\n",
      "Build Matrix: 59999it [00:32, 1849.95it/s]\n",
      "Build Voc: 100%|███████████████████████████████████████████████████████████████████████████| 20000/20000 [00:10<00:00, 1836.78it/s]\n",
      "Build Voc: 100%|███████████████████████████████████████████████████████████████████████████| 59999/59999 [00:35<00:00, 1691.96it/s]\n",
      "Build Matrix: 59999it [00:39, 1537.32it/s]\n",
      "Build Voc: 100%|███████████████████████████████████████████████████████████████████████████| 20000/20000 [00:11<00:00, 1681.81it/s]\n",
      "Build Voc: 100%|███████████████████████████████████████████████████████████████████████████| 59999/59999 [00:36<00:00, 1651.52it/s]\n",
      "Build Matrix: 59999it [00:35, 1672.45it/s]\n",
      "Build Voc: 100%|███████████████████████████████████████████████████████████████████████████| 20000/20000 [00:11<00:00, 1704.66it/s]\n",
      "Build Voc: 100%|███████████████████████████████████████████████████████████████████████████| 59999/59999 [00:32<00:00, 1866.40it/s]\n",
      "Build Matrix: 59999it [00:31, 1896.72it/s]\n",
      "Build Voc: 100%|███████████████████████████████████████████████████████████████████████████| 20000/20000 [00:10<00:00, 1868.19it/s]\n",
      "Build Voc: 100%|███████████████████████████████████████████████████████████████████████████| 59999/59999 [00:35<00:00, 1692.20it/s]\n",
      "Build Matrix: 59999it [00:37, 1613.69it/s]\n",
      "Build Voc: 100%|███████████████████████████████████████████████████████████████████████████| 20000/20000 [00:12<00:00, 1613.90it/s]\n",
      "Build Voc: 100%|███████████████████████████████████████████████████████████████████████████| 59999/59999 [00:37<00:00, 1592.14it/s]\n",
      "Build Matrix: 59999it [00:36, 1645.30it/s]\n",
      "Build Voc: 100%|███████████████████████████████████████████████████████████████████████████| 20000/20000 [00:12<00:00, 1592.29it/s]\n"
     ]
    },
    {
     "name": "stdout",
     "output_type": "stream",
     "text": [
      "CPU times: user 13min 13s, sys: 4.61 s, total: 13min 17s\n",
      "Wall time: 13min 9s\n"
     ]
    }
   ],
   "source": [
    "%%time\n",
    "result = dict()\n",
    "for min_freq in [5, 10, 100]:\n",
    "    result[min_freq] = dict()\n",
    "    for i in range(1, 4):\n",
    "        info = dict()\n",
    "        tokenizer = Tokenizer(i)\n",
    "        train_processor = Preprocessor(tokenizer, min_frequency=min_freq)\n",
    "        train_processor.buildVocabulary(train_df)\n",
    "        train_X = train_processor.buildMatrix(train_df)\n",
    "        info[\"matrix\"] = train_X\n",
    "        freq = np.sum(train_X, axis=0)\n",
    "        info[\"size\"] = len(train_processor.voc.values())\n",
    "        info[\"max\"], info[\"min\"], info[\"mean\"] = np.max(freq), np.min(freq), np.mean(freq)\n",
    "        values = np.array(train_processor.voc.values())\n",
    "        dev_processor = Preprocessor(tokenizer, min_frequency=min_freq)\n",
    "        dev_processor.buildVocabulary(dev_df)\n",
    "        info[\"pec\"] = len(set(dev_processor.voc.values()) & set(train_processor.voc.values())) / len(train_processor.voc)\n",
    "        result[min_freq][i] = info"
   ]
  },
  {
   "cell_type": "code",
   "execution_count": 12,
   "id": "3f665d54",
   "metadata": {},
   "outputs": [
    {
     "data": {
      "text/plain": [
       "7052"
      ]
     },
     "execution_count": 12,
     "metadata": {},
     "output_type": "execute_result"
    }
   ],
   "source": [
    "len(set(dev_processor.voc.values()) & set(train_processor.voc.values())) / len(train_processor.voc)\n",
    "len(set(dev_processor.voc.values()) & set(train_processor.voc.values()))\n",
    "len(dev_processor.voc)"
   ]
  },
  {
   "cell_type": "code",
   "execution_count": 14,
   "id": "69c3f250",
   "metadata": {},
   "outputs": [
    {
     "data": {
      "text/plain": [
       "{5: {1: {'matrix': <59999x15845 sparse matrix of type '<class 'numpy.int64'>'\n",
       "   \twith 9575252 stored elements in Compressed Sparse Row format>,\n",
       "   'size': 15844,\n",
       "   'max': 154362,\n",
       "   'min': 5,\n",
       "   'mean': 604.3074786999053,\n",
       "   'pec': 0.6718000504923},\n",
       "  2: {'matrix': <59999x207860 sparse matrix of type '<class 'numpy.int64'>'\n",
       "   \twith 7965423 stored elements in Compressed Sparse Row format>,\n",
       "   'size': 207859,\n",
       "   'max': 59999,\n",
       "   'min': 5,\n",
       "   'mean': 38.321095929952854,\n",
       "   'pec': 0.38429416094564106},\n",
       "  3: {'matrix': <59999x215576 sparse matrix of type '<class 'numpy.int64'>'\n",
       "   \twith 5310107 stored elements in Compressed Sparse Row format>,\n",
       "   'size': 215575,\n",
       "   'max': 59999,\n",
       "   'min': 5,\n",
       "   'mean': 24.632180762236985,\n",
       "   'pec': 0.2834326800417488}},\n",
       " 10: {1: {'matrix': <59999x12122 sparse matrix of type '<class 'numpy.int64'>'\n",
       "   \twith 9550576 stored elements in Compressed Sparse Row format>,\n",
       "   'size': 12121,\n",
       "   'max': 154362,\n",
       "   'min': 10,\n",
       "   'mean': 787.8713083649562,\n",
       "   'pec': 0.6490388581800182},\n",
       "  2: {'matrix': <59999x104326 sparse matrix of type '<class 'numpy.int64'>'\n",
       "   \twith 7298758 stored elements in Compressed Sparse Row format>,\n",
       "   'size': 104325,\n",
       "   'max': 59999,\n",
       "   'min': 10,\n",
       "   'mean': 69.96106435596113,\n",
       "   'pec': 0.37433021806853584},\n",
       "  3: {'matrix': <59999x82952 sparse matrix of type '<class 'numpy.int64'>'\n",
       "   \twith 4474442 stored elements in Compressed Sparse Row format>,\n",
       "   'size': 82951,\n",
       "   'max': 59999,\n",
       "   'min': 10,\n",
       "   'mean': 53.94013405342849,\n",
       "   'pec': 0.31405287458861253}},\n",
       " 100: {1: {'matrix': <59999x4493 sparse matrix of type '<class 'numpy.int64'>'\n",
       "   \twith 9297480 stored elements in Compressed Sparse Row format>,\n",
       "   'size': 4492,\n",
       "   'max': 154362,\n",
       "   'min': 100,\n",
       "   'mean': 2069.3256176274203,\n",
       "   'pec': 0.5681211041852182},\n",
       "  2: {'matrix': <59999x11813 sparse matrix of type '<class 'numpy.int64'>'\n",
       "   \twith 4925444 stored elements in Compressed Sparse Row format>,\n",
       "   'size': 11812,\n",
       "   'max': 59999,\n",
       "   'min': 100,\n",
       "   'mean': 416.9511555066452,\n",
       "   'pec': 0.3069759566542499},\n",
       "  3: {'matrix': <59999x7053 sparse matrix of type '<class 'numpy.int64'>'\n",
       "   \twith 2690336 stored elements in Compressed Sparse Row format>,\n",
       "   'size': 7052,\n",
       "   'max': 59999,\n",
       "   'min': 100,\n",
       "   'mean': 381.4456259747625,\n",
       "   'pec': 0.29126488939308}}}"
      ]
     },
     "execution_count": 14,
     "metadata": {},
     "output_type": "execute_result"
    }
   ],
   "source": [
    "result"
   ]
  }
 ],
 "metadata": {
  "kernelspec": {
   "display_name": "Python 3 (ipykernel)",
   "language": "python",
   "name": "python3"
  },
  "language_info": {
   "codemirror_mode": {
    "name": "ipython",
    "version": 3
   },
   "file_extension": ".py",
   "mimetype": "text/x-python",
   "name": "python",
   "nbconvert_exporter": "python",
   "pygments_lexer": "ipython3",
   "version": "3.9.0"
  }
 },
 "nbformat": 4,
 "nbformat_minor": 5
}
