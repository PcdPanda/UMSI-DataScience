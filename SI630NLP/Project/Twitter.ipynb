{
 "cells": [
  {
   "cell_type": "code",
   "execution_count": 6,
   "id": "5f5bbf3b",
   "metadata": {},
   "outputs": [],
   "source": [
    "import importlib\n",
    "import TwitterAPI\n",
    "import pandas as pd\n",
    "import logging\n",
    "from datetime import datetime, timedelta\n",
    "import time\n",
    "import os\n",
    "import numpy as np\n",
    "importlib.reload(TwitterAPI)\n",
    "logging.basicConfig(level=logging.WARNING)"
   ]
  },
  {
   "cell_type": "code",
   "execution_count": 55,
   "id": "01046997",
   "metadata": {},
   "outputs": [],
   "source": [
    "twitter = TwitterAPI.TwitterAPI(\"TwitterAPI.json\")\n",
    "query = \"(#AAVE) (0 OR 1 OR 2 OR 3 OR 4 OR 5 OR 6 OR 7 OR 8 OR 9) has:cashtags lang:en -is:retweet -is:reply\"\n",
    "params = {\n",
    "        \"tweet.fields\": [\"author_id\", \"created_at\"],\n",
    "        \"max_results\": 500\n",
    "    }"
   ]
  },
  {
   "cell_type": "code",
   "execution_count": null,
   "id": "a3ec9a37",
   "metadata": {},
   "outputs": [
    {
     "name": "stderr",
     "output_type": "stream",
     "text": [
      "<timed exec>:11: FutureWarning: The default value of regex will change from True to False in a future version.\n"
     ]
    },
    {
     "name": "stdout",
     "output_type": "stream",
     "text": [
      "20210130 4\n"
     ]
    },
    {
     "name": "stderr",
     "output_type": "stream",
     "text": [
      "<timed exec>:11: FutureWarning: The default value of regex will change from True to False in a future version.\n"
     ]
    },
    {
     "name": "stdout",
     "output_type": "stream",
     "text": [
      "20210301 6\n"
     ]
    },
    {
     "name": "stderr",
     "output_type": "stream",
     "text": [
      "<timed exec>:11: FutureWarning: The default value of regex will change from True to False in a future version.\n"
     ]
    },
    {
     "name": "stdout",
     "output_type": "stream",
     "text": [
      "20210331 7\n"
     ]
    },
    {
     "name": "stderr",
     "output_type": "stream",
     "text": [
      "<timed exec>:11: FutureWarning: The default value of regex will change from True to False in a future version.\n"
     ]
    },
    {
     "name": "stdout",
     "output_type": "stream",
     "text": [
      "20210430 6\n"
     ]
    },
    {
     "name": "stderr",
     "output_type": "stream",
     "text": [
      "<timed exec>:11: FutureWarning: The default value of regex will change from True to False in a future version.\n"
     ]
    },
    {
     "name": "stdout",
     "output_type": "stream",
     "text": [
      "20210530 6\n"
     ]
    },
    {
     "name": "stderr",
     "output_type": "stream",
     "text": [
      "<timed exec>:11: FutureWarning: The default value of regex will change from True to False in a future version.\n"
     ]
    },
    {
     "name": "stdout",
     "output_type": "stream",
     "text": [
      "20210629 4\n"
     ]
    },
    {
     "name": "stderr",
     "output_type": "stream",
     "text": [
      "<timed exec>:11: FutureWarning: The default value of regex will change from True to False in a future version.\n"
     ]
    },
    {
     "name": "stdout",
     "output_type": "stream",
     "text": [
      "20210729 4\n"
     ]
    },
    {
     "name": "stderr",
     "output_type": "stream",
     "text": [
      "<timed exec>:11: FutureWarning: The default value of regex will change from True to False in a future version.\n"
     ]
    },
    {
     "name": "stdout",
     "output_type": "stream",
     "text": [
      "20210828 3\n"
     ]
    },
    {
     "name": "stderr",
     "output_type": "stream",
     "text": [
      "<timed exec>:11: FutureWarning: The default value of regex will change from True to False in a future version.\n"
     ]
    },
    {
     "name": "stdout",
     "output_type": "stream",
     "text": [
      "20210927 3\n"
     ]
    },
    {
     "name": "stderr",
     "output_type": "stream",
     "text": [
      "<timed exec>:11: FutureWarning: The default value of regex will change from True to False in a future version.\n"
     ]
    },
    {
     "name": "stdout",
     "output_type": "stream",
     "text": [
      "20211027 3\n"
     ]
    },
    {
     "name": "stderr",
     "output_type": "stream",
     "text": [
      "<timed exec>:11: FutureWarning: The default value of regex will change from True to False in a future version.\n"
     ]
    },
    {
     "name": "stdout",
     "output_type": "stream",
     "text": [
      "20211126 33\n"
     ]
    },
    {
     "name": "stderr",
     "output_type": "stream",
     "text": [
      "<timed exec>:11: FutureWarning: The default value of regex will change from True to False in a future version.\n"
     ]
    },
    {
     "name": "stdout",
     "output_type": "stream",
     "text": [
      "20211226 6\n"
     ]
    }
   ],
   "source": [
    "%%time\n",
    "start_date, end_date = datetime.strptime(\"20201231\", \"%Y%m%d\"), datetime.strptime(\"20220407\", \"%Y%m%d\")\n",
    "while start_date < end_date:\n",
    "    try:\n",
    "        t = time.time()\n",
    "        next_start_date = start_date + timedelta(days=30)\n",
    "        tweets = twitter.search_tweets(query, params=params, start_time=start_date, end_time=min(next_start_date, end_date))\n",
    "        df = pd.DataFrame(tweets)\n",
    "        df[\"created_at\"] = pd.to_datetime(df[\"created_at\"])\n",
    "        df = df.rename(columns={\"created_at\": \"TimeStamp\"}).set_index([\"TimeStamp\"])\n",
    "        df.index = df.index.strftime(\"%Y%m%d%H%M\")\n",
    "        df.text = df.text.str.replace(\"\\s\", \" \")\n",
    "        df.to_csv(\"Data/AAVE_{}.csv\".format(start_date.strftime(\"%Y%m%d\")), index_label=\"TimeStamp\", sep=\"\\t\")\n",
    "        start_date = next_start_date\n",
    "        print(start_date.strftime(\"%Y%m%d\"), int(time.time() - t))\n",
    "    except Exception as e:\n",
    "        print(e, start_date)\n",
    "        continue"
   ]
  },
  {
   "cell_type": "code",
   "execution_count": null,
   "id": "752208b3",
   "metadata": {},
   "outputs": [],
   "source": []
  }
 ],
 "metadata": {
  "kernelspec": {
   "display_name": "Python 3 (ipykernel)",
   "language": "python",
   "name": "python3"
  },
  "language_info": {
   "codemirror_mode": {
    "name": "ipython",
    "version": 3
   },
   "file_extension": ".py",
   "mimetype": "text/x-python",
   "name": "python",
   "nbconvert_exporter": "python",
   "pygments_lexer": "ipython3",
   "version": "3.9.12"
  }
 },
 "nbformat": 4,
 "nbformat_minor": 5
}
