{
 "cells": [
  {
   "cell_type": "code",
   "execution_count": null,
   "metadata": {},
   "outputs": [],
   "source": [
    "import ipywidgets as widgets\n",
    "from ipywidgets import interact\n",
    "import altair as alt\n",
    "from vega_datasets import data"
   ]
  },
  {
   "cell_type": "markdown",
   "metadata": {},
   "source": [
    "# This is a Voila/Altair/ipywidgets test\n",
    "\n",
    "We are using the widgets to control what shows up in each chart. There are various widgets available and the ```interact``` function is useful for binding the widget to the function (every time the widget changes, it calls the chart generator function).\n",
    "\n",
    "## Here is a first example that uses a text field."
   ]
  },
  {
   "cell_type": "code",
   "execution_count": null,
   "metadata": {},
   "outputs": [],
   "source": [
    "def make_disaster_chart(val):\n",
    "    source = data.disasters.url\n",
    "\n",
    "    chart = alt.Chart(source).mark_circle(\n",
    "        opacity=0.8,\n",
    "        stroke='black',\n",
    "        strokeWidth=1\n",
    "    ).encode(\n",
    "        alt.X('Year:O', axis=alt.Axis(labelAngle=0)),\n",
    "        alt.Y('Entity:N'),\n",
    "        alt.Size('Deaths:Q',\n",
    "            scale=alt.Scale(range=[0, 4000]),\n",
    "            legend=alt.Legend(title='Annual Global Deaths')\n",
    "        ),\n",
    "        alt.Color('Entity:N', legend=None)\n",
    "    ).properties(\n",
    "        width=450,\n",
    "        height=320\n",
    "    ).transform_calculate(\"bLabel\", \"indexof(lower(datum.Entity),lower('\"+val+\"')) >= 0  ? 1 : 0\")\n",
    "    \n",
    "    if (val == ''):\n",
    "        chart = chart.transform_filter(alt.datum.Entity != 'All natural disasters')\n",
    "    else:\n",
    "        chart = chart.transform_filter(alt.datum.bLabel == 1)\n",
    "    return(chart)"
   ]
  },
  {
   "cell_type": "code",
   "execution_count": null,
   "metadata": {},
   "outputs": [],
   "source": [
    "interact(make_disaster_chart,val='');\n"
   ]
  },
  {
   "cell_type": "markdown",
   "metadata": {},
   "source": [
    "## Another example using a drop down selection"
   ]
  },
  {
   "cell_type": "code",
   "execution_count": null,
   "metadata": {},
   "outputs": [],
   "source": [
    "def make_unemployment_chart(filterf):\n",
    "    source = data.unemployment_across_industries.url\n",
    "\n",
    "    chart = alt.Chart(source).mark_area().encode(\n",
    "        alt.X('yearmonth(date):T', axis=alt.Axis(domain=False, format='%Y', tickSize=0)),\n",
    "        alt.Y('sum(count):Q', stack='center', axis=None),\n",
    "        alt.Color('series:N', scale=alt.Scale(scheme='category20b'))\n",
    "    )\n",
    "    if (filterf != ''):\n",
    "        chart = chart.transform_filter(alt.datum.series == filterf)\n",
    "    return(chart)"
   ]
  },
  {
   "cell_type": "code",
   "execution_count": null,
   "metadata": {},
   "outputs": [],
   "source": [
    "interact(make_unemployment_chart,filterf=['Agriculture','Business services','Construction','Education and Health','Finance','Government','Information']);"
   ]
  },
  {
   "cell_type": "markdown",
   "metadata": {},
   "source": [
    "## Finally, an example using a slider"
   ]
  },
  {
   "cell_type": "code",
   "execution_count": null,
   "metadata": {},
   "outputs": [],
   "source": [
    "def make_horsepower_chart(filterf):\n",
    "    source = data.cars()\n",
    "\n",
    "    chart = alt.Chart(source).mark_point().encode(\n",
    "        x='Horsepower:Q',\n",
    "        y='Miles_per_Gallon:Q'\n",
    "    )\n",
    "    \n",
    "    if (filterf > 0):\n",
    "        chart = chart.transform_filter(alt.datum.Horsepower > filterf)\n",
    "    return(chart)"
   ]
  },
  {
   "cell_type": "code",
   "execution_count": null,
   "metadata": {},
   "outputs": [],
   "source": [
    "interact(make_horsepower_chart,filterf=widgets.IntSlider(min=0, max=240, step=1, value=0));"
   ]
  },
  {
   "cell_type": "code",
   "execution_count": null,
   "metadata": {},
   "outputs": [],
   "source": []
  }
 ],
 "metadata": {
  "kernelspec": {
   "display_name": "Python 3",
   "language": "python",
   "name": "python3"
  },
  "language_info": {
   "codemirror_mode": {
    "name": "ipython",
    "version": 3
   },
   "file_extension": ".py",
   "mimetype": "text/x-python",
   "name": "python",
   "nbconvert_exporter": "python",
   "pygments_lexer": "ipython3",
   "version": "3.8.5"
  }
 },
 "nbformat": 4,
 "nbformat_minor": 4
}
