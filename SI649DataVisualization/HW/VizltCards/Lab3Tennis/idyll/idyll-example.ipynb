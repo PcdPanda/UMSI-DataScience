{
 "cells": [
  {
   "cell_type": "markdown",
   "metadata": {
    "slideshow": {
     "slide_type": "slide"
    }
   },
   "source": [
    "# Altair Exporting Basics -- For Idyll\n",
    "Eytan Adar"
   ]
  },
  {
   "cell_type": "markdown",
   "metadata": {},
   "source": [
    "## Installing Idyll\n",
    "\n",
    "1) Make sure you have Node installed: https://nodejs.org/en/. I'm recording this with version 14.15 installed.\n",
    "\n",
    "2) Switch to whatever conda environment you want in the command line (conda activate...). You can use the 649 instance or make a new one.\n",
    "\n",
    "3) Install idyll with the command ``npm install -g idyll``\n",
    "\n",
    "4) In whatever directory you want, create a new idyll site by typing ``idyll create``  You will be asked a number of questions and when you're done you'll have a directory with the necessary starter files. (let's call this site \"test\" for now).\n",
    "\n",
    "5) In that directory (e.g., \"test\") you can start to modify index.idyll. When you want to run/test your site, just type ``idyll`` and the site should pop up in your browser.\n",
    "\n",
    "6) If you want to use Altair components in your Idyll site, you need to install the vega-lite component. Inside of the idyll directory (\"test\") you just made type: ``npm install --save idyll-vega-lite``\n",
    "\n",
    "7) If you have an error building/running idyll with Altair, you may need to go back to an older version of the vega-lite package (there seems to be an incompatibility in the latest version). Try: ``npm i vega-lite@4.10`` (you might be able to install a newer version, but I haven't done extensive testing.\n",
    "\n",
    "8) If you want to create a static version of the site that you can move over to something like github, type ``idyll build`` You will find the files you need in the distrib directory."
   ]
  },
  {
   "cell_type": "markdown",
   "metadata": {},
   "source": [
    "What follows is a quick way to generate the JSON specification for vega-lite through Altair and dump the data into a CSV file. You will *not* want to have the data and vega-lite specification together."
   ]
  },
  {
   "cell_type": "code",
   "execution_count": null,
   "metadata": {
    "slideshow": {
     "slide_type": "subslide"
    }
   },
   "outputs": [],
   "source": [
    "# imports we will use\n",
    "import altair as alt\n",
    "import pandas as pd\n",
    "import os\n",
    "from vega_datasets import data as vega_data\n",
    "car_url = vega_data.cars.url\n",
    "cars = pd.read_json(car_url)"
   ]
  },
  {
   "cell_type": "code",
   "execution_count": null,
   "metadata": {
    "slideshow": {
     "slide_type": "subslide"
    }
   },
   "outputs": [],
   "source": [
    "# let's look at the data\n",
    "cars"
   ]
  },
  {
   "cell_type": "code",
   "execution_count": null,
   "metadata": {},
   "outputs": [],
   "source": [
    "# first thing \n",
    "cars.to_csv('cars-data.csv')"
   ]
  },
  {
   "cell_type": "code",
   "execution_count": null,
   "metadata": {
    "slideshow": {
     "slide_type": "subslide"
    }
   },
   "outputs": [],
   "source": [
    "# create a basic chart, notice I'm using the filename (cars-data.csv and NOT the dataframe). We don't want the data\n",
    "# inside of the vega-lite object.\n",
    "\n",
    "carplot = alt.Chart('cars-data.csv').mark_circle(size=80,opacity=0.5).encode(\n",
    "    x='Horsepower:Q',\n",
    "    y='Miles_per_Gallon:Q'\n",
    ").transform_filter(\n",
    "    alt.FieldGTEPredicate(\"Horsepower\",100)\n",
    ").interactive()"
   ]
  },
  {
   "cell_type": "code",
   "execution_count": null,
   "metadata": {
    "slideshow": {
     "slide_type": "subslide"
    }
   },
   "outputs": [],
   "source": [
    "carplot"
   ]
  },
  {
   "cell_type": "code",
   "execution_count": null,
   "metadata": {},
   "outputs": [],
   "source": [
    "# let's save this out to disk\n",
    "carplot.save(\"chart2.json\")"
   ]
  },
  {
   "cell_type": "code",
   "execution_count": null,
   "metadata": {},
   "outputs": [],
   "source": []
  }
 ],
 "metadata": {
  "celltoolbar": "Slideshow",
  "kernelspec": {
   "display_name": "Python 3",
   "language": "python",
   "name": "python3"
  },
  "language_info": {
   "codemirror_mode": {
    "name": "ipython",
    "version": 3
   },
   "file_extension": ".py",
   "mimetype": "text/x-python",
   "name": "python",
   "nbconvert_exporter": "python",
   "pygments_lexer": "ipython3",
   "version": "3.8.5"
  }
 },
 "nbformat": 4,
 "nbformat_minor": 4
}
