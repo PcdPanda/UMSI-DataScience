{
 "cells": [
  {
   "cell_type": "markdown",
   "metadata": {},
   "source": [
    "# Altair 3 -- Interaction (Variants)\n",
    "Eytan Adar and Licia He\n",
    "\n",
    "School of Information, University of Michigan"
   ]
  },
  {
   "cell_type": "markdown",
   "metadata": {},
   "source": [
    "These examples show off a number of combinations of visualizations and interactions (conditions and selections). The associated presentation/video explains these examples using diagrams. We also encourage you to take a look at the the first interaction lecture before starting with this one."
   ]
  },
  {
   "cell_type": "code",
   "execution_count": null,
   "metadata": {},
   "outputs": [],
   "source": [
    "# imports we will use\n",
    "import altair as alt\n",
    "import pandas as pd\n",
    "from vega_datasets import data as vega_data\n",
    "car_url = vega_data.cars.url\n",
    "cars = pd.read_json(car_url)"
   ]
  },
  {
   "cell_type": "markdown",
   "metadata": {},
   "source": [
    "We have two visualizations we'll play with. One shows Horsepower versus MPG and the other is Acceleration versus MPG. Both visualizations color the cars by orgin to start with.\n",
    "\n",
    "Because we'll modify the visualizations in each example, we'll create two utility functions to get us the charts so we don't have to keep redefining them."
   ]
  },
  {
   "cell_type": "code",
   "execution_count": null,
   "metadata": {},
   "outputs": [],
   "source": [
    "def getHPMPG():\n",
    "    return alt.Chart(cars).mark_circle(size=80,opacity=0.5).encode(\n",
    "        x='Horsepower:Q',\n",
    "        y='Miles_per_Gallon:Q',\n",
    "        color=\"Origin\")\n",
    "\n",
    "def getAccelMPG():\n",
    "    return alt.Chart(cars).mark_circle(size=80,opacity=0.5).encode(\n",
    "        x='Acceleration:Q',\n",
    "        y='Miles_per_Gallon:Q',\n",
    "        color=\"Origin\")"
   ]
  },
  {
   "cell_type": "markdown",
   "metadata": {},
   "source": [
    "## Example 1\n",
    "### One vis, one selection, one condition\n",
    "\n",
    "This is the simplest and follows our 4 step procedure:\n",
    "\n",
    "1. Define the selection (what kind of things can we select, how many, etc.)\n",
    "2. Define the condition (what changes should happen when we make the selection)\n",
    "3. Add the selection to a visualization (which visualization should be interactive)\n",
    "4. Add the condition to the visualization (what part of which visualization should change)"
   ]
  },
  {
   "cell_type": "code",
   "execution_count": null,
   "metadata": {},
   "outputs": [],
   "source": [
    "hp_mpg = getHPMPG()\n",
    "\n",
    "# step 1 (simple, single object selection on click)\n",
    "selection=alt.selection_single(); \n",
    "\n",
    "# step 2 (when selected, return \"red\", else return \"gray\")\n",
    "colorCondition=alt.condition(selection,alt.value(\"red\"),alt.value(\"gray\"))\n",
    "\n",
    "hp_mpg.add_selection(\n",
    "    selection                # add the selection\n",
    ").encode(\n",
    "    color=colorCondition,    # attach the condition to the color\n",
    ")"
   ]
  },
  {
   "cell_type": "markdown",
   "metadata": {},
   "source": [
    "Notice that because we've over-ridden the color attribution of the visualization it will default to whatever the \"selected\" state is (we can force this to other configurations--e.g., everything unselected--by modifying how we define the selection).\n",
    "\n",
    "Conditions can return the name of the column we want to use (e.g., \"Origin\") and not just a constant (e.g., \"green\"). So here's an example that fixes the two issues. We'll make the default selection empty and use \"Origin\" for the unselected dots and make the points green when you click on them.\n",
    "\n",
    "```\n",
    "# step 1 (simple, single object selection on click)\n",
    "selection=alt.selection_single(empty=\"none\"); \n",
    "\n",
    "# step 2 (when selected, return \"red\", else return \"gray\")\n",
    "colorCondition=alt.condition(selection,alt.value(\"green\"),\"Origin\")\n",
    "```"
   ]
  },
  {
   "cell_type": "code",
   "execution_count": null,
   "metadata": {},
   "outputs": [],
   "source": [
    "hp_mpg = getHPMPG()\n",
    "\n",
    "# step 1 (simple, single object selection on click)\n",
    "selection=alt.selection_single(empty=\"none\"); \n",
    "\n",
    "# step 2 (when selected, return \"red\", else return \"gray\")\n",
    "colorCondition=alt.condition(selection,alt.value(\"green\"),\"Origin\")\n",
    "\n",
    "hp_mpg.add_selection(\n",
    "    selection                # add the selection\n",
    ").encode(\n",
    "    color=colorCondition,    # attach the condition to the color\n",
    ")"
   ]
  },
  {
   "cell_type": "markdown",
   "metadata": {},
   "source": [
    "## Example 2\n",
    "### One vis, one selection, multiple conditions\n",
    "\n",
    "Selections can cause multiple conditions to change. In this example, we'll have selected objects change both in size and color. Notice that we still have one condition but two selections."
   ]
  },
  {
   "cell_type": "code",
   "execution_count": null,
   "metadata": {},
   "outputs": [],
   "source": [
    "hp_mpg = getHPMPG()\n",
    "\n",
    "# step 1, start with no selection so it's easier to see\n",
    "selection=alt.selection_single(empty=\"none\");\n",
    "\n",
    "# step 2, two conditions this time\n",
    "colorCondition=alt.condition(selection,alt.value(\"red\"),alt.value(\"gray\"))\n",
    "sizeCondition=alt.condition(selection,alt.value(200),alt.value(80))\n",
    "\n",
    "hp_mpg.add_selection(\n",
    "    selection                # step 3\n",
    ").encode(\n",
    "    color=colorCondition,    # step 4, note the two bindings\n",
    "    size=sizeCondition\n",
    ")"
   ]
  },
  {
   "cell_type": "markdown",
   "metadata": {},
   "source": [
    "## Example 3\n",
    "### Multiple vis (one interactive), one selection, one condition\n",
    "\n",
    "What happens if we want to \"link\" two visualizations through the same visual element (e.g., color change). We can do that by adding the condition to both visualizations.  In this case we'll only add the selection to the visualization on the left (HP vs MPG). That means you'll only be able to click on the left one."
   ]
  },
  {
   "cell_type": "code",
   "execution_count": null,
   "metadata": {},
   "outputs": [],
   "source": [
    "# get our two charts\n",
    "hp_mpg = getHPMPG()\n",
    "accel_mpg=getAccelMPG()\n",
    "\n",
    "#step 1\n",
    "selection=alt.selection_single(empty=\"none\");\n",
    "\n",
    "# step 2\n",
    "colorCondition=alt.condition(selection,alt.value(\"red\"),alt.value(\"gray\"))\n",
    "\n",
    "hp_mpg = hp_mpg.add_selection(\n",
    "    selection                     # step 3\n",
    ").encode(\n",
    "    color=colorCondition,         # step 4 (for chart 1)\n",
    ")\n",
    "\n",
    "accel_mpg = accel_mpg.encode(\n",
    "    color=colorCondition          # step 4 (for chart 2)\n",
    ")\n",
    "\n",
    "hp_mpg | accel_mpg                # plot them side by side"
   ]
  },
  {
   "cell_type": "markdown",
   "metadata": {},
   "source": [
    "## Example 4\n",
    "### Multiple vis (both interactive), one selection, one condition\n",
    "\n",
    "If we wanted both visualizations to be interactive, we could simply add the selection to both charts"
   ]
  },
  {
   "cell_type": "code",
   "execution_count": null,
   "metadata": {},
   "outputs": [],
   "source": [
    "# get our two charts\n",
    "hp_mpg = getHPMPG()\n",
    "accel_mpg=getAccelMPG()\n",
    "\n",
    "# step 1\n",
    "selection=alt.selection_single(empty=\"none\");\n",
    "\n",
    "# step 2\n",
    "colorCondition=alt.condition(selection,alt.value(\"red\"),alt.value(\"gray\"))\n",
    "\n",
    "hp_mpg = hp_mpg.add_selection(\n",
    "    selection                     # step 3, chart 1\n",
    ").encode(\n",
    "    color=colorCondition,         # step 4, chart 1\n",
    ")\n",
    "\n",
    "accel_mpg = accel_mpg.add_selection(\n",
    "    selection                      # step 3, chart 2\n",
    ").encode(\n",
    "    color=colorCondition           # step 4, chart 2\n",
    ")\n",
    "\n",
    "hp_mpg | accel_mpg"
   ]
  },
  {
   "cell_type": "markdown",
   "metadata": {},
   "source": [
    "## Example 5\n",
    "### Multiple vis, one selection, different conditions (but only one per vis)\n",
    "\n",
    "We don't need to make the same visual change in both charts. In this example, one chart will have points change in size and the other will change in color. This isn't great design, but there might be situations where this is desirable.\n",
    "\n",
    "Because we won't be overriding the color with the condition, the left chart will retain the original color (color based on \"Origin\")"
   ]
  },
  {
   "cell_type": "code",
   "execution_count": null,
   "metadata": {},
   "outputs": [],
   "source": [
    "# get our two charts\n",
    "hp_mpg = getHPMPG()\n",
    "accel_mpg=getAccelMPG()\n",
    "\n",
    "# step 1\n",
    "selection=alt.selection_single(empty=\"none\");\n",
    "\n",
    "# step 2\n",
    "colorCondition=alt.condition(selection,alt.value(\"red\"),alt.value(\"gray\"))\n",
    "sizeCondition=alt.condition(selection,alt.value(400),alt.value(80))\n",
    "\n",
    "hp_mpg = hp_mpg.add_selection(\n",
    "    selection                       # step 3, chart 1\n",
    ").encode(\n",
    "    size=sizeCondition,             # step 4, chart 1 (only size)\n",
    ")\n",
    "\n",
    "accel_mpg = accel_mpg.add_selection(\n",
    "    selection                       # step 3, chart 2\n",
    ").encode(\n",
    "    color=colorCondition            # step 4, chart 2 (only color)\n",
    ")\n",
    "\n",
    "hp_mpg | accel_mpg"
   ]
  },
  {
   "cell_type": "markdown",
   "metadata": {},
   "source": [
    "## Example 6\n",
    "### Multiple vis, one selection, different (but multiple conditions)\n",
    "\n",
    "Here's a variant. We'll have one chart change two encodings (color and size)."
   ]
  },
  {
   "cell_type": "code",
   "execution_count": null,
   "metadata": {},
   "outputs": [],
   "source": [
    "# get our two charts\n",
    "hp_mpg = getHPMPG()\n",
    "accel_mpg=getAccelMPG()\n",
    "\n",
    "# step 1\n",
    "selection=alt.selection_single(empty=\"none\");\n",
    "\n",
    "# step 2\n",
    "colorCondition=alt.condition(selection,alt.value(\"red\"),alt.value(\"gray\"))\n",
    "sizeCondition=alt.condition(selection,alt.value(400),alt.value(80))\n",
    "\n",
    "hp_mpg = hp_mpg.add_selection(\n",
    "    selection                     # step 3\n",
    ").encode(\n",
    "    color=colorCondition,         # step 4.1 (chart 1)\n",
    "    size=sizeCondition,           # step 4.2 (chart 1)\n",
    ")\n",
    "\n",
    "accel_mpg = accel_mpg.add_selection(\n",
    "    selection                     # step 3\n",
    ").encode(\n",
    "    color=colorCondition          # step 4, chart 2\n",
    ")\n",
    "\n",
    "hp_mpg | accel_mpg"
   ]
  },
  {
   "cell_type": "markdown",
   "metadata": {},
   "source": [
    "## Example 7\n",
    "### One vis, mutiple selections, multiple conditions\n",
    "\n",
    "We can have multiple selections if we want. For example, we can create one change to the visualization when we click and a different one when we mouse-over.  Here's how we do it for one visualization:"
   ]
  },
  {
   "cell_type": "code",
   "execution_count": null,
   "metadata": {},
   "outputs": [],
   "source": [
    "hp_mpg = getHPMPG()\n",
    "\n",
    "\n",
    "# step 1.1 (make a click selection)\n",
    "selection1=alt.selection_single(empty=\"none\");\n",
    "\n",
    "# step 1.2 (make a mousover selection)\n",
    "selection2=selection=alt.selection_single(on=\"mouseover\",empty=\"none\");\n",
    "\n",
    "# step 2.1 (make a condition for selection 1)\n",
    "colorCondition=alt.condition(selection1,alt.value(\"blue\"),alt.value(\"gray\"))\n",
    "\n",
    "# step 2.2 (make a condition for selection 2)\n",
    "sizeCondition=alt.condition(selection2,alt.value(200),alt.value(80))\n",
    "\n",
    "hp_mpg = hp_mpg.add_selection(\n",
    "    selection1, selection2      # step 3 (add the selections)\n",
    ").encode(\n",
    "    color=colorCondition,       # step 4, add the conditions\n",
    "    size=sizeCondition\n",
    ")\n",
    "\n",
    "hp_mpg"
   ]
  },
  {
   "cell_type": "markdown",
   "metadata": {},
   "source": [
    "## Example 8\n",
    "### One vis, mutiple selections, multiple conditions (with \"or\" and \"and\")\n",
    "\n",
    "If we wanted to have one selection control multiple conditions, we can use boolean logic when defining the condition (e.g., ```selection1|selection2``` says \"if something is selected by selection1 *or* selection2). So in context of a condition:\n",
    "\n",
    "```colorCondition=alt.condition(selection1|selection2,alt.value(\"blue\"),alt.value(\"gray\"))```"
   ]
  },
  {
   "cell_type": "code",
   "execution_count": null,
   "metadata": {},
   "outputs": [],
   "source": [
    "hp_mpg = getHPMPG()\n",
    "\n",
    "\n",
    "# step 1.1 (make a click selection)\n",
    "selection1=alt.selection_single(empty=\"none\");\n",
    "\n",
    "# step 1.2 (make a mousover selection)\n",
    "selection2=selection=alt.selection_single(on=\"mouseover\",empty=\"none\");\n",
    "\n",
    "# step 2.1 (make a condition for selection 1)\n",
    "colorCondition=alt.condition(selection1|selection2,alt.value(\"blue\"),alt.value(\"gray\"))\n",
    "\n",
    "# step 2.2 (make a condition for selection 2)\n",
    "sizeCondition=alt.condition(selection2,alt.value(200),alt.value(80))\n",
    "\n",
    "hp_mpg = hp_mpg.add_selection(\n",
    "    selection1, selection2      # step 3 (add the selections)\n",
    ").encode(\n",
    "    color=colorCondition,       # step 4, add the conditions\n",
    "    size=sizeCondition\n",
    ")\n",
    "\n",
    "hp_mpg"
   ]
  },
  {
   "cell_type": "markdown",
   "metadata": {},
   "source": [
    "We can also use the boolean condition to have an intersection using the ```&```. This example will allow us to select two range selections (one along the x-axis, one along the y). All points in that interval will be selected but only points selected by *both* ranges will trigger the condition."
   ]
  },
  {
   "cell_type": "code",
   "execution_count": null,
   "metadata": {},
   "outputs": [],
   "source": [
    "hp_mpg = getHPMPG()\n",
    "\n",
    "# step 1\n",
    "selection1=alt.selection_interval(encodings=[\"x\"],empty=\"none\");\n",
    "selection2=alt.selection_interval(encodings=[\"y\"],empty=\"none\");\n",
    "\n",
    "# step 2\n",
    "colorCondition=alt.condition(selection1&selection2,alt.value(\"blue\"),alt.value(\"gray\"))\n",
    "sizeCondition=alt.condition(selection1&selection2,alt.value(200),alt.value(80))\n",
    "\n",
    "\n",
    "hp_mpg = hp_mpg.add_selection(\n",
    "    selection1,selection2        # step 3\n",
    ").encode(\n",
    "    color=colorCondition,\n",
    "    size=sizeCondition           # step 4\n",
    ")\n",
    "\n",
    "hp_mpg"
   ]
  },
  {
   "cell_type": "markdown",
   "metadata": {},
   "source": [
    "## Example 9\n",
    "### Multiple vis, mutiple selections (bound to different vis), multiple conditions (with booleans)\n",
    "\n",
    "Here's a mashup of the idea. We'll have to visualizations. This isn't a great interactive design, but work through to see if you can follow what happens where."
   ]
  },
  {
   "cell_type": "code",
   "execution_count": null,
   "metadata": {},
   "outputs": [],
   "source": [
    "# get our two charts\n",
    "hp_mpg = getHPMPG()\n",
    "accel_mpg=getAccelMPG()\n",
    "\n",
    "# step 1.1 (make a click selection)\n",
    "selection1=alt.selection_single(empty=\"none\");\n",
    "\n",
    "# step 1.2 (make a mousover selection)\n",
    "selection2=selection=alt.selection_single(on=\"mouseover\",empty=\"none\");\n",
    "\n",
    "# step 2.1 (make a condition for selection 1)\n",
    "colorCondition=alt.condition(selection1|selection2,alt.value(\"blue\"),alt.value(\"gray\"))\n",
    "\n",
    "# step 2.2 (make a condition for selection 2)\n",
    "sizeCondition=alt.condition(selection2,alt.value(200),alt.value(80))\n",
    "\n",
    "\n",
    "hp_mpg = hp_mpg.add_selection(\n",
    "    selection1                   # step 3, selection 1, chart 1\n",
    ").encode(\n",
    "    color=colorCondition,        # step 4, chart 1 (two conditions)\n",
    "    size=sizeCondition\n",
    ")\n",
    "\n",
    "accel_mpg = accel_mpg.add_selection(\n",
    "    selection2                   # step 3, selection 2, chart 2\n",
    ").encode(\n",
    "    size=sizeCondition           # step 4, chart 2  (one condition)\n",
    ")\n",
    "\n",
    "hp_mpg | accel_mpg"
   ]
  },
  {
   "cell_type": "markdown",
   "metadata": {},
   "source": [
    "Notice that in the left vis, you can only click, in the right vis you can only mouseover. Because selection1 (clicking) only impacts the color condition, we won't see anything happen on the right visualization."
   ]
  },
  {
   "cell_type": "markdown",
   "metadata": {},
   "source": [
    "Another slightly more sophisticated example. Here we'll use two interval selections. One will be bound the the x-axis (we can select all points in a given x-range) and will be connected to the left visualization. The other will be bound to the y-axis (for the right vis). \n",
    "\n",
    "In this example, we'll use the boolean operator \"&\" to only highlight items selected in *both* visualizations."
   ]
  },
  {
   "cell_type": "code",
   "execution_count": null,
   "metadata": {},
   "outputs": [],
   "source": [
    "# get our two charts\n",
    "hp_mpg = getHPMPG()\n",
    "accel_mpg=getAccelMPG()\n",
    "\n",
    "\n",
    "# step 1, selections\n",
    "selection1=alt.selection_interval(encodings=[\"x\"],empty=\"none\");\n",
    "selection2=alt.selection_interval(encodings=[\"y\"],empty=\"none\");\n",
    "\n",
    "# step 2 conditions\n",
    "colorCondition=alt.condition(selection1&selection2,alt.value(\"blue\"),alt.value(\"gray\"))\n",
    "sizeCondition=alt.condition(selection1&selection2,alt.value(200),alt.value(80))\n",
    "\n",
    "hp_mpg = hp_mpg.add_selection(\n",
    "    selection1                   # step 3, chart 1\n",
    ").encode(\n",
    "    color=colorCondition,        # step 4, chart 1\n",
    "    size=sizeCondition\n",
    ")\n",
    "\n",
    "accel_mpg = accel_mpg.add_selection(\n",
    "    selection2                    # step 3, chart 2\n",
    ").encode(\n",
    "    color=colorCondition,         # step 4, chart 2\n",
    "    size=sizeCondition\n",
    ")\n",
    "\n",
    "hp_mpg | accel_mpg"
   ]
  },
  {
   "cell_type": "markdown",
   "metadata": {},
   "source": [
    "## Example 10\n",
    "\n",
    "As one final example, we'll add a widget. Widgets are a bit strange but you can think of them as triggering a selection, which in turn will trigger a condition, and that will trigger a change to the look and feel.\n",
    "\n",
    "We need a \"step 0\" here which is creating the widget."
   ]
  },
  {
   "cell_type": "code",
   "execution_count": null,
   "metadata": {},
   "outputs": [],
   "source": [
    "hp_mpg = getHPMPG()\n",
    "\n",
    "\n",
    "# step \"0\"\n",
    "# create the dropdown -- this one has three options\n",
    "dropdown = alt.binding_select(options=['Europe','Japan','USA'],name=\"Select Origin: \")\n",
    "\n",
    "# step 1\n",
    "selection=alt.selection_single(\n",
    "    fields=['Origin'], # our selection is going to select based on origin\n",
    "    init={\"Origin\":'Europe'}, # what should the start value be? (Europe for us)\n",
    "    # now bind the selection to the dropdown \n",
    "    bind=dropdown\n",
    ")\n",
    "\n",
    "#step 2\n",
    "colorCondition = alt.condition(selection,alt.Color(\"Origin:N\"),alt.value('lightgray'))\n",
    "\n",
    "\n",
    "hp_mpg.add_selection(\n",
    "    selection            # step 3\n",
    ").encode(\n",
    "    color=colorCondition # step 4\n",
    ")"
   ]
  },
  {
   "cell_type": "code",
   "execution_count": null,
   "metadata": {},
   "outputs": [],
   "source": []
  }
 ],
 "metadata": {
  "kernelspec": {
   "display_name": "Python 3 (ipykernel)",
   "language": "python",
   "name": "python3"
  },
  "language_info": {
   "codemirror_mode": {
    "name": "ipython",
    "version": 3
   },
   "file_extension": ".py",
   "mimetype": "text/x-python",
   "name": "python",
   "nbconvert_exporter": "python",
   "pygments_lexer": "ipython3",
   "version": "3.8.8"
  }
 },
 "nbformat": 4,
 "nbformat_minor": 4
}
