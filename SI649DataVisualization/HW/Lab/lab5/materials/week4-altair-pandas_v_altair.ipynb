{
 "cells": [
  {
   "cell_type": "markdown",
   "metadata": {},
   "source": [
    "# Pandas for Altair and Altair for Pandas\n",
    "Eytan Adar, University of Michigan\n",
    "\n",
    "This is a \"recipe\" book of equivalent commands between Pandas and Altair. There are often multiple ways to achieve the same thing in both Pandas and Altair. We won't cover them all here, but you'll hopefully get a sense of the various mappings.\n",
    "\n",
    "There are also better \"shortcuts\" for the code snippets we're presenting. We've occasionally broken things into multiple lines of code so we can better document things. Once you understand how things work, you'll like be able to fit many of these into one or two lines.\n",
    "\n",
    "This recipe book is also intended for people who already know Pandas *or* Altair well. If you need an explanation of what is happening internally, we've created an associated video with all the details."
   ]
  },
  {
   "cell_type": "code",
   "execution_count": 1,
   "metadata": {},
   "outputs": [
    {
     "ename": "ModuleNotFoundError",
     "evalue": "No module named 'altair'",
     "output_type": "error",
     "traceback": [
      "\u001b[0;31m---------------------------------------------------------------------------\u001b[0m",
      "\u001b[0;31mModuleNotFoundError\u001b[0m                       Traceback (most recent call last)",
      "\u001b[0;32m/tmp/ipykernel_1054/1709999440.py\u001b[0m in \u001b[0;36m<module>\u001b[0;34m\u001b[0m\n\u001b[1;32m      1\u001b[0m \u001b[0;32mimport\u001b[0m \u001b[0mpandas\u001b[0m \u001b[0;32mas\u001b[0m \u001b[0mpd\u001b[0m\u001b[0;34m\u001b[0m\u001b[0;34m\u001b[0m\u001b[0m\n\u001b[0;32m----> 2\u001b[0;31m \u001b[0;32mimport\u001b[0m \u001b[0maltair\u001b[0m \u001b[0;32mas\u001b[0m \u001b[0malt\u001b[0m\u001b[0;34m\u001b[0m\u001b[0;34m\u001b[0m\u001b[0m\n\u001b[0m\u001b[1;32m      3\u001b[0m \u001b[0;32mimport\u001b[0m \u001b[0mnumpy\u001b[0m \u001b[0;32mas\u001b[0m \u001b[0mnp\u001b[0m\u001b[0;34m\u001b[0m\u001b[0;34m\u001b[0m\u001b[0m\n",
      "\u001b[0;31mModuleNotFoundError\u001b[0m: No module named 'altair'"
     ]
    }
   ],
   "source": [
    "import pandas as pd\n",
    "import altair as alt\n",
    "import numpy as np"
   ]
  },
  {
   "cell_type": "code",
   "execution_count": null,
   "metadata": {},
   "outputs": [],
   "source": [
    "# let's create a data frame, this will be our \"DF\"\n",
    "\n",
    "def getDF():\n",
    "    return pd.DataFrame([('AV','A', 9,5),\n",
    "                    ('SD','B',10,4),\n",
    "                    ('ES','A',2,3),\n",
    "                    ('MB','A',7,5),\n",
    "                    ('RR','B',8,6),\n",
    "                    ('YY','B',9,7),\n",
    "                    ('LA','A',9,8)],\n",
    "                    columns=('Student','Class', 'T1Grade','T2Grade'))\n"
   ]
  },
  {
   "cell_type": "code",
   "execution_count": null,
   "metadata": {},
   "outputs": [],
   "source": [
    "# this is a utility function that we'll use to reset to the original dataframe\n",
    "\n",
    "df = getDF()"
   ]
  },
  {
   "cell_type": "code",
   "execution_count": null,
   "metadata": {},
   "outputs": [],
   "source": [
    "# let's look inside the DF\n",
    "df"
   ]
  },
  {
   "cell_type": "markdown",
   "metadata": {},
   "source": [
    "What we have is a grade sheet for all students (their initials are in \"Student\") across 2 classes (A and B, see Class). They've taken two tests and we've recorded their scores into T1Grade and T2Grade."
   ]
  },
  {
   "cell_type": "markdown",
   "metadata": {},
   "source": [
    "# A Basic Chart (Pandas and Altair)"
   ]
  },
  {
   "cell_type": "markdown",
   "metadata": {},
   "source": [
    "Our goal is to get a figure like this:\n",
    "    \n",
    "![objective](https://raw.githubusercontent.com/eytanadar/si649public/master/lab4/assets/pandasaltair/example1.png)"
   ]
  },
  {
   "cell_type": "markdown",
   "metadata": {},
   "source": [
    "This is basically a picture of each student's T1 Grade\n",
    "\n",
    "We can think of this in Grammar of Graphics terms:\n",
    "\n",
    "**Mark**: rectangle \n",
    "\n",
    "Data (2 variables):\n",
    "* **Student**: Nominal   \n",
    "* **T1Grade**: Quantatitive\n",
    "\n",
    "Encoding (2--one per variable):\n",
    "* **Student**: x-axis\n",
    "* **T1Grade**: y-axis (bar length)"
   ]
  },
  {
   "cell_type": "code",
   "execution_count": null,
   "metadata": {},
   "outputs": [],
   "source": [
    "alt.Chart(df).mark_bar().encode(\n",
    "    x='Student',\n",
    "    y='T1Grade'\n",
    ")"
   ]
  },
  {
   "cell_type": "markdown",
   "metadata": {},
   "source": [
    "# Filtering Data\n",
    "\n",
    "Let's try for a simple filtering experiment, we're going to get rid of people who got less than 7 on their test\n",
    "\n",
    "![objective](https://raw.githubusercontent.com/eytanadar/si649public/master/lab4/assets/pandasaltair/example2.png)"
   ]
  },
  {
   "cell_type": "markdown",
   "metadata": {},
   "source": [
    "## The Pandas way"
   ]
  },
  {
   "cell_type": "code",
   "execution_count": null,
   "metadata": {},
   "outputs": [],
   "source": [
    "# get the data\n",
    "df = getDF()"
   ]
  },
  {
   "cell_type": "code",
   "execution_count": null,
   "metadata": {},
   "outputs": [],
   "source": [
    "# filter the grades using pandas \n",
    "\n",
    "df = df[df.T1Grade > 7]\n",
    "\n",
    "# the end result before we render:\n",
    "df"
   ]
  },
  {
   "cell_type": "code",
   "execution_count": null,
   "metadata": {},
   "outputs": [],
   "source": [
    "# and then use the filtered df\n",
    "\n",
    "alt.Chart(df).mark_bar().encode(\n",
    "    x='Student',\n",
    "    y='T1Grade'\n",
    ")"
   ]
  },
  {
   "cell_type": "markdown",
   "metadata": {},
   "source": [
    "You could, of course, do it all in one, but it will get messy fast\n",
    "\n",
    "```alt.Chart(df[df.T1Grade > 7]).mark_bar().encode(\n",
    "    x='Student',\n",
    "    y='T1Grade'\n",
    ")```\n"
   ]
  },
  {
   "cell_type": "markdown",
   "metadata": {},
   "source": [
    "## The Altair Way"
   ]
  },
  {
   "cell_type": "code",
   "execution_count": null,
   "metadata": {},
   "outputs": [],
   "source": [
    "# get the data\n",
    "df = getDF()"
   ]
  },
  {
   "cell_type": "code",
   "execution_count": null,
   "metadata": {},
   "outputs": [],
   "source": [
    "alt.Chart(df).transform_filter(\n",
    "    alt.datum.T1Grade > 7\n",
    ").mark_bar().encode(\n",
    "    x='Student',\n",
    "    y='T1Grade'\n",
    ")"
   ]
  },
  {
   "cell_type": "markdown",
   "metadata": {},
   "source": [
    "# Aggregation (groupby/agg vs transform_aggregate)\n",
    "\n",
    "Our goal is to get a figure like this:\n",
    "    \n",
    "![objective](https://raw.githubusercontent.com/eytanadar/si649public/master/lab4/assets/pandasaltair/example3.png)\n",
    "\n",
    "We're going to calculate a new value based on some grouping. In this is example, we'll find the minimum grade in each class. This requires grouping (in this case Class) and calculating some new value (in this case the min, but it can be anything... mean, max, etc.)"
   ]
  },
  {
   "cell_type": "markdown",
   "metadata": {},
   "source": [
    "## The Pandas way"
   ]
  },
  {
   "cell_type": "code",
   "execution_count": null,
   "metadata": {},
   "outputs": [],
   "source": [
    "# get the data\n",
    "df = getDF()"
   ]
  },
  {
   "cell_type": "code",
   "execution_count": null,
   "metadata": {},
   "outputs": [],
   "source": [
    "# we're going to first group by 'Class'\n",
    "# That group will be aggregated into a new column called classmin by using\n",
    "# the NamedAgg (named aggregate fuction on the T1Grade column)\n",
    "\n",
    "df = df.groupby('Class').agg(classmin=pd.NamedAgg(column='T1Grade',aggfunc='min'))\n",
    "\n",
    "df = df.reset_index()  # we don't want \"Class\" to be the index (so we'll reset)\n",
    "\n",
    "# the end result before we render is:\n",
    "df"
   ]
  },
  {
   "cell_type": "code",
   "execution_count": null,
   "metadata": {},
   "outputs": [],
   "source": [
    "# wrap up the rendering with Altair\n",
    "\n",
    "alt.Chart(df).mark_bar().encode(\n",
    "    x='Class:N',\n",
    "    y='classmin:Q'\n",
    ")\n",
    "\n",
    "# notice that we specified that Class was 'Nominal' and classmin was 'Quantitative'\n",
    "# Altair can't infer the types for the columns in df. You'll see an exception if you\n",
    "# leave out \":N\" or \":Q\""
   ]
  },
  {
   "cell_type": "markdown",
   "metadata": {},
   "source": [
    "## The Altair way"
   ]
  },
  {
   "cell_type": "code",
   "execution_count": null,
   "metadata": {},
   "outputs": [],
   "source": [
    "# get the data\n",
    "df = getDF()"
   ]
  },
  {
   "cell_type": "code",
   "execution_count": null,
   "metadata": {},
   "outputs": [],
   "source": [
    "alt.Chart(df).transform_aggregate(\n",
    "    groupby=['Class'],                          # Groupby class\n",
    "    classmin='min(T1Grade)'                     # For each class, calculate the min T1Grade and put in classmin\n",
    ").mark_bar().encode(\n",
    "    x='Class:N',\n",
    "    y='classmin:Q'\n",
    ")"
   ]
  },
  {
   "cell_type": "markdown",
   "metadata": {},
   "source": [
    "## Alternative Altair way"
   ]
  },
  {
   "cell_type": "code",
   "execution_count": null,
   "metadata": {},
   "outputs": [],
   "source": [
    "# get the data\n",
    "df = getDF()"
   ]
  },
  {
   "cell_type": "code",
   "execution_count": null,
   "metadata": {},
   "outputs": [],
   "source": [
    "alt.Chart(df).mark_bar().encode(\n",
    "    x='Class:N',\n",
    "    y='min(T1Grade)'\n",
    ")\n",
    "\n",
    "# This will create a new column, but you don't get to control the name this way.\n",
    "# It will be something like min_T1Grade. This is faster for simple aggregation\n",
    "# but you have more control with the original (e.g., aggregating on multive variables)"
   ]
  },
  {
   "cell_type": "markdown",
   "metadata": {},
   "source": [
    "# Calculated Field (Pandas) and transform_calculate (Altair)\n",
    "\n",
    "Our goal is to get a figure like this:\n",
    "    \n",
    "![objective](https://raw.githubusercontent.com/eytanadar/si649public/master/lab4/assets/pandasaltair/example4.png)\n",
    "\n",
    "In this example, we were missing a field for each row that we want to calculate. Specifically, we want to know the change in grade between test 1 and test 2. We're going to modify our data to add this extra column to support this."
   ]
  },
  {
   "cell_type": "markdown",
   "metadata": {},
   "source": [
    "## The Pandas way"
   ]
  },
  {
   "cell_type": "code",
   "execution_count": null,
   "metadata": {},
   "outputs": [],
   "source": [
    "# get the data\n",
    "df = getDF()"
   ]
  },
  {
   "cell_type": "code",
   "execution_count": null,
   "metadata": {},
   "outputs": [],
   "source": [
    "# for each row, subtract T2Grade from T1Grade and put it into a new column, testDifference\n",
    "df['testDifference'] = df['T1Grade'] - df['T2Grade']\n",
    "\n",
    "# the end result before we render is:\n",
    "df"
   ]
  },
  {
   "cell_type": "code",
   "execution_count": null,
   "metadata": {},
   "outputs": [],
   "source": [
    "alt.Chart(df).mark_bar().encode(\n",
    "    x='Student',\n",
    "    y='testDifference'\n",
    ")"
   ]
  },
  {
   "cell_type": "markdown",
   "metadata": {},
   "source": [
    "## The Altair Way"
   ]
  },
  {
   "cell_type": "code",
   "execution_count": null,
   "metadata": {},
   "outputs": [],
   "source": [
    "# get the data\n",
    "df = getDF()"
   ]
  },
  {
   "cell_type": "code",
   "execution_count": null,
   "metadata": {},
   "outputs": [],
   "source": [
    "alt.Chart(df).transform_calculate(\n",
    "    testDifference = alt.datum.T1Grade - alt.datum.T2Grade\n",
    ").mark_bar().encode(\n",
    "    x='Student',\n",
    "    y='testDifference:Q'                                        # notice that we need to explicitly say :Q\n",
    ")"
   ]
  },
  {
   "cell_type": "markdown",
   "metadata": {},
   "source": [
    "# Aggregating and calculating (transform_aggregate + transform_calculate)\n",
    "\n",
    "Our goal is to get a figure like this:\n",
    "    \n",
    "![objective](https://raw.githubusercontent.com/eytanadar/si649public/master/lab4/assets/pandasaltair/example5.png)\n",
    "\n",
    "This combines a few different things. First, we're going to group and calculate some aggregates (in this case we'll use the min and max grades in each class). Second, we're going to augment our table as above to hold the additional field we care about (the difference)."
   ]
  },
  {
   "cell_type": "markdown",
   "metadata": {},
   "source": [
    "## The Pandas way"
   ]
  },
  {
   "cell_type": "code",
   "execution_count": null,
   "metadata": {},
   "outputs": [],
   "source": [
    "# get the data\n",
    "df = getDF()"
   ]
  },
  {
   "cell_type": "code",
   "execution_count": null,
   "metadata": {},
   "outputs": [],
   "source": [
    "# create a new dataframe with a row for each class\n",
    "# and then calculate the min/max for each class and put those \n",
    "# into a new variable\n",
    "\n",
    "df = df.groupby('Class').agg(\n",
    "    classmin=pd.NamedAgg(column='T1Grade',aggfunc='min'),\n",
    "    classmax=pd.NamedAgg(column='T1Grade',aggfunc='max')\n",
    ")\n",
    "\n",
    "# The dataframe is now focused on the class:\n",
    "df"
   ]
  },
  {
   "cell_type": "code",
   "execution_count": null,
   "metadata": {},
   "outputs": [],
   "source": [
    "# for each row calculate the difference between them\n",
    "\n",
    "df['difference'] = df['classmax'] - df['classmin']\n",
    "\n",
    "# reset the index (the groupby makes \"Class\" the index... we don't want that)\n",
    "df = df.reset_index()\n",
    "\n",
    "# the end result before we render it is:\n",
    "df"
   ]
  },
  {
   "cell_type": "code",
   "execution_count": null,
   "metadata": {},
   "outputs": [],
   "source": [
    "# now render it\n",
    "alt.Chart(df).mark_bar().encode(\n",
    "    x='Class:N',\n",
    "    y='difference:Q'\n",
    ")"
   ]
  },
  {
   "cell_type": "markdown",
   "metadata": {},
   "source": [
    "## The Altair way"
   ]
  },
  {
   "cell_type": "code",
   "execution_count": null,
   "metadata": {},
   "outputs": [],
   "source": [
    "# get the data\n",
    "df = getDF()"
   ]
  },
  {
   "cell_type": "code",
   "execution_count": null,
   "metadata": {},
   "outputs": [],
   "source": [
    "alt.Chart(df).transform_aggregate(               # make the new columns\n",
    "    groupby = ['Class'],                                     # For each class...\n",
    "    classmax = 'max(T1Grade)',                               # ...find the min and max\n",
    "    classmin = 'min(T1Grade)'\n",
    ").transform_calculate(                                      # calculate the difference for each row\n",
    "    difference = alt.datum.classmax - alt.datum.classmin\n",
    ").mark_bar().encode(\n",
    "    x='Class',\n",
    "    y='difference:Q'\n",
    ")"
   ]
  },
  {
   "cell_type": "markdown",
   "metadata": {},
   "source": [
    "# Join (Pandas) vs. transform_joinaggregate (Altair)\n",
    "\n",
    "Our goal is to get a figure like this:\n",
    "    \n",
    "![objective](https://raw.githubusercontent.com/eytanadar/si649public/master/lab4/assets/pandasaltair/example6.png)\n",
    "\n",
    "This one is a bit tricky. We need to first calulate some property of the group and then put that back into our original table. In this case, we need to use the grouping trick we did above to create the summary table (in this case the maximum T1 grade per class), and then annotate our original table. We'll do this in two steps. First finding the aggregate and then joining it back in. This is an example where Altair has a single function (joinaggregate) to support his."
   ]
  },
  {
   "cell_type": "markdown",
   "metadata": {},
   "source": [
    "## The Pandas way"
   ]
  },
  {
   "cell_type": "code",
   "execution_count": null,
   "metadata": {},
   "outputs": [],
   "source": [
    "# get the data\n",
    "df = getDF()"
   ]
  },
  {
   "cell_type": "code",
   "execution_count": null,
   "metadata": {},
   "outputs": [],
   "source": [
    "df1 = df.groupby('Class').agg(                # group by class\n",
    "    classmax=pd.NamedAgg(column='T1Grade',    # For each class, create a named aggregate on T1Grade\n",
    "                        aggfunc='max')        # and find the max\n",
    ")\n",
    "\n"
   ]
  },
  {
   "cell_type": "code",
   "execution_count": null,
   "metadata": {},
   "outputs": [],
   "source": [
    "# take a peak inside\n",
    "df1"
   ]
  },
  {
   "cell_type": "code",
   "execution_count": null,
   "metadata": {},
   "outputs": [],
   "source": [
    "df = df.join(df1, on='Class')\n",
    "\n",
    "# now df looks like:\n",
    "df"
   ]
  },
  {
   "cell_type": "code",
   "execution_count": null,
   "metadata": {},
   "outputs": [],
   "source": [
    "# render it:\n",
    "alt.Chart(df).mark_bar().encode(\n",
    "    x='Student:N',\n",
    "    y='T1Grade:Q',\n",
    "    color='classmax:O'\n",
    ")"
   ]
  },
  {
   "cell_type": "markdown",
   "metadata": {},
   "source": [
    "## The Altair way"
   ]
  },
  {
   "cell_type": "code",
   "execution_count": null,
   "metadata": {},
   "outputs": [],
   "source": [
    "# get the data\n",
    "df = getDF()"
   ]
  },
  {
   "cell_type": "code",
   "execution_count": null,
   "metadata": {},
   "outputs": [],
   "source": [
    "alt.Chart(df).transform_joinaggregate(\n",
    "    groupby=['Class'],                                 # Class group\n",
    "    classmax='max(T1Grade)',                          # find the max, for each...\n",
    ").mark_bar().encode(\n",
    "    x='Student:N',\n",
    "    y='T1Grade:Q',\n",
    "    color='classmax:O'                                # use the value calculated below\n",
    ")"
   ]
  },
  {
   "cell_type": "markdown",
   "metadata": {},
   "source": [
    "# Joins and Aggregates 2 (transform_joinaggregate + transform_joincalculate)\n",
    "\n",
    "Our goal is to get a figure like this:\n",
    "    \n",
    "![objective](https://raw.githubusercontent.com/eytanadar/si649public/master/lab4/assets/pandasaltair/example7.png)\n",
    "\n",
    "We'll expand on the example above. We are now going to calculate some additional property (how much better the student did relative to the class max grade). As before, we're going to calculate the max, join it back in and then we'll use the calculation to find the difference. In this case, we don't have a single Altair command but will do it in two steps."
   ]
  },
  {
   "cell_type": "markdown",
   "metadata": {},
   "source": [
    "## The Pandas way"
   ]
  },
  {
   "cell_type": "code",
   "execution_count": null,
   "metadata": {},
   "outputs": [],
   "source": [
    "# get the data\n",
    "df = getDF()"
   ]
  },
  {
   "cell_type": "code",
   "execution_count": null,
   "metadata": {},
   "outputs": [],
   "source": [
    "# group and calculate the max per group\n",
    "df1 = df.groupby('Class').agg(\n",
    "    classmax=pd.NamedAgg(column='T1Grade',\n",
    "                        aggfunc='max')\n",
    ")\n",
    "\n",
    "# let's look in df1:\n",
    "df1"
   ]
  },
  {
   "cell_type": "code",
   "execution_count": null,
   "metadata": {},
   "outputs": [],
   "source": [
    "# join back into original table\n",
    "df = df.join(df1,on='Class')\n",
    "\n",
    "# calculate the difference per student\n",
    "df['difference'] = df.T1Grade - df.classmax\n",
    "\n",
    "# see what it looks like inside:\n",
    "df"
   ]
  },
  {
   "cell_type": "code",
   "execution_count": null,
   "metadata": {},
   "outputs": [],
   "source": [
    "alt.Chart(df).mark_bar().encode(\n",
    "    x='Student:N',\n",
    "    y='difference:Q'\n",
    ")"
   ]
  },
  {
   "cell_type": "markdown",
   "metadata": {},
   "source": [
    "## The Altair way"
   ]
  },
  {
   "cell_type": "code",
   "execution_count": null,
   "metadata": {},
   "outputs": [],
   "source": [
    "# get the data\n",
    "df = getDF()"
   ]
  },
  {
   "cell_type": "code",
   "execution_count": null,
   "metadata": {},
   "outputs": [],
   "source": [
    "alt.Chart(df).transform_joinaggregate(        # first step, calculate the max per Class\n",
    "    classmax='max(T1Grade)',\n",
    "    groupby=['Class']\n",
    ").transform_calculate(                                   # second step, calculate the difference for each Student\n",
    "    difference = alt.datum.T1Grade - alt.datum.classmax\n",
    ").mark_bar().encode(\n",
    "    x='Student:N',\n",
    "    y='difference:Q'                                     # third step (yes, not in order) plot the difference\n",
    ")"
   ]
  },
  {
   "cell_type": "markdown",
   "metadata": {},
   "source": [
    "# Ranks and transform_window\n",
    "\n",
    "Our goal is to get a figure like this:\n",
    "    \n",
    "![objective](https://raw.githubusercontent.com/eytanadar/si649public/master/lab4/assets/pandasaltair/example8.png)\n",
    "\n",
    "In this example we need to calculate something that depends on all the data. Specifically, we are looking at the rank of students based on their grades."
   ]
  },
  {
   "cell_type": "markdown",
   "metadata": {},
   "source": [
    "## The Pandas way"
   ]
  },
  {
   "cell_type": "code",
   "execution_count": null,
   "metadata": {},
   "outputs": [],
   "source": [
    "# get the data\n",
    "df = getDF()"
   ]
  },
  {
   "cell_type": "code",
   "execution_count": null,
   "metadata": {},
   "outputs": [],
   "source": [
    "# we generate a new column that has the rank associated with each grade\n",
    "# and put this in a new Rank column in the data frame\n",
    "\n",
    "df['Rank'] = df['T1Grade'].rank(ascending=True)\n",
    "\n",
    "# it looks like:\n",
    "df"
   ]
  },
  {
   "cell_type": "code",
   "execution_count": null,
   "metadata": {},
   "outputs": [],
   "source": [
    "# plot the values\n",
    "\n",
    "alt.Chart(df).mark_bar().encode(\n",
    "    x='Student:N',\n",
    "    y='Rank:Q'\n",
    ")"
   ]
  },
  {
   "cell_type": "markdown",
   "metadata": {},
   "source": [
    "## The Altair way"
   ]
  },
  {
   "cell_type": "code",
   "execution_count": null,
   "metadata": {},
   "outputs": [],
   "source": [
    "# get the data\n",
    "df = getDF()"
   ]
  },
  {
   "cell_type": "code",
   "execution_count": null,
   "metadata": {},
   "outputs": [],
   "source": [
    "# similar to above\n",
    "\n",
    "alt.Chart(df).transform_window(\n",
    "    sort=[{'field' : 'T1Grade'}],   # sort by T1Grade\n",
    "    Rank = 'rank(*)'                # use the rank(..) operator to calculate the rank \n",
    ").mark_bar().encode(\n",
    "    x='Student:N',\n",
    "    y='Rank:Q'\n",
    ")"
   ]
  },
  {
   "cell_type": "markdown",
   "metadata": {},
   "source": [
    "# Ranks and transform_window 2\n",
    "\n",
    "Our goal is to get a figure like this:\n",
    "    \n",
    "![objective](https://raw.githubusercontent.com/eytanadar/si649public/master/lab4/assets/pandasaltair/example9.png)\n",
    "\n",
    "This is a slightly more sophisticated version of the above example. Rather than learning the rank for each student overall, we want to calculate their rank in the class. So we first need to group by classes and then sort/calculate ranks. This applies to both Pandas and Altair."
   ]
  },
  {
   "cell_type": "markdown",
   "metadata": {},
   "source": [
    "## The Pandas way"
   ]
  },
  {
   "cell_type": "code",
   "execution_count": null,
   "metadata": {},
   "outputs": [],
   "source": [
    "# get the data\n",
    "df = getDF()"
   ]
  },
  {
   "cell_type": "code",
   "execution_count": null,
   "metadata": {},
   "outputs": [],
   "source": [
    "# first we groupby class, then extract the T1Grade for each group\n",
    "# this extracted version is then sorted and a rank value determined.\n",
    "# Ultimately, this is placed back in the data frame.\n",
    "\n",
    "df['GradeRank'] = df.groupby('Class')['T1Grade'].rank(ascending=True,\n",
    "                                                      method='min')\n",
    "\n",
    "# let's look inside:\n",
    "df"
   ]
  },
  {
   "cell_type": "code",
   "execution_count": null,
   "metadata": {},
   "outputs": [],
   "source": [
    "# plot the data\n",
    "alt.Chart(df).mark_bar().encode(\n",
    "    x='Student',\n",
    "    y='GradeRank:Q',\n",
    "    color='Class:N'\n",
    ")"
   ]
  },
  {
   "cell_type": "markdown",
   "metadata": {},
   "source": [
    "## The Altair way"
   ]
  },
  {
   "cell_type": "code",
   "execution_count": null,
   "metadata": {},
   "outputs": [],
   "source": [
    "# get the data\n",
    "df = getDF()"
   ]
  },
  {
   "cell_type": "code",
   "execution_count": null,
   "metadata": {},
   "outputs": [],
   "source": [
    "alt.Chart(df).transform_window(\n",
    "    groupby=['Class'],            # group by class\n",
    "    sort=[{'field':'T1Grade'}],   # sort by the T1 Grade \n",
    "    GradeRank='rank(*)',          # determine the rank of that row\n",
    ").mark_bar().encode(              # plot\n",
    "    x='Student:N',\n",
    "    y='GradeRank:Q',\n",
    "    color='Class:N'\n",
    ")"
   ]
  },
  {
   "cell_type": "markdown",
   "metadata": {},
   "source": [
    "# melt (Pandas) and transform_fold (Altair)\n",
    "\n",
    "Our goal is to get a figure like this:\n",
    "    \n",
    "![objective](https://raw.githubusercontent.com/eytanadar/si649public/master/lab4/assets/pandasaltair/example10.png)\n",
    "\n",
    "This requires a \"pivot\" on the data. We make the distinction between long form and wide form data. The original version of our data has a column for each test and a row for each student. This is fine if we want to make marks for each student or class (appropriate \"long form\" for student/class visualizations). However, this is considered \"wide\" form for working with test grades. We need to make the conversion. One way to do this in Pandas is \"melt.\" In Altair, we would use transform_fold."
   ]
  },
  {
   "cell_type": "markdown",
   "metadata": {},
   "source": [
    "## The Pandas way"
   ]
  },
  {
   "cell_type": "code",
   "execution_count": null,
   "metadata": {},
   "outputs": [],
   "source": [
    "# get the data\n",
    "df = getDF()"
   ]
  },
  {
   "cell_type": "code",
   "execution_count": null,
   "metadata": {},
   "outputs": [],
   "source": [
    "# first, just pull out the columns we care about to make this easier\n",
    "df = df[['Student','T1Grade','T2Grade']]\n",
    "\n",
    "# we have:\n",
    "df"
   ]
  },
  {
   "cell_type": "code",
   "execution_count": null,
   "metadata": {},
   "outputs": [],
   "source": [
    "# next, \"melt\" to create the new version. We're going to indicate that\n",
    "# we should keep \"Student\" stable, but for each additional column\n",
    "# (T1Grade and T2Grade) we'll make a new row. Because we want to know\n",
    "# which test the score came from, we'll create a \"Test\" column\n",
    "\n",
    "df = df.melt('Student',var_name=['Test'])\n",
    "\n",
    "# the value of each test will end up in a column named 'value'.\n",
    "# If you wanted to override this, you could add the argument to melt:\n",
    "# value_name='TestScore'\n",
    "\n",
    "# now we have some long form data:\n",
    "df"
   ]
  },
  {
   "cell_type": "code",
   "execution_count": null,
   "metadata": {},
   "outputs": [],
   "source": [
    "# Now that we have the data in long form, we can group by Test (T1/T2) and calculate \n",
    "# the mean for each group\n",
    "\n",
    "df = df.groupby('Test').agg(ClassMean=pd.NamedAgg(column='value',aggfunc='mean'))\n",
    "\n",
    "# reset the index (we don't want \"Test\" to be the index)\n",
    "df = df.reset_index()\n",
    "\n",
    "# this looks like:\n",
    "df"
   ]
  },
  {
   "cell_type": "code",
   "execution_count": null,
   "metadata": {},
   "outputs": [],
   "source": [
    "# plot the data\n",
    "\n",
    "alt.Chart(df).mark_bar().encode(\n",
    "    x='Test:N',\n",
    "    y='ClassMean:Q'\n",
    ")\n"
   ]
  },
  {
   "cell_type": "markdown",
   "metadata": {},
   "source": [
    "## The Altair way"
   ]
  },
  {
   "cell_type": "code",
   "execution_count": null,
   "metadata": {},
   "outputs": [],
   "source": [
    "# get the data\n",
    "df = getDF()"
   ]
  },
  {
   "cell_type": "code",
   "execution_count": null,
   "metadata": {},
   "outputs": [],
   "source": [
    "alt.Chart(df).transform_fold(\n",
    "    ['T1Grade','T2Grade'],      # the columns we want to \"fold\" into 1\n",
    "    as_  = ['Test','grade']     # the name of the column will get pulled into test and the value into grade\n",
    ").mark_bar().encode(\n",
    "    x = 'Test:N',\n",
    "    y = 'mean(grade):Q'         # we're using a shortcut here to calculate the mean grade per Test\n",
    ")"
   ]
  },
  {
   "cell_type": "code",
   "execution_count": null,
   "metadata": {},
   "outputs": [],
   "source": []
  }
 ],
 "metadata": {
  "kernelspec": {
   "display_name": "Python 3 (ipykernel)",
   "language": "python",
   "name": "python3"
  },
  "language_info": {
   "codemirror_mode": {
    "name": "ipython",
    "version": 3
   },
   "file_extension": ".py",
   "mimetype": "text/x-python",
   "name": "python",
   "nbconvert_exporter": "python",
   "pygments_lexer": "ipython3",
   "version": "3.8.8"
  },
  "toc": {
   "colors": {
    "hover_highlight": "#DAA520",
    "running_highlight": "#FF0000",
    "selected_highlight": "#FFD700"
   },
   "moveMenuLeft": true,
   "nav_menu": {
    "height": "512.222px",
    "width": "252.222px"
   },
   "navigate_menu": true,
   "number_sections": true,
   "sideBar": true,
   "threshold": 4,
   "toc_cell": false,
   "toc_section_display": "block",
   "toc_window_display": true,
   "widenNotebook": false
  }
 },
 "nbformat": 4,
 "nbformat_minor": 4
}
