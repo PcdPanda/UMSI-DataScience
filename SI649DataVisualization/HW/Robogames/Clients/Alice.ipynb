{
 "cells": [
  {
   "cell_type": "code",
   "execution_count": 1,
   "metadata": {},
   "outputs": [],
   "source": [
    "\n",
    "import Robogame as rg\n",
    "import networkx as nx\n",
    "import altair as alt\n",
    "import time, json\n",
    "import pandas as pd\n",
    "import numpy as np"
   ]
  },
  {
   "cell_type": "markdown",
   "metadata": {},
   "source": [
    "To start a game server go into the server directory. Make sure you have flask and networkx installed (```conda install networkx flask flask-cors requests scipy``` should do it).\n",
    "\n",
    "To start a server do:\n",
    "\n",
    "```python api.py [-d directoryforgame] [-s] [-t1s T1Secret] [-t2s T2Secret] gameid```\n",
    "\n",
    "gameid is the the prefix of all the game files (the examples we gave you are examplematch1, examplematch2, examplematch3.\n",
    "\n",
    "```\n",
    "-d/--directory is an optional directory. For example, we put the examplematch1 files in the example1 directory\n",
    "-s/--simulated tells us whether to simulate team 2\n",
    "-t1s/--team1secret is Team 1's secret. If you don't specify this, the server will give you one\n",
    "-t2s/--team1secret is Team 2's secret. This is ignored if you use -s. If you don't specify this, the server will give you one\n",
    "-m/--matchsave is a log file to save the game in, a random log name will be used if you don't specify this\n",
    "```\n",
    "\n",
    "Here's a simple game:\n",
    "\n",
    "```python api.py -d ./example1 -s -t1s bob examplematch1```\n",
    "\n",
    "We're using the examplematch1 files in the example1 directory, simulating player 2 and team 1's secret is 'bob' (that's us)"
   ]
  },
  {
   "cell_type": "code",
   "execution_count": null,
   "metadata": {},
   "outputs": [
    {
     "ename": "",
     "evalue": "",
     "output_type": "error",
     "traceback": [
      "\u001b[1;31mPython 3.8.5 64-bit 需要安装 ipykernel。\n",
      "Run the following command to install 'ipykernel' into the Python environment. \n",
      "Command: '/bin/python3 -m pip install ipykernel -U --user --force-reinstall'"
     ]
    }
   ],
   "source": [
    "# create a game connection using bob as the \"secret\" key for your team (this is what you're given by the server)\n",
    "# game = rg.Robogame(\"bob\")\n",
    "\n",
    "# the default is to the localhost on port 5000, if you want something else you can do:\n",
    "game = rg.Robogame(\"bob\",server=\"12.12.31.1\",port=2324)"
   ]
  },
  {
   "cell_type": "code",
   "execution_count": 9,
   "metadata": {},
   "outputs": [
    {
     "data": {
      "text/plain": [
       "{'Result': 'OK'}"
      ]
     },
     "execution_count": 9,
     "metadata": {},
     "output_type": "execute_result"
    }
   ],
   "source": [
    "# tell the server we're ready to go\n",
    "game.setReady()"
   ]
  },
  {
   "cell_type": "code",
   "execution_count": 10,
   "metadata": {},
   "outputs": [
    {
     "data": {
      "text/plain": [
       "{'Error': 'Game not started'}"
      ]
     },
     "execution_count": 10,
     "metadata": {},
     "output_type": "execute_result"
    }
   ],
   "source": [
    "game.getGameTime()"
   ]
  },
  {
   "cell_type": "code",
   "execution_count": 42,
   "metadata": {},
   "outputs": [
    {
     "ename": "KeyError",
     "evalue": "'gamestarttime_secs'",
     "output_type": "error",
     "traceback": [
      "\u001b[0;31m---------------------------------------------------------------------------\u001b[0m",
      "\u001b[0;31mKeyError\u001b[0m                                  Traceback (most recent call last)",
      "\u001b[0;32m/tmp/ipykernel_22210/1492214100.py\u001b[0m in \u001b[0;36m<module>\u001b[0;34m\u001b[0m\n\u001b[1;32m      5\u001b[0m \u001b[0;32mwhile\u001b[0m\u001b[0;34m(\u001b[0m\u001b[0;32mTrue\u001b[0m\u001b[0;34m)\u001b[0m\u001b[0;34m:\u001b[0m\u001b[0;34m\u001b[0m\u001b[0;34m\u001b[0m\u001b[0m\n\u001b[1;32m      6\u001b[0m     \u001b[0mgametime\u001b[0m \u001b[0;34m=\u001b[0m \u001b[0mgame\u001b[0m\u001b[0;34m.\u001b[0m\u001b[0mgetGameTime\u001b[0m\u001b[0;34m(\u001b[0m\u001b[0;34m)\u001b[0m\u001b[0;34m\u001b[0m\u001b[0;34m\u001b[0m\u001b[0m\n\u001b[0;32m----> 7\u001b[0;31m     \u001b[0mtimetogo\u001b[0m \u001b[0;34m=\u001b[0m \u001b[0mgametime\u001b[0m\u001b[0;34m[\u001b[0m\u001b[0;34m'gamestarttime_secs'\u001b[0m\u001b[0;34m]\u001b[0m \u001b[0;34m-\u001b[0m \u001b[0mgametime\u001b[0m\u001b[0;34m[\u001b[0m\u001b[0;34m'servertime_secs'\u001b[0m\u001b[0;34m]\u001b[0m\u001b[0;34m\u001b[0m\u001b[0;34m\u001b[0m\u001b[0m\n\u001b[0m\u001b[1;32m      8\u001b[0m \u001b[0;34m\u001b[0m\u001b[0m\n\u001b[1;32m      9\u001b[0m     \u001b[0;32mif\u001b[0m \u001b[0;34m(\u001b[0m\u001b[0;34m'Error'\u001b[0m \u001b[0;32min\u001b[0m \u001b[0mgametime\u001b[0m\u001b[0;34m)\u001b[0m\u001b[0;34m:\u001b[0m\u001b[0;34m\u001b[0m\u001b[0;34m\u001b[0m\u001b[0m\n",
      "\u001b[0;31mKeyError\u001b[0m: 'gamestarttime_secs'"
     ]
    }
   ],
   "source": [
    "# get the current game time\n",
    "# there is a buffer before the game actually starts once both teams are ready\n",
    "\n",
    "# wait for both players to be ready\n",
    "while(True):\n",
    "    gametime = game.getGameTime()\n",
    "    timetogo = gametime['gamestarttime_secs'] - gametime['servertime_secs']\n",
    "    \n",
    "    if ('Error' in gametime):\n",
    "        print(\"Error\"+str(gametime))\n",
    "        break\n",
    "    if (timetogo <= 0):\n",
    "        print(\"Let's go!\")\n",
    "        break\n",
    "        \n",
    "    print(\"waiting to launch... game will start in \" + str(int(timetogo)))\n",
    "    time.sleep(1) # sleep 1 second at a time, wait for the game to start\n",
    "    "
   ]
  },
  {
   "cell_type": "code",
   "execution_count": 11,
   "metadata": {},
   "outputs": [
    {
     "data": {
      "text/plain": [
       "{'curtime': 2.24,\n",
       " 'gameendtime_secs': 1638410887.7510457,\n",
       " 'gamestarttime_secs': 1638410287.7510457,\n",
       " 'servertime_secs': 1638410301.16193,\n",
       " 'unitsleft': 97.76}"
      ]
     },
     "execution_count": 11,
     "metadata": {},
     "output_type": "execute_result"
    }
   ],
   "source": [
    "# check the current game time\n",
    "game.getGameTime()"
   ]
  },
  {
   "cell_type": "code",
   "execution_count": 20,
   "metadata": {},
   "outputs": [
    {
     "data": {
      "text/html": [
       "<div>\n",
       "<style scoped>\n",
       "    .dataframe tbody tr th:only-of-type {\n",
       "        vertical-align: middle;\n",
       "    }\n",
       "\n",
       "    .dataframe tbody tr th {\n",
       "        vertical-align: top;\n",
       "    }\n",
       "\n",
       "    .dataframe thead th {\n",
       "        text-align: right;\n",
       "    }\n",
       "</style>\n",
       "<table border=\"1\" class=\"dataframe\">\n",
       "  <thead>\n",
       "    <tr style=\"text-align: right;\">\n",
       "      <th></th>\n",
       "      <th>id</th>\n",
       "      <th>name</th>\n",
       "      <th>expires</th>\n",
       "      <th>winner</th>\n",
       "      <th>Productivity</th>\n",
       "      <th>bets</th>\n",
       "    </tr>\n",
       "  </thead>\n",
       "  <tbody>\n",
       "    <tr>\n",
       "      <th>0</th>\n",
       "      <td>0</td>\n",
       "      <td>Waterpulverizer Boterson II</td>\n",
       "      <td>57.0</td>\n",
       "      <td>-2</td>\n",
       "      <td>NaN</td>\n",
       "      <td>50</td>\n",
       "    </tr>\n",
       "    <tr>\n",
       "      <th>1</th>\n",
       "      <td>1</td>\n",
       "      <td>Stonelift Botberg</td>\n",
       "      <td>60.0</td>\n",
       "      <td>-2</td>\n",
       "      <td>NaN</td>\n",
       "      <td>50</td>\n",
       "    </tr>\n",
       "    <tr>\n",
       "      <th>2</th>\n",
       "      <td>2</td>\n",
       "      <td>Stoneborer Botchik</td>\n",
       "      <td>50.0</td>\n",
       "      <td>2</td>\n",
       "      <td>78.317349</td>\n",
       "      <td>50</td>\n",
       "    </tr>\n",
       "    <tr>\n",
       "      <th>3</th>\n",
       "      <td>3</td>\n",
       "      <td>Pullwaller Botchik Jr.</td>\n",
       "      <td>40.0</td>\n",
       "      <td>2</td>\n",
       "      <td>42.332495</td>\n",
       "      <td>50</td>\n",
       "    </tr>\n",
       "    <tr>\n",
       "      <th>4</th>\n",
       "      <td>4</td>\n",
       "      <td>Excawalker Botchik</td>\n",
       "      <td>20.0</td>\n",
       "      <td>2</td>\n",
       "      <td>91.080533</td>\n",
       "      <td>50</td>\n",
       "    </tr>\n",
       "    <tr>\n",
       "      <th>...</th>\n",
       "      <td>...</td>\n",
       "      <td>...</td>\n",
       "      <td>...</td>\n",
       "      <td>...</td>\n",
       "      <td>...</td>\n",
       "      <td>...</td>\n",
       "    </tr>\n",
       "    <tr>\n",
       "      <th>147</th>\n",
       "      <td>147</td>\n",
       "      <td>Thumphauler Botson Jr.</td>\n",
       "      <td>NaN</td>\n",
       "      <td>-2</td>\n",
       "      <td>NaN</td>\n",
       "      <td>-1</td>\n",
       "    </tr>\n",
       "    <tr>\n",
       "      <th>148</th>\n",
       "      <td>148</td>\n",
       "      <td>Rockborer Botson</td>\n",
       "      <td>NaN</td>\n",
       "      <td>-2</td>\n",
       "      <td>NaN</td>\n",
       "      <td>-1</td>\n",
       "    </tr>\n",
       "    <tr>\n",
       "      <th>149</th>\n",
       "      <td>149</td>\n",
       "      <td>Pushdigger Botberg Jr.</td>\n",
       "      <td>NaN</td>\n",
       "      <td>-2</td>\n",
       "      <td>NaN</td>\n",
       "      <td>-1</td>\n",
       "    </tr>\n",
       "    <tr>\n",
       "      <th>150</th>\n",
       "      <td>150</td>\n",
       "      <td>Extraborer Botsky</td>\n",
       "      <td>NaN</td>\n",
       "      <td>-2</td>\n",
       "      <td>NaN</td>\n",
       "      <td>-1</td>\n",
       "    </tr>\n",
       "    <tr>\n",
       "      <th>151</th>\n",
       "      <td>151</td>\n",
       "      <td>Wallvator Boterson Jr.</td>\n",
       "      <td>NaN</td>\n",
       "      <td>-2</td>\n",
       "      <td>NaN</td>\n",
       "      <td>-1</td>\n",
       "    </tr>\n",
       "  </tbody>\n",
       "</table>\n",
       "<p>152 rows × 6 columns</p>\n",
       "</div>"
      ],
      "text/plain": [
       "      id                         name  expires  winner  Productivity  bets\n",
       "0      0  Waterpulverizer Boterson II     57.0      -2           NaN    50\n",
       "1      1            Stonelift Botberg     60.0      -2           NaN    50\n",
       "2      2           Stoneborer Botchik     50.0       2     78.317349    50\n",
       "3      3       Pullwaller Botchik Jr.     40.0       2     42.332495    50\n",
       "4      4           Excawalker Botchik     20.0       2     91.080533    50\n",
       "..   ...                          ...      ...     ...           ...   ...\n",
       "147  147       Thumphauler Botson Jr.      NaN      -2           NaN    -1\n",
       "148  148             Rockborer Botson      NaN      -2           NaN    -1\n",
       "149  149       Pushdigger Botberg Jr.      NaN      -2           NaN    -1\n",
       "150  150            Extraborer Botsky      NaN      -2           NaN    -1\n",
       "151  151       Wallvator Boterson Jr.      NaN      -2           NaN    -1\n",
       "\n",
       "[152 rows x 6 columns]"
      ]
     },
     "execution_count": 20,
     "metadata": {},
     "output_type": "execute_result"
    }
   ],
   "source": [
    "# get the robot data (note that the bets column are the guesses your team has associated with the robots at the moment)\n",
    "robots = game.getRobotInfo()\n",
    "\n",
    "# if you want this in json format, do:\n",
    "# robots = game.getRobotInfo(js=True)\n",
    "robots"
   ]
  },
  {
   "cell_type": "code",
   "execution_count": 19,
   "metadata": {},
   "outputs": [
    {
     "data": {
      "text/html": [
       "<div>\n",
       "<style scoped>\n",
       "    .dataframe tbody tr th:only-of-type {\n",
       "        vertical-align: middle;\n",
       "    }\n",
       "\n",
       "    .dataframe tbody tr th {\n",
       "        vertical-align: top;\n",
       "    }\n",
       "\n",
       "    .dataframe thead th {\n",
       "        text-align: right;\n",
       "    }\n",
       "</style>\n",
       "<table border=\"1\" class=\"dataframe\">\n",
       "  <thead>\n",
       "    <tr style=\"text-align: right;\">\n",
       "      <th></th>\n",
       "      <th>id</th>\n",
       "      <th>name</th>\n",
       "      <th>expires</th>\n",
       "      <th>winner</th>\n",
       "      <th>Productivity</th>\n",
       "      <th>bets</th>\n",
       "    </tr>\n",
       "  </thead>\n",
       "  <tbody>\n",
       "    <tr>\n",
       "      <th>116</th>\n",
       "      <td>116</td>\n",
       "      <td>Pullpulverizer Botski II</td>\n",
       "      <td>NaN</td>\n",
       "      <td>-2</td>\n",
       "      <td>NaN</td>\n",
       "      <td>-1</td>\n",
       "    </tr>\n",
       "    <tr>\n",
       "      <th>37</th>\n",
       "      <td>37</td>\n",
       "      <td>Waterwidget Botson</td>\n",
       "      <td>21.0</td>\n",
       "      <td>-2</td>\n",
       "      <td>NaN</td>\n",
       "      <td>-1</td>\n",
       "    </tr>\n",
       "    <tr>\n",
       "      <th>21</th>\n",
       "      <td>21</td>\n",
       "      <td>Wallpulverizer Botsky II</td>\n",
       "      <td>68.0</td>\n",
       "      <td>-2</td>\n",
       "      <td>NaN</td>\n",
       "      <td>-1</td>\n",
       "    </tr>\n",
       "    <tr>\n",
       "      <th>106</th>\n",
       "      <td>106</td>\n",
       "      <td>Stoneminer Botchik II</td>\n",
       "      <td>NaN</td>\n",
       "      <td>-2</td>\n",
       "      <td>NaN</td>\n",
       "      <td>-1</td>\n",
       "    </tr>\n",
       "    <tr>\n",
       "      <th>144</th>\n",
       "      <td>144</td>\n",
       "      <td>Firewidget Botsky I</td>\n",
       "      <td>NaN</td>\n",
       "      <td>-2</td>\n",
       "      <td>NaN</td>\n",
       "      <td>-1</td>\n",
       "    </tr>\n",
       "    <tr>\n",
       "      <th>79</th>\n",
       "      <td>79</td>\n",
       "      <td>Excaborer Botchik I</td>\n",
       "      <td>21.0</td>\n",
       "      <td>-2</td>\n",
       "      <td>NaN</td>\n",
       "      <td>-1</td>\n",
       "    </tr>\n",
       "    <tr>\n",
       "      <th>119</th>\n",
       "      <td>119</td>\n",
       "      <td>Rockdigger Botberg</td>\n",
       "      <td>NaN</td>\n",
       "      <td>-2</td>\n",
       "      <td>NaN</td>\n",
       "      <td>-1</td>\n",
       "    </tr>\n",
       "    <tr>\n",
       "      <th>143</th>\n",
       "      <td>143</td>\n",
       "      <td>Pushwalker Botson</td>\n",
       "      <td>NaN</td>\n",
       "      <td>-2</td>\n",
       "      <td>NaN</td>\n",
       "      <td>-1</td>\n",
       "    </tr>\n",
       "    <tr>\n",
       "      <th>76</th>\n",
       "      <td>76</td>\n",
       "      <td>Extrawaller Boterson</td>\n",
       "      <td>76.0</td>\n",
       "      <td>-2</td>\n",
       "      <td>NaN</td>\n",
       "      <td>-1</td>\n",
       "    </tr>\n",
       "    <tr>\n",
       "      <th>64</th>\n",
       "      <td>64</td>\n",
       "      <td>Excahauler Botberg</td>\n",
       "      <td>25.0</td>\n",
       "      <td>-2</td>\n",
       "      <td>NaN</td>\n",
       "      <td>-1</td>\n",
       "    </tr>\n",
       "  </tbody>\n",
       "</table>\n",
       "</div>"
      ],
      "text/plain": [
       "      id                      name  expires  winner  Productivity  bets\n",
       "116  116  Pullpulverizer Botski II      NaN      -2           NaN    -1\n",
       "37    37        Waterwidget Botson     21.0      -2           NaN    -1\n",
       "21    21  Wallpulverizer Botsky II     68.0      -2           NaN    -1\n",
       "106  106     Stoneminer Botchik II      NaN      -2           NaN    -1\n",
       "144  144       Firewidget Botsky I      NaN      -2           NaN    -1\n",
       "79    79       Excaborer Botchik I     21.0      -2           NaN    -1\n",
       "119  119        Rockdigger Botberg      NaN      -2           NaN    -1\n",
       "143  143         Pushwalker Botson      NaN      -2           NaN    -1\n",
       "76    76      Extrawaller Boterson     76.0      -2           NaN    -1\n",
       "64    64        Excahauler Botberg     25.0      -2           NaN    -1"
      ]
     },
     "execution_count": 19,
     "metadata": {},
     "output_type": "execute_result"
    }
   ],
   "source": [
    "# see what's inside\n",
    "robots.sample(10)"
   ]
  },
  {
   "cell_type": "code",
   "execution_count": 20,
   "metadata": {},
   "outputs": [
    {
     "data": {
      "text/html": [
       "\n",
       "<div id=\"altair-viz-64d1fc6bcfc74641a2a4f6e1ac5ddb66\"></div>\n",
       "<script type=\"text/javascript\">\n",
       "  (function(spec, embedOpt){\n",
       "    let outputDiv = document.currentScript.previousElementSibling;\n",
       "    if (outputDiv.id !== \"altair-viz-64d1fc6bcfc74641a2a4f6e1ac5ddb66\") {\n",
       "      outputDiv = document.getElementById(\"altair-viz-64d1fc6bcfc74641a2a4f6e1ac5ddb66\");\n",
       "    }\n",
       "    const paths = {\n",
       "      \"vega\": \"https://cdn.jsdelivr.net/npm//vega@5?noext\",\n",
       "      \"vega-lib\": \"https://cdn.jsdelivr.net/npm//vega-lib?noext\",\n",
       "      \"vega-lite\": \"https://cdn.jsdelivr.net/npm//vega-lite@4.8.1?noext\",\n",
       "      \"vega-embed\": \"https://cdn.jsdelivr.net/npm//vega-embed@6?noext\",\n",
       "    };\n",
       "\n",
       "    function loadScript(lib) {\n",
       "      return new Promise(function(resolve, reject) {\n",
       "        var s = document.createElement('script');\n",
       "        s.src = paths[lib];\n",
       "        s.async = true;\n",
       "        s.onload = () => resolve(paths[lib]);\n",
       "        s.onerror = () => reject(`Error loading script: ${paths[lib]}`);\n",
       "        document.getElementsByTagName(\"head\")[0].appendChild(s);\n",
       "      });\n",
       "    }\n",
       "\n",
       "    function showError(err) {\n",
       "      outputDiv.innerHTML = `<div class=\"error\" style=\"color:red;\">${err}</div>`;\n",
       "      throw err;\n",
       "    }\n",
       "\n",
       "    function displayChart(vegaEmbed) {\n",
       "      vegaEmbed(outputDiv, spec, embedOpt)\n",
       "        .catch(err => showError(`Javascript Error: ${err.message}<br>This usually means there's a typo in your chart specification. See the javascript console for the full traceback.`));\n",
       "    }\n",
       "\n",
       "    if(typeof define === \"function\" && define.amd) {\n",
       "      requirejs.config({paths});\n",
       "      require([\"vega-embed\"], displayChart, err => showError(`Error loading script: ${err.message}`));\n",
       "    } else if (typeof vegaEmbed === \"function\") {\n",
       "      displayChart(vegaEmbed);\n",
       "    } else {\n",
       "      loadScript(\"vega\")\n",
       "        .then(() => loadScript(\"vega-lite\"))\n",
       "        .then(() => loadScript(\"vega-embed\"))\n",
       "        .catch(showError)\n",
       "        .then(() => displayChart(vegaEmbed));\n",
       "    }\n",
       "  })({\"config\": {\"view\": {\"continuousWidth\": 400, \"continuousHeight\": 300}}, \"data\": {\"name\": \"data-def08764a76e8b2accafb5b3f5318f1e\"}, \"mark\": \"bar\", \"encoding\": {\"x\": {\"type\": \"quantitative\", \"bin\": true, \"field\": \"expires\"}, \"y\": {\"type\": \"quantitative\", \"aggregate\": \"count\"}}, \"$schema\": \"https://vega.github.io/schema/vega-lite/v4.8.1.json\", \"datasets\": {\"data-def08764a76e8b2accafb5b3f5318f1e\": [{\"id\": 0, \"name\": \"Extraminer Boterson\", \"expires\": 75.0, \"winner\": -2, \"Productivity\": null, \"bets\": -1}, {\"id\": 1, \"name\": \"Pushwidget Botchik\", \"expires\": 54.0, \"winner\": -2, \"Productivity\": null, \"bets\": -1}, {\"id\": 2, \"name\": \"Wallminer Botberg Jr.\", \"expires\": 29.0, \"winner\": -2, \"Productivity\": null, \"bets\": -1}, {\"id\": 3, \"name\": \"Extrahauler Boterson II\", \"expires\": 44.0, \"winner\": -2, \"Productivity\": null, \"bets\": -1}, {\"id\": 4, \"name\": \"Wallminer Botberg I\", \"expires\": 28.0, \"winner\": -2, \"Productivity\": null, \"bets\": -1}, {\"id\": 5, \"name\": \"Thumplift Botski\", \"expires\": 70.0, \"winner\": -2, \"Productivity\": null, \"bets\": -1}, {\"id\": 6, \"name\": \"Excahauler Botski\", \"expires\": 45.0, \"winner\": -2, \"Productivity\": null, \"bets\": -1}, {\"id\": 7, \"name\": \"Pullborer Botchik II\", \"expires\": 98.0, \"winner\": -2, \"Productivity\": null, \"bets\": -1}, {\"id\": 8, \"name\": \"Excahauler Botberg Jr.\", \"expires\": 44.0, \"winner\": -2, \"Productivity\": null, \"bets\": -1}, {\"id\": 9, \"name\": \"Wallvator Boterson I\", \"expires\": 56.0, \"winner\": -2, \"Productivity\": null, \"bets\": -1}, {\"id\": 10, \"name\": \"Extradigger Botberg II\", \"expires\": 82.0, \"winner\": -2, \"Productivity\": null, \"bets\": -1}, {\"id\": 11, \"name\": \"Stonehauler Botski II\", \"expires\": 73.0, \"winner\": -2, \"Productivity\": null, \"bets\": -1}, {\"id\": 12, \"name\": \"Wallwaller Botsky\", \"expires\": 52.0, \"winner\": -2, \"Productivity\": null, \"bets\": -1}, {\"id\": 13, \"name\": \"Waterhauler Boterson\", \"expires\": 97.0, \"winner\": -2, \"Productivity\": null, \"bets\": -1}, {\"id\": 14, \"name\": \"Stonepulverizer Botski Jr.\", \"expires\": 99.0, \"winner\": -2, \"Productivity\": null, \"bets\": -1}, {\"id\": 15, \"name\": \"Extrawalker Botberg\", \"expires\": 47.0, \"winner\": -2, \"Productivity\": null, \"bets\": -1}, {\"id\": 16, \"name\": \"Watervator Botson Jr.\", \"expires\": 22.0, \"winner\": -2, \"Productivity\": null, \"bets\": -1}, {\"id\": 17, \"name\": \"Walllift Boterson Jr.\", \"expires\": 44.0, \"winner\": -2, \"Productivity\": null, \"bets\": -1}, {\"id\": 18, \"name\": \"Waterwaller Botsky\", \"expires\": 28.0, \"winner\": -2, \"Productivity\": null, \"bets\": -1}, {\"id\": 19, \"name\": \"Waterwidget Boterson Jr.\", \"expires\": 28.0, \"winner\": -2, \"Productivity\": null, \"bets\": -1}, {\"id\": 20, \"name\": \"Stonevator Botsky I\", \"expires\": 41.0, \"winner\": -2, \"Productivity\": null, \"bets\": -1}, {\"id\": 21, \"name\": \"Wallpulverizer Botsky II\", \"expires\": 68.0, \"winner\": -2, \"Productivity\": null, \"bets\": -1}, {\"id\": 22, \"name\": \"Rockpulverizer Botberg\", \"expires\": 32.0, \"winner\": -2, \"Productivity\": null, \"bets\": -1}, {\"id\": 23, \"name\": \"Stoneminer Botchik\", \"expires\": 72.0, \"winner\": -2, \"Productivity\": null, \"bets\": -1}, {\"id\": 24, \"name\": \"Thumpwaller Botsky\", \"expires\": 89.0, \"winner\": -2, \"Productivity\": null, \"bets\": -1}, {\"id\": 25, \"name\": \"Wallborer Botchik Jr.\", \"expires\": 43.0, \"winner\": -2, \"Productivity\": null, \"bets\": -1}, {\"id\": 26, \"name\": \"Rockvator Botberg Jr.\", \"expires\": 33.0, \"winner\": -2, \"Productivity\": null, \"bets\": -1}, {\"id\": 27, \"name\": \"Waterhauler Botberg I\", \"expires\": 57.0, \"winner\": -2, \"Productivity\": null, \"bets\": -1}, {\"id\": 28, \"name\": \"Stonewidget Botberg\", \"expires\": 77.0, \"winner\": -2, \"Productivity\": null, \"bets\": -1}, {\"id\": 29, \"name\": \"Pushwidget Botson\", \"expires\": 28.0, \"winner\": -2, \"Productivity\": null, \"bets\": -1}, {\"id\": 30, \"name\": \"Wallwidget Botsky\", \"expires\": 25.0, \"winner\": -2, \"Productivity\": null, \"bets\": -1}, {\"id\": 31, \"name\": \"Thumppulverizer Botberg\", \"expires\": 73.0, \"winner\": -2, \"Productivity\": null, \"bets\": -1}, {\"id\": 32, \"name\": \"Stonehauler Botsky II\", \"expires\": 72.0, \"winner\": -2, \"Productivity\": null, \"bets\": -1}, {\"id\": 33, \"name\": \"Pushlift Botson II\", \"expires\": 59.0, \"winner\": -2, \"Productivity\": null, \"bets\": -1}, {\"id\": 34, \"name\": \"Wallborer Botsky\", \"expires\": 46.0, \"winner\": -2, \"Productivity\": null, \"bets\": -1}, {\"id\": 35, \"name\": \"Walllift Botson Jr.\", \"expires\": 54.0, \"winner\": -2, \"Productivity\": null, \"bets\": -1}, {\"id\": 36, \"name\": \"Extraminer Botski II\", \"expires\": 65.0, \"winner\": -2, \"Productivity\": null, \"bets\": -1}, {\"id\": 37, \"name\": \"Waterwidget Botson\", \"expires\": 21.0, \"winner\": -2, \"Productivity\": null, \"bets\": -1}, {\"id\": 38, \"name\": \"Pullwidget Botson I\", \"expires\": 59.0, \"winner\": -2, \"Productivity\": null, \"bets\": -1}, {\"id\": 39, \"name\": \"Pushvator Botson I\", \"expires\": 58.0, \"winner\": -2, \"Productivity\": null, \"bets\": -1}, {\"id\": 40, \"name\": \"Waterminer Botsky Jr.\", \"expires\": 32.0, \"winner\": -2, \"Productivity\": null, \"bets\": -1}, {\"id\": 41, \"name\": \"Wallhauler Boterson\", \"expires\": 62.0, \"winner\": -2, \"Productivity\": null, \"bets\": -1}, {\"id\": 42, \"name\": \"Stonepulverizer Botchik II\", \"expires\": 45.0, \"winner\": -2, \"Productivity\": null, \"bets\": -1}, {\"id\": 43, \"name\": \"Fireminer Botchik\", \"expires\": 50.0, \"winner\": -2, \"Productivity\": null, \"bets\": -1}, {\"id\": 44, \"name\": \"Pushhauler Boterson I\", \"expires\": 48.0, \"winner\": -2, \"Productivity\": null, \"bets\": -1}, {\"id\": 45, \"name\": \"Stonewidget Botson Jr.\", \"expires\": 39.0, \"winner\": -2, \"Productivity\": null, \"bets\": -1}, {\"id\": 46, \"name\": \"Excahauler Boterson Jr.\", \"expires\": 24.0, \"winner\": -2, \"Productivity\": null, \"bets\": -1}, {\"id\": 47, \"name\": \"Excaminer Boterson\", \"expires\": 37.0, \"winner\": -2, \"Productivity\": null, \"bets\": -1}, {\"id\": 48, \"name\": \"Thumpdigger Boterson I\", \"expires\": 29.0, \"winner\": -2, \"Productivity\": null, \"bets\": -1}, {\"id\": 49, \"name\": \"Rockwidget Botberg II\", \"expires\": 95.0, \"winner\": -2, \"Productivity\": null, \"bets\": -1}, {\"id\": 50, \"name\": \"Pullminer Botsky\", \"expires\": 70.0, \"winner\": -2, \"Productivity\": null, \"bets\": -1}, {\"id\": 51, \"name\": \"Pulldigger Boterson\", \"expires\": 28.0, \"winner\": -2, \"Productivity\": null, \"bets\": -1}, {\"id\": 52, \"name\": \"Wallhauler Botski\", \"expires\": 89.0, \"winner\": -2, \"Productivity\": null, \"bets\": -1}, {\"id\": 53, \"name\": \"Extrawidget Botberg\", \"expires\": 84.0, \"winner\": -2, \"Productivity\": null, \"bets\": -1}, {\"id\": 54, \"name\": \"Extralift Botberg\", \"expires\": 42.0, \"winner\": -2, \"Productivity\": null, \"bets\": -1}, {\"id\": 55, \"name\": \"Wallhauler Botson I\", \"expires\": 79.0, \"winner\": -2, \"Productivity\": null, \"bets\": -1}, {\"id\": 56, \"name\": \"Firewalker Botchik\", \"expires\": 55.0, \"winner\": -2, \"Productivity\": null, \"bets\": -1}, {\"id\": 57, \"name\": \"Firehauler Botberg\", \"expires\": 55.0, \"winner\": -2, \"Productivity\": null, \"bets\": -1}, {\"id\": 58, \"name\": \"Wallborer Botson\", \"expires\": 58.0, \"winner\": -2, \"Productivity\": null, \"bets\": -1}, {\"id\": 59, \"name\": \"Fireminer Botberg\", \"expires\": 98.0, \"winner\": -2, \"Productivity\": null, \"bets\": -1}, {\"id\": 60, \"name\": \"Excawaller Botchik\", \"expires\": 77.0, \"winner\": -2, \"Productivity\": null, \"bets\": -1}, {\"id\": 61, \"name\": \"Pushhauler Botberg\", \"expires\": 73.0, \"winner\": -2, \"Productivity\": null, \"bets\": -1}, {\"id\": 62, \"name\": \"Pullwalker Botson\", \"expires\": 57.0, \"winner\": -2, \"Productivity\": null, \"bets\": -1}, {\"id\": 63, \"name\": \"Extrawaller Botson\", \"expires\": 24.0, \"winner\": -2, \"Productivity\": null, \"bets\": -1}, {\"id\": 64, \"name\": \"Excahauler Botberg\", \"expires\": 25.0, \"winner\": -2, \"Productivity\": null, \"bets\": -1}, {\"id\": 65, \"name\": \"Thumphauler Botson II\", \"expires\": 62.0, \"winner\": -2, \"Productivity\": null, \"bets\": -1}, {\"id\": 66, \"name\": \"Stonewalker Botchik\", \"expires\": 69.0, \"winner\": -2, \"Productivity\": null, \"bets\": -1}, {\"id\": 67, \"name\": \"Rockhauler Botson\", \"expires\": 81.0, \"winner\": -2, \"Productivity\": null, \"bets\": -1}, {\"id\": 68, \"name\": \"Rockminer Botson\", \"expires\": 77.0, \"winner\": -2, \"Productivity\": null, \"bets\": -1}, {\"id\": 69, \"name\": \"Pullwalker Boterson I\", \"expires\": 58.0, \"winner\": -2, \"Productivity\": null, \"bets\": -1}, {\"id\": 70, \"name\": \"Stoneborer Botberg Jr.\", \"expires\": 23.0, \"winner\": -2, \"Productivity\": null, \"bets\": -1}, {\"id\": 71, \"name\": \"Stonedigger Boterson\", \"expires\": 78.0, \"winner\": -2, \"Productivity\": null, \"bets\": -1}, {\"id\": 72, \"name\": \"Pushminer Botberg II\", \"expires\": 56.0, \"winner\": -2, \"Productivity\": null, \"bets\": -1}, {\"id\": 73, \"name\": \"Wallhauler Boterson II\", \"expires\": 33.0, \"winner\": -2, \"Productivity\": null, \"bets\": -1}, {\"id\": 74, \"name\": \"Pullhauler Boterson\", \"expires\": 58.0, \"winner\": -2, \"Productivity\": null, \"bets\": -1}, {\"id\": 75, \"name\": \"Wallwidget Botski II\", \"expires\": 31.0, \"winner\": -2, \"Productivity\": null, \"bets\": -1}, {\"id\": 76, \"name\": \"Extrawaller Boterson\", \"expires\": 76.0, \"winner\": -2, \"Productivity\": null, \"bets\": -1}, {\"id\": 77, \"name\": \"Wallpulverizer Boterson I\", \"expires\": 33.0, \"winner\": -2, \"Productivity\": null, \"bets\": -1}, {\"id\": 78, \"name\": \"Stonewalker Botchik I\", \"expires\": 93.0, \"winner\": -2, \"Productivity\": null, \"bets\": -1}, {\"id\": 79, \"name\": \"Excaborer Botchik I\", \"expires\": 21.0, \"winner\": -2, \"Productivity\": null, \"bets\": -1}, {\"id\": 80, \"name\": \"Stonevator Botski II\", \"expires\": 50.0, \"winner\": -2, \"Productivity\": null, \"bets\": -1}, {\"id\": 81, \"name\": \"Wallwidget Botski\", \"expires\": 60.0, \"winner\": -2, \"Productivity\": null, \"bets\": -1}, {\"id\": 82, \"name\": \"Rockwalker Boterson II\", \"expires\": 79.0, \"winner\": -2, \"Productivity\": null, \"bets\": -1}, {\"id\": 83, \"name\": \"Pulldigger Botberg II\", \"expires\": 96.0, \"winner\": -2, \"Productivity\": null, \"bets\": -1}, {\"id\": 84, \"name\": \"Stoneminer Botsky\", \"expires\": 67.0, \"winner\": -2, \"Productivity\": null, \"bets\": -1}, {\"id\": 85, \"name\": \"Thumpwalker Botberg II\", \"expires\": 75.0, \"winner\": -2, \"Productivity\": null, \"bets\": -1}, {\"id\": 86, \"name\": \"Watervator Boterson\", \"expires\": 76.0, \"winner\": -2, \"Productivity\": null, \"bets\": -1}, {\"id\": 87, \"name\": \"Thumpvator Botson I\", \"expires\": 38.0, \"winner\": -2, \"Productivity\": null, \"bets\": -1}, {\"id\": 88, \"name\": \"Wallwidget Botchik I\", \"expires\": 94.0, \"winner\": -2, \"Productivity\": null, \"bets\": -1}, {\"id\": 89, \"name\": \"Rockborer Botson\", \"expires\": 73.0, \"winner\": -2, \"Productivity\": null, \"bets\": -1}, {\"id\": 90, \"name\": \"Waterwaller Botchik\", \"expires\": 64.0, \"winner\": -2, \"Productivity\": null, \"bets\": -1}, {\"id\": 91, \"name\": \"Waterdigger Botski Jr.\", \"expires\": 72.0, \"winner\": -2, \"Productivity\": null, \"bets\": -1}, {\"id\": 92, \"name\": \"Wallwaller Boterson\", \"expires\": 31.0, \"winner\": -2, \"Productivity\": null, \"bets\": -1}, {\"id\": 93, \"name\": \"Rockminer Botberg\", \"expires\": 73.0, \"winner\": -2, \"Productivity\": null, \"bets\": -1}, {\"id\": 94, \"name\": \"Waterborer Botberg Jr.\", \"expires\": 37.0, \"winner\": -2, \"Productivity\": null, \"bets\": -1}, {\"id\": 95, \"name\": \"Waterborer Botski\", \"expires\": 54.0, \"winner\": -2, \"Productivity\": null, \"bets\": -1}, {\"id\": 96, \"name\": \"Excawalker Botsky I\", \"expires\": 93.0, \"winner\": -2, \"Productivity\": null, \"bets\": -1}, {\"id\": 97, \"name\": \"Rocklift Botchik\", \"expires\": 80.0, \"winner\": -2, \"Productivity\": null, \"bets\": -1}, {\"id\": 98, \"name\": \"Thumpdigger Botchik II\", \"expires\": 22.0, \"winner\": -2, \"Productivity\": null, \"bets\": -1}, {\"id\": 99, \"name\": \"Rockdigger Botski\", \"expires\": 21.0, \"winner\": -2, \"Productivity\": null, \"bets\": -1}, {\"id\": 100, \"name\": \"Walllift Botski\", \"expires\": null, \"winner\": -2, \"Productivity\": null, \"bets\": -1}, {\"id\": 101, \"name\": \"Wallvator Botson I\", \"expires\": null, \"winner\": -2, \"Productivity\": null, \"bets\": -1}, {\"id\": 102, \"name\": \"Stonevator Boterson I\", \"expires\": null, \"winner\": -2, \"Productivity\": null, \"bets\": -1}, {\"id\": 103, \"name\": \"Extraborer Botson II\", \"expires\": null, \"winner\": -2, \"Productivity\": null, \"bets\": -1}, {\"id\": 104, \"name\": \"Pushminer Botsky\", \"expires\": null, \"winner\": -2, \"Productivity\": null, \"bets\": -1}, {\"id\": 105, \"name\": \"Extrahauler Botberg II\", \"expires\": null, \"winner\": -2, \"Productivity\": null, \"bets\": -1}, {\"id\": 106, \"name\": \"Stoneminer Botchik II\", \"expires\": null, \"winner\": -2, \"Productivity\": null, \"bets\": -1}, {\"id\": 107, \"name\": \"Wallhauler Botchik\", \"expires\": null, \"winner\": -2, \"Productivity\": null, \"bets\": -1}, {\"id\": 108, \"name\": \"Wallwidget Botchik\", \"expires\": null, \"winner\": -2, \"Productivity\": null, \"bets\": -1}, {\"id\": 109, \"name\": \"Stonepulverizer Botsky\", \"expires\": null, \"winner\": -2, \"Productivity\": null, \"bets\": -1}, {\"id\": 110, \"name\": \"Waterhauler Botson\", \"expires\": null, \"winner\": -2, \"Productivity\": null, \"bets\": -1}, {\"id\": 111, \"name\": \"Stonewaller Botberg II\", \"expires\": null, \"winner\": -2, \"Productivity\": null, \"bets\": -1}, {\"id\": 112, \"name\": \"Excapulverizer Boterson\", \"expires\": null, \"winner\": -2, \"Productivity\": null, \"bets\": -1}, {\"id\": 113, \"name\": \"Pushlift Botchik\", \"expires\": null, \"winner\": -2, \"Productivity\": null, \"bets\": -1}, {\"id\": 114, \"name\": \"Stoneminer Botson II\", \"expires\": null, \"winner\": -2, \"Productivity\": null, \"bets\": -1}, {\"id\": 115, \"name\": \"Pushborer Botski II\", \"expires\": null, \"winner\": -2, \"Productivity\": null, \"bets\": -1}, {\"id\": 116, \"name\": \"Pullpulverizer Botski II\", \"expires\": null, \"winner\": -2, \"Productivity\": null, \"bets\": -1}, {\"id\": 117, \"name\": \"Firepulverizer Botberg\", \"expires\": null, \"winner\": -2, \"Productivity\": null, \"bets\": -1}, {\"id\": 118, \"name\": \"Rockminer Botchik Jr.\", \"expires\": null, \"winner\": -2, \"Productivity\": null, \"bets\": -1}, {\"id\": 119, \"name\": \"Rockdigger Botberg\", \"expires\": null, \"winner\": -2, \"Productivity\": null, \"bets\": -1}, {\"id\": 120, \"name\": \"Extrawalker Botski\", \"expires\": null, \"winner\": -2, \"Productivity\": null, \"bets\": -1}, {\"id\": 121, \"name\": \"Extrawaller Botchik Jr.\", \"expires\": null, \"winner\": -2, \"Productivity\": null, \"bets\": -1}, {\"id\": 122, \"name\": \"Pullpulverizer Botsky I\", \"expires\": null, \"winner\": -2, \"Productivity\": null, \"bets\": -1}, {\"id\": 123, \"name\": \"Pullwidget Botski\", \"expires\": null, \"winner\": -2, \"Productivity\": null, \"bets\": -1}, {\"id\": 124, \"name\": \"Pullwalker Botski I\", \"expires\": null, \"winner\": -2, \"Productivity\": null, \"bets\": -1}, {\"id\": 125, \"name\": \"Waterhauler Botski\", \"expires\": null, \"winner\": -2, \"Productivity\": null, \"bets\": -1}, {\"id\": 126, \"name\": \"Thumppulverizer Botski II\", \"expires\": null, \"winner\": -2, \"Productivity\": null, \"bets\": -1}, {\"id\": 127, \"name\": \"Pulldigger Botson\", \"expires\": null, \"winner\": -2, \"Productivity\": null, \"bets\": -1}, {\"id\": 128, \"name\": \"Pullhauler Botsky Jr.\", \"expires\": null, \"winner\": -2, \"Productivity\": null, \"bets\": -1}, {\"id\": 129, \"name\": \"Walldigger Boterson I\", \"expires\": null, \"winner\": -2, \"Productivity\": null, \"bets\": -1}, {\"id\": 130, \"name\": \"Stonevator Botchik\", \"expires\": null, \"winner\": -2, \"Productivity\": null, \"bets\": -1}, {\"id\": 131, \"name\": \"Stonewidget Botchik II\", \"expires\": null, \"winner\": -2, \"Productivity\": null, \"bets\": -1}, {\"id\": 132, \"name\": \"Extralift Botsky I\", \"expires\": null, \"winner\": -2, \"Productivity\": null, \"bets\": -1}, {\"id\": 133, \"name\": \"Pullminer Botberg\", \"expires\": null, \"winner\": -2, \"Productivity\": null, \"bets\": -1}, {\"id\": 134, \"name\": \"Excaminer Boterson I\", \"expires\": null, \"winner\": -2, \"Productivity\": null, \"bets\": -1}, {\"id\": 135, \"name\": \"Pushpulverizer Botchik II\", \"expires\": null, \"winner\": -2, \"Productivity\": null, \"bets\": -1}, {\"id\": 136, \"name\": \"Excawaller Botson II\", \"expires\": null, \"winner\": -2, \"Productivity\": null, \"bets\": -1}, {\"id\": 137, \"name\": \"Pullpulverizer Botberg II\", \"expires\": null, \"winner\": -2, \"Productivity\": null, \"bets\": -1}, {\"id\": 138, \"name\": \"Pullhauler Botchik Jr.\", \"expires\": null, \"winner\": -2, \"Productivity\": null, \"bets\": -1}, {\"id\": 139, \"name\": \"Stonewalker Boterson\", \"expires\": null, \"winner\": -2, \"Productivity\": null, \"bets\": -1}, {\"id\": 140, \"name\": \"Thumphauler Botsky Jr.\", \"expires\": null, \"winner\": -2, \"Productivity\": null, \"bets\": -1}, {\"id\": 141, \"name\": \"Pullminer Botski\", \"expires\": null, \"winner\": -2, \"Productivity\": null, \"bets\": -1}, {\"id\": 142, \"name\": \"Thumpwaller Botchik\", \"expires\": null, \"winner\": -2, \"Productivity\": null, \"bets\": -1}, {\"id\": 143, \"name\": \"Pushwalker Botson\", \"expires\": null, \"winner\": -2, \"Productivity\": null, \"bets\": -1}, {\"id\": 144, \"name\": \"Firewidget Botsky I\", \"expires\": null, \"winner\": -2, \"Productivity\": null, \"bets\": -1}, {\"id\": 145, \"name\": \"Rockhauler Botsky I\", \"expires\": null, \"winner\": -2, \"Productivity\": null, \"bets\": -1}, {\"id\": 146, \"name\": \"Pushwidget Botski\", \"expires\": null, \"winner\": -2, \"Productivity\": null, \"bets\": -1}, {\"id\": 147, \"name\": \"Stoneminer Boterson\", \"expires\": null, \"winner\": -2, \"Productivity\": null, \"bets\": -1}]}}, {\"mode\": \"vega-lite\"});\n",
       "</script>"
      ],
      "text/plain": [
       "alt.Chart(...)"
      ]
     },
     "execution_count": 20,
     "metadata": {},
     "output_type": "execute_result"
    }
   ],
   "source": [
    "# let's plot the distribution of expirations\n",
    "alt.Chart(robots).mark_bar().encode(\n",
    "    alt.X(\"expires:Q\", bin=True),\n",
    "    y='count()',\n",
    ")"
   ]
  },
  {
   "cell_type": "code",
   "execution_count": 21,
   "metadata": {},
   "outputs": [],
   "source": [
    "# grab the networks\n",
    "network = game.getNetwork()"
   ]
  },
  {
   "cell_type": "code",
   "execution_count": 22,
   "metadata": {},
   "outputs": [
    {
     "data": {
      "image/png": "[encoded data removed]",
      "text/plain": [
       "<Figure size 432x288 with 1 Axes>"
      ]
     },
     "metadata": {},
     "output_type": "display_data"
    }
   ],
   "source": [
    "# use the networkx package to parse it and plot it\n",
    "socialnet = nx.node_link_graph(network)\n",
    "nx.draw_kamada_kawai(socialnet)"
   ]
  },
  {
   "cell_type": "code",
   "execution_count": 23,
   "metadata": {},
   "outputs": [],
   "source": [
    "# get the genealogy tree\n",
    "tree = game.getTree()"
   ]
  },
  {
   "cell_type": "code",
   "execution_count": 24,
   "metadata": {},
   "outputs": [
    {
     "data": {
      "image/png": "[encoded data removed]",
      "text/plain": [
       "<Figure size 432x288 with 1 Axes>"
      ]
     },
     "metadata": {},
     "output_type": "display_data"
    }
   ],
   "source": [
    "# use networkx to parse and plot it\n",
    "genealogy = nx.tree_graph(tree)\n",
    "nx.draw_kamada_kawai(genealogy)"
   ]
  },
  {
   "cell_type": "code",
   "execution_count": 6,
   "metadata": {},
   "outputs": [
    {
     "data": {
      "text/plain": [
       "{'Error': 'Game completed'}"
      ]
     },
     "execution_count": 6,
     "metadata": {},
     "output_type": "execute_result"
    }
   ],
   "source": [
    "game.getHints()"
   ]
  },
  {
   "cell_type": "code",
   "execution_count": 25,
   "metadata": {},
   "outputs": [
    {
     "name": "stdout",
     "output_type": "stream",
     "text": [
      "we got 6 part hints\n",
      "we got 12 part hints\n",
      "we got 12 part hints\n"
     ]
    }
   ],
   "source": [
    "# we can get hints every 6 seconds or so, let's grab a few rounds of hints\n",
    "\n",
    "# note that you can now do getHints(hintstart=4)  where the number indicates\n",
    "# from when to give you the hints (so this will give you everything from time\n",
    "# unit 4 until now)\n",
    "for i in np.arange(0,3):\n",
    "    # this will give us just the new hints, but the object will store everything we've seen\n",
    "    hints = game.getHints()\n",
    "    if ('parts' in hints):\n",
    "        print('we got '+str(len(hints['parts']))+' part hints')\n",
    "    time.sleep(6)\n",
    "\n",
    "\n",
    "# get all the hints we've collected\n",
    "predHints = game.getAllPredictionHints()\n",
    "partHints = game.getAllPartHints()"
   ]
  },
  {
   "cell_type": "code",
   "execution_count": 26,
   "metadata": {},
   "outputs": [],
   "source": [
    "# make the time hints into a dataframe\n",
    "predhints_df = pd.read_json(json.dumps(predHints),orient='records')"
   ]
  },
  {
   "cell_type": "code",
   "execution_count": 27,
   "metadata": {},
   "outputs": [
    {
     "data": {
      "text/html": [
       "\n",
       "<div id=\"altair-viz-cf2144dfa7b148b880d4056535dda85b\"></div>\n",
       "<script type=\"text/javascript\">\n",
       "  (function(spec, embedOpt){\n",
       "    let outputDiv = document.currentScript.previousElementSibling;\n",
       "    if (outputDiv.id !== \"altair-viz-cf2144dfa7b148b880d4056535dda85b\") {\n",
       "      outputDiv = document.getElementById(\"altair-viz-cf2144dfa7b148b880d4056535dda85b\");\n",
       "    }\n",
       "    const paths = {\n",
       "      \"vega\": \"https://cdn.jsdelivr.net/npm//vega@5?noext\",\n",
       "      \"vega-lib\": \"https://cdn.jsdelivr.net/npm//vega-lib?noext\",\n",
       "      \"vega-lite\": \"https://cdn.jsdelivr.net/npm//vega-lite@4.8.1?noext\",\n",
       "      \"vega-embed\": \"https://cdn.jsdelivr.net/npm//vega-embed@6?noext\",\n",
       "    };\n",
       "\n",
       "    function loadScript(lib) {\n",
       "      return new Promise(function(resolve, reject) {\n",
       "        var s = document.createElement('script');\n",
       "        s.src = paths[lib];\n",
       "        s.async = true;\n",
       "        s.onload = () => resolve(paths[lib]);\n",
       "        s.onerror = () => reject(`Error loading script: ${paths[lib]}`);\n",
       "        document.getElementsByTagName(\"head\")[0].appendChild(s);\n",
       "      });\n",
       "    }\n",
       "\n",
       "    function showError(err) {\n",
       "      outputDiv.innerHTML = `<div class=\"error\" style=\"color:red;\">${err}</div>`;\n",
       "      throw err;\n",
       "    }\n",
       "\n",
       "    function displayChart(vegaEmbed) {\n",
       "      vegaEmbed(outputDiv, spec, embedOpt)\n",
       "        .catch(err => showError(`Javascript Error: ${err.message}<br>This usually means there's a typo in your chart specification. See the javascript console for the full traceback.`));\n",
       "    }\n",
       "\n",
       "    if(typeof define === \"function\" && define.amd) {\n",
       "      requirejs.config({paths});\n",
       "      require([\"vega-embed\"], displayChart, err => showError(`Error loading script: ${err.message}`));\n",
       "    } else if (typeof vegaEmbed === \"function\") {\n",
       "      displayChart(vegaEmbed);\n",
       "    } else {\n",
       "      loadScript(\"vega\")\n",
       "        .then(() => loadScript(\"vega-lite\"))\n",
       "        .then(() => loadScript(\"vega-embed\"))\n",
       "        .catch(showError)\n",
       "        .then(() => displayChart(vegaEmbed));\n",
       "    }\n",
       "  })({\"config\": {\"view\": {\"continuousWidth\": 400, \"continuousHeight\": 300}}, \"data\": {\"name\": \"data-afd6454c3b0f9722c4c513e51fb9a919\"}, \"mark\": \"point\", \"encoding\": {\"x\": {\"type\": \"quantitative\", \"field\": \"time\"}, \"y\": {\"type\": \"quantitative\", \"aggregate\": \"mean\", \"field\": \"value\"}}, \"$schema\": \"https://vega.github.io/schema/vega-lite/v4.8.1.json\", \"datasets\": {\"data-afd6454c3b0f9722c4c513e51fb9a919\": [{\"id\": 13, \"time\": 39, \"value\": 96.6277960652872}, {\"id\": 119, \"time\": 49, \"value\": 66.74188204884668}, {\"id\": 67, \"time\": 15, \"value\": 85.85044663578678}, {\"id\": 122, \"time\": 44, \"value\": 92.959436388717}, {\"id\": 101, \"time\": 22, \"value\": 85.4760238496788}, {\"id\": 9, \"time\": 84, \"value\": 26.660143170343915}, {\"id\": 125, \"time\": 64, \"value\": 71.52845761246641}, {\"id\": 17, \"time\": 97, \"value\": 44.63452228342785}, {\"id\": 39, \"time\": 69, \"value\": 19.49195570296765}, {\"id\": 48, \"time\": 75, \"value\": 46.780670464209216}, {\"id\": 13, \"time\": 39, \"value\": 96.6277960652872}, {\"id\": 119, \"time\": 49, \"value\": 66.74188204884668}, {\"id\": 67, \"time\": 15, \"value\": 85.85044663578678}, {\"id\": 122, \"time\": 44, \"value\": 92.959436388717}, {\"id\": 101, \"time\": 22, \"value\": 85.4760238496788}, {\"id\": 9, \"time\": 84, \"value\": 26.660143170343915}, {\"id\": 125, \"time\": 64, \"value\": 71.52845761246641}, {\"id\": 17, \"time\": 97, \"value\": 44.63452228342785}, {\"id\": 39, \"time\": 69, \"value\": 19.49195570296765}, {\"id\": 48, \"time\": 75, \"value\": 46.780670464209216}, {\"id\": 110, \"time\": 61, \"value\": 36.74846078577976}, {\"id\": 75, \"time\": 73, \"value\": 61.04416263700821}, {\"id\": 115, \"time\": 49, \"value\": 95.67744692894388}, {\"id\": 65, \"time\": 27, \"value\": 100.0}, {\"id\": 88, \"time\": 34, \"value\": 99.78814230362332}, {\"id\": 84, \"time\": 28, \"value\": 100.0}, {\"id\": 132, \"time\": 71, \"value\": 58.76881021790226}, {\"id\": 126, \"time\": 97, \"value\": 57.06658502788377}, {\"id\": 11, \"time\": 58, \"value\": 35.99739368923984}, {\"id\": 2, \"time\": 81, \"value\": 76.58604323851345}, {\"id\": 110, \"time\": 61, \"value\": 36.74846078577976}, {\"id\": 75, \"time\": 73, \"value\": 61.04416263700821}, {\"id\": 115, \"time\": 49, \"value\": 95.67744692894388}, {\"id\": 65, \"time\": 27, \"value\": 100.0}, {\"id\": 88, \"time\": 34, \"value\": 99.78814230362332}, {\"id\": 84, \"time\": 28, \"value\": 100.0}, {\"id\": 132, \"time\": 71, \"value\": 58.76881021790226}, {\"id\": 126, \"time\": 97, \"value\": 57.06658502788377}, {\"id\": 11, \"time\": 58, \"value\": 35.99739368923984}, {\"id\": 2, \"time\": 81, \"value\": 76.58604323851345}, {\"id\": 1, \"time\": 31, \"value\": 97.61039496011152}, {\"id\": 73, \"time\": 52, \"value\": 75.78751314128472}, {\"id\": 113, \"time\": 80, \"value\": 26.344275614761447}, {\"id\": 15, \"time\": 10, \"value\": 66.63758236044579}, {\"id\": 33, \"time\": 34, \"value\": 100.0}, {\"id\": 134, \"time\": 27, \"value\": 96.0357624314988}, {\"id\": 86, \"time\": 39, \"value\": 95.71331575096816}, {\"id\": 128, \"time\": 23, \"value\": 98.29965876078444}, {\"id\": 30, \"time\": 78, \"value\": 51.67060052964941}, {\"id\": 13, \"time\": 85, \"value\": 66.43301404571147}]}}, {\"mode\": \"vega-lite\"});\n",
       "</script>"
      ],
      "text/plain": [
       "alt.Chart(...)"
      ]
     },
     "execution_count": 27,
     "metadata": {},
     "output_type": "execute_result"
    }
   ],
   "source": [
    "# lets plot the data we got from all the robots\n",
    "alt.Chart(predhints_df).mark_point().encode(\n",
    "    x='time:Q',\n",
    "    y='mean(value):Q'\n",
    ")"
   ]
  },
  {
   "cell_type": "code",
   "execution_count": 28,
   "metadata": {},
   "outputs": [
    {
     "data": {
      "text/plain": [
       "{'Result': 'OK'}"
      ]
     },
     "execution_count": 28,
     "metadata": {},
     "output_type": "execute_result"
    }
   ],
   "source": [
    "# we can tell the hacker we're interested in robots 99, 23 and 1\n",
    "game.setRobotInterest([99,23,5])\n",
    "\n",
    "# to reset to being interested in all, use\n",
    "# game.setRobotInterest([])"
   ]
  },
  {
   "cell_type": "code",
   "execution_count": 29,
   "metadata": {},
   "outputs": [
    {
     "data": {
      "text/plain": [
       "{'Result': 'OK'}"
      ]
     },
     "execution_count": 29,
     "metadata": {},
     "output_type": "execute_result"
    }
   ],
   "source": [
    "# we can also tell the hacker we're interesed in the 'Astrogation Buffer Length','InfoCore Size'\n",
    "game.setPartInterest(['Astrogation Buffer Length','InfoCore Size'])\n",
    "\n",
    "# to reset to being interested in all, use\n",
    "# game.setPartInterest([])"
   ]
  },
  {
   "cell_type": "code",
   "execution_count": 51,
   "metadata": {},
   "outputs": [
    {
     "name": "stdout",
     "output_type": "stream",
     "text": [
      "we got 444 part hints\n",
      "we got 12 part hints\n",
      "we got 12 part hints\n"
     ]
    }
   ],
   "source": [
    "# if we get more hints now, they'll be biased to the robots and parts we care about\n",
    "\n",
    "for i in np.arange(0,3):\n",
    "    # this will give us just the new hints, but the object will store everything we've seen\n",
    "    hints = game.getHints()\n",
    "    if ('parts' in hints):\n",
    "        print('we got '+str(len(hints['parts']))+' part hints')\n",
    "    time.sleep(6)"
   ]
  },
  {
   "cell_type": "code",
   "execution_count": 31,
   "metadata": {},
   "outputs": [
    {
     "data": {
      "text/plain": [
       "{'Result': 'OK'}"
      ]
     },
     "execution_count": 31,
     "metadata": {},
     "output_type": "execute_result"
    }
   ],
   "source": [
    "# to set our bets, feed in a dictionary with the values\n",
    "# for example, let's set robot id 0 to 99 and robot 5 to 72\n",
    "game.setBets({0:99,5:72})"
   ]
  },
  {
   "cell_type": "code",
   "execution_count": 32,
   "metadata": {},
   "outputs": [],
   "source": [
    "# let's see how we're doing, grab the data\n",
    "robots = game.getRobotInfo()"
   ]
  },
  {
   "cell_type": "code",
   "execution_count": 33,
   "metadata": {},
   "outputs": [
    {
     "data": {
      "text/plain": [
       "0.0"
      ]
     },
     "execution_count": 33,
     "metadata": {},
     "output_type": "execute_result"
    }
   ],
   "source": [
    "# let's see how team 2 is doing (might be 0 if no deadlines expired)\n",
    "robots[robots.winner == 2]['Productivity'].sum()"
   ]
  },
  {
   "cell_type": "code",
   "execution_count": 34,
   "metadata": {},
   "outputs": [
    {
     "data": {
      "text/plain": [
       "0.0"
      ]
     },
     "execution_count": 34,
     "metadata": {},
     "output_type": "execute_result"
    }
   ],
   "source": [
    "# let's see how team 1 is doing (might be 0 if no deadlines expired or we didn't put in any bets)\n",
    "robots[robots.winner == 1]['Productivity'].sum()"
   ]
  },
  {
   "cell_type": "code",
   "execution_count": 35,
   "metadata": {},
   "outputs": [],
   "source": [
    "# Here's a hint on how you can use the data you get to predict the value.\n",
    "# Let's say we learn two points about a robot's random number generator\n",
    "# At time 17, they'll say 40 and at time 50, they'll say 27\n",
    "xs = [17,50]\n",
    "ys = [40,27]"
   ]
  },
  {
   "cell_type": "code",
   "execution_count": 36,
   "metadata": {},
   "outputs": [],
   "source": [
    "# we can use this to generate simple regression. One way to do it is to just fit a one dimensional polynomial\n",
    "fit = np.polyfit(xs,ys,1)\n",
    "\n",
    "# in reality, 1 dimension is probably not ideal"
   ]
  },
  {
   "cell_type": "code",
   "execution_count": 37,
   "metadata": {},
   "outputs": [],
   "source": [
    "# next, we'll want to figure out all the y values over the range of times 0 to 100\n",
    "fitx = np.arange(0,100)\n",
    "fity = []"
   ]
  },
  {
   "cell_type": "code",
   "execution_count": 38,
   "metadata": {},
   "outputs": [],
   "source": [
    "# create the fit function using the fit we calculated above\n",
    "fitfunc = np.poly1d(fit)\n",
    "for x in fitx:\n",
    "    y = fitfunc(x)\n",
    "    if (y > 100): # we know y can't be > 100\n",
    "        y = 100\n",
    "    if (y < 0): # we know y can't be < 0\n",
    "        y = 0\n",
    "    fity.append(y)"
   ]
  },
  {
   "cell_type": "code",
   "execution_count": 39,
   "metadata": {},
   "outputs": [],
   "source": [
    "# to visualize this, I'm going to build a dataset the has both the original numbers \n",
    "# our hacker gave us (17,50 and 40,27) and the new things we calculated:\n",
    "vals = []\n",
    "for i in np.arange(0,len(xs)):\n",
    "    vals.append({'t':'hint','x':int(xs[i]),'y':int(ys[i])})\n",
    "   \n",
    "for i in np.arange(0,len(fitx)):\n",
    "    vals.append({'t':'fit','x':int(fitx[i]),'y':int(fity[i])})\n",
    "\n",
    "# so now we have a dataset with both the hint and fit data\n",
    "# you can look at it here\n",
    "# vals"
   ]
  },
  {
   "cell_type": "code",
   "execution_count": 40,
   "metadata": {},
   "outputs": [
    {
     "data": {
      "text/html": [
       "\n",
       "<div id=\"altair-viz-9e67b2eb0bc2418a995f7baa34fc201d\"></div>\n",
       "<script type=\"text/javascript\">\n",
       "  (function(spec, embedOpt){\n",
       "    let outputDiv = document.currentScript.previousElementSibling;\n",
       "    if (outputDiv.id !== \"altair-viz-9e67b2eb0bc2418a995f7baa34fc201d\") {\n",
       "      outputDiv = document.getElementById(\"altair-viz-9e67b2eb0bc2418a995f7baa34fc201d\");\n",
       "    }\n",
       "    const paths = {\n",
       "      \"vega\": \"https://cdn.jsdelivr.net/npm//vega@5?noext\",\n",
       "      \"vega-lib\": \"https://cdn.jsdelivr.net/npm//vega-lib?noext\",\n",
       "      \"vega-lite\": \"https://cdn.jsdelivr.net/npm//vega-lite@4.8.1?noext\",\n",
       "      \"vega-embed\": \"https://cdn.jsdelivr.net/npm//vega-embed@6?noext\",\n",
       "    };\n",
       "\n",
       "    function loadScript(lib) {\n",
       "      return new Promise(function(resolve, reject) {\n",
       "        var s = document.createElement('script');\n",
       "        s.src = paths[lib];\n",
       "        s.async = true;\n",
       "        s.onload = () => resolve(paths[lib]);\n",
       "        s.onerror = () => reject(`Error loading script: ${paths[lib]}`);\n",
       "        document.getElementsByTagName(\"head\")[0].appendChild(s);\n",
       "      });\n",
       "    }\n",
       "\n",
       "    function showError(err) {\n",
       "      outputDiv.innerHTML = `<div class=\"error\" style=\"color:red;\">${err}</div>`;\n",
       "      throw err;\n",
       "    }\n",
       "\n",
       "    function displayChart(vegaEmbed) {\n",
       "      vegaEmbed(outputDiv, spec, embedOpt)\n",
       "        .catch(err => showError(`Javascript Error: ${err.message}<br>This usually means there's a typo in your chart specification. See the javascript console for the full traceback.`));\n",
       "    }\n",
       "\n",
       "    if(typeof define === \"function\" && define.amd) {\n",
       "      requirejs.config({paths});\n",
       "      require([\"vega-embed\"], displayChart, err => showError(`Error loading script: ${err.message}`));\n",
       "    } else if (typeof vegaEmbed === \"function\") {\n",
       "      displayChart(vegaEmbed);\n",
       "    } else {\n",
       "      loadScript(\"vega\")\n",
       "        .then(() => loadScript(\"vega-lite\"))\n",
       "        .then(() => loadScript(\"vega-embed\"))\n",
       "        .catch(showError)\n",
       "        .then(() => displayChart(vegaEmbed));\n",
       "    }\n",
       "  })({\"config\": {\"view\": {\"continuousWidth\": 400, \"continuousHeight\": 300}}, \"layer\": [{\"data\": {\"values\": [{\"t\": \"hint\", \"x\": 17, \"y\": 40}, {\"t\": \"hint\", \"x\": 50, \"y\": 27}, {\"t\": \"fit\", \"x\": 0, \"y\": 46}, {\"t\": \"fit\", \"x\": 1, \"y\": 46}, {\"t\": \"fit\", \"x\": 2, \"y\": 45}, {\"t\": \"fit\", \"x\": 3, \"y\": 45}, {\"t\": \"fit\", \"x\": 4, \"y\": 45}, {\"t\": \"fit\", \"x\": 5, \"y\": 44}, {\"t\": \"fit\", \"x\": 6, \"y\": 44}, {\"t\": \"fit\", \"x\": 7, \"y\": 43}, {\"t\": \"fit\", \"x\": 8, \"y\": 43}, {\"t\": \"fit\", \"x\": 9, \"y\": 43}, {\"t\": \"fit\", \"x\": 10, \"y\": 42}, {\"t\": \"fit\", \"x\": 11, \"y\": 42}, {\"t\": \"fit\", \"x\": 12, \"y\": 41}, {\"t\": \"fit\", \"x\": 13, \"y\": 41}, {\"t\": \"fit\", \"x\": 14, \"y\": 41}, {\"t\": \"fit\", \"x\": 15, \"y\": 40}, {\"t\": \"fit\", \"x\": 16, \"y\": 40}, {\"t\": \"fit\", \"x\": 17, \"y\": 39}, {\"t\": \"fit\", \"x\": 18, \"y\": 39}, {\"t\": \"fit\", \"x\": 19, \"y\": 39}, {\"t\": \"fit\", \"x\": 20, \"y\": 38}, {\"t\": \"fit\", \"x\": 21, \"y\": 38}, {\"t\": \"fit\", \"x\": 22, \"y\": 38}, {\"t\": \"fit\", \"x\": 23, \"y\": 37}, {\"t\": \"fit\", \"x\": 24, \"y\": 37}, {\"t\": \"fit\", \"x\": 25, \"y\": 36}, {\"t\": \"fit\", \"x\": 26, \"y\": 36}, {\"t\": \"fit\", \"x\": 27, \"y\": 36}, {\"t\": \"fit\", \"x\": 28, \"y\": 35}, {\"t\": \"fit\", \"x\": 29, \"y\": 35}, {\"t\": \"fit\", \"x\": 30, \"y\": 34}, {\"t\": \"fit\", \"x\": 31, \"y\": 34}, {\"t\": \"fit\", \"x\": 32, \"y\": 34}, {\"t\": \"fit\", \"x\": 33, \"y\": 33}, {\"t\": \"fit\", \"x\": 34, \"y\": 33}, {\"t\": \"fit\", \"x\": 35, \"y\": 32}, {\"t\": \"fit\", \"x\": 36, \"y\": 32}, {\"t\": \"fit\", \"x\": 37, \"y\": 32}, {\"t\": \"fit\", \"x\": 38, \"y\": 31}, {\"t\": \"fit\", \"x\": 39, \"y\": 31}, {\"t\": \"fit\", \"x\": 40, \"y\": 30}, {\"t\": \"fit\", \"x\": 41, \"y\": 30}, {\"t\": \"fit\", \"x\": 42, \"y\": 30}, {\"t\": \"fit\", \"x\": 43, \"y\": 29}, {\"t\": \"fit\", \"x\": 44, \"y\": 29}, {\"t\": \"fit\", \"x\": 45, \"y\": 28}, {\"t\": \"fit\", \"x\": 46, \"y\": 28}, {\"t\": \"fit\", \"x\": 47, \"y\": 28}, {\"t\": \"fit\", \"x\": 48, \"y\": 27}, {\"t\": \"fit\", \"x\": 49, \"y\": 27}, {\"t\": \"fit\", \"x\": 50, \"y\": 26}, {\"t\": \"fit\", \"x\": 51, \"y\": 26}, {\"t\": \"fit\", \"x\": 52, \"y\": 26}, {\"t\": \"fit\", \"x\": 53, \"y\": 25}, {\"t\": \"fit\", \"x\": 54, \"y\": 25}, {\"t\": \"fit\", \"x\": 55, \"y\": 25}, {\"t\": \"fit\", \"x\": 56, \"y\": 24}, {\"t\": \"fit\", \"x\": 57, \"y\": 24}, {\"t\": \"fit\", \"x\": 58, \"y\": 23}, {\"t\": \"fit\", \"x\": 59, \"y\": 23}, {\"t\": \"fit\", \"x\": 60, \"y\": 23}, {\"t\": \"fit\", \"x\": 61, \"y\": 22}, {\"t\": \"fit\", \"x\": 62, \"y\": 22}, {\"t\": \"fit\", \"x\": 63, \"y\": 21}, {\"t\": \"fit\", \"x\": 64, \"y\": 21}, {\"t\": \"fit\", \"x\": 65, \"y\": 21}, {\"t\": \"fit\", \"x\": 66, \"y\": 20}, {\"t\": \"fit\", \"x\": 67, \"y\": 20}, {\"t\": \"fit\", \"x\": 68, \"y\": 19}, {\"t\": \"fit\", \"x\": 69, \"y\": 19}, {\"t\": \"fit\", \"x\": 70, \"y\": 19}, {\"t\": \"fit\", \"x\": 71, \"y\": 18}, {\"t\": \"fit\", \"x\": 72, \"y\": 18}, {\"t\": \"fit\", \"x\": 73, \"y\": 17}, {\"t\": \"fit\", \"x\": 74, \"y\": 17}, {\"t\": \"fit\", \"x\": 75, \"y\": 17}, {\"t\": \"fit\", \"x\": 76, \"y\": 16}, {\"t\": \"fit\", \"x\": 77, \"y\": 16}, {\"t\": \"fit\", \"x\": 78, \"y\": 15}, {\"t\": \"fit\", \"x\": 79, \"y\": 15}, {\"t\": \"fit\", \"x\": 80, \"y\": 15}, {\"t\": \"fit\", \"x\": 81, \"y\": 14}, {\"t\": \"fit\", \"x\": 82, \"y\": 14}, {\"t\": \"fit\", \"x\": 83, \"y\": 13}, {\"t\": \"fit\", \"x\": 84, \"y\": 13}, {\"t\": \"fit\", \"x\": 85, \"y\": 13}, {\"t\": \"fit\", \"x\": 86, \"y\": 12}, {\"t\": \"fit\", \"x\": 87, \"y\": 12}, {\"t\": \"fit\", \"x\": 88, \"y\": 12}, {\"t\": \"fit\", \"x\": 89, \"y\": 11}, {\"t\": \"fit\", \"x\": 90, \"y\": 11}, {\"t\": \"fit\", \"x\": 91, \"y\": 10}, {\"t\": \"fit\", \"x\": 92, \"y\": 10}, {\"t\": \"fit\", \"x\": 93, \"y\": 10}, {\"t\": \"fit\", \"x\": 94, \"y\": 9}, {\"t\": \"fit\", \"x\": 95, \"y\": 9}, {\"t\": \"fit\", \"x\": 96, \"y\": 8}, {\"t\": \"fit\", \"x\": 97, \"y\": 8}, {\"t\": \"fit\", \"x\": 98, \"y\": 8}, {\"t\": \"fit\", \"x\": 99, \"y\": 7}]}, \"mark\": {\"type\": \"circle\", \"color\": \"red\", \"filled\": true, \"size\": 90}, \"encoding\": {\"color\": {\"type\": \"nominal\", \"field\": \"t\"}, \"x\": {\"type\": \"quantitative\", \"field\": \"x\"}, \"y\": {\"type\": \"quantitative\", \"field\": \"y\"}}, \"transform\": [{\"filter\": \"(datum.t === 'hint')\"}]}, {\"data\": {\"values\": [{\"t\": \"hint\", \"x\": 17, \"y\": 40}, {\"t\": \"hint\", \"x\": 50, \"y\": 27}, {\"t\": \"fit\", \"x\": 0, \"y\": 46}, {\"t\": \"fit\", \"x\": 1, \"y\": 46}, {\"t\": \"fit\", \"x\": 2, \"y\": 45}, {\"t\": \"fit\", \"x\": 3, \"y\": 45}, {\"t\": \"fit\", \"x\": 4, \"y\": 45}, {\"t\": \"fit\", \"x\": 5, \"y\": 44}, {\"t\": \"fit\", \"x\": 6, \"y\": 44}, {\"t\": \"fit\", \"x\": 7, \"y\": 43}, {\"t\": \"fit\", \"x\": 8, \"y\": 43}, {\"t\": \"fit\", \"x\": 9, \"y\": 43}, {\"t\": \"fit\", \"x\": 10, \"y\": 42}, {\"t\": \"fit\", \"x\": 11, \"y\": 42}, {\"t\": \"fit\", \"x\": 12, \"y\": 41}, {\"t\": \"fit\", \"x\": 13, \"y\": 41}, {\"t\": \"fit\", \"x\": 14, \"y\": 41}, {\"t\": \"fit\", \"x\": 15, \"y\": 40}, {\"t\": \"fit\", \"x\": 16, \"y\": 40}, {\"t\": \"fit\", \"x\": 17, \"y\": 39}, {\"t\": \"fit\", \"x\": 18, \"y\": 39}, {\"t\": \"fit\", \"x\": 19, \"y\": 39}, {\"t\": \"fit\", \"x\": 20, \"y\": 38}, {\"t\": \"fit\", \"x\": 21, \"y\": 38}, {\"t\": \"fit\", \"x\": 22, \"y\": 38}, {\"t\": \"fit\", \"x\": 23, \"y\": 37}, {\"t\": \"fit\", \"x\": 24, \"y\": 37}, {\"t\": \"fit\", \"x\": 25, \"y\": 36}, {\"t\": \"fit\", \"x\": 26, \"y\": 36}, {\"t\": \"fit\", \"x\": 27, \"y\": 36}, {\"t\": \"fit\", \"x\": 28, \"y\": 35}, {\"t\": \"fit\", \"x\": 29, \"y\": 35}, {\"t\": \"fit\", \"x\": 30, \"y\": 34}, {\"t\": \"fit\", \"x\": 31, \"y\": 34}, {\"t\": \"fit\", \"x\": 32, \"y\": 34}, {\"t\": \"fit\", \"x\": 33, \"y\": 33}, {\"t\": \"fit\", \"x\": 34, \"y\": 33}, {\"t\": \"fit\", \"x\": 35, \"y\": 32}, {\"t\": \"fit\", \"x\": 36, \"y\": 32}, {\"t\": \"fit\", \"x\": 37, \"y\": 32}, {\"t\": \"fit\", \"x\": 38, \"y\": 31}, {\"t\": \"fit\", \"x\": 39, \"y\": 31}, {\"t\": \"fit\", \"x\": 40, \"y\": 30}, {\"t\": \"fit\", \"x\": 41, \"y\": 30}, {\"t\": \"fit\", \"x\": 42, \"y\": 30}, {\"t\": \"fit\", \"x\": 43, \"y\": 29}, {\"t\": \"fit\", \"x\": 44, \"y\": 29}, {\"t\": \"fit\", \"x\": 45, \"y\": 28}, {\"t\": \"fit\", \"x\": 46, \"y\": 28}, {\"t\": \"fit\", \"x\": 47, \"y\": 28}, {\"t\": \"fit\", \"x\": 48, \"y\": 27}, {\"t\": \"fit\", \"x\": 49, \"y\": 27}, {\"t\": \"fit\", \"x\": 50, \"y\": 26}, {\"t\": \"fit\", \"x\": 51, \"y\": 26}, {\"t\": \"fit\", \"x\": 52, \"y\": 26}, {\"t\": \"fit\", \"x\": 53, \"y\": 25}, {\"t\": \"fit\", \"x\": 54, \"y\": 25}, {\"t\": \"fit\", \"x\": 55, \"y\": 25}, {\"t\": \"fit\", \"x\": 56, \"y\": 24}, {\"t\": \"fit\", \"x\": 57, \"y\": 24}, {\"t\": \"fit\", \"x\": 58, \"y\": 23}, {\"t\": \"fit\", \"x\": 59, \"y\": 23}, {\"t\": \"fit\", \"x\": 60, \"y\": 23}, {\"t\": \"fit\", \"x\": 61, \"y\": 22}, {\"t\": \"fit\", \"x\": 62, \"y\": 22}, {\"t\": \"fit\", \"x\": 63, \"y\": 21}, {\"t\": \"fit\", \"x\": 64, \"y\": 21}, {\"t\": \"fit\", \"x\": 65, \"y\": 21}, {\"t\": \"fit\", \"x\": 66, \"y\": 20}, {\"t\": \"fit\", \"x\": 67, \"y\": 20}, {\"t\": \"fit\", \"x\": 68, \"y\": 19}, {\"t\": \"fit\", \"x\": 69, \"y\": 19}, {\"t\": \"fit\", \"x\": 70, \"y\": 19}, {\"t\": \"fit\", \"x\": 71, \"y\": 18}, {\"t\": \"fit\", \"x\": 72, \"y\": 18}, {\"t\": \"fit\", \"x\": 73, \"y\": 17}, {\"t\": \"fit\", \"x\": 74, \"y\": 17}, {\"t\": \"fit\", \"x\": 75, \"y\": 17}, {\"t\": \"fit\", \"x\": 76, \"y\": 16}, {\"t\": \"fit\", \"x\": 77, \"y\": 16}, {\"t\": \"fit\", \"x\": 78, \"y\": 15}, {\"t\": \"fit\", \"x\": 79, \"y\": 15}, {\"t\": \"fit\", \"x\": 80, \"y\": 15}, {\"t\": \"fit\", \"x\": 81, \"y\": 14}, {\"t\": \"fit\", \"x\": 82, \"y\": 14}, {\"t\": \"fit\", \"x\": 83, \"y\": 13}, {\"t\": \"fit\", \"x\": 84, \"y\": 13}, {\"t\": \"fit\", \"x\": 85, \"y\": 13}, {\"t\": \"fit\", \"x\": 86, \"y\": 12}, {\"t\": \"fit\", \"x\": 87, \"y\": 12}, {\"t\": \"fit\", \"x\": 88, \"y\": 12}, {\"t\": \"fit\", \"x\": 89, \"y\": 11}, {\"t\": \"fit\", \"x\": 90, \"y\": 11}, {\"t\": \"fit\", \"x\": 91, \"y\": 10}, {\"t\": \"fit\", \"x\": 92, \"y\": 10}, {\"t\": \"fit\", \"x\": 93, \"y\": 10}, {\"t\": \"fit\", \"x\": 94, \"y\": 9}, {\"t\": \"fit\", \"x\": 95, \"y\": 9}, {\"t\": \"fit\", \"x\": 96, \"y\": 8}, {\"t\": \"fit\", \"x\": 97, \"y\": 8}, {\"t\": \"fit\", \"x\": 98, \"y\": 8}, {\"t\": \"fit\", \"x\": 99, \"y\": 7}]}, \"mark\": \"line\", \"encoding\": {\"color\": {\"type\": \"nominal\", \"field\": \"t\"}, \"x\": {\"type\": \"quantitative\", \"field\": \"x\"}, \"y\": {\"type\": \"quantitative\", \"field\": \"y\"}}, \"transform\": [{\"filter\": \"(datum.t === 'fit')\"}]}, {\"data\": {\"name\": \"data-e1bd6fa47b93d3b9002182e1a4f5e39d\"}, \"mark\": \"rule\", \"encoding\": {\"x\": {\"type\": \"quantitative\", \"field\": \"x\"}}}], \"$schema\": \"https://vega.github.io/schema/vega-lite/v4.8.1.json\", \"datasets\": {\"data-e1bd6fa47b93d3b9002182e1a4f5e39d\": [{\"x\": 70}]}}, {\"mode\": \"vega-lite\"});\n",
       "</script>"
      ],
      "text/plain": [
       "alt.LayerChart(...)"
      ]
     },
     "execution_count": 40,
     "metadata": {},
     "output_type": "execute_result"
    }
   ],
   "source": [
    "# finally, let's plot the data using Altair\n",
    "\n",
    "# first make a chart for the hints\n",
    "hintlayer = alt.Chart(alt.Data(values=vals)).mark_circle(filled=True,size=90,color='red').encode(\n",
    "    x='x:Q',\n",
    "    y='y:Q',\n",
    "    color='t:N'\n",
    ").transform_filter(\n",
    "    alt.datum.t == 'hint'\n",
    ")\n",
    "\n",
    "# overlay that with the predictions\n",
    "fitlayer = alt.Chart(alt.Data(values=vals)).mark_line().encode(\n",
    "    x='x:Q',\n",
    "    y='y:Q',\n",
    "    color='t:N'\n",
    ").transform_filter(\n",
    "    alt.datum.t == 'fit'\n",
    ")\n",
    "\n",
    "# and let's assume an expiration of 70 for this robot and draw a line on top\n",
    "\n",
    "annotationlayer = alt.Chart(pd.DataFrame({'x': [70]})).mark_rule().encode(x='x:Q')\n",
    "\n",
    "# layer the charts\n",
    "hintlayer + fitlayer + annotationlayer\n"
   ]
  },
  {
   "cell_type": "markdown",
   "metadata": {},
   "source": [
    "## A few other random \"recipes\""
   ]
  },
  {
   "cell_type": "code",
   "execution_count": 41,
   "metadata": {},
   "outputs": [
    {
     "data": {
      "text/plain": [
       "{'Result': 'OK'}"
      ]
     },
     "execution_count": 41,
     "metadata": {},
     "output_type": "execute_result"
    }
   ],
   "source": [
    "# set all the bets to 80\n",
    "bets = {}\n",
    "for i in np.arange(0,100):\n",
    "    bets[int(i)] = int(80)\n",
    "game.setBets(bets)"
   ]
  },
  {
   "cell_type": "code",
   "execution_count": 7,
   "metadata": {},
   "outputs": [
    {
     "data": {
      "text/plain": [
       "[{'column': 'Astrogation Buffer Length', 'id': 41, 'value': 1.0},\n",
       " {'column': 'InfoCore Size', 'id': 21, 'value': 0.7283208449524946},\n",
       " {'column': 'InfoCore Size', 'id': 37, 'value': 0.4842304291840318},\n",
       " {'column': 'Arakyd Vocabulator Model', 'id': 81, 'value': 'model E'},\n",
       " {'column': 'Cranial Uplink Bandwidth',\n",
       "  'id': 20,\n",
       "  'value': -0.0486425487090307},\n",
       " {'column': 'Polarity Sinks', 'id': 5, 'value': 0.7530226411361209},\n",
       " {'column': 'InfoCore Size', 'id': 92, 'value': 0.0858166164951381},\n",
       " {'column': 'Astrogation Buffer Length', 'id': 28, 'value': 11.0},\n",
       " {'column': 'Polarity Sinks', 'id': 30, 'value': 0.582722135187538},\n",
       " {'column': 'InfoCore Size', 'id': 7, 'value': 0.0500750932850488},\n",
       " {'column': 'InfoCore Size', 'id': 23, 'value': 0.3530564278231974},\n",
       " {'column': 'Arakyd Vocabulator Model', 'id': 94, 'value': 'model C'},\n",
       " {'column': 'AutoTerrain Tread Count', 'id': 61, 'value': 1.1635594671542333},\n",
       " {'column': 'InfoCore Size', 'id': 24, 'value': -0.1201885018111612},\n",
       " {'column': 'Astrogation Buffer Length', 'id': 47, 'value': 97.0},\n",
       " {'column': 'Nanochip Model', 'id': 43, 'value': 'windows 2000'},\n",
       " {'column': 'InfoCore Size', 'id': 45, 'value': 0.5120523961469318},\n",
       " {'column': 'Cranial Uplink Bandwidth', 'id': 50, 'value': 0.7372919836558776},\n",
       " {'column': 'Sonoreceptors', 'id': 63, 'value': 0.8439228214196197},\n",
       " {'column': 'Astrogation Buffer Length', 'id': 37, 'value': 24.0},\n",
       " {'column': 'Sonoreceptors', 'id': 74, 'value': 0.689538907021179},\n",
       " {'column': 'Astrogation Buffer Length', 'id': 30, 'value': 77.0},\n",
       " {'column': 'Nanochip Model', 'id': 45, 'value': 'windows 2000'},\n",
       " {'column': 'Polarity Sinks', 'id': 41, 'value': 0.640418365405748},\n",
       " {'column': 'InfoCore Size', 'id': 20, 'value': -0.032485912915096},\n",
       " {'column': 'Arakyd Vocabulator Model', 'id': 19, 'value': 'model E'},\n",
       " {'column': 'Astrogation Buffer Length', 'id': 33, 'value': 80.0},\n",
       " {'column': 'Nanochip Model', 'id': 83, 'value': 'v0.5'},\n",
       " {'column': 'Cranial Uplink Bandwidth', 'id': 63, 'value': 0.8579736680147738},\n",
       " {'column': 'Repulsorlift Motor HP', 'id': 23, 'value': 13.0},\n",
       " {'column': 'Repulsorlift Motor HP', 'id': 68, 'value': 7.0},\n",
       " {'column': 'AutoTerrain Tread Count', 'id': 32, 'value': 0.6113928617145403},\n",
       " {'column': 'Astrogation Buffer Length', 'id': 93, 'value': 70.0},\n",
       " {'column': 'Astrogation Buffer Length', 'id': 97, 'value': 36.0},\n",
       " {'column': 'InfoCore Size', 'id': 20, 'value': -0.032485912915096},\n",
       " {'column': 'Axial Piston Model', 'id': 77, 'value': 'gamma'},\n",
       " {'column': 'Astrogation Buffer Length', 'id': 62, 'value': 55.0},\n",
       " {'column': 'Repulsorlift Motor HP', 'id': 71, 'value': 42.0},\n",
       " {'column': 'Cranial Uplink Bandwidth', 'id': 97, 'value': 0.9035229430185944},\n",
       " {'column': 'Nanochip Model', 'id': 90, 'value': 'v1.5'},\n",
       " {'column': 'Axial Piston Model', 'id': 25, 'value': 'alpha'},\n",
       " {'column': 'Cranial Uplink Bandwidth', 'id': 11, 'value': 0.2050555370069695},\n",
       " {'column': 'Astrogation Buffer Length', 'id': 0, 'value': 3.0},\n",
       " {'column': 'Repulsorlift Motor HP', 'id': 23, 'value': 13.0},\n",
       " {'column': 'Axial Piston Model', 'id': 48, 'value': 'gamma'},\n",
       " {'column': 'AutoTerrain Tread Count', 'id': 42, 'value': 0.6037047865079797},\n",
       " {'column': 'InfoCore Size', 'id': 87, 'value': 0.3224744077679765},\n",
       " {'column': 'AutoTerrain Tread Count', 'id': 65, 'value': 0.8685518672222257},\n",
       " {'column': 'AutoTerrain Tread Count', 'id': 95, 'value': 0.5686233366876225},\n",
       " {'column': 'Nanochip Model', 'id': 18, 'value': 'v2.0'},\n",
       " {'column': 'Repulsorlift Motor HP', 'id': 7, 'value': 48.0},\n",
       " {'column': 'AutoTerrain Tread Count', 'id': 6, 'value': 1.1054586346563904},\n",
       " {'column': 'Axial Piston Model', 'id': 91, 'value': 'alpha'},\n",
       " {'column': 'Polarity Sinks', 'id': 52, 'value': 0.5341934066898957},\n",
       " {'column': 'Polarity Sinks', 'id': 88, 'value': 0.9291583395591438},\n",
       " {'column': 'InfoCore Size', 'id': 87, 'value': 0.3224744077679765},\n",
       " {'column': 'Arakyd Vocabulator Model', 'id': 54, 'value': 'model C'},\n",
       " {'column': 'Repulsorlift Motor HP', 'id': 10, 'value': 83.0},\n",
       " {'column': 'AutoTerrain Tread Count', 'id': 95, 'value': 0.5686233366876225},\n",
       " {'column': 'Cranial Uplink Bandwidth', 'id': 58, 'value': 0.4176359917837649},\n",
       " {'column': 'Nanochip Model', 'id': 52, 'value': 'v2.0'},\n",
       " {'column': 'Axial Piston Model', 'id': 33, 'value': 'gamma'},\n",
       " {'column': 'Nanochip Model', 'id': 26, 'value': 'v1.0'},\n",
       " {'column': 'Polarity Sinks', 'id': 24, 'value': 0.8919478375740884},\n",
       " {'column': 'Polarity Sinks', 'id': 18, 'value': 0.5281856049680224},\n",
       " {'column': 'AutoTerrain Tread Count', 'id': 61, 'value': 1.1635594671542333},\n",
       " {'column': 'Sonoreceptors', 'id': 56, 'value': 0.9269296398779736},\n",
       " {'column': 'AutoTerrain Tread Count', 'id': 38, 'value': 1.1226887197621365},\n",
       " {'column': 'Nanochip Model', 'id': 12, 'value': 'v2.0'},\n",
       " {'column': 'Nanochip Model', 'id': 9, 'value': 'v0.5'},\n",
       " {'column': 'Axial Piston Model', 'id': 59, 'value': 'alpha'},\n",
       " {'column': 'Polarity Sinks', 'id': 71, 'value': 0.6117042303440712},\n",
       " {'column': 'Axial Piston Model', 'id': 8, 'value': 'gamma'},\n",
       " {'column': 'Nanochip Model', 'id': 44, 'value': 'windows 2000'},\n",
       " {'column': 'Nanochip Model', 'id': 60, 'value': 'v1.5'},\n",
       " {'column': 'Nanochip Model', 'id': 31, 'value': 'v0.5'},\n",
       " {'column': 'AutoTerrain Tread Count', 'id': 87, 'value': 0.7932691056520145},\n",
       " {'column': 'Cranial Uplink Bandwidth', 'id': 7, 'value': 0.1074237797244602},\n",
       " {'column': 'AutoTerrain Tread Count', 'id': 55, 'value': 1.2649332947928802},\n",
       " {'column': 'Astrogation Buffer Length', 'id': 25, 'value': 69.0},\n",
       " {'column': 'Sonoreceptors', 'id': 22, 'value': 0.6068521794666537},\n",
       " {'column': 'Nanochip Model', 'id': 50, 'value': 'v1.5'},\n",
       " {'column': 'Arakyd Vocabulator Model', 'id': 75, 'value': 'model C'},\n",
       " {'column': 'AutoTerrain Tread Count', 'id': 66, 'value': 1.0080538062209785},\n",
       " {'column': 'Repulsorlift Motor HP', 'id': 19, 'value': 6.0},\n",
       " {'column': 'AutoTerrain Tread Count', 'id': 44, 'value': 0.8743923539722067},\n",
       " {'column': 'AutoTerrain Tread Count', 'id': 58, 'value': 0.7907676108496686},\n",
       " {'column': 'AutoTerrain Tread Count', 'id': 34, 'value': 0.6950553227332331},\n",
       " {'column': 'AutoTerrain Tread Count', 'id': 18, 'value': 0.6280087483028151},\n",
       " {'column': 'Astrogation Buffer Length', 'id': 46, 'value': 80.0},\n",
       " {'column': 'Axial Piston Model', 'id': 59, 'value': 'alpha'},\n",
       " {'column': 'Astrogation Buffer Length', 'id': 26, 'value': 16.0},\n",
       " {'column': 'Arakyd Vocabulator Model', 'id': 74, 'value': 'model A'},\n",
       " {'column': 'Sonoreceptors', 'id': 25, 'value': 0.2729711128724541},\n",
       " {'column': 'InfoCore Size', 'id': 55, 'value': 0.6878398281240993},\n",
       " {'column': 'Nanochip Model', 'id': 92, 'value': 'v2.0'},\n",
       " {'column': 'Astrogation Buffer Length', 'id': 44, 'value': 37.0},\n",
       " {'column': 'Polarity Sinks', 'id': 39, 'value': 0.8765898321925454},\n",
       " {'column': 'Axial Piston Model', 'id': 80, 'value': 'gamma'},\n",
       " {'column': 'Repulsorlift Motor HP', 'id': 42, 'value': 7.0},\n",
       " {'column': 'Polarity Sinks', 'id': 82, 'value': 1.06},\n",
       " {'column': 'Cranial Uplink Bandwidth', 'id': 60, 'value': 0.92},\n",
       " {'column': 'AutoTerrain Tread Count', 'id': 26, 'value': 0.8153626247350194},\n",
       " {'column': 'Repulsorlift Motor HP', 'id': 96, 'value': 9.0},\n",
       " {'column': 'Sonoreceptors', 'id': 36, 'value': 0.100377611764513},\n",
       " {'column': 'Nanochip Model', 'id': 9, 'value': 'v0.5'},\n",
       " {'column': 'Cranial Uplink Bandwidth', 'id': 39, 'value': 0.5191904794854262},\n",
       " {'column': 'Astrogation Buffer Length', 'id': 3, 'value': 25.0},\n",
       " {'column': 'Repulsorlift Motor HP', 'id': 14, 'value': 52.0},\n",
       " {'column': 'Nanochip Model', 'id': 99, 'value': 'v1.0'},\n",
       " {'column': 'Astrogation Buffer Length', 'id': 47, 'value': 97.0},\n",
       " {'column': 'Arakyd Vocabulator Model', 'id': 61, 'value': 'model A'},\n",
       " {'column': 'Nanochip Model', 'id': 0, 'value': 'v2.0'},\n",
       " {'column': 'Sonoreceptors', 'id': 76, 'value': 0.1433358051718229},\n",
       " {'column': 'Polarity Sinks', 'id': 96, 'value': 0.6320357415784472},\n",
       " {'column': 'Repulsorlift Motor HP', 'id': 6, 'value': 52.0},\n",
       " {'column': 'Sonoreceptors', 'id': 15, 'value': 0.7984975754347119},\n",
       " {'column': 'Axial Piston Model', 'id': 59, 'value': 'alpha'},\n",
       " {'column': 'Axial Piston Model', 'id': 86, 'value': 'alpha'},\n",
       " {'column': 'Arakyd Vocabulator Model', 'id': 72, 'value': 'model A'},\n",
       " {'column': 'Sonoreceptors', 'id': 6, 'value': 0.7871443560654597},\n",
       " {'column': 'Polarity Sinks', 'id': 99, 'value': 0.7494183519488777},\n",
       " {'column': 'Cranial Uplink Bandwidth', 'id': 75, 'value': 0.0629682154971898},\n",
       " {'column': 'Cranial Uplink Bandwidth', 'id': 7, 'value': 0.1074237797244602},\n",
       " {'column': 'Nanochip Model', 'id': 72, 'value': 'v1.5'},\n",
       " {'column': 'Axial Piston Model', 'id': 22, 'value': 'gamma'},\n",
       " {'column': 'Cranial Uplink Bandwidth', 'id': 85, 'value': 0.8074327358753778},\n",
       " {'column': 'Sonoreceptors', 'id': 39, 'value': 0.5246866363527763},\n",
       " {'column': 'Arakyd Vocabulator Model', 'id': 37, 'value': 'model C'},\n",
       " {'column': 'Arakyd Vocabulator Model', 'id': 68, 'value': 'model E'},\n",
       " {'column': 'Repulsorlift Motor HP', 'id': 6, 'value': 52.0},\n",
       " {'column': 'Nanochip Model', 'id': 98, 'value': 'v2.0'},\n",
       " {'column': 'Sonoreceptors', 'id': 52, 'value': 0.318152183028655},\n",
       " {'column': 'Arakyd Vocabulator Model', 'id': 50, 'value': 'model C'},\n",
       " {'column': 'Arakyd Vocabulator Model', 'id': 7, 'value': 'model E'},\n",
       " {'column': 'Axial Piston Model', 'id': 19, 'value': 'alpha'},\n",
       " {'column': 'AutoTerrain Tread Count', 'id': 47, 'value': 0.7384116083833967},\n",
       " {'column': 'Arakyd Vocabulator Model', 'id': 85, 'value': 'model C'},\n",
       " {'column': 'Nanochip Model', 'id': 69, 'value': 'v0.5'},\n",
       " {'column': 'Arakyd Vocabulator Model', 'id': 10, 'value': 'model C'},\n",
       " {'column': 'Polarity Sinks', 'id': 99, 'value': 0.7494183519488777},\n",
       " {'column': 'Nanochip Model', 'id': 62, 'value': 'v0.5'},\n",
       " {'column': 'Repulsorlift Motor HP', 'id': 45, 'value': 17.0},\n",
       " {'column': 'AutoTerrain Tread Count', 'id': 80, 'value': 0.9156619831435056},\n",
       " {'column': 'Axial Piston Model', 'id': 36, 'value': 'alpha'},\n",
       " {'column': 'Axial Piston Model', 'id': 68, 'value': 'gamma'},\n",
       " {'column': 'InfoCore Size', 'id': 41, 'value': 0.4732485140889734},\n",
       " {'column': 'Axial Piston Model', 'id': 99, 'value': 'alpha'},\n",
       " {'column': 'Cranial Uplink Bandwidth', 'id': 16, 'value': 0.8252012546149333},\n",
       " {'column': 'Arakyd Vocabulator Model', 'id': 89, 'value': 'model E'},\n",
       " {'column': 'Arakyd Vocabulator Model', 'id': 69, 'value': 'model E'},\n",
       " {'column': 'Cranial Uplink Bandwidth', 'id': 50, 'value': 0.7372919836558776},\n",
       " {'column': 'AutoTerrain Tread Count', 'id': 36, 'value': 0.5463713337685108},\n",
       " {'column': 'Nanochip Model', 'id': 79, 'value': 'windows 2000'},\n",
       " {'column': 'Astrogation Buffer Length', 'id': 80, 'value': 40.0},\n",
       " {'column': 'Repulsorlift Motor HP', 'id': 1, 'value': 96.0},\n",
       " {'column': 'Repulsorlift Motor HP', 'id': 74, 'value': 47.0},\n",
       " {'column': 'InfoCore Size', 'id': 3, 'value': 0.5107161892053845},\n",
       " {'column': 'Polarity Sinks', 'id': 41, 'value': 0.640418365405748},\n",
       " {'column': 'Cranial Uplink Bandwidth', 'id': 33, 'value': 0.7168398002072907},\n",
       " {'column': 'Axial Piston Model', 'id': 86, 'value': 'alpha'},\n",
       " {'column': 'Astrogation Buffer Length', 'id': 54, 'value': 40.0},\n",
       " {'column': 'AutoTerrain Tread Count', 'id': 10, 'value': 0.7657485611389943},\n",
       " {'column': 'Nanochip Model', 'id': 94, 'value': 'v0.5'},\n",
       " {'column': 'Polarity Sinks', 'id': 13, 'value': 0.3931264231247742},\n",
       " {'column': 'Arakyd Vocabulator Model', 'id': 92, 'value': 'model A'},\n",
       " {'column': 'Cranial Uplink Bandwidth', 'id': 91, 'value': 0.0587363404779881},\n",
       " {'column': 'Repulsorlift Motor HP', 'id': 41, 'value': 39.0},\n",
       " {'column': 'Sonoreceptors', 'id': 38, 'value': 0.7530661277161256},\n",
       " {'column': 'InfoCore Size', 'id': 84, 'value': 0.3663566057977656},\n",
       " {'column': 'Axial Piston Model', 'id': 92, 'value': 'alpha'},\n",
       " {'column': 'AutoTerrain Tread Count', 'id': 37, 'value': 0.9490487328339956},\n",
       " {'column': 'Axial Piston Model', 'id': 82, 'value': 'gamma'},\n",
       " {'column': 'Sonoreceptors', 'id': 49, 'value': 0.2857995113679989},\n",
       " {'column': 'Polarity Sinks', 'id': 1, 'value': 0.8264190085292087},\n",
       " {'column': 'Cranial Uplink Bandwidth', 'id': 21, 'value': 0.8948495472366295},\n",
       " {'column': 'Sonoreceptors', 'id': 26, 'value': 0.448498800052601},\n",
       " {'column': 'Arakyd Vocabulator Model', 'id': 86, 'value': 'model E'},\n",
       " {'column': 'InfoCore Size', 'id': 46, 'value': 0.3313797493463284},\n",
       " {'column': 'Repulsorlift Motor HP', 'id': 90, 'value': 86.0},\n",
       " {'column': 'Polarity Sinks', 'id': 59, 'value': 0.3741471663858946},\n",
       " {'column': 'Astrogation Buffer Length', 'id': 97, 'value': 36.0},\n",
       " {'column': 'AutoTerrain Tread Count', 'id': 22, 'value': 1.0980389416593213},\n",
       " {'column': 'Axial Piston Model', 'id': 39, 'value': 'gamma'},\n",
       " {'column': 'InfoCore Size', 'id': 60, 'value': 0.85},\n",
       " {'column': 'Sonoreceptors', 'id': 5, 'value': 0.6372863235521126},\n",
       " {'column': 'Repulsorlift Motor HP', 'id': 7, 'value': 48.0},\n",
       " {'column': 'Nanochip Model', 'id': 80, 'value': 'v1.0'},\n",
       " {'column': 'Sonoreceptors', 'id': 79, 'value': 0.5929123824005662},\n",
       " {'column': 'Astrogation Buffer Length', 'id': 24, 'value': 63.0},\n",
       " {'column': 'Arakyd Vocabulator Model', 'id': 51, 'value': 'model E'},\n",
       " {'column': 'Arakyd Vocabulator Model', 'id': 92, 'value': 'model A'},\n",
       " {'column': 'Axial Piston Model', 'id': 30, 'value': 'gamma'},\n",
       " {'column': 'Sonoreceptors', 'id': 34, 'value': 0.2710690556849823},\n",
       " {'column': 'Nanochip Model', 'id': 54, 'value': 'v1.5'},\n",
       " {'column': 'Repulsorlift Motor HP', 'id': 50, 'value': 33.0},\n",
       " {'column': 'Cranial Uplink Bandwidth', 'id': 8, 'value': 0.7207308720215798},\n",
       " {'column': 'Astrogation Buffer Length', 'id': 27, 'value': 30.0},\n",
       " {'column': 'Nanochip Model', 'id': 91, 'value': 'v0.5'},\n",
       " {'column': 'Polarity Sinks', 'id': 34, 'value': 0.3497700143978084},\n",
       " {'column': 'Astrogation Buffer Length', 'id': 97, 'value': 36.0},\n",
       " {'column': 'Arakyd Vocabulator Model', 'id': 36, 'value': 'model E'},\n",
       " {'column': 'Sonoreceptors', 'id': 45, 'value': 0.6055283796119031},\n",
       " {'column': 'Astrogation Buffer Length', 'id': 81, 'value': 61.0},\n",
       " {'column': 'Axial Piston Model', 'id': 89, 'value': 'gamma'},\n",
       " {'column': 'Sonoreceptors', 'id': 10, 'value': 0.3073316295775374},\n",
       " {'column': 'Axial Piston Model', 'id': 31, 'value': 'alpha'},\n",
       " {'column': 'Repulsorlift Motor HP', 'id': 90, 'value': 86.0},\n",
       " {'column': 'Arakyd Vocabulator Model', 'id': 94, 'value': 'model C'},\n",
       " {'column': 'InfoCore Size', 'id': 28, 'value': -0.0996591136429487},\n",
       " {'column': 'Astrogation Buffer Length', 'id': 12, 'value': 65.0},\n",
       " {'column': 'Nanochip Model', 'id': 21, 'value': 'v1.5'},\n",
       " {'column': 'Nanochip Model', 'id': 56, 'value': 'v1.5'},\n",
       " {'column': 'Axial Piston Model', 'id': 54, 'value': 'gamma'},\n",
       " {'column': 'Polarity Sinks', 'id': 42, 'value': 0.9395978682290804},\n",
       " {'column': 'Sonoreceptors', 'id': 37, 'value': 0.5907171641599216},\n",
       " {'column': 'Repulsorlift Motor HP', 'id': 55, 'value': 97.0},\n",
       " {'column': 'Sonoreceptors', 'id': 45, 'value': 0.6055283796119031},\n",
       " {'column': 'Axial Piston Model', 'id': 63, 'value': 'gamma'},\n",
       " {'column': 'Arakyd Vocabulator Model', 'id': 17, 'value': 'model A'},\n",
       " {'column': 'Sonoreceptors', 'id': 48, 'value': 0.8621719764169867},\n",
       " {'column': 'Polarity Sinks', 'id': 3, 'value': 0.557299851500844},\n",
       " {'column': 'Astrogation Buffer Length', 'id': 45, 'value': 26.0},\n",
       " {'column': 'Axial Piston Model', 'id': 76, 'value': 'alpha'},\n",
       " {'column': 'Sonoreceptors', 'id': 47, 'value': 0.3906926617062377},\n",
       " {'column': 'Astrogation Buffer Length', 'id': 68, 'value': 66.0},\n",
       " {'column': 'Sonoreceptors', 'id': 54, 'value': 0.7832430438103607},\n",
       " {'column': 'InfoCore Size', 'id': 40, 'value': 0.1317813767283215},\n",
       " {'column': 'Axial Piston Model', 'id': 96, 'value': 'gamma'},\n",
       " {'column': 'Axial Piston Model', 'id': 47, 'value': 'alpha'},\n",
       " {'column': 'Nanochip Model', 'id': 1, 'value': 'v1.0'},\n",
       " {'column': 'Repulsorlift Motor HP', 'id': 79, 'value': 18.0},\n",
       " {'column': 'Axial Piston Model', 'id': 62, 'value': 'alpha'},\n",
       " {'column': 'InfoCore Size', 'id': 87, 'value': 0.3224744077679765},\n",
       " {'column': 'Polarity Sinks', 'id': 92, 'value': 0.584420041082313},\n",
       " {'column': 'Arakyd Vocabulator Model', 'id': 33, 'value': 'model C'},\n",
       " {'column': 'Astrogation Buffer Length', 'id': 54, 'value': 40.0},\n",
       " {'column': 'Astrogation Buffer Length', 'id': 71, 'value': 99.0},\n",
       " {'column': 'Repulsorlift Motor HP', 'id': 89, 'value': 43.0},\n",
       " {'column': 'Arakyd Vocabulator Model', 'id': 44, 'value': 'model C'},\n",
       " {'column': 'InfoCore Size', 'id': 22, 'value': 0.5152792373016463},\n",
       " {'column': 'Repulsorlift Motor HP', 'id': 4, 'value': 41.0},\n",
       " {'column': 'InfoCore Size', 'id': 63, 'value': 0.6991303288788728},\n",
       " {'column': 'Sonoreceptors', 'id': 44, 'value': 0.5469919690206975},\n",
       " {'column': 'Arakyd Vocabulator Model', 'id': 93, 'value': 'model C'},\n",
       " {'column': 'Sonoreceptors', 'id': 14, 'value': 0.1146905698991417},\n",
       " {'column': 'AutoTerrain Tread Count', 'id': 11, 'value': 0.6171060598176814},\n",
       " {'column': 'Nanochip Model', 'id': 36, 'value': 'v0.5'},\n",
       " {'column': 'Polarity Sinks', 'id': 62, 'value': 0.5501133056006384},\n",
       " {'column': 'Axial Piston Model', 'id': 83, 'value': 'alpha'},\n",
       " {'column': 'Nanochip Model', 'id': 89, 'value': 'v1.0'},\n",
       " {'column': 'Repulsorlift Motor HP', 'id': 10, 'value': 83.0},\n",
       " {'column': 'Arakyd Vocabulator Model', 'id': 70, 'value': 'model C'},\n",
       " {'column': 'Axial Piston Model', 'id': 30, 'value': 'gamma'},\n",
       " {'column': 'Sonoreceptors', 'id': 47, 'value': 0.3906926617062377},\n",
       " {'column': 'Axial Piston Model', 'id': 99, 'value': 'alpha'},\n",
       " {'column': 'Axial Piston Model', 'id': 72, 'value': 'gamma'},\n",
       " {'column': 'Arakyd Vocabulator Model', 'id': 19, 'value': 'model E'},\n",
       " {'column': 'Axial Piston Model', 'id': 32, 'value': 'alpha'},\n",
       " {'column': 'Astrogation Buffer Length', 'id': 61, 'value': 31.0},\n",
       " {'column': 'Sonoreceptors', 'id': 38, 'value': 0.7530661277161256},\n",
       " {'column': 'Polarity Sinks', 'id': 80, 'value': 0.6659982448109876},\n",
       " {'column': 'AutoTerrain Tread Count', 'id': 44, 'value': 0.8743923539722067},\n",
       " {'column': 'Axial Piston Model', 'id': 23, 'value': 'gamma'},\n",
       " {'column': 'Cranial Uplink Bandwidth', 'id': 14, 'value': 0.1172689262374507},\n",
       " {'column': 'Astrogation Buffer Length', 'id': 98, 'value': 73.0},\n",
       " {'column': 'Sonoreceptors', 'id': 8, 'value': 0.7392008403268032},\n",
       " {'column': 'Nanochip Model', 'id': 0, 'value': 'v2.0'},\n",
       " {'column': 'Astrogation Buffer Length', 'id': 57, 'value': 8.0},\n",
       " {'column': 'Cranial Uplink Bandwidth', 'id': 47, 'value': 0.3518755543065452},\n",
       " {'column': 'Sonoreceptors', 'id': 3, 'value': 0.6493489922839912},\n",
       " {'column': 'Sonoreceptors', 'id': 93, 'value': 0.3960655854620699},\n",
       " {'column': 'Nanochip Model', 'id': 8, 'value': 'windows 2000'},\n",
       " {'column': 'Repulsorlift Motor HP', 'id': 98, 'value': 3.0},\n",
       " {'column': 'Cranial Uplink Bandwidth', 'id': 9, 'value': 0.027675660407252},\n",
       " {'column': 'Polarity Sinks', 'id': 40, 'value': 0.3540471398130956},\n",
       " {'column': 'Astrogation Buffer Length', 'id': 72, 'value': 26.0},\n",
       " {'column': 'Repulsorlift Motor HP', 'id': 95, 'value': 83.0},\n",
       " {'column': 'Sonoreceptors', 'id': 44, 'value': 0.5469919690206975},\n",
       " {'column': 'Cranial Uplink Bandwidth', 'id': 79, 'value': 0.6236166444488328},\n",
       " {'column': 'Cranial Uplink Bandwidth', 'id': 55, 'value': 0.8908988403359668},\n",
       " {'column': 'Astrogation Buffer Length', 'id': 39, 'value': 40.0}]"
      ]
     },
     "execution_count": 7,
     "metadata": {},
     "output_type": "execute_result"
    }
   ],
   "source": [
    "# get all the game parts since the start of the game\n",
    "game.getHints(hintstart=0)['parts']"
   ]
  },
  {
   "cell_type": "code",
   "execution_count": 43,
   "metadata": {},
   "outputs": [
    {
     "data": {
      "text/plain": [
       "{}"
      ]
     },
     "execution_count": 43,
     "metadata": {},
     "output_type": "execute_result"
    }
   ],
   "source": [
    "# debug information while game is in simulation\n",
    "game.getDebug()"
   ]
  },
  {
   "cell_type": "code",
   "execution_count": 8,
   "metadata": {},
   "outputs": [
    {
     "data": {
      "text/html": [
       "<div>\n",
       "<style scoped>\n",
       "    .dataframe tbody tr th:only-of-type {\n",
       "        vertical-align: middle;\n",
       "    }\n",
       "\n",
       "    .dataframe tbody tr th {\n",
       "        vertical-align: top;\n",
       "    }\n",
       "\n",
       "    .dataframe thead th {\n",
       "        text-align: right;\n",
       "    }\n",
       "</style>\n",
       "<table border=\"1\" class=\"dataframe\">\n",
       "  <thead>\n",
       "    <tr style=\"text-align: right;\">\n",
       "      <th></th>\n",
       "      <th>column</th>\n",
       "      <th>id</th>\n",
       "      <th>value</th>\n",
       "    </tr>\n",
       "  </thead>\n",
       "  <tbody>\n",
       "    <tr>\n",
       "      <th>0</th>\n",
       "      <td>Astrogation Buffer Length</td>\n",
       "      <td>41</td>\n",
       "      <td>1.0</td>\n",
       "    </tr>\n",
       "    <tr>\n",
       "      <th>1</th>\n",
       "      <td>InfoCore Size</td>\n",
       "      <td>21</td>\n",
       "      <td>0.728321</td>\n",
       "    </tr>\n",
       "    <tr>\n",
       "      <th>2</th>\n",
       "      <td>InfoCore Size</td>\n",
       "      <td>37</td>\n",
       "      <td>0.48423</td>\n",
       "    </tr>\n",
       "    <tr>\n",
       "      <th>3</th>\n",
       "      <td>Arakyd Vocabulator Model</td>\n",
       "      <td>81</td>\n",
       "      <td>model E</td>\n",
       "    </tr>\n",
       "    <tr>\n",
       "      <th>4</th>\n",
       "      <td>Cranial Uplink Bandwidth</td>\n",
       "      <td>20</td>\n",
       "      <td>-0.048643</td>\n",
       "    </tr>\n",
       "    <tr>\n",
       "      <th>...</th>\n",
       "      <td>...</td>\n",
       "      <td>...</td>\n",
       "      <td>...</td>\n",
       "    </tr>\n",
       "    <tr>\n",
       "      <th>277</th>\n",
       "      <td>Repulsorlift Motor HP</td>\n",
       "      <td>95</td>\n",
       "      <td>83.0</td>\n",
       "    </tr>\n",
       "    <tr>\n",
       "      <th>278</th>\n",
       "      <td>Sonoreceptors</td>\n",
       "      <td>44</td>\n",
       "      <td>0.546992</td>\n",
       "    </tr>\n",
       "    <tr>\n",
       "      <th>279</th>\n",
       "      <td>Cranial Uplink Bandwidth</td>\n",
       "      <td>79</td>\n",
       "      <td>0.623617</td>\n",
       "    </tr>\n",
       "    <tr>\n",
       "      <th>280</th>\n",
       "      <td>Cranial Uplink Bandwidth</td>\n",
       "      <td>55</td>\n",
       "      <td>0.890899</td>\n",
       "    </tr>\n",
       "    <tr>\n",
       "      <th>281</th>\n",
       "      <td>Astrogation Buffer Length</td>\n",
       "      <td>39</td>\n",
       "      <td>40.0</td>\n",
       "    </tr>\n",
       "  </tbody>\n",
       "</table>\n",
       "<p>282 rows × 3 columns</p>\n",
       "</div>"
      ],
      "text/plain": [
       "                        column  id     value\n",
       "0    Astrogation Buffer Length  41       1.0\n",
       "1                InfoCore Size  21  0.728321\n",
       "2                InfoCore Size  37   0.48423\n",
       "3     Arakyd Vocabulator Model  81   model E\n",
       "4     Cranial Uplink Bandwidth  20 -0.048643\n",
       "..                         ...  ..       ...\n",
       "277      Repulsorlift Motor HP  95      83.0\n",
       "278              Sonoreceptors  44  0.546992\n",
       "279   Cranial Uplink Bandwidth  79  0.623617\n",
       "280   Cranial Uplink Bandwidth  55  0.890899\n",
       "281  Astrogation Buffer Length  39      40.0\n",
       "\n",
       "[282 rows x 3 columns]"
      ]
     },
     "execution_count": 8,
     "metadata": {},
     "output_type": "execute_result"
    }
   ],
   "source": [
    "pd.DataFrame(game.getAllPartHints())"
   ]
  },
  {
   "cell_type": "code",
   "execution_count": null,
   "metadata": {},
   "outputs": [],
   "source": []
  }
 ],
 "metadata": {
  "kernelspec": {
   "display_name": "Python 3 (ipykernel)",
   "language": "python",
   "name": "python3"
  },
  "language_info": {
   "codemirror_mode": {
    "name": "ipython",
    "version": 3
   },
   "file_extension": ".py",
   "mimetype": "text/x-python",
   "name": "python",
   "nbconvert_exporter": "python",
   "pygments_lexer": "ipython3",
   "version": "3.8.5"
  }
 },
 "nbformat": 4,
 "nbformat_minor": 4
}
