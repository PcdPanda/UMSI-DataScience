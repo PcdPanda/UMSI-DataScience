{
 "cells": [
  {
   "cell_type": "code",
   "execution_count": 2,
   "metadata": {},
   "outputs": [],
   "source": [
    "import pandas as pd\n",
    "import altair as alt"
   ]
  },
  {
   "cell_type": "code",
   "execution_count": 5,
   "metadata": {},
   "outputs": [
    {
     "data": {
      "text/html": [
       "\n",
       "<div id=\"altair-viz-0949885063a0440b82ce3f38b49814f5\"></div>\n",
       "<script type=\"text/javascript\">\n",
       "  (function(spec, embedOpt){\n",
       "    let outputDiv = document.currentScript.previousElementSibling;\n",
       "    if (outputDiv.id !== \"altair-viz-0949885063a0440b82ce3f38b49814f5\") {\n",
       "      outputDiv = document.getElementById(\"altair-viz-0949885063a0440b82ce3f38b49814f5\");\n",
       "    }\n",
       "    const paths = {\n",
       "      \"vega\": \"https://cdn.jsdelivr.net/npm//vega@5?noext\",\n",
       "      \"vega-lib\": \"https://cdn.jsdelivr.net/npm//vega-lib?noext\",\n",
       "      \"vega-lite\": \"https://cdn.jsdelivr.net/npm//vega-lite@4.8.1?noext\",\n",
       "      \"vega-embed\": \"https://cdn.jsdelivr.net/npm//vega-embed@6?noext\",\n",
       "    };\n",
       "\n",
       "    function loadScript(lib) {\n",
       "      return new Promise(function(resolve, reject) {\n",
       "        var s = document.createElement('script');\n",
       "        s.src = paths[lib];\n",
       "        s.async = true;\n",
       "        s.onload = () => resolve(paths[lib]);\n",
       "        s.onerror = () => reject(`Error loading script: ${paths[lib]}`);\n",
       "        document.getElementsByTagName(\"head\")[0].appendChild(s);\n",
       "      });\n",
       "    }\n",
       "\n",
       "    function showError(err) {\n",
       "      outputDiv.innerHTML = `<div class=\"error\" style=\"color:red;\">${err}</div>`;\n",
       "      throw err;\n",
       "    }\n",
       "\n",
       "    function displayChart(vegaEmbed) {\n",
       "      vegaEmbed(outputDiv, spec, embedOpt)\n",
       "        .catch(err => showError(`Javascript Error: ${err.message}<br>This usually means there's a typo in your chart specification. See the javascript console for the full traceback.`));\n",
       "    }\n",
       "\n",
       "    if(typeof define === \"function\" && define.amd) {\n",
       "      requirejs.config({paths});\n",
       "      require([\"vega-embed\"], displayChart, err => showError(`Error loading script: ${err.message}`));\n",
       "    } else if (typeof vegaEmbed === \"function\") {\n",
       "      displayChart(vegaEmbed);\n",
       "    } else {\n",
       "      loadScript(\"vega\")\n",
       "        .then(() => loadScript(\"vega-lite\"))\n",
       "        .then(() => loadScript(\"vega-embed\"))\n",
       "        .catch(showError)\n",
       "        .then(() => displayChart(vegaEmbed));\n",
       "    }\n",
       "  })({\"config\": {\"view\": {\"continuousWidth\": 400, \"continuousHeight\": 300}}, \"layer\": [{\"mark\": \"bar\", \"encoding\": {\"tooltip\": [{\"type\": \"ordinal\", \"field\": \"Unemployment_rank\"}], \"x\": {\"type\": \"quantitative\", \"field\": \"Unemployment Rate\", \"scale\": {\"domain\": [2.5, 5]}}, \"y\": {\"type\": \"nominal\", \"field\": \"State\", \"sort\": {\"field\": \"Unemployment_rank:Q\", \"order\": \"ascending\"}}}, \"transform\": [{\"window\": [{\"op\": \"rank\", \"field\": \"Unemployment Rate\", \"as\": \"Unemployment_rank\"}], \"sort\": [{\"field\": \"Unemployment Rate\", \"order\": \"ascending\"}]}], \"width\": 500}, {\"mark\": {\"type\": \"text\", \"align\": \"left\", \"dx\": 10}, \"encoding\": {\"text\": {\"type\": \"quantitative\", \"field\": \"Unemployment_rank\", \"format\": \".3\"}, \"tooltip\": [{\"type\": \"ordinal\", \"field\": \"Unemployment_rank\"}], \"x\": {\"type\": \"quantitative\", \"field\": \"Unemployment Rate\"}, \"y\": {\"type\": \"nominal\", \"field\": \"State\", \"sort\": {\"field\": \"Unemployment_rank:Q\", \"order\": \"ascending\"}}}, \"transform\": [{\"window\": [{\"op\": \"rank\", \"field\": \"Unemployment Rate\", \"as\": \"Unemployment_rank\"}], \"sort\": [{\"field\": \"Unemployment Rate\", \"order\": \"ascending\"}]}], \"width\": 500}], \"data\": {\"name\": \"data-bc741aa7209b7bbe68abda0ba00310a2\"}, \"title\": {\"text\": [\"US State Unemployment Rate (The Best 20)\"]}, \"$schema\": \"https://vega.github.io/schema/vega-lite/v4.8.1.json\", \"datasets\": {\"data-bc741aa7209b7bbe68abda0ba00310a2\": [{\"Unnamed: 0\": 34, \"Unnamed: 0.1\": 34, \"State\": \"North Dakota\", \"Unemployment Rate\": 2.8}, {\"Unnamed: 0\": 27, \"Unnamed: 0.1\": 27, \"State\": \"Nebraska\", \"Unemployment Rate\": 3.0}, {\"Unnamed: 0\": 42, \"Unnamed: 0.1\": 42, \"State\": \"South Dakota\", \"Unemployment Rate\": 3.1}, {\"Unnamed: 0\": 29, \"Unnamed: 0.1\": 29, \"State\": \"New Hampshire\", \"Unemployment Rate\": 3.3}, {\"Unnamed: 0\": 11, \"Unnamed: 0.1\": 11, \"State\": \"Hawaii\", \"Unemployment Rate\": 3.3}, {\"Unnamed: 0\": 46, \"Unnamed: 0.1\": 46, \"State\": \"Vermont\", \"Unemployment Rate\": 3.5}, {\"Unnamed: 0\": 45, \"Unnamed: 0.1\": 45, \"State\": \"Utah\", \"Unemployment Rate\": 3.5}, {\"Unnamed: 0\": 15, \"Unnamed: 0.1\": 15, \"State\": \"Iowa\", \"Unemployment Rate\": 3.6}, {\"Unnamed: 0\": 5, \"Unnamed: 0.1\": 5, \"State\": \"Colorado\", \"Unemployment Rate\": 3.7}, {\"Unnamed: 0\": 23, \"Unnamed: 0.1\": 23, \"State\": \"Minnesota\", \"Unemployment Rate\": 3.8}, {\"Unnamed: 0\": 12, \"Unnamed: 0.1\": 12, \"State\": \"Idaho\", \"Unemployment Rate\": 3.9}, {\"Unnamed: 0\": 16, \"Unnamed: 0.1\": 16, \"State\": \"Kansas\", \"Unemployment Rate\": 4.1}, {\"Unnamed: 0\": 51, \"Unnamed: 0.1\": 51, \"State\": \"Wyoming\", \"Unemployment Rate\": 4.2}, {\"Unnamed: 0\": 47, \"Unnamed: 0.1\": 47, \"State\": \"Virginia\", \"Unemployment Rate\": 4.3}, {\"Unnamed: 0\": 19, \"Unnamed: 0.1\": 19, \"State\": \"Maine\", \"Unemployment Rate\": 4.3}, {\"Unnamed: 0\": 26, \"Unnamed: 0.1\": 26, \"State\": \"Montana\", \"Unemployment Rate\": 4.3}, {\"Unnamed: 0\": 36, \"Unnamed: 0.1\": 36, \"State\": \"Oklahoma\", \"Unemployment Rate\": 4.4}, {\"Unnamed: 0\": 44, \"Unnamed: 0.1\": 44, \"State\": \"Texas\", \"Unemployment Rate\": 4.4}, {\"Unnamed: 0\": 50, \"Unnamed: 0.1\": 50, \"State\": \"Wisconsin\", \"Unemployment Rate\": 4.4}, {\"Unnamed: 0\": 14, \"Unnamed: 0.1\": 14, \"State\": \"Indiana\", \"Unemployment Rate\": 4.6}]}}, {\"mode\": \"vega-lite\"});\n",
       "</script>"
      ],
      "text/plain": [
       "alt.LayerChart(...)"
      ]
     },
     "execution_count": 5,
     "metadata": {},
     "output_type": "execute_result"
    }
   ],
   "source": [
    "def get_state_unemployment():\n",
    "    df = pd.read_csv(\"../data/US_unemployment.csv\")\n",
    "    df = df.sort_values([\"Unemployment Rate\"])[:20]\n",
    "    base = alt.Chart(df, width=500).transform_window(\n",
    "        sort=[alt.SortField(\"Unemployment Rate\", order=\"ascending\")],\n",
    "        Unemployment_rank=\"rank(Unemployment Rate)\"\n",
    "    )\n",
    "    chart = base.mark_bar().encode(\n",
    "        x=alt.X(\"Unemployment Rate:Q\", scale=alt.Scale(domain=[2.5, 5])),\n",
    "        y=alt.Y(\"State:N\", sort=alt.EncodingSortField(\"Unemployment_rank:Q\", order=\"ascending\")),\n",
    "        # color=alt.condition(alt.datum.State == \"Minnesota\", alt.value(\"gray\"), alt.value(\"lightblue\")),\n",
    "        tooltip=[\"Unemployment_rank:O\"]\n",
    "    )\n",
    "    text = base.mark_text(\n",
    "        align=\"left\", dx=10\n",
    "    ).encode(\n",
    "        x=alt.X(\"Unemployment Rate:Q\"),\n",
    "        y=alt.Y(\"State:N\", sort=alt.EncodingSortField(\"Unemployment_rank:Q\", order=\"ascending\")),\n",
    "        text=alt.Text(\"Unemployment_rank:Q\", format=\".3\"),\n",
    "        tooltip=[\"Unemployment_rank:O\"]\n",
    "    )\n",
    "    return (chart + text).properties(title={\n",
    "        \"text\": [\"US State Unemployment Rate (The Best 20)\"]\n",
    "    })\n",
    "get_state_unemployment()"
   ]
  },
  {
   "cell_type": "code",
   "execution_count": null,
   "metadata": {},
   "outputs": [],
   "source": []
  }
 ],
 "metadata": {
  "interpreter": {
   "hash": "a93ad6167c675067e1a0ef55f67a8bdee8b757c884db8cc373ea6d0aaf812361"
  },
  "kernelspec": {
   "display_name": "Python 3.8.8 64-bit ('SI649': conda)",
   "name": "python3"
  },
  "language_info": {
   "codemirror_mode": {
    "name": "ipython",
    "version": 3
   },
   "file_extension": ".py",
   "mimetype": "text/x-python",
   "name": "python",
   "nbconvert_exporter": "python",
   "pygments_lexer": "ipython3",
   "version": "3.8.8"
  },
  "orig_nbformat": 4
 },
 "nbformat": 4,
 "nbformat_minor": 2
}
