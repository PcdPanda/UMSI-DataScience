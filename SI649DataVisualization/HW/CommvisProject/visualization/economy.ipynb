{
 "cells": [
  {
   "cell_type": "code",
   "execution_count": 2,
   "metadata": {},
   "outputs": [],
   "source": [
    "import pandas as pd\n",
    "import altair as alt"
   ]
  },
  {
   "cell_type": "code",
   "execution_count": 24,
   "metadata": {},
   "outputs": [],
   "source": [
    "def get_unemployment():\n",
    "    mn_df = pd.read_csv(\"../data/MN_unemployment.csv\").set_index([\"County\"])\n",
    "    us_df = pd.read_csv(\"../data/US_unemployment.csv\").set_index([\"State\"])\n",
    "    data = {\"US average\":us_df[\"Unemployment Rate\"].mean(), \"MN average\": us_df.loc[\"Minnesota\"][\"Unemployment Rate\"], \"Red Lake\": mn_df.loc[\"Red Lake County\"][\"Unemployment Rate\"]}\n",
    "    df = pd.DataFrame(pd.Series(data)).reset_index().rename(columns={0:\"Unemployment Rate\", \"index\": \"Region\"})\n",
    "    chart = alt.Chart(df, height=100, width=300).mark_bar().encode(\n",
    "        x=alt.X(\"Unemployment Rate:Q\", scale=alt.Scale(domain=[2.5,5.5])),\n",
    "        y=alt.Y(\"Region:N\"),\n",
    "        color=alt.condition(alt.datum.Region == \"Red Lake\", alt.value(\"blue\"), alt.value(\"lightblue\"))\n",
    "    )\n",
    "    text = alt.Chart(df).mark_text(\n",
    "        align=\"left\",\n",
    "    ).encode(\n",
    "        x=alt.X(\"Unemployment Rate:Q\", scale=alt.Scale(domain=[2.5,5.5])),\n",
    "        y=alt.Y(\"Region:N\"),\n",
    "        text=alt.Text(\"Unemployment Rate:Q\", format=\".3\")\n",
    "    )\n",
    "    return chart + text"
   ]
  },
  {
   "cell_type": "code",
   "execution_count": 25,
   "metadata": {},
   "outputs": [],
   "source": [
    "def get_poverty():\n",
    "    data = {\"US average\":15.4, \"MN average\": 11.5, \"Red Lake\": 11.9}\n",
    "    df = pd.DataFrame(pd.Series(data)).reset_index().rename(columns={0:\"Poverty Rate\", \"index\": \"Region\"})\n",
    "    chart = alt.Chart(df, height=100, width=300).mark_bar().encode(\n",
    "        x=alt.X(\"Poverty Rate:Q\", scale=alt.Scale(domain=[5, 20])),\n",
    "        y=alt.Y(\"Region:N\", axis=None),\n",
    "        color=alt.condition(alt.datum.Region == \"Red Lake\", alt.value(\"blue\"), alt.value(\"lightblue\"))\n",
    "    )\n",
    "    text = alt.Chart(df).mark_text(\n",
    "        align=\"left\",\n",
    "    ).encode(\n",
    "        x=alt.X(\"Poverty Rate:Q\"),\n",
    "        y=alt.Y(\"Region:N\"),\n",
    "        text=alt.Text(\"Poverty Rate:Q\", format=\".3\")\n",
    "    )\n",
    "    return chart + text"
   ]
  },
  {
   "cell_type": "code",
   "execution_count": 28,
   "metadata": {},
   "outputs": [
    {
     "data": {
      "text/html": [
       "\n",
       "<div id=\"altair-viz-33399f8dc1fe40309686e325a329e28a\"></div>\n",
       "<script type=\"text/javascript\">\n",
       "  (function(spec, embedOpt){\n",
       "    let outputDiv = document.currentScript.previousElementSibling;\n",
       "    if (outputDiv.id !== \"altair-viz-33399f8dc1fe40309686e325a329e28a\") {\n",
       "      outputDiv = document.getElementById(\"altair-viz-33399f8dc1fe40309686e325a329e28a\");\n",
       "    }\n",
       "    const paths = {\n",
       "      \"vega\": \"https://cdn.jsdelivr.net/npm//vega@5?noext\",\n",
       "      \"vega-lib\": \"https://cdn.jsdelivr.net/npm//vega-lib?noext\",\n",
       "      \"vega-lite\": \"https://cdn.jsdelivr.net/npm//vega-lite@4.8.1?noext\",\n",
       "      \"vega-embed\": \"https://cdn.jsdelivr.net/npm//vega-embed@6?noext\",\n",
       "    };\n",
       "\n",
       "    function loadScript(lib) {\n",
       "      return new Promise(function(resolve, reject) {\n",
       "        var s = document.createElement('script');\n",
       "        s.src = paths[lib];\n",
       "        s.async = true;\n",
       "        s.onload = () => resolve(paths[lib]);\n",
       "        s.onerror = () => reject(`Error loading script: ${paths[lib]}`);\n",
       "        document.getElementsByTagName(\"head\")[0].appendChild(s);\n",
       "      });\n",
       "    }\n",
       "\n",
       "    function showError(err) {\n",
       "      outputDiv.innerHTML = `<div class=\"error\" style=\"color:red;\">${err}</div>`;\n",
       "      throw err;\n",
       "    }\n",
       "\n",
       "    function displayChart(vegaEmbed) {\n",
       "      vegaEmbed(outputDiv, spec, embedOpt)\n",
       "        .catch(err => showError(`Javascript Error: ${err.message}<br>This usually means there's a typo in your chart specification. See the javascript console for the full traceback.`));\n",
       "    }\n",
       "\n",
       "    if(typeof define === \"function\" && define.amd) {\n",
       "      requirejs.config({paths});\n",
       "      require([\"vega-embed\"], displayChart, err => showError(`Error loading script: ${err.message}`));\n",
       "    } else if (typeof vegaEmbed === \"function\") {\n",
       "      displayChart(vegaEmbed);\n",
       "    } else {\n",
       "      loadScript(\"vega\")\n",
       "        .then(() => loadScript(\"vega-lite\"))\n",
       "        .then(() => loadScript(\"vega-embed\"))\n",
       "        .catch(showError)\n",
       "        .then(() => displayChart(vegaEmbed));\n",
       "    }\n",
       "  })({\"config\": {\"view\": {\"continuousWidth\": 400, \"continuousHeight\": 300}}, \"hconcat\": [{\"layer\": [{\"mark\": \"bar\", \"encoding\": {\"color\": {\"condition\": {\"value\": \"blue\", \"test\": \"(datum.Region === 'Red Lake')\"}, \"value\": \"lightblue\"}, \"x\": {\"type\": \"quantitative\", \"field\": \"Unemployment Rate\", \"scale\": {\"domain\": [2.5, 5.5]}}, \"y\": {\"type\": \"nominal\", \"field\": \"Region\"}}, \"height\": 100, \"width\": 300}, {\"mark\": {\"type\": \"text\", \"align\": \"left\"}, \"encoding\": {\"text\": {\"type\": \"quantitative\", \"field\": \"Unemployment Rate\", \"format\": \".3\"}, \"x\": {\"type\": \"quantitative\", \"field\": \"Unemployment Rate\", \"scale\": {\"domain\": [2.5, 5.5]}}, \"y\": {\"type\": \"nominal\", \"field\": \"Region\"}}}], \"data\": {\"name\": \"data-6ac9c2d779620812a44ae431e03e645a\"}}, {\"layer\": [{\"mark\": \"bar\", \"encoding\": {\"color\": {\"condition\": {\"value\": \"blue\", \"test\": \"(datum.Region === 'Red Lake')\"}, \"value\": \"lightblue\"}, \"x\": {\"type\": \"quantitative\", \"field\": \"Poverty Rate\", \"scale\": {\"domain\": [5, 20]}}, \"y\": {\"type\": \"nominal\", \"axis\": null, \"field\": \"Region\"}}, \"height\": 100, \"width\": 300}, {\"mark\": {\"type\": \"text\", \"align\": \"left\"}, \"encoding\": {\"text\": {\"type\": \"quantitative\", \"field\": \"Poverty Rate\", \"format\": \".3\"}, \"x\": {\"type\": \"quantitative\", \"field\": \"Poverty Rate\"}, \"y\": {\"type\": \"nominal\", \"field\": \"Region\"}}}], \"data\": {\"name\": \"data-54268c01d290816cc0ad82d372a60f0b\"}}], \"resolve\": {\"scale\": {\"y\": \"shared\"}}, \"title\": {\"text\": [\"Unemployment and Poverty Rate in US\"], \"fontSize\": 20}, \"$schema\": \"https://vega.github.io/schema/vega-lite/v4.8.1.json\", \"datasets\": {\"data-6ac9c2d779620812a44ae431e03e645a\": [{\"Region\": \"US average\", \"Unemployment Rate\": 5.101923076923077}, {\"Region\": \"MN average\", \"Unemployment Rate\": 3.8}, {\"Region\": \"Red Lake\", \"Unemployment Rate\": 4.6}], \"data-54268c01d290816cc0ad82d372a60f0b\": [{\"Region\": \"US average\", \"Poverty Rate\": 15.4}, {\"Region\": \"MN average\", \"Poverty Rate\": 11.5}, {\"Region\": \"Red Lake\", \"Poverty Rate\": 11.9}]}}, {\"mode\": \"vega-lite\"});\n",
       "</script>"
      ],
      "text/plain": [
       "alt.HConcatChart(...)"
      ]
     },
     "execution_count": 28,
     "metadata": {},
     "output_type": "execute_result"
    }
   ],
   "source": [
    "(get_unemployment() | get_poverty()).resolve_scale(y=\"shared\").properties(title={\n",
    "        \"text\": [\"Unemployment and Poverty Rate in US\"],\n",
    "        \"fontSize\": 20\n",
    "    })"
   ]
  },
  {
   "cell_type": "code",
   "execution_count": null,
   "metadata": {},
   "outputs": [],
   "source": []
  },
  {
   "cell_type": "code",
   "execution_count": null,
   "metadata": {},
   "outputs": [],
   "source": []
  }
 ],
 "metadata": {
  "interpreter": {
   "hash": "a93ad6167c675067e1a0ef55f67a8bdee8b757c884db8cc373ea6d0aaf812361"
  },
  "kernelspec": {
   "display_name": "Python 3.8.8 64-bit ('SI649': conda)",
   "name": "python3"
  },
  "language_info": {
   "codemirror_mode": {
    "name": "ipython",
    "version": 3
   },
   "file_extension": ".py",
   "mimetype": "text/x-python",
   "name": "python",
   "nbconvert_exporter": "python",
   "pygments_lexer": "ipython3",
   "version": "3.8.8"
  },
  "orig_nbformat": 4
 },
 "nbformat": 4,
 "nbformat_minor": 2
}
