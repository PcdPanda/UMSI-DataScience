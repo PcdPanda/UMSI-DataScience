{
 "cells": [
  {
   "cell_type": "code",
   "execution_count": null,
   "metadata": {},
   "outputs": [],
   "source": [
    "import pandas as pd\n",
    "import altair as alt\n",
    "alt.data_transformers.disable_max_rows()"
   ]
  },
  {
   "cell_type": "code",
   "execution_count": null,
   "metadata": {},
   "outputs": [],
   "source": [
    "df = pd.read_csv(\"../data/US_life_expectancy.csv\")"
   ]
  },
  {
   "cell_type": "code",
   "execution_count": null,
   "metadata": {},
   "outputs": [],
   "source": [
    "df_group = df.groupby([\"lifetime_interval\"]).count().reset_index()"
   ]
  },
  {
   "cell_type": "code",
   "execution_count": 41,
   "metadata": {},
   "outputs": [],
   "source": [
    "df_group[\"count\"] = df_group[\"State\"].astype(str)\n",
    "x = df_group[\"count\"].values\n",
    "x[5] = \"(Red Lake)\"\n",
    "df_group[\"count\"] = x\n"
   ]
  },
  {
   "cell_type": "code",
   "execution_count": 42,
   "metadata": {},
   "outputs": [
    {
     "data": {
      "text/html": [
       "\n",
       "<div id=\"altair-viz-7735815b6d2f42829422b83c68ee822c\"></div>\n",
       "<script type=\"text/javascript\">\n",
       "  (function(spec, embedOpt){\n",
       "    let outputDiv = document.currentScript.previousElementSibling;\n",
       "    if (outputDiv.id !== \"altair-viz-7735815b6d2f42829422b83c68ee822c\") {\n",
       "      outputDiv = document.getElementById(\"altair-viz-7735815b6d2f42829422b83c68ee822c\");\n",
       "    }\n",
       "    const paths = {\n",
       "      \"vega\": \"https://cdn.jsdelivr.net/npm//vega@5?noext\",\n",
       "      \"vega-lib\": \"https://cdn.jsdelivr.net/npm//vega-lib?noext\",\n",
       "      \"vega-lite\": \"https://cdn.jsdelivr.net/npm//vega-lite@4.8.1?noext\",\n",
       "      \"vega-embed\": \"https://cdn.jsdelivr.net/npm//vega-embed@6?noext\",\n",
       "    };\n",
       "\n",
       "    function loadScript(lib) {\n",
       "      return new Promise(function(resolve, reject) {\n",
       "        var s = document.createElement('script');\n",
       "        s.src = paths[lib];\n",
       "        s.async = true;\n",
       "        s.onload = () => resolve(paths[lib]);\n",
       "        s.onerror = () => reject(`Error loading script: ${paths[lib]}`);\n",
       "        document.getElementsByTagName(\"head\")[0].appendChild(s);\n",
       "      });\n",
       "    }\n",
       "\n",
       "    function showError(err) {\n",
       "      outputDiv.innerHTML = `<div class=\"error\" style=\"color:red;\">${err}</div>`;\n",
       "      throw err;\n",
       "    }\n",
       "\n",
       "    function displayChart(vegaEmbed) {\n",
       "      vegaEmbed(outputDiv, spec, embedOpt)\n",
       "        .catch(err => showError(`Javascript Error: ${err.message}<br>This usually means there's a typo in your chart specification. See the javascript console for the full traceback.`));\n",
       "    }\n",
       "\n",
       "    if(typeof define === \"function\" && define.amd) {\n",
       "      requirejs.config({paths});\n",
       "      require([\"vega-embed\"], displayChart, err => showError(`Error loading script: ${err.message}`));\n",
       "    } else if (typeof vegaEmbed === \"function\") {\n",
       "      displayChart(vegaEmbed);\n",
       "    } else {\n",
       "      loadScript(\"vega\")\n",
       "        .then(() => loadScript(\"vega-lite\"))\n",
       "        .then(() => loadScript(\"vega-embed\"))\n",
       "        .catch(showError)\n",
       "        .then(() => displayChart(vegaEmbed));\n",
       "    }\n",
       "  })({\"config\": {\"view\": {\"continuousWidth\": 400, \"continuousHeight\": 300}}, \"layer\": [{\"mark\": \"bar\", \"encoding\": {\"color\": {\"condition\": {\"value\": \"blue\", \"test\": \"(datum.lifetime_interval === '80.0-85.0')\"}, \"value\": \"lightblue\"}, \"x\": {\"type\": \"ordinal\", \"field\": \"lifetime_interval\"}, \"y\": {\"type\": \"quantitative\", \"field\": \"State\", \"title\": \"Number of Counties\"}}, \"width\": 750}, {\"mark\": {\"type\": \"text\", \"align\": \"center\", \"dy\": -10}, \"encoding\": {\"text\": {\"type\": \"nominal\", \"field\": \"count\"}, \"x\": {\"type\": \"ordinal\", \"field\": \"lifetime_interval\"}, \"y\": {\"type\": \"quantitative\", \"field\": \"State\"}}}], \"data\": {\"name\": \"data-c8822c4e3426c5679b872196992b82ee\"}, \"title\": {\"text\": [\"US Average Lifetime by Counties\"]}, \"$schema\": \"https://vega.github.io/schema/vega-lite/v4.8.1.json\", \"datasets\": {\"data-c8822c4e3426c5679b872196992b82ee\": [{\"lifetime_interval\": \"55.0-60.0\", \"State\": 6, \"County\": 6, \"Census Tract Number\": 6, \"Life Expectancy\": 6, \"Life Expectancy Range\": 6, \"Life Expectancy Standard Error\": 6, \"count\": \"6\"}, {\"lifetime_interval\": \"60.0-65.0\", \"State\": 99, \"County\": 99, \"Census Tract Number\": 99, \"Life Expectancy\": 99, \"Life Expectancy Range\": 99, \"Life Expectancy Standard Error\": 99, \"count\": \"99\"}, {\"lifetime_interval\": \"65.0-70.0\", \"State\": 1574, \"County\": 1574, \"Census Tract Number\": 1574, \"Life Expectancy\": 1574, \"Life Expectancy Range\": 1574, \"Life Expectancy Standard Error\": 1574, \"count\": \"1574\"}, {\"lifetime_interval\": \"70.0-75.0\", \"State\": 11137, \"County\": 11137, \"Census Tract Number\": 11137, \"Life Expectancy\": 11137, \"Life Expectancy Range\": 11137, \"Life Expectancy Standard Error\": 11137, \"count\": \"11137\"}, {\"lifetime_interval\": \"75.0-80.0\", \"State\": 30570, \"County\": 30570, \"Census Tract Number\": 30570, \"Life Expectancy\": 30570, \"Life Expectancy Range\": 30570, \"Life Expectancy Standard Error\": 30570, \"count\": \"30570\"}, {\"lifetime_interval\": \"80.0-85.0\", \"State\": 21049, \"County\": 21049, \"Census Tract Number\": 21049, \"Life Expectancy\": 21049, \"Life Expectancy Range\": 21049, \"Life Expectancy Standard Error\": 21049, \"count\": \"(Red Lake)\"}, {\"lifetime_interval\": \"85.0-90.0\", \"State\": 2644, \"County\": 2644, \"Census Tract Number\": 2644, \"Life Expectancy\": 2644, \"Life Expectancy Range\": 2644, \"Life Expectancy Standard Error\": 2644, \"count\": \"2644\"}, {\"lifetime_interval\": \"90.0-95.0\", \"State\": 67, \"County\": 67, \"Census Tract Number\": 67, \"Life Expectancy\": 67, \"Life Expectancy Range\": 67, \"Life Expectancy Standard Error\": 67, \"count\": \"67\"}, {\"lifetime_interval\": \"95.0-100.0\", \"State\": 2, \"County\": 2, \"Census Tract Number\": 2, \"Life Expectancy\": 2, \"Life Expectancy Range\": 2, \"Life Expectancy Standard Error\": 2, \"count\": \"2\"}]}}, {\"mode\": \"vega-lite\"});\n",
       "</script>"
      ],
      "text/plain": [
       "alt.LayerChart(...)"
      ]
     },
     "execution_count": 42,
     "metadata": {},
     "output_type": "execute_result"
    }
   ],
   "source": [
    "def get_litetime_chart(df):\n",
    "    chart = alt.Chart(df, width=750).mark_bar().encode(\n",
    "        x=alt.X(\"lifetime_interval:O\"),\n",
    "        y=alt.Y(\"State:Q\", title=\"Number of Counties\"),\n",
    "        color=alt.condition(alt.datum.lifetime_interval==\"80.0-85.0\", alt.value(\"blue\"), alt.value(\"lightblue\"))\n",
    "    )\n",
    "    text = alt.Chart(df).mark_text(\n",
    "        align=\"center\", dy=-10\n",
    "    ).encode(\n",
    "        x=alt.X(\"lifetime_interval:O\"),\n",
    "        y=alt.Y(\"State:Q\"),\n",
    "        text=alt.Text(\"count:N\")\n",
    "    )\n",
    "    return (chart + text).properties(title={\n",
    "        \"text\": [\"US Average Lifetime by Counties\"]\n",
    "    })\n",
    "\n",
    "get_litetime_chart(df_group)"
   ]
  },
  {
   "cell_type": "code",
   "execution_count": 30,
   "metadata": {},
   "outputs": [
    {
     "data": {
      "text/html": [
       "<div>\n",
       "<style scoped>\n",
       "    .dataframe tbody tr th:only-of-type {\n",
       "        vertical-align: middle;\n",
       "    }\n",
       "\n",
       "    .dataframe tbody tr th {\n",
       "        vertical-align: top;\n",
       "    }\n",
       "\n",
       "    .dataframe thead th {\n",
       "        text-align: right;\n",
       "    }\n",
       "</style>\n",
       "<table border=\"1\" class=\"dataframe\">\n",
       "  <thead>\n",
       "    <tr style=\"text-align: right;\">\n",
       "      <th></th>\n",
       "      <th>lifetime_interval</th>\n",
       "      <th>State</th>\n",
       "      <th>County</th>\n",
       "      <th>Census Tract Number</th>\n",
       "      <th>Life Expectancy</th>\n",
       "      <th>Life Expectancy Range</th>\n",
       "      <th>Life Expectancy Standard Error</th>\n",
       "    </tr>\n",
       "  </thead>\n",
       "  <tbody>\n",
       "    <tr>\n",
       "      <th>0</th>\n",
       "      <td>50.0-60.0</td>\n",
       "      <td>6</td>\n",
       "      <td>6</td>\n",
       "      <td>6</td>\n",
       "      <td>6</td>\n",
       "      <td>6</td>\n",
       "      <td>6</td>\n",
       "    </tr>\n",
       "    <tr>\n",
       "      <th>1</th>\n",
       "      <td>60.0-70.0</td>\n",
       "      <td>1673</td>\n",
       "      <td>1673</td>\n",
       "      <td>1673</td>\n",
       "      <td>1673</td>\n",
       "      <td>1673</td>\n",
       "      <td>1673</td>\n",
       "    </tr>\n",
       "    <tr>\n",
       "      <th>2</th>\n",
       "      <td>70.0-80.0</td>\n",
       "      <td>41707</td>\n",
       "      <td>41707</td>\n",
       "      <td>41707</td>\n",
       "      <td>41707</td>\n",
       "      <td>41707</td>\n",
       "      <td>41707</td>\n",
       "    </tr>\n",
       "    <tr>\n",
       "      <th>3</th>\n",
       "      <td>80.0-90.0</td>\n",
       "      <td>23693</td>\n",
       "      <td>23693</td>\n",
       "      <td>23693</td>\n",
       "      <td>23693</td>\n",
       "      <td>23693</td>\n",
       "      <td>23693</td>\n",
       "    </tr>\n",
       "    <tr>\n",
       "      <th>4</th>\n",
       "      <td>90.0-100.0</td>\n",
       "      <td>69</td>\n",
       "      <td>69</td>\n",
       "      <td>69</td>\n",
       "      <td>69</td>\n",
       "      <td>69</td>\n",
       "      <td>69</td>\n",
       "    </tr>\n",
       "  </tbody>\n",
       "</table>\n",
       "</div>"
      ],
      "text/plain": [
       "  lifetime_interval  State  County  Census Tract Number  Life Expectancy  \\\n",
       "0         50.0-60.0      6       6                    6                6   \n",
       "1         60.0-70.0   1673    1673                 1673             1673   \n",
       "2         70.0-80.0  41707   41707                41707            41707   \n",
       "3         80.0-90.0  23693   23693                23693            23693   \n",
       "4        90.0-100.0     69      69                   69               69   \n",
       "\n",
       "   Life Expectancy Range  Life Expectancy Standard Error  \n",
       "0                      6                               6  \n",
       "1                   1673                            1673  \n",
       "2                  41707                           41707  \n",
       "3                  23693                           23693  \n",
       "4                     69                              69  "
      ]
     },
     "execution_count": 30,
     "metadata": {},
     "output_type": "execute_result"
    }
   ],
   "source": [
    "tmp = df.copy()\n",
    "tmp[\"lifetime_interval\"] = df.apply(lambda x:\"{}-{}\".format(x[\"Life Expectancy\"] // 10 * 10, (x[\"Life Expectancy\"] // 10 + 1) * 10), axis=1)\n",
    "tmp = tmp.groupby([\"lifetime_interval\"]).count().reset_index()\n",
    "tmp"
   ]
  },
  {
   "cell_type": "code",
   "execution_count": 39,
   "metadata": {},
   "outputs": [
    {
     "data": {
      "text/html": [
       "\n",
       "<div id=\"altair-viz-203067a7222b456886e0dd9c17ca8051\"></div>\n",
       "<script type=\"text/javascript\">\n",
       "  (function(spec, embedOpt){\n",
       "    let outputDiv = document.currentScript.previousElementSibling;\n",
       "    if (outputDiv.id !== \"altair-viz-203067a7222b456886e0dd9c17ca8051\") {\n",
       "      outputDiv = document.getElementById(\"altair-viz-203067a7222b456886e0dd9c17ca8051\");\n",
       "    }\n",
       "    const paths = {\n",
       "      \"vega\": \"https://cdn.jsdelivr.net/npm//vega@5?noext\",\n",
       "      \"vega-lib\": \"https://cdn.jsdelivr.net/npm//vega-lib?noext\",\n",
       "      \"vega-lite\": \"https://cdn.jsdelivr.net/npm//vega-lite@4.8.1?noext\",\n",
       "      \"vega-embed\": \"https://cdn.jsdelivr.net/npm//vega-embed@6?noext\",\n",
       "    };\n",
       "\n",
       "    function loadScript(lib) {\n",
       "      return new Promise(function(resolve, reject) {\n",
       "        var s = document.createElement('script');\n",
       "        s.src = paths[lib];\n",
       "        s.async = true;\n",
       "        s.onload = () => resolve(paths[lib]);\n",
       "        s.onerror = () => reject(`Error loading script: ${paths[lib]}`);\n",
       "        document.getElementsByTagName(\"head\")[0].appendChild(s);\n",
       "      });\n",
       "    }\n",
       "\n",
       "    function showError(err) {\n",
       "      outputDiv.innerHTML = `<div class=\"error\" style=\"color:red;\">${err}</div>`;\n",
       "      throw err;\n",
       "    }\n",
       "\n",
       "    function displayChart(vegaEmbed) {\n",
       "      vegaEmbed(outputDiv, spec, embedOpt)\n",
       "        .catch(err => showError(`Javascript Error: ${err.message}<br>This usually means there's a typo in your chart specification. See the javascript console for the full traceback.`));\n",
       "    }\n",
       "\n",
       "    if(typeof define === \"function\" && define.amd) {\n",
       "      requirejs.config({paths});\n",
       "      require([\"vega-embed\"], displayChart, err => showError(`Error loading script: ${err.message}`));\n",
       "    } else if (typeof vegaEmbed === \"function\") {\n",
       "      displayChart(vegaEmbed);\n",
       "    } else {\n",
       "      loadScript(\"vega\")\n",
       "        .then(() => loadScript(\"vega-lite\"))\n",
       "        .then(() => loadScript(\"vega-embed\"))\n",
       "        .catch(showError)\n",
       "        .then(() => displayChart(vegaEmbed));\n",
       "    }\n",
       "  })({\"config\": {\"view\": {\"continuousWidth\": 400, \"continuousHeight\": 300}}, \"layer\": [{\"mark\": \"bar\", \"encoding\": {\"x\": {\"type\": \"ordinal\", \"field\": \"lifetime_interval\"}, \"y\": {\"type\": \"quantitative\", \"field\": \"State\", \"title\": \"Number of Counties\"}}, \"width\": 500}, {\"mark\": {\"type\": \"text\", \"align\": \"center\", \"dy\": -10}, \"encoding\": {\"text\": {\"type\": \"nominal\", \"field\": \"count\"}, \"x\": {\"type\": \"ordinal\", \"field\": \"lifetime_interval\"}, \"y\": {\"type\": \"quantitative\", \"field\": \"State\"}}}], \"data\": {\"name\": \"data-85384cc7cb908c44bc610b87eec63f53\"}, \"title\": {\"text\": [\"US Average Lifetime by Counties\"]}, \"$schema\": \"https://vega.github.io/schema/vega-lite/v4.8.1.json\", \"datasets\": {\"data-85384cc7cb908c44bc610b87eec63f53\": [{\"lifetime_interval\": \"55.0-60.0\", \"State\": 6, \"County\": 6, \"Census Tract Number\": 6, \"Life Expectancy\": 6, \"Life Expectancy Range\": 6, \"Life Expectancy Standard Error\": 6, \"count\": \"\"}, {\"lifetime_interval\": \"60.0-65.0\", \"State\": 99, \"County\": 99, \"Census Tract Number\": 99, \"Life Expectancy\": 99, \"Life Expectancy Range\": 99, \"Life Expectancy Standard Error\": 99, \"count\": \"\"}, {\"lifetime_interval\": \"65.0-70.0\", \"State\": 1574, \"County\": 1574, \"Census Tract Number\": 1574, \"Life Expectancy\": 1574, \"Life Expectancy Range\": 1574, \"Life Expectancy Standard Error\": 1574, \"count\": \"\"}, {\"lifetime_interval\": \"70.0-75.0\", \"State\": 11137, \"County\": 11137, \"Census Tract Number\": 11137, \"Life Expectancy\": 11137, \"Life Expectancy Range\": 11137, \"Life Expectancy Standard Error\": 11137, \"count\": \"\"}, {\"lifetime_interval\": \"75.0-80.0\", \"State\": 30570, \"County\": 30570, \"Census Tract Number\": 30570, \"Life Expectancy\": 30570, \"Life Expectancy Range\": 30570, \"Life Expectancy Standard Error\": 30570, \"count\": \"\"}, {\"lifetime_interval\": \"80.0-85.0\", \"State\": 21049, \"County\": 21049, \"Census Tract Number\": 21049, \"Life Expectancy\": 21049, \"Life Expectancy Range\": 21049, \"Life Expectancy Standard Error\": 21049, \"count\": \"(Red Lake)\"}, {\"lifetime_interval\": \"85.0-90.0\", \"State\": 2644, \"County\": 2644, \"Census Tract Number\": 2644, \"Life Expectancy\": 2644, \"Life Expectancy Range\": 2644, \"Life Expectancy Standard Error\": 2644, \"count\": \"\"}, {\"lifetime_interval\": \"90.0-95.0\", \"State\": 67, \"County\": 67, \"Census Tract Number\": 67, \"Life Expectancy\": 67, \"Life Expectancy Range\": 67, \"Life Expectancy Standard Error\": 67, \"count\": \"\"}, {\"lifetime_interval\": \"95.0-100.0\", \"State\": 2, \"County\": 2, \"Census Tract Number\": 2, \"Life Expectancy\": 2, \"Life Expectancy Range\": 2, \"Life Expectancy Standard Error\": 2, \"count\": \"\"}]}}, {\"mode\": \"vega-lite\"});\n",
       "</script>"
      ],
      "text/plain": [
       "alt.LayerChart(...)"
      ]
     },
     "execution_count": 39,
     "metadata": {},
     "output_type": "execute_result"
    }
   ],
   "source": [
    "def get_litetime_chart(df):\n",
    "    chart = alt.Chart(df, width=500).mark_bar().encode(\n",
    "        x=alt.X(\"lifetime_interval:O\"),\n",
    "        y=alt.Y(\"State:Q\", title=\"Number of Counties\"),\n",
    "    )\n",
    "    text = alt.Chart(df).mark_text(\n",
    "        align=\"center\", dy=-10\n",
    "    ).encode(\n",
    "        x=alt.X(\"lifetime_interval:O\"),\n",
    "        y=alt.Y(\"State:Q\"),\n",
    "        text=alt.Text(\"count:N\")\n",
    "    )\n",
    "    return (chart + text).properties(title={\n",
    "        \"text\": [\"US Average Lifetime by Counties\"]\n",
    "    })\n",
    "\n",
    "get_litetime_chart(df_group)"
   ]
  },
  {
   "cell_type": "code",
   "execution_count": null,
   "metadata": {},
   "outputs": [],
   "source": [
    "tmp"
   ]
  },
  {
   "cell_type": "code",
   "execution_count": null,
   "metadata": {},
   "outputs": [],
   "source": []
  }
 ],
 "metadata": {
  "interpreter": {
   "hash": "a93ad6167c675067e1a0ef55f67a8bdee8b757c884db8cc373ea6d0aaf812361"
  },
  "kernelspec": {
   "display_name": "Python 3.8.8 64-bit ('SI649': conda)",
   "name": "python3"
  },
  "language_info": {
   "codemirror_mode": {
    "name": "ipython",
    "version": 3
   },
   "file_extension": ".py",
   "mimetype": "text/x-python",
   "name": "python",
   "nbconvert_exporter": "python",
   "pygments_lexer": "ipython3",
   "version": "3.8.8"
  },
  "orig_nbformat": 4
 },
 "nbformat": 4,
 "nbformat_minor": 2
}
