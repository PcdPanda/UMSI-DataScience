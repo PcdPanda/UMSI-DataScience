{
 "cells": [
  {
   "cell_type": "markdown",
   "metadata": {
    "colab_type": "text",
    "id": "h_ict6b-qxLD"
   },
   "source": [
    "Let's learn more about pandas! Let's load the appropriate library\n",
    "# Initialize"
   ]
  },
  {
   "cell_type": "code",
   "execution_count": 1,
   "metadata": {
    "colab": {},
    "colab_type": "code",
    "id": "MHMdV0wyFX6X"
   },
   "outputs": [],
   "source": [
    "import pandas as pd\n",
    "import numpy as np"
   ]
  },
  {
   "cell_type": "markdown",
   "metadata": {
    "colab_type": "text",
    "id": "gU76-U0ftZWw"
   },
   "source": [
    "<font color='red'>To-do:</font> Load nfl_football_profiles.json to pandas df named nfl\n",
    "\n",
    "\n"
   ]
  },
  {
   "cell_type": "code",
   "execution_count": 2,
   "metadata": {},
   "outputs": [],
   "source": [
    "nfl = pd.read_json(\"nfl_football_profiles.json\")"
   ]
  },
  {
   "cell_type": "markdown",
   "metadata": {
    "colab_type": "text",
    "id": "0ItOuid97rc8"
   },
   "source": [
    "Lets clean up the data:\n",
    "Let's remove all the commas in the current_salary column in a new column called salary"
   ]
  },
  {
   "cell_type": "code",
   "execution_count": 3,
   "metadata": {
    "colab": {},
    "colab_type": "code",
    "id": "nCkaEzn_7qnm"
   },
   "outputs": [],
   "source": [
    "nfl['salary'] = nfl['current_salary'].str.replace(',', '')"
   ]
  },
  {
   "cell_type": "markdown",
   "metadata": {
    "colab_type": "text",
    "id": "8KOiOlqO8iLQ"
   },
   "source": [
    "Let's clean this up further by converting the data type to a float"
   ]
  },
  {
   "cell_type": "code",
   "execution_count": 4,
   "metadata": {
    "colab": {},
    "colab_type": "code",
    "id": "nwE5RCSZ8RJq"
   },
   "outputs": [],
   "source": [
    "nfl['salary'] = nfl['salary'].astype(float)"
   ]
  },
  {
   "cell_type": "code",
   "execution_count": 5,
   "metadata": {
    "colab": {},
    "colab_type": "code",
    "id": "cXgeFIlK8q4F"
   },
   "outputs": [
    {
     "data": {
      "text/plain": [
       "0          NaN\n",
       "1          NaN\n",
       "2    1075000.0\n",
       "3          NaN\n",
       "4          NaN\n",
       "5          NaN\n",
       "6    1762000.0\n",
       "7          NaN\n",
       "8          NaN\n",
       "9          NaN\n",
       "Name: salary, dtype: float64"
      ]
     },
     "execution_count": 5,
     "metadata": {},
     "output_type": "execute_result"
    }
   ],
   "source": [
    "nfl['salary'].head(10)"
   ]
  },
  {
   "cell_type": "markdown",
   "metadata": {
    "colab_type": "text",
    "id": "C5PUTFtJ87aX"
   },
   "source": [
    "<font color='red'>To-do:</font> Remove all NaN values in salary from the nfl df into a new df called nfl_salary_cleaned"
   ]
  },
  {
   "cell_type": "code",
   "execution_count": 6,
   "metadata": {},
   "outputs": [],
   "source": [
    "nfl_salary_cleaned = nfl.dropna(how=\"any\", subset=[\"salary\"])"
   ]
  },
  {
   "cell_type": "markdown",
   "metadata": {
    "colab_type": "text",
    "id": "2qNZJaFe-y7N"
   },
   "source": [
    "# Dummy variables and discretizing salaries"
   ]
  },
  {
   "cell_type": "markdown",
   "metadata": {
    "colab_type": "text",
    "id": "9C1CVM9J_Adr"
   },
   "source": [
    "<font color='red'>To-do:</font> Using the same NFL dataset, lets discretize the salaries. Let's create bins by splitting salaries into five equally sized groups (hint: use pd.Series.quantiles and np.linspace)"
   ]
  },
  {
   "cell_type": "code",
   "execution_count": 7,
   "metadata": {
    "colab": {},
    "colab_type": "code",
    "id": "92adY17u-_PW"
   },
   "outputs": [
    {
     "data": {
      "text/plain": [
       "0.0       38294.0\n",
       "0.2      465000.0\n",
       "0.4      615000.0\n",
       "0.6      800000.0\n",
       "0.8     1797000.0\n",
       "1.0    23943600.0\n",
       "Name: salary, dtype: float64"
      ]
     },
     "execution_count": 7,
     "metadata": {},
     "output_type": "execute_result"
    }
   ],
   "source": [
    "bins = nfl[\"salary\"].quantile(np.linspace(0,1,6))\n",
    "bins"
   ]
  },
  {
   "cell_type": "markdown",
   "metadata": {
    "colab_type": "text",
    "id": "Q_6JTAk6AHiX"
   },
   "source": [
    "Using these bins that we set, we can set labels to them and have them categorized by that bin by using pd.cut()"
   ]
  },
  {
   "cell_type": "code",
   "execution_count": 8,
   "metadata": {
    "colab": {
     "base_uri": "https://localhost:8080/",
     "height": 221
    },
    "colab_type": "code",
    "executionInfo": {
     "elapsed": 450,
     "status": "ok",
     "timestamp": 1599755754780,
     "user": {
      "displayName": "Kevin Lee",
      "photoUrl": "https://lh3.googleusercontent.com/a-/AOh14Gi-Bzlj5PkYle1VXcuH3tD0oB_eYMp8TFinoIcH=s64",
      "userId": "17607607416881687332"
     },
     "user_tz": 240
    },
    "id": "4zW1cVoG_WB6",
    "outputId": "74ddc7e9-0c21-4491-aaec-bb17ae2d02b5"
   },
   "outputs": [
    {
     "data": {
      "text/plain": [
       "2      d6\n",
       "6      d6\n",
       "13     d4\n",
       "37     d8\n",
       "53     d8\n",
       "57     d6\n",
       "90     d2\n",
       "106    d8\n",
       "113    d0\n",
       "114    d8\n",
       "Name: salary, dtype: category\n",
       "Categories (5, object): ['d0' < 'd2' < 'd4' < 'd6' < 'd8']"
      ]
     },
     "execution_count": 8,
     "metadata": {},
     "output_type": "execute_result"
    }
   ],
   "source": [
    "pd.cut(nfl_salary_cleaned['salary'],bins,labels=['d0','d2','d4','d6','d8'])[0:10]"
   ]
  },
  {
   "cell_type": "markdown",
   "metadata": {
    "colab_type": "text",
    "id": "mr5XCFWnANYN"
   },
   "source": [
    "Similarly, we can create dummy variables to categorize our labels and bins into an organized dataframe by using pd.get_dummies(). It will display whether a player fits into our labels based on their salary bin range."
   ]
  },
  {
   "cell_type": "code",
   "execution_count": 9,
   "metadata": {
    "colab": {},
    "colab_type": "code",
    "id": "mtcXsec9_mlA"
   },
   "outputs": [],
   "source": [
    "dummy_variable = pd.get_dummies(pd.cut(nfl_salary_cleaned['salary'],bins,labels=['d0','d2','d4','d6','d8']))"
   ]
  },
  {
   "cell_type": "code",
   "execution_count": 10,
   "metadata": {
    "colab": {
     "base_uri": "https://localhost:8080/",
     "height": 204
    },
    "colab_type": "code",
    "executionInfo": {
     "elapsed": 518,
     "status": "ok",
     "timestamp": 1599755759592,
     "user": {
      "displayName": "Kevin Lee",
      "photoUrl": "https://lh3.googleusercontent.com/a-/AOh14Gi-Bzlj5PkYle1VXcuH3tD0oB_eYMp8TFinoIcH=s64",
      "userId": "17607607416881687332"
     },
     "user_tz": 240
    },
    "id": "UKxoBGbu_res",
    "outputId": "7941c3c2-82f6-4cef-e43d-656191a8ba44"
   },
   "outputs": [
    {
     "data": {
      "text/html": [
       "<div>\n",
       "<style scoped>\n",
       "    .dataframe tbody tr th:only-of-type {\n",
       "        vertical-align: middle;\n",
       "    }\n",
       "\n",
       "    .dataframe tbody tr th {\n",
       "        vertical-align: top;\n",
       "    }\n",
       "\n",
       "    .dataframe thead th {\n",
       "        text-align: right;\n",
       "    }\n",
       "</style>\n",
       "<table border=\"1\" class=\"dataframe\">\n",
       "  <thead>\n",
       "    <tr style=\"text-align: right;\">\n",
       "      <th></th>\n",
       "      <th>d0</th>\n",
       "      <th>d2</th>\n",
       "      <th>d4</th>\n",
       "      <th>d6</th>\n",
       "      <th>d8</th>\n",
       "    </tr>\n",
       "  </thead>\n",
       "  <tbody>\n",
       "    <tr>\n",
       "      <th>2</th>\n",
       "      <td>0</td>\n",
       "      <td>0</td>\n",
       "      <td>0</td>\n",
       "      <td>1</td>\n",
       "      <td>0</td>\n",
       "    </tr>\n",
       "    <tr>\n",
       "      <th>6</th>\n",
       "      <td>0</td>\n",
       "      <td>0</td>\n",
       "      <td>0</td>\n",
       "      <td>1</td>\n",
       "      <td>0</td>\n",
       "    </tr>\n",
       "    <tr>\n",
       "      <th>13</th>\n",
       "      <td>0</td>\n",
       "      <td>0</td>\n",
       "      <td>1</td>\n",
       "      <td>0</td>\n",
       "      <td>0</td>\n",
       "    </tr>\n",
       "    <tr>\n",
       "      <th>37</th>\n",
       "      <td>0</td>\n",
       "      <td>0</td>\n",
       "      <td>0</td>\n",
       "      <td>0</td>\n",
       "      <td>1</td>\n",
       "    </tr>\n",
       "    <tr>\n",
       "      <th>53</th>\n",
       "      <td>0</td>\n",
       "      <td>0</td>\n",
       "      <td>0</td>\n",
       "      <td>0</td>\n",
       "      <td>1</td>\n",
       "    </tr>\n",
       "  </tbody>\n",
       "</table>\n",
       "</div>"
      ],
      "text/plain": [
       "    d0  d2  d4  d6  d8\n",
       "2    0   0   0   1   0\n",
       "6    0   0   0   1   0\n",
       "13   0   0   1   0   0\n",
       "37   0   0   0   0   1\n",
       "53   0   0   0   0   1"
      ]
     },
     "execution_count": 10,
     "metadata": {},
     "output_type": "execute_result"
    }
   ],
   "source": [
    "dummy_variable.head()"
   ]
  },
  {
   "cell_type": "markdown",
   "metadata": {
    "colab_type": "text",
    "id": "xd9q8cM3FG_H"
   },
   "source": [
    "# Joining and Merging Datasets"
   ]
  },
  {
   "cell_type": "markdown",
   "metadata": {
    "colab_type": "text",
    "id": "Qnw4Bo5-Nq6Q"
   },
   "source": [
    "Let's create some simple dataframes"
   ]
  },
  {
   "cell_type": "code",
   "execution_count": 11,
   "metadata": {
    "colab": {},
    "colab_type": "code",
    "id": "xhrrw_mWNvCf"
   },
   "outputs": [],
   "source": [
    "drinks1 = pd.DataFrame({'Drinks': ['Coca-Cola', 'Sprite', 'Fanta', 'Root-Beer', 'Dr. Pepper'],\n",
    "                   'Prices': [0.99, 1.49, 1.99, 2.49, 5],\n",
    "                   'id': ['D01', 'D02', 'D03', 'D04', 'D05']})"
   ]
  },
  {
   "cell_type": "code",
   "execution_count": 12,
   "metadata": {
    "colab": {
     "base_uri": "https://localhost:8080/",
     "height": 204
    },
    "colab_type": "code",
    "executionInfo": {
     "elapsed": 312,
     "status": "ok",
     "timestamp": 1599695177523,
     "user": {
      "displayName": "Kevin Lee",
      "photoUrl": "https://lh3.googleusercontent.com/a-/AOh14Gi-Bzlj5PkYle1VXcuH3tD0oB_eYMp8TFinoIcH=s64",
      "userId": "17607607416881687332"
     },
     "user_tz": 240
    },
    "id": "m72YNCgIOws1",
    "outputId": "bff1c207-6090-4601-839c-1c1bbf0f86e6"
   },
   "outputs": [
    {
     "data": {
      "text/html": [
       "<div>\n",
       "<style scoped>\n",
       "    .dataframe tbody tr th:only-of-type {\n",
       "        vertical-align: middle;\n",
       "    }\n",
       "\n",
       "    .dataframe tbody tr th {\n",
       "        vertical-align: top;\n",
       "    }\n",
       "\n",
       "    .dataframe thead th {\n",
       "        text-align: right;\n",
       "    }\n",
       "</style>\n",
       "<table border=\"1\" class=\"dataframe\">\n",
       "  <thead>\n",
       "    <tr style=\"text-align: right;\">\n",
       "      <th></th>\n",
       "      <th>Drinks</th>\n",
       "      <th>Prices</th>\n",
       "      <th>id</th>\n",
       "    </tr>\n",
       "  </thead>\n",
       "  <tbody>\n",
       "    <tr>\n",
       "      <th>0</th>\n",
       "      <td>Coca-Cola</td>\n",
       "      <td>0.99</td>\n",
       "      <td>D01</td>\n",
       "    </tr>\n",
       "    <tr>\n",
       "      <th>1</th>\n",
       "      <td>Sprite</td>\n",
       "      <td>1.49</td>\n",
       "      <td>D02</td>\n",
       "    </tr>\n",
       "    <tr>\n",
       "      <th>2</th>\n",
       "      <td>Fanta</td>\n",
       "      <td>1.99</td>\n",
       "      <td>D03</td>\n",
       "    </tr>\n",
       "    <tr>\n",
       "      <th>3</th>\n",
       "      <td>Root-Beer</td>\n",
       "      <td>2.49</td>\n",
       "      <td>D04</td>\n",
       "    </tr>\n",
       "    <tr>\n",
       "      <th>4</th>\n",
       "      <td>Dr. Pepper</td>\n",
       "      <td>5.00</td>\n",
       "      <td>D05</td>\n",
       "    </tr>\n",
       "  </tbody>\n",
       "</table>\n",
       "</div>"
      ],
      "text/plain": [
       "       Drinks  Prices   id\n",
       "0   Coca-Cola    0.99  D01\n",
       "1      Sprite    1.49  D02\n",
       "2       Fanta    1.99  D03\n",
       "3   Root-Beer    2.49  D04\n",
       "4  Dr. Pepper    5.00  D05"
      ]
     },
     "execution_count": 12,
     "metadata": {},
     "output_type": "execute_result"
    }
   ],
   "source": [
    "drinks1.head()"
   ]
  },
  {
   "cell_type": "code",
   "execution_count": 13,
   "metadata": {
    "colab": {},
    "colab_type": "code",
    "id": "WA5g4dUzO0UD"
   },
   "outputs": [],
   "source": [
    "drinks2 = pd.DataFrame({'Drinks': ['Squirt', 'Ginger-Ale', 'Cream-Soda', 'Pepsi'],\n",
    "                   'Prices': [0.49, 0.99, 1.99, 1.49],\n",
    "                   'id': ['D06', 'D07', 'D08', 'D09']})"
   ]
  },
  {
   "cell_type": "code",
   "execution_count": 14,
   "metadata": {
    "colab": {
     "base_uri": "https://localhost:8080/",
     "height": 173
    },
    "colab_type": "code",
    "executionInfo": {
     "elapsed": 363,
     "status": "ok",
     "timestamp": 1599695138351,
     "user": {
      "displayName": "Kevin Lee",
      "photoUrl": "https://lh3.googleusercontent.com/a-/AOh14Gi-Bzlj5PkYle1VXcuH3tD0oB_eYMp8TFinoIcH=s64",
      "userId": "17607607416881687332"
     },
     "user_tz": 240
    },
    "id": "a9h4qnjXQpWU",
    "outputId": "1a4bceed-94f9-43a5-fd70-5bfd2a372894"
   },
   "outputs": [
    {
     "data": {
      "text/html": [
       "<div>\n",
       "<style scoped>\n",
       "    .dataframe tbody tr th:only-of-type {\n",
       "        vertical-align: middle;\n",
       "    }\n",
       "\n",
       "    .dataframe tbody tr th {\n",
       "        vertical-align: top;\n",
       "    }\n",
       "\n",
       "    .dataframe thead th {\n",
       "        text-align: right;\n",
       "    }\n",
       "</style>\n",
       "<table border=\"1\" class=\"dataframe\">\n",
       "  <thead>\n",
       "    <tr style=\"text-align: right;\">\n",
       "      <th></th>\n",
       "      <th>Drinks</th>\n",
       "      <th>Prices</th>\n",
       "      <th>id</th>\n",
       "    </tr>\n",
       "  </thead>\n",
       "  <tbody>\n",
       "    <tr>\n",
       "      <th>0</th>\n",
       "      <td>Squirt</td>\n",
       "      <td>0.49</td>\n",
       "      <td>D06</td>\n",
       "    </tr>\n",
       "    <tr>\n",
       "      <th>1</th>\n",
       "      <td>Ginger-Ale</td>\n",
       "      <td>0.99</td>\n",
       "      <td>D07</td>\n",
       "    </tr>\n",
       "    <tr>\n",
       "      <th>2</th>\n",
       "      <td>Cream-Soda</td>\n",
       "      <td>1.99</td>\n",
       "      <td>D08</td>\n",
       "    </tr>\n",
       "    <tr>\n",
       "      <th>3</th>\n",
       "      <td>Pepsi</td>\n",
       "      <td>1.49</td>\n",
       "      <td>D09</td>\n",
       "    </tr>\n",
       "  </tbody>\n",
       "</table>\n",
       "</div>"
      ],
      "text/plain": [
       "       Drinks  Prices   id\n",
       "0      Squirt    0.49  D06\n",
       "1  Ginger-Ale    0.99  D07\n",
       "2  Cream-Soda    1.99  D08\n",
       "3       Pepsi    1.49  D09"
      ]
     },
     "execution_count": 14,
     "metadata": {},
     "output_type": "execute_result"
    }
   ],
   "source": [
    "drinks2.head()"
   ]
  },
  {
   "cell_type": "markdown",
   "metadata": {
    "colab_type": "text",
    "id": "bR_1eDb6QsDz"
   },
   "source": [
    "<font color='red'>To-do:</font> Concatenate drinks1 and drinks2 on rows, but ignore indexes. Show all 9 rows on the df"
   ]
  },
  {
   "cell_type": "code",
   "execution_count": 15,
   "metadata": {},
   "outputs": [
    {
     "data": {
      "text/html": [
       "<div>\n",
       "<style scoped>\n",
       "    .dataframe tbody tr th:only-of-type {\n",
       "        vertical-align: middle;\n",
       "    }\n",
       "\n",
       "    .dataframe tbody tr th {\n",
       "        vertical-align: top;\n",
       "    }\n",
       "\n",
       "    .dataframe thead th {\n",
       "        text-align: right;\n",
       "    }\n",
       "</style>\n",
       "<table border=\"1\" class=\"dataframe\">\n",
       "  <thead>\n",
       "    <tr style=\"text-align: right;\">\n",
       "      <th></th>\n",
       "      <th>Drinks</th>\n",
       "      <th>Prices</th>\n",
       "      <th>id</th>\n",
       "    </tr>\n",
       "  </thead>\n",
       "  <tbody>\n",
       "    <tr>\n",
       "      <th>0</th>\n",
       "      <td>Coca-Cola</td>\n",
       "      <td>0.99</td>\n",
       "      <td>D01</td>\n",
       "    </tr>\n",
       "    <tr>\n",
       "      <th>1</th>\n",
       "      <td>Sprite</td>\n",
       "      <td>1.49</td>\n",
       "      <td>D02</td>\n",
       "    </tr>\n",
       "    <tr>\n",
       "      <th>2</th>\n",
       "      <td>Fanta</td>\n",
       "      <td>1.99</td>\n",
       "      <td>D03</td>\n",
       "    </tr>\n",
       "    <tr>\n",
       "      <th>3</th>\n",
       "      <td>Root-Beer</td>\n",
       "      <td>2.49</td>\n",
       "      <td>D04</td>\n",
       "    </tr>\n",
       "    <tr>\n",
       "      <th>4</th>\n",
       "      <td>Dr. Pepper</td>\n",
       "      <td>5.00</td>\n",
       "      <td>D05</td>\n",
       "    </tr>\n",
       "    <tr>\n",
       "      <th>5</th>\n",
       "      <td>Squirt</td>\n",
       "      <td>0.49</td>\n",
       "      <td>D06</td>\n",
       "    </tr>\n",
       "    <tr>\n",
       "      <th>6</th>\n",
       "      <td>Ginger-Ale</td>\n",
       "      <td>0.99</td>\n",
       "      <td>D07</td>\n",
       "    </tr>\n",
       "    <tr>\n",
       "      <th>7</th>\n",
       "      <td>Cream-Soda</td>\n",
       "      <td>1.99</td>\n",
       "      <td>D08</td>\n",
       "    </tr>\n",
       "    <tr>\n",
       "      <th>8</th>\n",
       "      <td>Pepsi</td>\n",
       "      <td>1.49</td>\n",
       "      <td>D09</td>\n",
       "    </tr>\n",
       "  </tbody>\n",
       "</table>\n",
       "</div>"
      ],
      "text/plain": [
       "       Drinks  Prices   id\n",
       "0   Coca-Cola    0.99  D01\n",
       "1      Sprite    1.49  D02\n",
       "2       Fanta    1.99  D03\n",
       "3   Root-Beer    2.49  D04\n",
       "4  Dr. Pepper    5.00  D05\n",
       "5      Squirt    0.49  D06\n",
       "6  Ginger-Ale    0.99  D07\n",
       "7  Cream-Soda    1.99  D08\n",
       "8       Pepsi    1.49  D09"
      ]
     },
     "execution_count": 15,
     "metadata": {},
     "output_type": "execute_result"
    }
   ],
   "source": [
    "df = pd.concat([drinks1, drinks2], ignore_index=True)\n",
    "df"
   ]
  },
  {
   "cell_type": "markdown",
   "metadata": {
    "colab_type": "text",
    "id": "h6RG15tRGltz"
   },
   "source": [
    "Now let's practice joining tables. Load in title.ratings.tsv and title.basics.tsv. <font color='red'>These files are included in the zipped file you downloaded with your lab instructions. </font>"
   ]
  },
  {
   "cell_type": "code",
   "execution_count": 16,
   "metadata": {
    "colab": {},
    "colab_type": "code",
    "id": "vllwqTvcGwkN"
   },
   "outputs": [],
   "source": [
    "ratings = pd.read_csv('title.ratings.tsv', sep='\\t')"
   ]
  },
  {
   "cell_type": "code",
   "execution_count": 17,
   "metadata": {
    "colab": {
     "base_uri": "https://localhost:8080/",
     "height": 204
    },
    "colab_type": "code",
    "executionInfo": {
     "elapsed": 329,
     "status": "ok",
     "timestamp": 1600097831675,
     "user": {
      "displayName": "Kevin Lee",
      "photoUrl": "https://lh3.googleusercontent.com/a-/AOh14Gi-Bzlj5PkYle1VXcuH3tD0oB_eYMp8TFinoIcH=s64",
      "userId": "17607607416881687332"
     },
     "user_tz": 240
    },
    "id": "kIjePgntHLuI",
    "outputId": "82b665fe-e3ae-4a3c-b862-4a0febf6d0f9"
   },
   "outputs": [
    {
     "data": {
      "text/html": [
       "<div>\n",
       "<style scoped>\n",
       "    .dataframe tbody tr th:only-of-type {\n",
       "        vertical-align: middle;\n",
       "    }\n",
       "\n",
       "    .dataframe tbody tr th {\n",
       "        vertical-align: top;\n",
       "    }\n",
       "\n",
       "    .dataframe thead th {\n",
       "        text-align: right;\n",
       "    }\n",
       "</style>\n",
       "<table border=\"1\" class=\"dataframe\">\n",
       "  <thead>\n",
       "    <tr style=\"text-align: right;\">\n",
       "      <th></th>\n",
       "      <th>tconst</th>\n",
       "      <th>averageRating</th>\n",
       "      <th>numVotes</th>\n",
       "    </tr>\n",
       "  </thead>\n",
       "  <tbody>\n",
       "    <tr>\n",
       "      <th>0</th>\n",
       "      <td>tt0000001</td>\n",
       "      <td>5.6</td>\n",
       "      <td>1646</td>\n",
       "    </tr>\n",
       "    <tr>\n",
       "      <th>1</th>\n",
       "      <td>tt0000002</td>\n",
       "      <td>6.1</td>\n",
       "      <td>198</td>\n",
       "    </tr>\n",
       "    <tr>\n",
       "      <th>2</th>\n",
       "      <td>tt0000003</td>\n",
       "      <td>6.5</td>\n",
       "      <td>1345</td>\n",
       "    </tr>\n",
       "    <tr>\n",
       "      <th>3</th>\n",
       "      <td>tt0000004</td>\n",
       "      <td>6.2</td>\n",
       "      <td>120</td>\n",
       "    </tr>\n",
       "    <tr>\n",
       "      <th>4</th>\n",
       "      <td>tt0000005</td>\n",
       "      <td>6.1</td>\n",
       "      <td>2131</td>\n",
       "    </tr>\n",
       "  </tbody>\n",
       "</table>\n",
       "</div>"
      ],
      "text/plain": [
       "      tconst  averageRating  numVotes\n",
       "0  tt0000001            5.6      1646\n",
       "1  tt0000002            6.1       198\n",
       "2  tt0000003            6.5      1345\n",
       "3  tt0000004            6.2       120\n",
       "4  tt0000005            6.1      2131"
      ]
     },
     "execution_count": 17,
     "metadata": {},
     "output_type": "execute_result"
    }
   ],
   "source": [
    "ratings.head()"
   ]
  },
  {
   "cell_type": "code",
   "execution_count": 18,
   "metadata": {
    "colab": {
     "base_uri": "https://localhost:8080/",
     "height": 71
    },
    "colab_type": "code",
    "executionInfo": {
     "elapsed": 26728,
     "status": "ok",
     "timestamp": 1600097860039,
     "user": {
      "displayName": "Kevin Lee",
      "photoUrl": "https://lh3.googleusercontent.com/a-/AOh14Gi-Bzlj5PkYle1VXcuH3tD0oB_eYMp8TFinoIcH=s64",
      "userId": "17607607416881687332"
     },
     "user_tz": 240
    },
    "id": "ebJKDdrmLrEV",
    "outputId": "65603d38-29b2-4890-a1ba-dca1d55f5124"
   },
   "outputs": [
    {
     "name": "stderr",
     "output_type": "stream",
     "text": [
      "C:\\Users\\PANDA\\anaconda3\\lib\\site-packages\\IPython\\core\\interactiveshell.py:3165: DtypeWarning: Columns (5) have mixed types.Specify dtype option on import or set low_memory=False.\n",
      "  has_raised = await self.run_ast_nodes(code_ast.body, cell_name,\n"
     ]
    }
   ],
   "source": [
    "titles = pd.read_csv('title.basics.tsv', sep='\\t')"
   ]
  },
  {
   "cell_type": "code",
   "execution_count": 19,
   "metadata": {
    "colab": {
     "base_uri": "https://localhost:8080/",
     "height": 221
    },
    "colab_type": "code",
    "executionInfo": {
     "elapsed": 24873,
     "status": "ok",
     "timestamp": 1600097860041,
     "user": {
      "displayName": "Kevin Lee",
      "photoUrl": "https://lh3.googleusercontent.com/a-/AOh14Gi-Bzlj5PkYle1VXcuH3tD0oB_eYMp8TFinoIcH=s64",
      "userId": "17607607416881687332"
     },
     "user_tz": 240
    },
    "id": "Ds-m6jZDLymQ",
    "outputId": "51f02e43-26b9-47a5-8e8a-ffc397acd492"
   },
   "outputs": [
    {
     "data": {
      "text/html": [
       "<div>\n",
       "<style scoped>\n",
       "    .dataframe tbody tr th:only-of-type {\n",
       "        vertical-align: middle;\n",
       "    }\n",
       "\n",
       "    .dataframe tbody tr th {\n",
       "        vertical-align: top;\n",
       "    }\n",
       "\n",
       "    .dataframe thead th {\n",
       "        text-align: right;\n",
       "    }\n",
       "</style>\n",
       "<table border=\"1\" class=\"dataframe\">\n",
       "  <thead>\n",
       "    <tr style=\"text-align: right;\">\n",
       "      <th></th>\n",
       "      <th>tconst</th>\n",
       "      <th>titleType</th>\n",
       "      <th>primaryTitle</th>\n",
       "      <th>originalTitle</th>\n",
       "      <th>isAdult</th>\n",
       "      <th>startYear</th>\n",
       "      <th>endYear</th>\n",
       "      <th>runtimeMinutes</th>\n",
       "      <th>genres</th>\n",
       "    </tr>\n",
       "  </thead>\n",
       "  <tbody>\n",
       "    <tr>\n",
       "      <th>0</th>\n",
       "      <td>tt0000001</td>\n",
       "      <td>short</td>\n",
       "      <td>Carmencita</td>\n",
       "      <td>Carmencita</td>\n",
       "      <td>0</td>\n",
       "      <td>1894</td>\n",
       "      <td>\\N</td>\n",
       "      <td>1</td>\n",
       "      <td>Documentary,Short</td>\n",
       "    </tr>\n",
       "    <tr>\n",
       "      <th>1</th>\n",
       "      <td>tt0000002</td>\n",
       "      <td>short</td>\n",
       "      <td>Le clown et ses chiens</td>\n",
       "      <td>Le clown et ses chiens</td>\n",
       "      <td>0</td>\n",
       "      <td>1892</td>\n",
       "      <td>\\N</td>\n",
       "      <td>5</td>\n",
       "      <td>Animation,Short</td>\n",
       "    </tr>\n",
       "    <tr>\n",
       "      <th>2</th>\n",
       "      <td>tt0000003</td>\n",
       "      <td>short</td>\n",
       "      <td>Pauvre Pierrot</td>\n",
       "      <td>Pauvre Pierrot</td>\n",
       "      <td>0</td>\n",
       "      <td>1892</td>\n",
       "      <td>\\N</td>\n",
       "      <td>4</td>\n",
       "      <td>Animation,Comedy,Romance</td>\n",
       "    </tr>\n",
       "    <tr>\n",
       "      <th>3</th>\n",
       "      <td>tt0000004</td>\n",
       "      <td>short</td>\n",
       "      <td>Un bon bock</td>\n",
       "      <td>Un bon bock</td>\n",
       "      <td>0</td>\n",
       "      <td>1892</td>\n",
       "      <td>\\N</td>\n",
       "      <td>12</td>\n",
       "      <td>Animation,Short</td>\n",
       "    </tr>\n",
       "    <tr>\n",
       "      <th>4</th>\n",
       "      <td>tt0000005</td>\n",
       "      <td>short</td>\n",
       "      <td>Blacksmith Scene</td>\n",
       "      <td>Blacksmith Scene</td>\n",
       "      <td>0</td>\n",
       "      <td>1893</td>\n",
       "      <td>\\N</td>\n",
       "      <td>1</td>\n",
       "      <td>Comedy,Short</td>\n",
       "    </tr>\n",
       "  </tbody>\n",
       "</table>\n",
       "</div>"
      ],
      "text/plain": [
       "      tconst titleType            primaryTitle           originalTitle  \\\n",
       "0  tt0000001     short              Carmencita              Carmencita   \n",
       "1  tt0000002     short  Le clown et ses chiens  Le clown et ses chiens   \n",
       "2  tt0000003     short          Pauvre Pierrot          Pauvre Pierrot   \n",
       "3  tt0000004     short             Un bon bock             Un bon bock   \n",
       "4  tt0000005     short        Blacksmith Scene        Blacksmith Scene   \n",
       "\n",
       "   isAdult startYear endYear runtimeMinutes                    genres  \n",
       "0        0      1894      \\N              1         Documentary,Short  \n",
       "1        0      1892      \\N              5           Animation,Short  \n",
       "2        0      1892      \\N              4  Animation,Comedy,Romance  \n",
       "3        0      1892      \\N             12           Animation,Short  \n",
       "4        0      1893      \\N              1              Comedy,Short  "
      ]
     },
     "execution_count": 19,
     "metadata": {},
     "output_type": "execute_result"
    }
   ],
   "source": [
    "titles.head()"
   ]
  },
  {
   "cell_type": "markdown",
   "metadata": {
    "colab_type": "text",
    "id": "Guk9OUcMMGpu"
   },
   "source": [
    "Notice that on titles and ratings, tconst is the same. We can therefore join these two dataframe using that column as index."
   ]
  },
  {
   "cell_type": "markdown",
   "metadata": {
    "colab_type": "text",
    "id": "vrLe3kJAMQpn"
   },
   "source": [
    "<font color='red'>To-do:</font> Merge ratings and titles in a dataframe called imdb_info on tconst. In a markdown cell, explain what kind of join this is and why you chose to use it."
   ]
  },
  {
   "cell_type": "code",
   "execution_count": 20,
   "metadata": {},
   "outputs": [
    {
     "data": {
      "text/html": [
       "<div>\n",
       "<style scoped>\n",
       "    .dataframe tbody tr th:only-of-type {\n",
       "        vertical-align: middle;\n",
       "    }\n",
       "\n",
       "    .dataframe tbody tr th {\n",
       "        vertical-align: top;\n",
       "    }\n",
       "\n",
       "    .dataframe thead th {\n",
       "        text-align: right;\n",
       "    }\n",
       "</style>\n",
       "<table border=\"1\" class=\"dataframe\">\n",
       "  <thead>\n",
       "    <tr style=\"text-align: right;\">\n",
       "      <th></th>\n",
       "      <th>tconst</th>\n",
       "      <th>titleType</th>\n",
       "      <th>primaryTitle</th>\n",
       "      <th>originalTitle</th>\n",
       "      <th>isAdult</th>\n",
       "      <th>startYear</th>\n",
       "      <th>endYear</th>\n",
       "      <th>runtimeMinutes</th>\n",
       "      <th>genres</th>\n",
       "      <th>averageRating</th>\n",
       "      <th>numVotes</th>\n",
       "    </tr>\n",
       "  </thead>\n",
       "  <tbody>\n",
       "    <tr>\n",
       "      <th>0</th>\n",
       "      <td>tt0000001</td>\n",
       "      <td>short</td>\n",
       "      <td>Carmencita</td>\n",
       "      <td>Carmencita</td>\n",
       "      <td>0</td>\n",
       "      <td>1894</td>\n",
       "      <td>\\N</td>\n",
       "      <td>1</td>\n",
       "      <td>Documentary,Short</td>\n",
       "      <td>5.6</td>\n",
       "      <td>1646</td>\n",
       "    </tr>\n",
       "    <tr>\n",
       "      <th>1</th>\n",
       "      <td>tt0000002</td>\n",
       "      <td>short</td>\n",
       "      <td>Le clown et ses chiens</td>\n",
       "      <td>Le clown et ses chiens</td>\n",
       "      <td>0</td>\n",
       "      <td>1892</td>\n",
       "      <td>\\N</td>\n",
       "      <td>5</td>\n",
       "      <td>Animation,Short</td>\n",
       "      <td>6.1</td>\n",
       "      <td>198</td>\n",
       "    </tr>\n",
       "    <tr>\n",
       "      <th>2</th>\n",
       "      <td>tt0000003</td>\n",
       "      <td>short</td>\n",
       "      <td>Pauvre Pierrot</td>\n",
       "      <td>Pauvre Pierrot</td>\n",
       "      <td>0</td>\n",
       "      <td>1892</td>\n",
       "      <td>\\N</td>\n",
       "      <td>4</td>\n",
       "      <td>Animation,Comedy,Romance</td>\n",
       "      <td>6.5</td>\n",
       "      <td>1345</td>\n",
       "    </tr>\n",
       "    <tr>\n",
       "      <th>3</th>\n",
       "      <td>tt0000004</td>\n",
       "      <td>short</td>\n",
       "      <td>Un bon bock</td>\n",
       "      <td>Un bon bock</td>\n",
       "      <td>0</td>\n",
       "      <td>1892</td>\n",
       "      <td>\\N</td>\n",
       "      <td>12</td>\n",
       "      <td>Animation,Short</td>\n",
       "      <td>6.2</td>\n",
       "      <td>120</td>\n",
       "    </tr>\n",
       "    <tr>\n",
       "      <th>4</th>\n",
       "      <td>tt0000005</td>\n",
       "      <td>short</td>\n",
       "      <td>Blacksmith Scene</td>\n",
       "      <td>Blacksmith Scene</td>\n",
       "      <td>0</td>\n",
       "      <td>1893</td>\n",
       "      <td>\\N</td>\n",
       "      <td>1</td>\n",
       "      <td>Comedy,Short</td>\n",
       "      <td>6.1</td>\n",
       "      <td>2131</td>\n",
       "    </tr>\n",
       "    <tr>\n",
       "      <th>...</th>\n",
       "      <td>...</td>\n",
       "      <td>...</td>\n",
       "      <td>...</td>\n",
       "      <td>...</td>\n",
       "      <td>...</td>\n",
       "      <td>...</td>\n",
       "      <td>...</td>\n",
       "      <td>...</td>\n",
       "      <td>...</td>\n",
       "      <td>...</td>\n",
       "      <td>...</td>\n",
       "    </tr>\n",
       "    <tr>\n",
       "      <th>1071724</th>\n",
       "      <td>tt9916580</td>\n",
       "      <td>tvEpisode</td>\n",
       "      <td>Horrid Henry Horrid Boy?</td>\n",
       "      <td>Horrid Henry Horrid Boy?</td>\n",
       "      <td>0</td>\n",
       "      <td>2012</td>\n",
       "      <td>\\N</td>\n",
       "      <td>10</td>\n",
       "      <td>Animation,Comedy,Family</td>\n",
       "      <td>7.2</td>\n",
       "      <td>5</td>\n",
       "    </tr>\n",
       "    <tr>\n",
       "      <th>1071725</th>\n",
       "      <td>tt9916690</td>\n",
       "      <td>tvEpisode</td>\n",
       "      <td>Horrid Henry Delivers the Milk</td>\n",
       "      <td>Horrid Henry Delivers the Milk</td>\n",
       "      <td>0</td>\n",
       "      <td>2012</td>\n",
       "      <td>\\N</td>\n",
       "      <td>\\N</td>\n",
       "      <td>Animation,Comedy,Family</td>\n",
       "      <td>6.6</td>\n",
       "      <td>5</td>\n",
       "    </tr>\n",
       "    <tr>\n",
       "      <th>1071726</th>\n",
       "      <td>tt9916720</td>\n",
       "      <td>short</td>\n",
       "      <td>The Nun 2</td>\n",
       "      <td>The Nun 2</td>\n",
       "      <td>0</td>\n",
       "      <td>2019</td>\n",
       "      <td>\\N</td>\n",
       "      <td>10</td>\n",
       "      <td>Comedy,Horror,Mystery</td>\n",
       "      <td>5.8</td>\n",
       "      <td>60</td>\n",
       "    </tr>\n",
       "    <tr>\n",
       "      <th>1071727</th>\n",
       "      <td>tt9916766</td>\n",
       "      <td>tvEpisode</td>\n",
       "      <td>Episode #10.15</td>\n",
       "      <td>Episode #10.15</td>\n",
       "      <td>0</td>\n",
       "      <td>2019</td>\n",
       "      <td>\\N</td>\n",
       "      <td>43</td>\n",
       "      <td>Family,Reality-TV</td>\n",
       "      <td>6.9</td>\n",
       "      <td>14</td>\n",
       "    </tr>\n",
       "    <tr>\n",
       "      <th>1071728</th>\n",
       "      <td>tt9916778</td>\n",
       "      <td>tvEpisode</td>\n",
       "      <td>Escape</td>\n",
       "      <td>Escape</td>\n",
       "      <td>0</td>\n",
       "      <td>2019</td>\n",
       "      <td>\\N</td>\n",
       "      <td>\\N</td>\n",
       "      <td>Drama</td>\n",
       "      <td>7.3</td>\n",
       "      <td>24</td>\n",
       "    </tr>\n",
       "  </tbody>\n",
       "</table>\n",
       "<p>1071729 rows × 11 columns</p>\n",
       "</div>"
      ],
      "text/plain": [
       "            tconst  titleType                    primaryTitle  \\\n",
       "0        tt0000001      short                      Carmencita   \n",
       "1        tt0000002      short          Le clown et ses chiens   \n",
       "2        tt0000003      short                  Pauvre Pierrot   \n",
       "3        tt0000004      short                     Un bon bock   \n",
       "4        tt0000005      short                Blacksmith Scene   \n",
       "...            ...        ...                             ...   \n",
       "1071724  tt9916580  tvEpisode        Horrid Henry Horrid Boy?   \n",
       "1071725  tt9916690  tvEpisode  Horrid Henry Delivers the Milk   \n",
       "1071726  tt9916720      short                       The Nun 2   \n",
       "1071727  tt9916766  tvEpisode                  Episode #10.15   \n",
       "1071728  tt9916778  tvEpisode                          Escape   \n",
       "\n",
       "                          originalTitle  isAdult startYear endYear  \\\n",
       "0                            Carmencita        0      1894      \\N   \n",
       "1                Le clown et ses chiens        0      1892      \\N   \n",
       "2                        Pauvre Pierrot        0      1892      \\N   \n",
       "3                           Un bon bock        0      1892      \\N   \n",
       "4                      Blacksmith Scene        0      1893      \\N   \n",
       "...                                 ...      ...       ...     ...   \n",
       "1071724        Horrid Henry Horrid Boy?        0      2012      \\N   \n",
       "1071725  Horrid Henry Delivers the Milk        0      2012      \\N   \n",
       "1071726                       The Nun 2        0      2019      \\N   \n",
       "1071727                  Episode #10.15        0      2019      \\N   \n",
       "1071728                          Escape        0      2019      \\N   \n",
       "\n",
       "        runtimeMinutes                    genres  averageRating  numVotes  \n",
       "0                    1         Documentary,Short            5.6      1646  \n",
       "1                    5           Animation,Short            6.1       198  \n",
       "2                    4  Animation,Comedy,Romance            6.5      1345  \n",
       "3                   12           Animation,Short            6.2       120  \n",
       "4                    1              Comedy,Short            6.1      2131  \n",
       "...                ...                       ...            ...       ...  \n",
       "1071724             10   Animation,Comedy,Family            7.2         5  \n",
       "1071725             \\N   Animation,Comedy,Family            6.6         5  \n",
       "1071726             10     Comedy,Horror,Mystery            5.8        60  \n",
       "1071727             43         Family,Reality-TV            6.9        14  \n",
       "1071728             \\N                     Drama            7.3        24  \n",
       "\n",
       "[1071729 rows x 11 columns]"
      ]
     },
     "execution_count": 20,
     "metadata": {},
     "output_type": "execute_result"
    }
   ],
   "source": [
    "imdb_info = pd.merge(titles, ratings, how=\"inner\", on=\"tconst\")\n",
    "imdb_info"
   ]
  },
  {
   "cell_type": "markdown",
   "metadata": {},
   "source": [
    "I use inner join because I think title and rating are both necessary for movie analysis"
   ]
  },
  {
   "cell_type": "markdown",
   "metadata": {
    "colab_type": "text",
    "id": "_9mVmVanTFsi"
   },
   "source": [
    "<font color='red'>To-do:</font> In a markdown cell, explain the difference between an inner join, outer join, right join, and left join."
   ]
  },
  {
   "cell_type": "markdown",
   "metadata": {},
   "source": [
    "- left join\n",
    "For each row in the left table, we find one row in the right table who has a matched key. If the right table doesn't contain such one, the left row will has NaN in the corresponding fields.\n",
    "In this case, the length of joined table is equals to the length of left table.\n",
    "- right join\n",
    "For each row in the right table, we find one row in the left table who has a matched key. If the left table doesn't contain such one, the right row will has NaN in the corresponding fields.\n",
    "In this case, the length of joined table is equals to the length of right table.\n",
    "- inner join\n",
    "For each row in the left table, we find one row in the right table who has a matched key. If the right table doesn't contain such one, the left row will also be discarded.\n",
    "In this case, the length of joined table is equals to the rows with keys matched in another table.\n",
    "- outer join\n",
    "Based on inner joined dataframe, if a row in left or right table is not matched, it will be appended to the dataframe with missing fields filled with NaN instead of being discarded"
   ]
  },
  {
   "cell_type": "markdown",
   "metadata": {
    "colab_type": "text",
    "id": "iX4_9PsjR6xq"
   },
   "source": [
    "<font color='red'>To-do:</font> What is the difference between pd.concat and pd.merge?"
   ]
  },
  {
   "cell_type": "markdown",
   "metadata": {},
   "source": [
    "- pd.concat\n",
    "pd.concat just connects one dataframe onto another.\n",
    "If we concat along column, we don't need to choose the key.\n",
    "If we concat along rows, the index will be used as the key.\n",
    "- pd.merge\n",
    "pd.merge connects two dataframes based on specific field shared by both dataframes. The rule for connecting can be chosen as inner, outer, left or right, and they will choose specific rows from the dataframes."
   ]
  },
  {
   "cell_type": "markdown",
   "metadata": {
    "colab_type": "text",
    "id": "Lsm9e-H2nWyh"
   },
   "source": [
    "# Exploding, manipulation and grouping practice, YAY!"
   ]
  },
  {
   "cell_type": "markdown",
   "metadata": {
    "colab_type": "text",
    "id": "SaWUa4fSneeu"
   },
   "source": [
    "Let's look at the genres in our imdb_info df. Use explode function to create a row per genre, title pair. (Similar to Q14 in HW1). There also appears to be '\\N' tacked onto each of the cells. Let's also get rid of that. "
   ]
  },
  {
   "cell_type": "code",
   "execution_count": 21,
   "metadata": {
    "colab": {
     "base_uri": "https://localhost:8080/",
     "height": 409
    },
    "colab_type": "code",
    "executionInfo": {
     "elapsed": 3188,
     "status": "error",
     "timestamp": 1599761694272,
     "user": {
      "displayName": "Kevin Lee",
      "photoUrl": "https://lh3.googleusercontent.com/a-/AOh14Gi-Bzlj5PkYle1VXcuH3tD0oB_eYMp8TFinoIcH=s64",
      "userId": "17607607416881687332"
     },
     "user_tz": 240
    },
    "id": "xHh9YdlBnd-4",
    "outputId": "2ea860a6-cbfa-4b20-e266-9ea2e759efe6"
   },
   "outputs": [],
   "source": [
    "imdb_info.genres = imdb_info.genres.str.extract(r'([a-zA-Z,]*)')\n",
    "imdb_info.loc[:,\"genre_list\"] = imdb_info.apply(lambda x: str(x[\"genres\"]).split(\",\"),axis=1)\n",
    "df_genre = imdb_info.explode(\"genre_list\")\n",
    "df_genre.rename(columns={'genre_list':'genre'}, inplace=True)"
   ]
  },
  {
   "cell_type": "code",
   "execution_count": 22,
   "metadata": {},
   "outputs": [
    {
     "data": {
      "text/html": [
       "<div>\n",
       "<style scoped>\n",
       "    .dataframe tbody tr th:only-of-type {\n",
       "        vertical-align: middle;\n",
       "    }\n",
       "\n",
       "    .dataframe tbody tr th {\n",
       "        vertical-align: top;\n",
       "    }\n",
       "\n",
       "    .dataframe thead th {\n",
       "        text-align: right;\n",
       "    }\n",
       "</style>\n",
       "<table border=\"1\" class=\"dataframe\">\n",
       "  <thead>\n",
       "    <tr style=\"text-align: right;\">\n",
       "      <th></th>\n",
       "      <th>tconst</th>\n",
       "      <th>titleType</th>\n",
       "      <th>primaryTitle</th>\n",
       "      <th>originalTitle</th>\n",
       "      <th>isAdult</th>\n",
       "      <th>startYear</th>\n",
       "      <th>endYear</th>\n",
       "      <th>runtimeMinutes</th>\n",
       "      <th>genres</th>\n",
       "      <th>averageRating</th>\n",
       "      <th>numVotes</th>\n",
       "      <th>genre_list</th>\n",
       "    </tr>\n",
       "  </thead>\n",
       "  <tbody>\n",
       "    <tr>\n",
       "      <th>0</th>\n",
       "      <td>tt0000001</td>\n",
       "      <td>short</td>\n",
       "      <td>Carmencita</td>\n",
       "      <td>Carmencita</td>\n",
       "      <td>0</td>\n",
       "      <td>1894</td>\n",
       "      <td>\\N</td>\n",
       "      <td>1</td>\n",
       "      <td>Documentary,Short</td>\n",
       "      <td>5.6</td>\n",
       "      <td>1646</td>\n",
       "      <td>[Documentary, Short]</td>\n",
       "    </tr>\n",
       "    <tr>\n",
       "      <th>1</th>\n",
       "      <td>tt0000002</td>\n",
       "      <td>short</td>\n",
       "      <td>Le clown et ses chiens</td>\n",
       "      <td>Le clown et ses chiens</td>\n",
       "      <td>0</td>\n",
       "      <td>1892</td>\n",
       "      <td>\\N</td>\n",
       "      <td>5</td>\n",
       "      <td>Animation,Short</td>\n",
       "      <td>6.1</td>\n",
       "      <td>198</td>\n",
       "      <td>[Animation, Short]</td>\n",
       "    </tr>\n",
       "    <tr>\n",
       "      <th>2</th>\n",
       "      <td>tt0000003</td>\n",
       "      <td>short</td>\n",
       "      <td>Pauvre Pierrot</td>\n",
       "      <td>Pauvre Pierrot</td>\n",
       "      <td>0</td>\n",
       "      <td>1892</td>\n",
       "      <td>\\N</td>\n",
       "      <td>4</td>\n",
       "      <td>Animation,Comedy,Romance</td>\n",
       "      <td>6.5</td>\n",
       "      <td>1345</td>\n",
       "      <td>[Animation, Comedy, Romance]</td>\n",
       "    </tr>\n",
       "    <tr>\n",
       "      <th>3</th>\n",
       "      <td>tt0000004</td>\n",
       "      <td>short</td>\n",
       "      <td>Un bon bock</td>\n",
       "      <td>Un bon bock</td>\n",
       "      <td>0</td>\n",
       "      <td>1892</td>\n",
       "      <td>\\N</td>\n",
       "      <td>12</td>\n",
       "      <td>Animation,Short</td>\n",
       "      <td>6.2</td>\n",
       "      <td>120</td>\n",
       "      <td>[Animation, Short]</td>\n",
       "    </tr>\n",
       "    <tr>\n",
       "      <th>4</th>\n",
       "      <td>tt0000005</td>\n",
       "      <td>short</td>\n",
       "      <td>Blacksmith Scene</td>\n",
       "      <td>Blacksmith Scene</td>\n",
       "      <td>0</td>\n",
       "      <td>1893</td>\n",
       "      <td>\\N</td>\n",
       "      <td>1</td>\n",
       "      <td>Comedy,Short</td>\n",
       "      <td>6.1</td>\n",
       "      <td>2131</td>\n",
       "      <td>[Comedy, Short]</td>\n",
       "    </tr>\n",
       "  </tbody>\n",
       "</table>\n",
       "</div>"
      ],
      "text/plain": [
       "      tconst titleType            primaryTitle           originalTitle  \\\n",
       "0  tt0000001     short              Carmencita              Carmencita   \n",
       "1  tt0000002     short  Le clown et ses chiens  Le clown et ses chiens   \n",
       "2  tt0000003     short          Pauvre Pierrot          Pauvre Pierrot   \n",
       "3  tt0000004     short             Un bon bock             Un bon bock   \n",
       "4  tt0000005     short        Blacksmith Scene        Blacksmith Scene   \n",
       "\n",
       "   isAdult startYear endYear runtimeMinutes                    genres  \\\n",
       "0        0      1894      \\N              1         Documentary,Short   \n",
       "1        0      1892      \\N              5           Animation,Short   \n",
       "2        0      1892      \\N              4  Animation,Comedy,Romance   \n",
       "3        0      1892      \\N             12           Animation,Short   \n",
       "4        0      1893      \\N              1              Comedy,Short   \n",
       "\n",
       "   averageRating  numVotes                    genre_list  \n",
       "0            5.6      1646          [Documentary, Short]  \n",
       "1            6.1       198            [Animation, Short]  \n",
       "2            6.5      1345  [Animation, Comedy, Romance]  \n",
       "3            6.2       120            [Animation, Short]  \n",
       "4            6.1      2131               [Comedy, Short]  "
      ]
     },
     "execution_count": 22,
     "metadata": {},
     "output_type": "execute_result"
    }
   ],
   "source": [
    "imdb_info.head()"
   ]
  },
  {
   "cell_type": "markdown",
   "metadata": {
    "colab_type": "text",
    "id": "tPQyN-vW8F9G"
   },
   "source": [
    "Looking at runtimeMinutes, we see that its type is object."
   ]
  },
  {
   "cell_type": "code",
   "execution_count": 23,
   "metadata": {
    "colab": {
     "base_uri": "https://localhost:8080/",
     "height": 119
    },
    "colab_type": "code",
    "executionInfo": {
     "elapsed": 267,
     "status": "ok",
     "timestamp": 1599761696758,
     "user": {
      "displayName": "Kevin Lee",
      "photoUrl": "https://lh3.googleusercontent.com/a-/AOh14Gi-Bzlj5PkYle1VXcuH3tD0oB_eYMp8TFinoIcH=s64",
      "userId": "17607607416881687332"
     },
     "user_tz": 240
    },
    "id": "cpsIQYDx8B2s",
    "outputId": "4116e414-b911-462e-a994-67b332e3882f"
   },
   "outputs": [
    {
     "data": {
      "text/plain": [
       "0    1\n",
       "0    1\n",
       "1    5\n",
       "1    5\n",
       "2    4\n",
       "Name: runtimeMinutes, dtype: object"
      ]
     },
     "execution_count": 23,
     "metadata": {},
     "output_type": "execute_result"
    }
   ],
   "source": [
    "df_genre['runtimeMinutes'].head()"
   ]
  },
  {
   "cell_type": "markdown",
   "metadata": {
    "colab_type": "text",
    "id": "RPpK42-F9_mX"
   },
   "source": [
    "We want to fix the data up a bit more. There appears to be '\\\\N' tacked onto the end of runtimeMinutes. Let's just grab the number in each of the cells by using some regex"
   ]
  },
  {
   "cell_type": "markdown",
   "metadata": {
    "colab_type": "text",
    "id": "uS86YNg6GRtQ"
   },
   "source": [
    "<font color='red'>To-do:</font> Extract the numeric values from the runtimeMinutes column. (HINT: use .str.extract())"
   ]
  },
  {
   "cell_type": "code",
   "execution_count": 24,
   "metadata": {},
   "outputs": [],
   "source": [
    "df_genre[\"runtimeMinutes\"] = df_genre[\"runtimeMinutes\"].str.extract(\"\\D*(\\\\d+)\\D*\")"
   ]
  },
  {
   "cell_type": "markdown",
   "metadata": {
    "colab_type": "text",
    "id": "hhmdqtW28480"
   },
   "source": [
    "<font color='red'>To-do:</font> Change the object dtype of runtimeMinutes to float."
   ]
  },
  {
   "cell_type": "code",
   "execution_count": 25,
   "metadata": {},
   "outputs": [],
   "source": [
    "df_genre[\"runtimeMinutes\"] = df_genre[\"runtimeMinutes\"].astype(float)"
   ]
  },
  {
   "cell_type": "markdown",
   "metadata": {
    "colab_type": "text",
    "id": "QKIUGva8EuCe"
   },
   "source": [
    "Let's practice using some groupby on the dataset. Let's look at the df by grouping by the average rating"
   ]
  },
  {
   "cell_type": "code",
   "execution_count": 26,
   "metadata": {
    "colab": {
     "base_uri": "https://localhost:8080/",
     "height": 450
    },
    "colab_type": "code",
    "executionInfo": {
     "elapsed": 666,
     "status": "ok",
     "timestamp": 1599761710694,
     "user": {
      "displayName": "Kevin Lee",
      "photoUrl": "https://lh3.googleusercontent.com/a-/AOh14Gi-Bzlj5PkYle1VXcuH3tD0oB_eYMp8TFinoIcH=s64",
      "userId": "17607607416881687332"
     },
     "user_tz": 240
    },
    "id": "GiO2RRyLEzYo",
    "outputId": "0ad9a335-5d8d-427b-ec66-66e22cf183d7"
   },
   "outputs": [
    {
     "data": {
      "text/html": [
       "<div>\n",
       "<style scoped>\n",
       "    .dataframe tbody tr th:only-of-type {\n",
       "        vertical-align: middle;\n",
       "    }\n",
       "\n",
       "    .dataframe tbody tr th {\n",
       "        vertical-align: top;\n",
       "    }\n",
       "\n",
       "    .dataframe thead th {\n",
       "        text-align: right;\n",
       "    }\n",
       "</style>\n",
       "<table border=\"1\" class=\"dataframe\">\n",
       "  <thead>\n",
       "    <tr style=\"text-align: right;\">\n",
       "      <th></th>\n",
       "      <th>isAdult</th>\n",
       "      <th>runtimeMinutes</th>\n",
       "      <th>numVotes</th>\n",
       "    </tr>\n",
       "    <tr>\n",
       "      <th>averageRating</th>\n",
       "      <th></th>\n",
       "      <th></th>\n",
       "      <th></th>\n",
       "    </tr>\n",
       "  </thead>\n",
       "  <tbody>\n",
       "    <tr>\n",
       "      <th>1.0</th>\n",
       "      <td>4</td>\n",
       "      <td>26444.0</td>\n",
       "      <td>208524</td>\n",
       "    </tr>\n",
       "    <tr>\n",
       "      <th>1.1</th>\n",
       "      <td>9</td>\n",
       "      <td>11054.0</td>\n",
       "      <td>34632</td>\n",
       "    </tr>\n",
       "    <tr>\n",
       "      <th>1.2</th>\n",
       "      <td>9</td>\n",
       "      <td>14083.0</td>\n",
       "      <td>37745</td>\n",
       "    </tr>\n",
       "    <tr>\n",
       "      <th>1.3</th>\n",
       "      <td>9</td>\n",
       "      <td>15836.0</td>\n",
       "      <td>133439</td>\n",
       "    </tr>\n",
       "    <tr>\n",
       "      <th>1.4</th>\n",
       "      <td>3</td>\n",
       "      <td>17615.0</td>\n",
       "      <td>250526</td>\n",
       "    </tr>\n",
       "    <tr>\n",
       "      <th>...</th>\n",
       "      <td>...</td>\n",
       "      <td>...</td>\n",
       "      <td>...</td>\n",
       "    </tr>\n",
       "    <tr>\n",
       "      <th>9.6</th>\n",
       "      <td>44</td>\n",
       "      <td>82023.0</td>\n",
       "      <td>2590258</td>\n",
       "    </tr>\n",
       "    <tr>\n",
       "      <th>9.7</th>\n",
       "      <td>17</td>\n",
       "      <td>43255.0</td>\n",
       "      <td>2603109</td>\n",
       "    </tr>\n",
       "    <tr>\n",
       "      <th>9.8</th>\n",
       "      <td>35</td>\n",
       "      <td>40721.0</td>\n",
       "      <td>1293387</td>\n",
       "    </tr>\n",
       "    <tr>\n",
       "      <th>9.9</th>\n",
       "      <td>11</td>\n",
       "      <td>14948.0</td>\n",
       "      <td>2526855</td>\n",
       "    </tr>\n",
       "    <tr>\n",
       "      <th>10.0</th>\n",
       "      <td>40</td>\n",
       "      <td>21242.0</td>\n",
       "      <td>403865</td>\n",
       "    </tr>\n",
       "  </tbody>\n",
       "</table>\n",
       "<p>91 rows × 3 columns</p>\n",
       "</div>"
      ],
      "text/plain": [
       "               isAdult  runtimeMinutes  numVotes\n",
       "averageRating                                   \n",
       "1.0                  4         26444.0    208524\n",
       "1.1                  9         11054.0     34632\n",
       "1.2                  9         14083.0     37745\n",
       "1.3                  9         15836.0    133439\n",
       "1.4                  3         17615.0    250526\n",
       "...                ...             ...       ...\n",
       "9.6                 44         82023.0   2590258\n",
       "9.7                 17         43255.0   2603109\n",
       "9.8                 35         40721.0   1293387\n",
       "9.9                 11         14948.0   2526855\n",
       "10.0                40         21242.0    403865\n",
       "\n",
       "[91 rows x 3 columns]"
      ]
     },
     "execution_count": 26,
     "metadata": {},
     "output_type": "execute_result"
    }
   ],
   "source": [
    "df_genre.groupby('averageRating').sum()"
   ]
  },
  {
   "cell_type": "markdown",
   "metadata": {
    "colab_type": "text",
    "id": "UttGyKpX7VIe"
   },
   "source": [
    "<font color='red'>To-do:</font> Find the average number of votes for averageRating for each genre. Find the first quartile."
   ]
  },
  {
   "cell_type": "code",
   "execution_count": 27,
   "metadata": {},
   "outputs": [
    {
     "data": {
      "text/plain": [
       "genres\n",
       "                          5.500\n",
       "Action                    5.000\n",
       "Action,Adult              5.700\n",
       "Action,Adult,Adventure    5.400\n",
       "Action,Adult,Animation    5.075\n",
       "                          ...  \n",
       "Thriller,War              5.950\n",
       "Thriller,Western          6.200\n",
       "War                       5.600\n",
       "War,Western               5.200\n",
       "Western                   6.800\n",
       "Name: averageRating, Length: 1767, dtype: float64"
      ]
     },
     "execution_count": 27,
     "metadata": {},
     "output_type": "execute_result"
    }
   ],
   "source": [
    "df_genre.groupby(\"genres\")[\"averageRating\"].quantile(0.25)"
   ]
  },
  {
   "cell_type": "markdown",
   "metadata": {
    "colab_type": "text",
    "id": "T8ZHXqh978Sx"
   },
   "source": [
    "<font color='red'>To-do:</font> What is the total number of votes for each genre, for each start year? (hint - use groupby)"
   ]
  },
  {
   "cell_type": "code",
   "execution_count": 28,
   "metadata": {},
   "outputs": [
    {
     "data": {
      "text/plain": [
       "genres   startYear\n",
       "         1905          1\n",
       "         1909          3\n",
       "         1910         10\n",
       "         1911          8\n",
       "         1912          6\n",
       "                      ..\n",
       "Western  2016         13\n",
       "         2017         34\n",
       "         2018         16\n",
       "         2019         14\n",
       "         2020          6\n",
       "Name: numVotes, Length: 45099, dtype: int64"
      ]
     },
     "execution_count": 28,
     "metadata": {},
     "output_type": "execute_result"
    }
   ],
   "source": [
    "df_genre.groupby([\"genres\", \"startYear\"])[\"numVotes\"].count()"
   ]
  },
  {
   "cell_type": "markdown",
   "metadata": {},
   "source": [
    "# Analysis on Child Opportunity Index"
   ]
  },
  {
   "cell_type": "markdown",
   "metadata": {},
   "source": [
    "Now let's analyse the child opportunity dataset from the lecture with the tools we've learnt today. But, first let's load the Child Opportunity Index json file from the lecture. Column descriptions can be found at this [link](https://data.diversitydatakids.org/dataset/coi20-child-opportunity-index-2-0-database/resource/f16fff12-b1e5-4f60-85d3-3a0ededa30a0)"
   ]
  },
  {
   "cell_type": "code",
   "execution_count": 29,
   "metadata": {},
   "outputs": [],
   "source": [
    "opportunity = pd.read_json('raw.json')"
   ]
  },
  {
   "cell_type": "markdown",
   "metadata": {},
   "source": [
    "<font color='red'>To-do:</font>  Create a dataframe that shows the min, average and maximum median household income in census tracts that belong to a top 100 metropolitan area and those that don't (hint: use groupby and apply to do this)"
   ]
  },
  {
   "cell_type": "code",
   "execution_count": 30,
   "metadata": {},
   "outputs": [],
   "source": [
    "df_se_mhe = pd.DataFrame({\"min\": opportunity.groupby(\"in100\")[\"SE_MHE\"].min(), \\\n",
    "    \"max\": opportunity.groupby(\"in100\")[\"SE_MHE\"].max(), \\\n",
    "    \"average\": opportunity.groupby(\"in100\")[\"SE_MHE\"].mean()})"
   ]
  },
  {
   "cell_type": "markdown",
   "metadata": {},
   "source": [
    "<font color='red'>To-do:</font> Create a a new column in the dataframe by bucketing the median household income into 4 equal sized in terms of number of rows groups (hint use pd.Series.quantile function) \"low_mhe\",\"low-medium_mhe\", \"high-medium_mhe\", and \"high_mhe\". "
   ]
  },
  {
   "cell_type": "code",
   "execution_count": 31,
   "metadata": {},
   "outputs": [
    {
     "data": {
      "text/plain": [
       "0         high-medium_mhe\n",
       "1         high-medium_mhe\n",
       "2          low-medium_mhe\n",
       "3          low-medium_mhe\n",
       "4          low-medium_mhe\n",
       "               ...       \n",
       "146107     low-medium_mhe\n",
       "146108    high-medium_mhe\n",
       "146109    high-medium_mhe\n",
       "146110     low-medium_mhe\n",
       "146111     low-medium_mhe\n",
       "Name: SE_MHE_BUCKET, Length: 146112, dtype: category\n",
       "Categories (4, object): ['low_mhe' < 'low-medium_mhe' < 'high-medium_mhe' < 'high_mhe']"
      ]
     },
     "execution_count": 31,
     "metadata": {},
     "output_type": "execute_result"
    }
   ],
   "source": [
    "bins = opportunity[\"SE_MHE\"].quantile(np.linspace(0, 1, 5))\n",
    "opportunity[\"SE_MHE_BUCKET\"] = pd.cut(opportunity[\"SE_MHE\"], bins, labels=[\"low_mhe\",\"low-medium_mhe\", \"high-medium_mhe\", \"high_mhe\"])\n",
    "opportunity[\"SE_MHE_BUCKET\"]"
   ]
  },
  {
   "cell_type": "markdown",
   "metadata": {},
   "source": [
    "<font color='red'>To-do:</font> Now create a table such that the index corresponds to whether a census tract belongs to top 100 metropolitan area, the columns correspond to the median household income bucket and the values correspond to average third-grade math proficiency. As a challenge, consider what you may be able say about (i) the relationship between household income and math proficiency of children as a whole and (ii) how this relationship differs between big cities and elsewehere?"
   ]
  },
  {
   "cell_type": "code",
   "execution_count": 32,
   "metadata": {},
   "outputs": [
    {
     "data": {
      "text/html": [
       "<div>\n",
       "<style scoped>\n",
       "    .dataframe tbody tr th:only-of-type {\n",
       "        vertical-align: middle;\n",
       "    }\n",
       "\n",
       "    .dataframe tbody tr th {\n",
       "        vertical-align: top;\n",
       "    }\n",
       "\n",
       "    .dataframe thead th {\n",
       "        text-align: right;\n",
       "    }\n",
       "</style>\n",
       "<table border=\"1\" class=\"dataframe\">\n",
       "  <thead>\n",
       "    <tr style=\"text-align: right;\">\n",
       "      <th>SE_MHE_BUCKET</th>\n",
       "      <th>low_mhe</th>\n",
       "      <th>low-medium_mhe</th>\n",
       "      <th>high-medium_mhe</th>\n",
       "      <th>high_mhe</th>\n",
       "    </tr>\n",
       "    <tr>\n",
       "      <th>in100</th>\n",
       "      <th></th>\n",
       "      <th></th>\n",
       "      <th></th>\n",
       "      <th></th>\n",
       "    </tr>\n",
       "  </thead>\n",
       "  <tbody>\n",
       "    <tr>\n",
       "      <th>0.0</th>\n",
       "      <td>205.024781</td>\n",
       "      <td>220.900619</td>\n",
       "      <td>229.021845</td>\n",
       "      <td>242.240327</td>\n",
       "    </tr>\n",
       "    <tr>\n",
       "      <th>1.0</th>\n",
       "      <td>177.554489</td>\n",
       "      <td>205.821513</td>\n",
       "      <td>224.600362</td>\n",
       "      <td>257.436952</td>\n",
       "    </tr>\n",
       "  </tbody>\n",
       "</table>\n",
       "</div>"
      ],
      "text/plain": [
       "SE_MHE_BUCKET     low_mhe  low-medium_mhe  high-medium_mhe    high_mhe\n",
       "in100                                                                 \n",
       "0.0            205.024781      220.900619       229.021845  242.240327\n",
       "1.0            177.554489      205.821513       224.600362  257.436952"
      ]
     },
     "execution_count": 32,
     "metadata": {},
     "output_type": "execute_result"
    }
   ],
   "source": [
    "df = pd.DataFrame(opportunity.groupby([\"in100\", \"SE_MHE_BUCKET\"])[\"ED_MATH\"].mean()).reset_index()\n",
    "df.pivot(index=\"in100\", columns=\"SE_MHE_BUCKET\", values=\"ED_MATH\")"
   ]
  }
 ],
 "metadata": {
  "colab": {
   "collapsed_sections": [
    "h_ict6b-qxLD",
    "2qNZJaFe-y7N",
    "xd9q8cM3FG_H",
    "Lsm9e-H2nWyh"
   ],
   "name": "si618_Lab2.ipynb",
   "provenance": [],
   "toc_visible": true
  },
  "interpreter": {
   "hash": "ccfad3a08567331d09d2432bee1b50cab695c9379824f131d2e64405b63b07b1"
  },
  "kernelspec": {
   "display_name": "Python 3",
   "language": "python",
   "name": "python3"
  },
  "language_info": {
   "codemirror_mode": {
    "name": "ipython",
    "version": 3
   },
   "file_extension": ".py",
   "mimetype": "text/x-python",
   "name": "python",
   "nbconvert_exporter": "python",
   "pygments_lexer": "ipython3",
   "version": "3.8.8"
  }
 },
 "nbformat": 4,
 "nbformat_minor": 4
}
