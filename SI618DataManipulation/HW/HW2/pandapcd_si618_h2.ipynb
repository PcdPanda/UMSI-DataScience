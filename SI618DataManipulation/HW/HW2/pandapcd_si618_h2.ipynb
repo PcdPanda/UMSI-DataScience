{
 "cells": [
  {
   "cell_type": "code",
   "execution_count": 32,
   "metadata": {},
   "outputs": [],
   "source": [
    "import numpy as np\n",
    "import pandas as pd"
   ]
  },
  {
   "cell_type": "markdown",
   "metadata": {},
   "source": [
    "## Q1"
   ]
  },
  {
   "cell_type": "markdown",
   "metadata": {},
   "source": [
    "1.1 Load the data"
   ]
  },
  {
   "cell_type": "code",
   "execution_count": 33,
   "metadata": {},
   "outputs": [],
   "source": [
    "df_invoices = pd.read_json(\"invoices.json\")\n",
    "df_invoices = df_invoices[~df_invoices[\"InvoiceNo\"].str.startswith(\"C\")]\n",
    "df_items = pd.read_json(\"items.json\") \n",
    "df_purchases = pd.read_json(\"purchases.json\")\n",
    "df_purchases = df_purchases[~df_purchases[\"InvoiceNo\"].str.startswith(\"C\")]\n",
    "df_purchases[\"StockCode\"] = df_purchases[\"StockCodeSC\"].str.extract(\"SC(.+)\")\n",
    "df_total = df_purchases.merge(df_items, how=\"left\", on=\"StockCode\").merge(df_invoices, on=\"InvoiceNo\")\n",
    "df_total[\"Revenue\"] = df_total[\"Quantity\"] * df_total[\"UnitPrice\"] * 1.25\n",
    "df_total = df_total.dropna(how=\"any\", axis=0)"
   ]
  },
  {
   "cell_type": "markdown",
   "metadata": {},
   "source": [
    "1.2 What fraction of invoices were shipped? "
   ]
  },
  {
   "cell_type": "code",
   "execution_count": 34,
   "metadata": {},
   "outputs": [
    {
     "data": {
      "text/plain": [
       "0.8520988320548896"
      ]
     },
     "execution_count": 34,
     "metadata": {},
     "output_type": "execute_result"
    }
   ],
   "source": [
    "df = pd.read_json(\"invoices.json\")\n",
    "len(df_invoices) / len(df)"
   ]
  },
  {
   "cell_type": "markdown",
   "metadata": {},
   "source": [
    "1.3 How many unique customers are there (regardless of shipped or not)? "
   ]
  },
  {
   "cell_type": "code",
   "execution_count": 35,
   "metadata": {},
   "outputs": [
    {
     "data": {
      "text/plain": [
       "4373"
      ]
     },
     "execution_count": 35,
     "metadata": {},
     "output_type": "execute_result"
    }
   ],
   "source": [
    "len(pd.read_json(\"invoices.json\")[\"CustomerID\"].drop_duplicates())"
   ]
  },
  {
   "cell_type": "markdown",
   "metadata": {},
   "source": [
    "1.4 What the total number of unique items with a unit price greater than 2? "
   ]
  },
  {
   "cell_type": "code",
   "execution_count": 36,
   "metadata": {},
   "outputs": [
    {
     "data": {
      "text/plain": [
       "2164"
      ]
     },
     "execution_count": 36,
     "metadata": {},
     "output_type": "execute_result"
    }
   ],
   "source": [
    "(df_items.drop_duplicates(subset=[\"Description\"])[\"UnitPrice\"] > 2).sum()"
   ]
  },
  {
   "cell_type": "markdown",
   "metadata": {},
   "source": [
    "1.5 Are there any columns with null values? "
   ]
  },
  {
   "cell_type": "code",
   "execution_count": 37,
   "metadata": {},
   "outputs": [
    {
     "data": {
      "text/plain": [
       "{'CustomerID', 'Description'}"
      ]
     },
     "execution_count": 37,
     "metadata": {},
     "output_type": "execute_result"
    }
   ],
   "source": [
    "nan_columns = set()\n",
    "for df in [df_invoices, df_items, df_purchases]:\n",
    "    nan_columns = nan_columns | (set(df.columns) - set(df.dropna(how=\"any\", axis=1).columns))\n",
    "nan_columns\n"
   ]
  },
  {
   "cell_type": "markdown",
   "metadata": {},
   "source": [
    "1.6 Thinking ahead, how do you think you would join the different tables? Please share 2-3 sentences about your approach"
   ]
  },
  {
   "cell_type": "markdown",
   "metadata": {},
   "source": [
    "I'd like to use left join twice, where the left table is always the purchases because it has two fields \"StockCode\" and \"InvoiceNo\" can be used as the key to join on from invoices and items respectively. What's more, every purchases is unique, but multiple purchases may corresponding to same invoice, therefore each of them need to be analyzed"
   ]
  },
  {
   "cell_type": "markdown",
   "metadata": {},
   "source": [
    "## Q2"
   ]
  },
  {
   "cell_type": "markdown",
   "metadata": {},
   "source": [
    "2.1 For each customer calculate how many shipped invoices they have placed. List the top 10 customers who have placed an invoice in descending order"
   ]
  },
  {
   "cell_type": "code",
   "execution_count": 38,
   "metadata": {},
   "outputs": [
    {
     "data": {
      "text/plain": [
       "CustomerID\n",
       "12748.0    211\n",
       "14911.0    202\n",
       "17841.0    124\n",
       "13089.0     97\n",
       "14606.0     95\n",
       "15311.0     91\n",
       "12971.0     86\n",
       "14646.0     74\n",
       "16029.0     63\n",
       "13408.0     62\n",
       "Name: InvoiceNum, dtype: int64"
      ]
     },
     "execution_count": 38,
     "metadata": {},
     "output_type": "execute_result"
    }
   ],
   "source": [
    "df_invoices_num = df_invoices.dropna(how=\"any\", axis=0).groupby([\"CustomerID\"]).count()[\"InvoiceNo\"]\n",
    "df_invoices_num.name = \"InvoiceNum\"\n",
    "df_invoices_num.sort_values(ascending=False).iloc[:10]"
   ]
  },
  {
   "cell_type": "markdown",
   "metadata": {},
   "source": [
    "2.2 Perform a similar calculation but instead of the number of invoices, calculate the average quantity of items per invoice for each customer. List the top 10 customers in descending order"
   ]
  },
  {
   "cell_type": "code",
   "execution_count": 39,
   "metadata": {},
   "outputs": [
    {
     "data": {
      "text/plain": [
       "CustomerID\n",
       "12346.0    74215.000000\n",
       "16446.0    40498.500000\n",
       "13256.0    12540.000000\n",
       "18251.0     7824.000000\n",
       "15749.0     6009.333333\n",
       "13135.0     4300.000000\n",
       "16754.0     4280.000000\n",
       "12415.0     3698.571429\n",
       "12688.0     3028.000000\n",
       "15372.0     2924.000000\n",
       "dtype: float64"
      ]
     },
     "execution_count": 39,
     "metadata": {},
     "output_type": "execute_result"
    }
   ],
   "source": [
    "df_purchases_invoice = df_purchases.merge(df_invoices, how=\"left\", on=\"InvoiceNo\")\n",
    "df_avg_quant = df_purchases_invoice.groupby([\"CustomerID\"])[\"Quantity\"].sum() / df_invoices_num\n",
    "df_avg_quant.sort_values(ascending=False).iloc[:10]"
   ]
  },
  {
   "cell_type": "markdown",
   "metadata": {},
   "source": [
    "2.3 Based on 1 and 2, does it appear that the more invoices a customer have, the smaller the average size of an invoice? Explain your reasoning"
   ]
  },
  {
   "cell_type": "code",
   "execution_count": 40,
   "metadata": {},
   "outputs": [
    {
     "data": {
      "text/html": [
       "<div>\n",
       "<style scoped>\n",
       "    .dataframe tbody tr th:only-of-type {\n",
       "        vertical-align: middle;\n",
       "    }\n",
       "\n",
       "    .dataframe tbody tr th {\n",
       "        vertical-align: top;\n",
       "    }\n",
       "\n",
       "    .dataframe thead th {\n",
       "        text-align: right;\n",
       "    }\n",
       "</style>\n",
       "<table border=\"1\" class=\"dataframe\">\n",
       "  <thead>\n",
       "    <tr style=\"text-align: right;\">\n",
       "      <th></th>\n",
       "      <th>InvoiceNum</th>\n",
       "      <th>QuantAvg</th>\n",
       "    </tr>\n",
       "  </thead>\n",
       "  <tbody>\n",
       "    <tr>\n",
       "      <th>InvoiceNum</th>\n",
       "      <td>1.000000</td>\n",
       "      <td>0.033011</td>\n",
       "    </tr>\n",
       "    <tr>\n",
       "      <th>QuantAvg</th>\n",
       "      <td>0.033011</td>\n",
       "      <td>1.000000</td>\n",
       "    </tr>\n",
       "  </tbody>\n",
       "</table>\n",
       "</div>"
      ],
      "text/plain": [
       "            InvoiceNum  QuantAvg\n",
       "InvoiceNum    1.000000  0.033011\n",
       "QuantAvg      0.033011  1.000000"
      ]
     },
     "execution_count": 40,
     "metadata": {},
     "output_type": "execute_result"
    }
   ],
   "source": [
    "df = pd.DataFrame({\"QuantAvg\":df_avg_quant, \"InvoiceNum\": df_invoices_num})\n",
    "q1, q3 = df[\"QuantAvg\"].quantile([0.25, 0.75])\n",
    "df[(df[\"QuantAvg\"] <= q3)&(df[\"QuantAvg\"] >= q1)].sort_values([\"InvoiceNum\"])[[\"InvoiceNum\", \"QuantAvg\"]].corr()"
   ]
  },
  {
   "cell_type": "markdown",
   "metadata": {},
   "source": [
    "Since the correlation between the invoice num and average quantity is subtle, I think more invoices doesn't necessarily lead to less average invoice size"
   ]
  },
  {
   "cell_type": "markdown",
   "metadata": {},
   "source": [
    "## Q3"
   ]
  },
  {
   "cell_type": "markdown",
   "metadata": {},
   "source": [
    "3.1 What is the median item-unit price?"
   ]
  },
  {
   "cell_type": "code",
   "execution_count": 41,
   "metadata": {},
   "outputs": [
    {
     "data": {
      "text/plain": [
       "2.51"
      ]
     },
     "execution_count": 41,
     "metadata": {},
     "output_type": "execute_result"
    }
   ],
   "source": [
    "df_items[\"UnitPrice\"].median()"
   ]
  },
  {
   "cell_type": "markdown",
   "metadata": {},
   "source": [
    "3.2  What % of items are over $10?"
   ]
  },
  {
   "cell_type": "code",
   "execution_count": 42,
   "metadata": {},
   "outputs": [
    {
     "data": {
      "text/plain": [
       "6.363636363636363"
      ]
     },
     "execution_count": 42,
     "metadata": {},
     "output_type": "execute_result"
    }
   ],
   "source": [
    "(df_items[\"UnitPrice\"] > 10).sum() / len(df_items) * 100"
   ]
  },
  {
   "cell_type": "markdown",
   "metadata": {},
   "source": [
    "3.3 Generate a histogram of the unit prices. Select reasonable min/max values for the x-axis "
   ]
  },
  {
   "cell_type": "code",
   "execution_count": 43,
   "metadata": {},
   "outputs": [
    {
     "data": {
      "text/plain": [
       "<AxesSubplot:ylabel='Frequency'>"
      ]
     },
     "execution_count": 43,
     "metadata": {},
     "output_type": "execute_result"
    },
    {
     "data": {
      "image/png": "[encoded data removed]",
      "text/plain": [
       "<Figure size 432x288 with 1 Axes>"
      ]
     },
     "metadata": {
      "needs_background": "light"
     },
     "output_type": "display_data"
    }
   ],
   "source": [
    "q1, q3 = df_items[\"UnitPrice\"].quantile([0.1, 0.9])\n",
    "df_items[(df_items[\"UnitPrice\"] >= q1) & (df_items[\"UnitPrice\"] <= q3)].plot.hist(by=\"UnitPrice\", legend=True, grid=True, xticks=np.linspace(q1, q3, 10))"
   ]
  },
  {
   "cell_type": "markdown",
   "metadata": {},
   "source": [
    "## Q4"
   ]
  },
  {
   "cell_type": "markdown",
   "metadata": {},
   "source": [
    "4.1 What are the top 10 most ordered items (Quantity) in descending order?  "
   ]
  },
  {
   "cell_type": "code",
   "execution_count": 44,
   "metadata": {},
   "outputs": [
    {
     "data": {
      "text/html": [
       "<div>\n",
       "<style scoped>\n",
       "    .dataframe tbody tr th:only-of-type {\n",
       "        vertical-align: middle;\n",
       "    }\n",
       "\n",
       "    .dataframe tbody tr th {\n",
       "        vertical-align: top;\n",
       "    }\n",
       "\n",
       "    .dataframe thead th {\n",
       "        text-align: right;\n",
       "    }\n",
       "</style>\n",
       "<table border=\"1\" class=\"dataframe\">\n",
       "  <thead>\n",
       "    <tr style=\"text-align: right;\">\n",
       "      <th></th>\n",
       "      <th>StockCode</th>\n",
       "      <th>Quantity</th>\n",
       "      <th>Description</th>\n",
       "      <th>UnitPrice</th>\n",
       "    </tr>\n",
       "  </thead>\n",
       "  <tbody>\n",
       "    <tr>\n",
       "      <th>0</th>\n",
       "      <td>23843</td>\n",
       "      <td>80995</td>\n",
       "      <td>PAPER CRAFT , LITTLE BIRDIE</td>\n",
       "      <td>2.08</td>\n",
       "    </tr>\n",
       "    <tr>\n",
       "      <th>1</th>\n",
       "      <td>23166</td>\n",
       "      <td>77916</td>\n",
       "      <td>MEDIUM CERAMIC TOP STORAGE JAR</td>\n",
       "      <td>1.04</td>\n",
       "    </tr>\n",
       "    <tr>\n",
       "      <th>2</th>\n",
       "      <td>84077</td>\n",
       "      <td>54464</td>\n",
       "      <td>WORLD WAR 2 GLIDERS ASSTD DESIGNS</td>\n",
       "      <td>0.29</td>\n",
       "    </tr>\n",
       "    <tr>\n",
       "      <th>3</th>\n",
       "      <td>22197</td>\n",
       "      <td>49350</td>\n",
       "      <td>SMALL POPCORN HOLDER</td>\n",
       "      <td>0.72</td>\n",
       "    </tr>\n",
       "    <tr>\n",
       "      <th>4</th>\n",
       "      <td>85099B</td>\n",
       "      <td>46305</td>\n",
       "      <td>JUMBO BAG RED RETROSPOT</td>\n",
       "      <td>1.65</td>\n",
       "    </tr>\n",
       "    <tr>\n",
       "      <th>5</th>\n",
       "      <td>85123A</td>\n",
       "      <td>36908</td>\n",
       "      <td>WHITE HANGING HEART T-LIGHT HOLDER</td>\n",
       "      <td>2.55</td>\n",
       "    </tr>\n",
       "    <tr>\n",
       "      <th>6</th>\n",
       "      <td>84879</td>\n",
       "      <td>35414</td>\n",
       "      <td>ASSORTED COLOUR BIRD ORNAMENT</td>\n",
       "      <td>1.69</td>\n",
       "    </tr>\n",
       "    <tr>\n",
       "      <th>7</th>\n",
       "      <td>21212</td>\n",
       "      <td>33709</td>\n",
       "      <td>PACK OF 72 RETROSPOT CAKE CASES</td>\n",
       "      <td>0.42</td>\n",
       "    </tr>\n",
       "    <tr>\n",
       "      <th>8</th>\n",
       "      <td>23084</td>\n",
       "      <td>27202</td>\n",
       "      <td>RABBIT NIGHT LIGHT</td>\n",
       "      <td>2.08</td>\n",
       "    </tr>\n",
       "    <tr>\n",
       "      <th>9</th>\n",
       "      <td>22492</td>\n",
       "      <td>26077</td>\n",
       "      <td>MINI PAINT SET VINTAGE</td>\n",
       "      <td>0.65</td>\n",
       "    </tr>\n",
       "  </tbody>\n",
       "</table>\n",
       "</div>"
      ],
      "text/plain": [
       "  StockCode  Quantity                         Description  UnitPrice\n",
       "0     23843     80995         PAPER CRAFT , LITTLE BIRDIE       2.08\n",
       "1     23166     77916      MEDIUM CERAMIC TOP STORAGE JAR       1.04\n",
       "2     84077     54464   WORLD WAR 2 GLIDERS ASSTD DESIGNS       0.29\n",
       "3     22197     49350                SMALL POPCORN HOLDER       0.72\n",
       "4    85099B     46305             JUMBO BAG RED RETROSPOT       1.65\n",
       "5    85123A     36908  WHITE HANGING HEART T-LIGHT HOLDER       2.55\n",
       "6     84879     35414       ASSORTED COLOUR BIRD ORNAMENT       1.69\n",
       "7     21212     33709     PACK OF 72 RETROSPOT CAKE CASES       0.42\n",
       "8     23084     27202                  RABBIT NIGHT LIGHT       2.08\n",
       "9     22492     26077             MINI PAINT SET VINTAGE        0.65"
      ]
     },
     "execution_count": 44,
     "metadata": {},
     "output_type": "execute_result"
    }
   ],
   "source": [
    "df = df_total.groupby([\"StockCode\"])[\"Quantity\"].sum().dropna().sort_values(ascending=False)\n",
    "df.reset_index().merge(df_items, on=\"StockCode\", how=\"left\").iloc[:10]"
   ]
  },
  {
   "cell_type": "markdown",
   "metadata": {},
   "source": [
    "4.2 What are the top 10 most frequently ordered by customers in descending order? "
   ]
  },
  {
   "cell_type": "code",
   "execution_count": 45,
   "metadata": {},
   "outputs": [
    {
     "data": {
      "text/html": [
       "<div>\n",
       "<style scoped>\n",
       "    .dataframe tbody tr th:only-of-type {\n",
       "        vertical-align: middle;\n",
       "    }\n",
       "\n",
       "    .dataframe tbody tr th {\n",
       "        vertical-align: top;\n",
       "    }\n",
       "\n",
       "    .dataframe thead th {\n",
       "        text-align: right;\n",
       "    }\n",
       "</style>\n",
       "<table border=\"1\" class=\"dataframe\">\n",
       "  <thead>\n",
       "    <tr style=\"text-align: right;\">\n",
       "      <th></th>\n",
       "      <th>StockCode</th>\n",
       "      <th>Frequency</th>\n",
       "      <th>Description</th>\n",
       "      <th>UnitPrice</th>\n",
       "    </tr>\n",
       "  </thead>\n",
       "  <tbody>\n",
       "    <tr>\n",
       "      <th>3174</th>\n",
       "      <td>85123A</td>\n",
       "      <td>2043</td>\n",
       "      <td>WHITE HANGING HEART T-LIGHT HOLDER</td>\n",
       "      <td>2.55</td>\n",
       "    </tr>\n",
       "    <tr>\n",
       "      <th>1270</th>\n",
       "      <td>22423</td>\n",
       "      <td>1729</td>\n",
       "      <td>REGENCY CAKESTAND 3 TIER</td>\n",
       "      <td>10.95</td>\n",
       "    </tr>\n",
       "    <tr>\n",
       "      <th>3160</th>\n",
       "      <td>85099B</td>\n",
       "      <td>1625</td>\n",
       "      <td>JUMBO BAG RED RETROSPOT</td>\n",
       "      <td>1.65</td>\n",
       "    </tr>\n",
       "    <tr>\n",
       "      <th>3005</th>\n",
       "      <td>84879</td>\n",
       "      <td>1411</td>\n",
       "      <td>ASSORTED COLOUR BIRD ORNAMENT</td>\n",
       "      <td>1.69</td>\n",
       "    </tr>\n",
       "    <tr>\n",
       "      <th>2561</th>\n",
       "      <td>47566</td>\n",
       "      <td>1404</td>\n",
       "      <td>PARTY BUNTING</td>\n",
       "      <td>9.32</td>\n",
       "    </tr>\n",
       "    <tr>\n",
       "      <th>168</th>\n",
       "      <td>20725</td>\n",
       "      <td>1321</td>\n",
       "      <td>LUNCH BAG RED RETROSPOT</td>\n",
       "      <td>1.65</td>\n",
       "    </tr>\n",
       "    <tr>\n",
       "      <th>1552</th>\n",
       "      <td>22720</td>\n",
       "      <td>1160</td>\n",
       "      <td>SET OF 3 CAKE TINS PANTRY DESIGN</td>\n",
       "      <td>4.95</td>\n",
       "    </tr>\n",
       "    <tr>\n",
       "      <th>170</th>\n",
       "      <td>20727</td>\n",
       "      <td>1110</td>\n",
       "      <td>LUNCH BAG  BLACK SKULL.</td>\n",
       "      <td>1.65</td>\n",
       "    </tr>\n",
       "    <tr>\n",
       "      <th>3605</th>\n",
       "      <td>POST</td>\n",
       "      <td>1100</td>\n",
       "      <td>POSTAGE</td>\n",
       "      <td>18.00</td>\n",
       "    </tr>\n",
       "    <tr>\n",
       "      <th>2015</th>\n",
       "      <td>23203</td>\n",
       "      <td>1100</td>\n",
       "      <td>mailout</td>\n",
       "      <td>0.00</td>\n",
       "    </tr>\n",
       "  </tbody>\n",
       "</table>\n",
       "</div>"
      ],
      "text/plain": [
       "     StockCode  Frequency                         Description  UnitPrice\n",
       "3174    85123A       2043  WHITE HANGING HEART T-LIGHT HOLDER       2.55\n",
       "1270     22423       1729            REGENCY CAKESTAND 3 TIER      10.95\n",
       "3160    85099B       1625             JUMBO BAG RED RETROSPOT       1.65\n",
       "3005     84879       1411       ASSORTED COLOUR BIRD ORNAMENT       1.69\n",
       "2561     47566       1404                       PARTY BUNTING       9.32\n",
       "168      20725       1321             LUNCH BAG RED RETROSPOT       1.65\n",
       "1552     22720       1160   SET OF 3 CAKE TINS PANTRY DESIGN        4.95\n",
       "170      20727       1110             LUNCH BAG  BLACK SKULL.       1.65\n",
       "3605      POST       1100                             POSTAGE      18.00\n",
       "2015     23203       1100                             mailout       0.00"
      ]
     },
     "execution_count": 45,
     "metadata": {},
     "output_type": "execute_result"
    }
   ],
   "source": [
    "df = df_total.groupby([\"StockCode\"])[\"Quantity\"].count()\n",
    "df.name = \"Frequency\"\n",
    "df = df.reset_index().merge(df_items, on=\"StockCode\", how=\"left\")\n",
    "df.sort_values(\"Frequency\",ascending=False).iloc[:10]"
   ]
  },
  {
   "cell_type": "markdown",
   "metadata": {},
   "source": [
    "4.3 What are the top 5 invoices that generated the most revenue? (Revenue is calculated by marking up the unit price by 25%.)"
   ]
  },
  {
   "cell_type": "code",
   "execution_count": 46,
   "metadata": {},
   "outputs": [
    {
     "data": {
      "text/plain": [
       "InvoiceNo\n",
       "581483    210587.0000\n",
       "541431     96479.5000\n",
       "556255     37305.0000\n",
       "556917     34545.9125\n",
       "572035     32872.2000\n",
       "Name: Revenue, dtype: float64"
      ]
     },
     "execution_count": 46,
     "metadata": {},
     "output_type": "execute_result"
    }
   ],
   "source": [
    "df = df_total.groupby([\"InvoiceNo\"])[\"Revenue\"].sum()\n",
    "df.sort_values(ascending=False).iloc[:5]"
   ]
  },
  {
   "cell_type": "markdown",
   "metadata": {},
   "source": [
    "## Q5"
   ]
  },
  {
   "cell_type": "markdown",
   "metadata": {},
   "source": [
    "5.1 Discretize customers into quartiles (Q1, Q2, Q3, Q4) using dummy variables based on the total revenue they have generated for the company"
   ]
  },
  {
   "cell_type": "code",
   "execution_count": 47,
   "metadata": {},
   "outputs": [
    {
     "data": {
      "text/html": [
       "<div>\n",
       "<style scoped>\n",
       "    .dataframe tbody tr th:only-of-type {\n",
       "        vertical-align: middle;\n",
       "    }\n",
       "\n",
       "    .dataframe tbody tr th {\n",
       "        vertical-align: top;\n",
       "    }\n",
       "\n",
       "    .dataframe thead th {\n",
       "        text-align: right;\n",
       "    }\n",
       "</style>\n",
       "<table border=\"1\" class=\"dataframe\">\n",
       "  <thead>\n",
       "    <tr style=\"text-align: right;\">\n",
       "      <th></th>\n",
       "      <th>(1.562, 456.419]</th>\n",
       "      <th>(456.419, 1012.125]</th>\n",
       "      <th>(1012.125, 2509.019]</th>\n",
       "      <th>(2509.019, 510949.95]</th>\n",
       "    </tr>\n",
       "    <tr>\n",
       "      <th>CustomerID</th>\n",
       "      <th></th>\n",
       "      <th></th>\n",
       "      <th></th>\n",
       "      <th></th>\n",
       "    </tr>\n",
       "  </thead>\n",
       "  <tbody>\n",
       "    <tr>\n",
       "      <th>12346.0</th>\n",
       "      <td>0</td>\n",
       "      <td>0</td>\n",
       "      <td>0</td>\n",
       "      <td>1</td>\n",
       "    </tr>\n",
       "    <tr>\n",
       "      <th>12347.0</th>\n",
       "      <td>0</td>\n",
       "      <td>0</td>\n",
       "      <td>0</td>\n",
       "      <td>1</td>\n",
       "    </tr>\n",
       "    <tr>\n",
       "      <th>12348.0</th>\n",
       "      <td>0</td>\n",
       "      <td>0</td>\n",
       "      <td>1</td>\n",
       "      <td>0</td>\n",
       "    </tr>\n",
       "    <tr>\n",
       "      <th>12349.0</th>\n",
       "      <td>0</td>\n",
       "      <td>0</td>\n",
       "      <td>1</td>\n",
       "      <td>0</td>\n",
       "    </tr>\n",
       "    <tr>\n",
       "      <th>12350.0</th>\n",
       "      <td>0</td>\n",
       "      <td>1</td>\n",
       "      <td>0</td>\n",
       "      <td>0</td>\n",
       "    </tr>\n",
       "    <tr>\n",
       "      <th>...</th>\n",
       "      <td>...</td>\n",
       "      <td>...</td>\n",
       "      <td>...</td>\n",
       "      <td>...</td>\n",
       "    </tr>\n",
       "    <tr>\n",
       "      <th>18280.0</th>\n",
       "      <td>1</td>\n",
       "      <td>0</td>\n",
       "      <td>0</td>\n",
       "      <td>0</td>\n",
       "    </tr>\n",
       "    <tr>\n",
       "      <th>18281.0</th>\n",
       "      <td>1</td>\n",
       "      <td>0</td>\n",
       "      <td>0</td>\n",
       "      <td>0</td>\n",
       "    </tr>\n",
       "    <tr>\n",
       "      <th>18282.0</th>\n",
       "      <td>1</td>\n",
       "      <td>0</td>\n",
       "      <td>0</td>\n",
       "      <td>0</td>\n",
       "    </tr>\n",
       "    <tr>\n",
       "      <th>18283.0</th>\n",
       "      <td>0</td>\n",
       "      <td>0</td>\n",
       "      <td>0</td>\n",
       "      <td>1</td>\n",
       "    </tr>\n",
       "    <tr>\n",
       "      <th>18287.0</th>\n",
       "      <td>0</td>\n",
       "      <td>0</td>\n",
       "      <td>0</td>\n",
       "      <td>1</td>\n",
       "    </tr>\n",
       "  </tbody>\n",
       "</table>\n",
       "<p>4339 rows × 4 columns</p>\n",
       "</div>"
      ],
      "text/plain": [
       "            (1.562, 456.419]  (456.419, 1012.125]  (1012.125, 2509.019]  \\\n",
       "CustomerID                                                                \n",
       "12346.0                    0                    0                     0   \n",
       "12347.0                    0                    0                     0   \n",
       "12348.0                    0                    0                     1   \n",
       "12349.0                    0                    0                     1   \n",
       "12350.0                    0                    1                     0   \n",
       "...                      ...                  ...                   ...   \n",
       "18280.0                    1                    0                     0   \n",
       "18281.0                    1                    0                     0   \n",
       "18282.0                    1                    0                     0   \n",
       "18283.0                    0                    0                     0   \n",
       "18287.0                    0                    0                     0   \n",
       "\n",
       "            (2509.019, 510949.95]  \n",
       "CustomerID                         \n",
       "12346.0                         1  \n",
       "12347.0                         1  \n",
       "12348.0                         0  \n",
       "12349.0                         0  \n",
       "12350.0                         0  \n",
       "...                           ...  \n",
       "18280.0                         0  \n",
       "18281.0                         0  \n",
       "18282.0                         0  \n",
       "18283.0                         1  \n",
       "18287.0                         1  \n",
       "\n",
       "[4339 rows x 4 columns]"
      ]
     },
     "execution_count": 47,
     "metadata": {},
     "output_type": "execute_result"
    }
   ],
   "source": [
    "revenue = df_total.groupby([\"CustomerID\"])[\"Revenue\"].sum()\n",
    "bins = revenue.quantile(np.linspace(0,1,5))\n",
    "df = pd.DataFrame(pd.cut(revenue, bins))\n",
    "df.columns = [\"RevenueSeg\"]\n",
    "df[\"Revenue\"] = revenue\n",
    "pd.get_dummies(pd.cut(revenue, bins))"
   ]
  },
  {
   "cell_type": "markdown",
   "metadata": {},
   "source": [
    "5.2 How much revenue is generated in total by each segment?"
   ]
  },
  {
   "cell_type": "code",
   "execution_count": 48,
   "metadata": {},
   "outputs": [
    {
     "data": {
      "text/plain": [
       "RevenueSeg\n",
       "(1.562, 456.419]         2.889927e+05\n",
       "(456.419, 1012.125]      7.612348e+05\n",
       "(1012.125, 2509.019]     1.760744e+06\n",
       "(2509.019, 510949.95]    1.069523e+07\n",
       "Name: Revenue, dtype: float64"
      ]
     },
     "execution_count": 48,
     "metadata": {},
     "output_type": "execute_result"
    }
   ],
   "source": [
    "df.groupby([\"RevenueSeg\"])[\"Revenue\"].sum()"
   ]
  },
  {
   "cell_type": "markdown",
   "metadata": {},
   "source": [
    "5.3 Using the pivot table function, create a table that displays the average order quantity of each stock code for a given segment"
   ]
  },
  {
   "cell_type": "code",
   "execution_count": 49,
   "metadata": {},
   "outputs": [
    {
     "data": {
      "text/html": [
       "<div>\n",
       "<style scoped>\n",
       "    .dataframe tbody tr th:only-of-type {\n",
       "        vertical-align: middle;\n",
       "    }\n",
       "\n",
       "    .dataframe tbody tr th {\n",
       "        vertical-align: top;\n",
       "    }\n",
       "\n",
       "    .dataframe thead th {\n",
       "        text-align: right;\n",
       "    }\n",
       "</style>\n",
       "<table border=\"1\" class=\"dataframe\">\n",
       "  <thead>\n",
       "    <tr style=\"text-align: right;\">\n",
       "      <th></th>\n",
       "      <th></th>\n",
       "      <th>AvgQuantity</th>\n",
       "    </tr>\n",
       "    <tr>\n",
       "      <th>RevenueSeg</th>\n",
       "      <th>StockCode</th>\n",
       "      <th></th>\n",
       "    </tr>\n",
       "  </thead>\n",
       "  <tbody>\n",
       "    <tr>\n",
       "      <th rowspan=\"5\" valign=\"top\">(1.562, 456.419]</th>\n",
       "      <th>10002</th>\n",
       "      <td>1.000000</td>\n",
       "    </tr>\n",
       "    <tr>\n",
       "      <th>10080</th>\n",
       "      <td>NaN</td>\n",
       "    </tr>\n",
       "    <tr>\n",
       "      <th>10120</th>\n",
       "      <td>3.000000</td>\n",
       "    </tr>\n",
       "    <tr>\n",
       "      <th>10123C</th>\n",
       "      <td>1.000000</td>\n",
       "    </tr>\n",
       "    <tr>\n",
       "      <th>10124A</th>\n",
       "      <td>3.500000</td>\n",
       "    </tr>\n",
       "    <tr>\n",
       "      <th>...</th>\n",
       "      <th>...</th>\n",
       "      <td>...</td>\n",
       "    </tr>\n",
       "    <tr>\n",
       "      <th rowspan=\"5\" valign=\"top\">(2509.019, 510949.95]</th>\n",
       "      <th>C2</th>\n",
       "      <td>1.000000</td>\n",
       "    </tr>\n",
       "    <tr>\n",
       "      <th>DOT</th>\n",
       "      <td>1.000000</td>\n",
       "    </tr>\n",
       "    <tr>\n",
       "      <th>M</th>\n",
       "      <td>39.955975</td>\n",
       "    </tr>\n",
       "    <tr>\n",
       "      <th>PADS</th>\n",
       "      <td>1.000000</td>\n",
       "    </tr>\n",
       "    <tr>\n",
       "      <th>POST</th>\n",
       "      <td>3.246479</td>\n",
       "    </tr>\n",
       "  </tbody>\n",
       "</table>\n",
       "<p>14424 rows × 1 columns</p>\n",
       "</div>"
      ],
      "text/plain": [
       "                                 AvgQuantity\n",
       "RevenueSeg            StockCode             \n",
       "(1.562, 456.419]      10002         1.000000\n",
       "                      10080              NaN\n",
       "                      10120         3.000000\n",
       "                      10123C        1.000000\n",
       "                      10124A        3.500000\n",
       "...                                      ...\n",
       "(2509.019, 510949.95] C2            1.000000\n",
       "                      DOT           1.000000\n",
       "                      M            39.955975\n",
       "                      PADS          1.000000\n",
       "                      POST          3.246479\n",
       "\n",
       "[14424 rows x 1 columns]"
      ]
     },
     "execution_count": 49,
     "metadata": {},
     "output_type": "execute_result"
    }
   ],
   "source": [
    "df_seg = df.reset_index().merge(df_total, how=\"right\", on=\"CustomerID\")\n",
    "df_quant = pd.pivot_table(df_seg, index=[\"RevenueSeg\", \"StockCode\"], values=\"Quantity\", aggfunc=np.sum)\n",
    "df_num = pd.pivot_table(df_seg, index=[\"RevenueSeg\", \"StockCode\"], values=\"Quantity\", aggfunc=len)\n",
    "(df_quant / df_num).rename(columns={\"Quantity\": \"AvgQuantity\"})"
   ]
  },
  {
   "cell_type": "code",
   "execution_count": null,
   "metadata": {},
   "outputs": [],
   "source": []
  }
 ],
 "metadata": {
  "interpreter": {
   "hash": "598734ab18fd7d6a4c06fa454bb58926f7f89ba55b80aa133b9b5ca9ffcc522f"
  },
  "kernelspec": {
   "display_name": "Python 3 (ipykernel)",
   "language": "python",
   "name": "python3"
  },
  "language_info": {
   "codemirror_mode": {
    "name": "ipython",
    "version": 3
   },
   "file_extension": ".py",
   "mimetype": "text/x-python",
   "name": "python",
   "nbconvert_exporter": "python",
   "pygments_lexer": "ipython3",
   "version": "3.8.8"
  }
 },
 "nbformat": 4,
 "nbformat_minor": 2
}
