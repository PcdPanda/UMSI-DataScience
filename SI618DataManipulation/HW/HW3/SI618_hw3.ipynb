{
 "cells": [
  {
   "cell_type": "markdown",
   "metadata": {},
   "source": [
    "# SI 618 Fall 2021 Homework 3 (100 points)"
   ]
  },
  {
   "cell_type": "markdown",
   "metadata": {},
   "source": [
    "## Part 1 (75 points) "
   ]
  },
  {
   "cell_type": "markdown",
   "metadata": {},
   "source": [
    "The provided ‘movie_actors_data.txt’ file contains a JSON string on each line. For example, the first line is: \n",
    "\n",
    ">{\"rating\": 9.3, \"genres\": [\"Crime\", \"Drama\"], \"rated\": \"R\", \"filming_locations\": \"Ashland, Ohio, USA\", \"language\": [\"English\"], \"title\": \"The Shawshank Redemption\", \"runtime\": [\"142 min\"], \"poster\": \"http://img3.douban.com/lpic/s1311361.jpg\", \"imdb_url\": \"http://www.imdb.com/title/tt0111161/\", \"writers\": [\"Stephen King\", \"Frank Darabont\"], \"imdb_id\": \"tt0111161\", \"directors\": [\"Frank Darabont\"], \"rating_count\": 894012, \"actors\": [\"Tim Robbins\", \"Morgan Freeman\", \"Bob Gunton\", \"William Sadler\", \"Clancy Brown\", \"Gil Bellows\", \"Mark Rolston\", \"James Whitmore\", \"Jeffrey DeMunn\", \"Larry Brandenburg\", \"Neil Giuntoli\", \"Brian Libby\", \"David Proval\", \"Joseph Ragno\", \"Jude Ciccolella\"], \"plot_simple\": \"Two imprisoned men bond over a number of years, finding solace and eventual redemption through acts of common decency.\", \"year\": 1994, \"country\": [\"USA\"], \"type\": \"M\", \"release_date\": 19941014, \"also_known_as\": [\"Die Verurteilten\"]}\n",
    "\n",
    "The fields we are interested in are imdb_id , title , rating, genres, actors, and year. You will parse the JSON strings, and load the data into three tables in SQLite, and then write SQL queries to retrieve the data specified. \n",
    "\n",
    "You will create three tables: \n",
    "* The “movie_genre” table, which has two columns: imdb_id and genre. A movie typically has multiple genres, and in this case, there should be one row for each genre. If some movie does not have any genre, ignore that movie.  ",
    "\n",
    "\n",
    "* The “movies” table, which has four columns: imdb_id, title, year, rating, country  ",
    "\n",
    "\n",
    "* The “movie_actor” table, which has two columns imdb_id and actor. A movie typically has  ",
    "\n",
    "multiple actors, and in this case, there should be one row for each actor. \n",
    "\n",
    "**When you run your Python code, it should print out EXACTLY the output provided.**"
   ]
  },
  {
   "cell_type": "markdown",
   "metadata": {},
   "source": [
    "#### Q1. (10 points) Parse input file to get needed data for the three tables and load them into appropriate Python data structure. "
   ]
  },
  {
   "cell_type": "code",
   "execution_count": 105,
   "metadata": {},
   "outputs": [],
   "source": [
    "import pandas as pd\n",
    "import numpy as np\n",
    "import sqlite3\n",
    "import json"
   ]
  },
  {
   "cell_type": "code",
   "execution_count": 106,
   "metadata": {},
   "outputs": [],
   "source": [
    "data = list()\n",
    "with open(\"movie_actors_data.txt\") as f:\n",
    "    for row in f:\n",
    "        data.append(json.loads(row))\n",
    "conn = sqlite3.connect(\"pandapcd_si618_hw3.db\")"
   ]
  },
  {
   "cell_type": "code",
   "execution_count": 107,
   "metadata": {},
   "outputs": [],
   "source": [
    "conn.execute(\"DROP TABLE IF EXISTS movie_genre;\")\n",
    "conn.execute(\"DROP TABLE IF EXISTS movies;\")\n",
    "conn.execute(\"DROP TABLE IF EXISTS movie_actor;\")\n",
    "conn.commit()"
   ]
  },
  {
   "cell_type": "markdown",
   "metadata": {},
   "source": [
    "#### Q2. (5 points) Create the movie_genre table and load data into it."
   ]
  },
  {
   "cell_type": "code",
   "execution_count": 108,
   "metadata": {},
   "outputs": [],
   "source": [
    "movie_genre = pd.DataFrame(data)[[\"imdb_id\", \"genres\"]].explode(\"genres\")\n",
    "c = conn.cursor()\n",
    "c.execute(\"CREATE TABLE IF NOT EXISTS movie_genre (imdb_id text, genre text);\")\n",
    "for row in movie_genre.values:\n",
    "    sql = \"INSERT INTO movie_genre VALUES ('{}', '{}');\".format(*row)\n",
    "    c.execute(sql)\n",
    "conn.commit()"
   ]
  },
  {
   "cell_type": "markdown",
   "metadata": {},
   "source": [
    "#### Q3. (5 points) Create the movies table and load data into it. Note that you only need to consider the first country if there are multiple countries associated with a movie."
   ]
  },
  {
   "cell_type": "code",
   "execution_count": 109,
   "metadata": {},
   "outputs": [],
   "source": [
    "movies = pd.DataFrame(data)[[\"imdb_id\", \"title\", \"year\", \"rating\", \"country\"]]\n",
    "movies[\"title\"] = movies[\"title\"].str.replace(\"'\", \"''\", regex=False)\n",
    "movies[\"country\"] = movies[\"country\"].astype(str).str.replace(\"'\", \"''\", regex=False)\n",
    "c = conn.cursor()\n",
    "c.execute(\"CREATE TABLE IF NOT EXISTS movies (imdb_id text, title text, year int, rating float, country text);\")\n",
    "for row in movies.values:\n",
    "    sql = \"INSERT INTO movies VALUES ('{}', '{}', '{}', '{}', '{}');\".format(*row)\n",
    "    c.execute(sql)\n",
    "conn.commit()"
   ]
  },
  {
   "cell_type": "markdown",
   "metadata": {},
   "source": [
    "#### Q4. (5 points) Create the movie_actor table and load data into it."
   ]
  },
  {
   "cell_type": "code",
   "execution_count": 110,
   "metadata": {},
   "outputs": [],
   "source": [
    "movie_actor = pd.DataFrame(data)[[\"imdb_id\", \"actors\"]].explode(\"actors\")\n",
    "movie_actor[\"actors\"] = movie_actor[\"actors\"].str.replace(\"'\", \"''\")\n",
    "c = conn.cursor()\n",
    "c.execute(\"CREATE TABLE IF NOT EXISTS movie_actor (imdb_id text, actor text);\")\n",
    "for row in movie_actor.values:\n",
    "    sql = \"INSERT INTO movie_actor VALUES ('{}', '{}');\".format(*row)\n",
    "    c.execute(sql)\n",
    "conn.commit()"
   ]
  },
  {
   "cell_type": "markdown",
   "metadata": {},
   "source": [
    "#### Q5. (10 points) Write an SQL query to find top 10 genres in the US by the number of movies in that genre and print out the results.\n",
    "```\n",
    "Top 10 genres:Genre, Movies\n",
    "Drama,114\n",
    "Thriller,53\n",
    "Crime,46\n",
    "Adventure,41\n",
    "Mystery,34\n",
    "Comedy,32\n",
    "Action,31\n",
    "Romance,27\n",
    "Fantasy,21\n",
    "Sci-Fi,20\n",
    "```"
   ]
  },
  {
   "cell_type": "code",
   "execution_count": 118,
   "metadata": {},
   "outputs": [
    {
     "name": "stdout",
     "output_type": "stream",
     "text": [
      "Top 10 genres:Genre, Movies\n",
      "       Genre  Movies\n",
      "0      Drama     127\n",
      "1   Thriller      54\n",
      "2      Crime      49\n",
      "3  Adventure      47\n",
      "4    Mystery      35\n",
      "5     Comedy      34\n",
      "6     Action      33\n",
      "7    Romance      29\n",
      "8    Fantasy      23\n",
      "9        War      22\n"
     ]
    }
   ],
   "source": [
    "sql = \"SELECT genre as Genre, COUNT(imdb_id) as Movies FROM movie_genre LEFT JOIN movies USING(imdb_id) WHERE country LIKE '%USA%' GROUP BY genre ORDER BY Movies DESC LIMIT 10;\"\n",
    "c = conn.cursor()\n",
    "c.execute(sql)\n",
    "df = pd.DataFrame(c.fetchall(), columns=[\"Genre\", \"Movies\"])\n",
    "print(\"Top 10 genres:Genre, Movies\")\n",
    "print(df)"
   ]
  },
  {
   "cell_type": "markdown",
   "metadata": {},
   "source": [
    "#### Q6. (10 points) Write a SQL query to find the average rating of all movies broken down by year in chronological order.\n",
    "```\n",
    "Average rating of movies broken down by year:Year, Rating\n",
    "1921, 8.3\n",
    "1922, 8.0\n",
    "1925, 8.2\n",
    "1926, 8.3\n",
    "1927, 8.4\n",
    "1930, 8.1\n",
    "1931, 8.55\n",
    "1934, 8.2\n",
    "1936, 8.6\n",
    "1939, 8.233333333333333\n",
    "1940, 8.333333333333334\n",
    "1941, 8.4\n",
    "1942, 8.7\n",
    "1943, 8.0\n",
    "1944, 8.25\n",
    "1946, 8.366666666666665\n",
    "1948, 8.299999999999999\n",
    "1949, 8.4\n",
    "1950, 8.375\n",
    "1951, 8.1\n",
    "1952, 8.3\n",
    "1953, 8.1\n",
    "1954, 8.42\n",
    "1955, 8.2\n",
    "1956, 8.1\n",
    "1957, 8.466666666666667\n",
    "1958, 8.4\n",
    "1959, 8.28\n",
    "1960, 8.5\n",
    "1961, 8.25\n",
    "1962, 8.3\n",
    "1963, 8.2\n",
    "1964, 8.3\n",
    "1965, 8.3\n",
    "1966, 8.433333333333332\n",
    "1967, 8.149999999999999\n",
    "1968, 8.366666666666667\n",
    "1969, 8.149999999999999\n",
    "1971, 8.5\n",
    "1972, 8.649999999999999\n",
    "1973, 8.166666666666666\n",
    "1974, 8.75\n",
    "1975, 8.32\n",
    "1976, 8.266666666666666\n",
    "1977, 8.5\n",
    "1978, 8.2\n",
    "1979, 8.28\n",
    "1980, 8.366666666666667\n",
    "1981, 8.55\n",
    "1982, 8.200000000000001\n",
    "1983, 8.3\n",
    "1984, 8.299999999999999\n",
    "1985, 8.4\n",
    "1986, 8.233333333333334\n",
    "1987, 8.166666666666666\n",
    "1988, 8.280000000000001\n",
    "1989, 8.3\n",
    "1990, 8.8\n",
    "1991, 8.433333333333332\n",
    "1992, 8.350000000000001\n",
    "1993, 8.275\n",
    "1994, 8.8\n",
    "1995, 8.35\n",
    "1996, 8.2\n",
    "1997, 8.366666666666665\n",
    "1998, 8.319999999999999\n",
    "1999, 8.559999999999999\n",
    "2000, 8.379999999999999\n",
    "2001, 8.32\n",
    "2002, 8.48\n",
    "2003, 8.211111111111112\n",
    "2004, 8.22\n",
    "2005, 8.233333333333333\n",
    "2006, 8.45\n",
    "2007, 8.157142857142857\n",
    "2008, 8.4\n",
    "2009, 8.185714285714285\n",
    "2010, 8.271428571428572\n",
    "2011, 8.25\n",
    "2012, 8.362499999999999\n",
    "```"
   ]
  },
  {
   "cell_type": "code",
   "execution_count": 112,
   "metadata": {},
   "outputs": [
    {
     "name": "stdout",
     "output_type": "stream",
     "text": [
      "Average rating of movies broken down by year:Year, Rating\n",
      "    Year    Rating\n",
      "0   1921  8.300000\n",
      "1   1922  8.000000\n",
      "2   1925  8.200000\n",
      "3   1926  8.300000\n",
      "4   1927  8.400000\n",
      "..   ...       ...\n",
      "75  2008  8.400000\n",
      "76  2009  8.185714\n",
      "77  2010  8.271429\n",
      "78  2011  8.250000\n",
      "79  2012  8.362500\n",
      "\n",
      "[80 rows x 2 columns]\n"
     ]
    }
   ],
   "source": [
    "sql = \"SELECT year, AVG(rating) FROM movies GROUP BY year ORDER BY year;\"\n",
    "c = conn.cursor()\n",
    "c.execute(sql)\n",
    "df = pd.DataFrame(c.fetchall(), columns=[\"Year\", \"Rating\"])\n",
    "print(\"Average rating of movies broken down by year:Year, Rating\")\n",
    "print(df)"
   ]
  },
  {
   "cell_type": "markdown",
   "metadata": {},
   "source": [
    "#### Q7. (10 points) Write a SQL query to find all Thriller movies from outside the U.S. ordered by decreasing rating, then by increasing year if ratings are the same.\n",
    "\n",
    "```\n",
    "Thriller movies:Title, Year, Rating\n",
    "Léon, 1994, 8.6\n",
    "M, 1931, 8.5\n",
    "Das Leben der Anderen, 2006, 8.5\n",
    "The Third Man, 1949, 8.4\n",
    "Oldeuboi, 2003, 8.4\n",
    "Snatch., 2000, 8.3\n",
    "Lock, Stock and Two Smoking Barrels, 1998, 8.2\n",
    "El secreto de sus ojos, 2009, 8.2\n",
    "In the Name of the Father, 1993, 8.1\n",
    "Amores perros, 2000, 8.1\n",
    "Mou gaan dou, 2002, 8.1\n",
    "Salinui chueok, 2003, 8.1\n",
    "Slumdog Millionaire, 2008, 8.1\n",
    "```"
   ]
  },
  {
   "cell_type": "code",
   "execution_count": 113,
   "metadata": {},
   "outputs": [
    {
     "name": "stdout",
     "output_type": "stream",
     "text": [
      "Thriller movies:Title, Year, Rating\n",
      "                                  Title  Year  Rating\n",
      "0                                  Léon  1994     8.6\n",
      "1                                     M  1931     8.5\n",
      "2                 Das Leben der Anderen  2006     8.5\n",
      "3                         The Third Man  1949     8.4\n",
      "4                              Oldeuboi  2003     8.4\n",
      "5   Lock, Stock and Two Smoking Barrels  1998     8.2\n",
      "6                El secreto de sus ojos  2009     8.2\n",
      "7             In the Name of the Father  1993     8.1\n",
      "8                         Amores perros  2000     8.1\n",
      "9                          Mou gaan dou  2002     8.1\n",
      "10                       Salinui chueok  2003     8.1\n",
      "11                  Slumdog Millionaire  2008     8.1\n"
     ]
    }
   ],
   "source": [
    "sql = \"SELECT title, year, rating FROM movies LEFT JOIN movie_genre USING(imdb_id) WHERE genre='Thriller' AND NOT country LIKE '%USA%' ORDER BY rating DESC, year;\"\n",
    "c = conn.cursor()\n",
    "c.execute(sql)\n",
    "df = pd.DataFrame(c.fetchall(), columns=[\"Title\", \"Year\", \"Rating\"])\n",
    "print(\"Thriller movies:Title, Year, Rating\")\n",
    "print(df)"
   ]
  },
  {
   "cell_type": "markdown",
   "metadata": {},
   "source": [
    "#### Q8. (10 points) Write a SQL query to find the top 10 actors based on average movie rating with at least 2 credits in an after year 2000. For each actor, give their name, average rating of the movies they played in, and the number of movies. Sort the result in the descending order based on average movie rating. In case of ties, sort the rows by actor name.\n",
    "\n",
    "```\n",
    "In and after year 2000, top 10 highest rated actors based on average movie rating with at least 2 credits : Actor, Movies\n",
    "Marton Csokas, 8.850000000000001, 2\n",
    "Noel Appleby, 8.850000000000001, 2\n",
    "Sean Bean, 8.850000000000001, 2\n",
    "Bernard Hill, 8.8, 2\n",
    "Billy Boyd, 8.8, 3\n",
    "Cate Blanchett, 8.8, 3\n",
    "John Bach, 8.8, 2\n",
    "Sean Astin, 8.8, 3\n",
    "Christopher Lee, 8.75, 2\n",
    "Joseph Gordon-Levitt, 8.75, 2\n",
    "```\n"
   ]
  },
  {
   "cell_type": "code",
   "execution_count": 114,
   "metadata": {},
   "outputs": [
    {
     "name": "stdout",
     "output_type": "stream",
     "text": [
      "In and after year 2000, top 10 highest rated actors based on average movie rating with at least 2 credits : Actor, Movies\n",
      "                  Actor  Rating  Movies\n",
      "0         Marton Csokas    8.85       2\n",
      "1          Noel Appleby    8.85       2\n",
      "2             Sean Bean    8.85       2\n",
      "3          Bernard Hill    8.80       2\n",
      "4            Billy Boyd    8.80       3\n",
      "5        Cate Blanchett    8.80       3\n",
      "6             John Bach    8.80       2\n",
      "7            Sean Astin    8.80       3\n",
      "8       Christopher Lee    8.75       2\n",
      "9  Joseph Gordon-Levitt    8.75       2\n"
     ]
    }
   ],
   "source": [
    "sql = \"SELECT actor as Actor, AVG(rating) as Rating, COUNT(imdb_id) as Movies FROM movie_actor LEFT JOIN movies USING(imdb_id) WHERE year>2000 GROUP BY actor HAVING Movies > 1 ORDER BY Rating DESC, Actor LIMIT 10;\"\n",
    "c = conn.cursor()\n",
    "c.execute(sql)\n",
    "df = pd.DataFrame(c.fetchall(), columns=[\"Actor\", \"Rating\", \"Movies\"])\n",
    "print(\"In and after year 2000, top 10 highest rated actors based on average movie rating with at least 2 credits : Actor, Movies\")\n",
    "print(df)"
   ]
  },
  {
   "cell_type": "markdown",
   "metadata": {},
   "source": [
    "#### Q9. (10 points) Write a SQL query for finding pairs of actors who co-starred in at least 2 highly rated (rating > 9) movies together. \n",
    "\n",
    "The pairs of names must be unique. This means that ‘actor A, actor B’ and ‘actor B, actor A’ are the same pair, so only one of them should appear. For each pair of actors you print out, the two actors must be ordered alphabetically. The pairs are ordered in decreasing number of movies they co-stared in. In case of ties, the rows are ordered by actors’ names. \n",
    "\n",
    ">You will need to join the movie_actor table with itself to get this data (in addition to another required join). It is a bit tricky. If you cannot do it with SQL statement, you can also write some Python code that works on the Python data structure that you used to create the movie_actor table. That’ll mean much more lines of code, and if you do it that way, you’ll get 5 points instead of 10 points. You will only get 10 points if you solve it with pure SQL.\n",
    "\n",
    "```\n",
    "Pairs of actors who co-stared in 2 or more highly rated movies: Actor A, Actor B, Co-stared Movies\n",
    "Al Pacino, Diane Keaton, 2\n",
    "Al Pacino, John Cazale, 2\n",
    "Al Pacino, Robert Duvall, 2\n",
    "Al Pacino, Talia Shire, 2\n",
    "Diane Keaton, John Cazale, 2\n",
    "Diane Keaton, Robert Duvall, 2\n",
    "Diane Keaton, Talia Shire, 2\n",
    "John Cazale, Robert Duvall, 2\n",
    "John Cazale, Talia Shire, 2\n",
    "Robert Duvall, Talia Shire, 2\n",
    "```"
   ]
  },
  {
   "cell_type": "code",
   "execution_count": 115,
   "metadata": {},
   "outputs": [
    {
     "name": "stdout",
     "output_type": "stream",
     "text": [
      "Pairs of actors who co-stared in 2 or more highly rated movies: Actor A, Actor B, Co-stared Movies\n",
      "         Actor A        Actor B  Co-staredMovies\n",
      "0      Al Pacino   Diane Keaton                2\n",
      "1      Al Pacino    John Cazale                2\n",
      "2      Al Pacino  Robert Duvall                2\n",
      "3      Al Pacino    Talia Shire                2\n",
      "4   Diane Keaton    John Cazale                2\n",
      "5   Diane Keaton  Robert Duvall                2\n",
      "6   Diane Keaton    Talia Shire                2\n",
      "7    John Cazale  Robert Duvall                2\n",
      "8    John Cazale    Talia Shire                2\n",
      "9  Robert Duvall    Talia Shire                2\n"
     ]
    }
   ],
   "source": [
    "sql = \"SELECT a.actor as Actor_A, b.actor as Actor_B, Count(a.imdb_id) as Movies FROM movie_actor as a LEFT JOIN movie_actor as b USING(imdb_id) LEFT JOIN movies USING(imdb_id) WHERE rating > 9 AND Actor_A<Actor_B GROUP BY Actor_A, Actor_B HAVING Movies > 1 ORDER BY Actor_A, Actor_B;\"\n",
    "c = conn.cursor()\n",
    "c.execute(sql)\n",
    "df = pd.DataFrame(c.fetchall(), columns=[\"Actor A\", \"Actor B\", \"Co-staredMovies\"])\n",
    "print(\"Pairs of actors who co-stared in 2 or more highly rated movies: Actor A, Actor B, Co-stared Movies\")\n",
    "print(df)"
   ]
  },
  {
   "cell_type": "markdown",
   "metadata": {},
   "source": [
    "## Part 2 (25 points) "
   ]
  },
  {
   "cell_type": "markdown",
   "metadata": {},
   "source": [
    "Write a python function that takes two arguments: genre and k \n",
    "\n",
    "The function should print out the top k actors who played roles in the highest rated movies (on average) in the provided genre. You should use the sqlite3 database file you created in Part 1. Some example runs of my function are shown below. Your program should produce the same output when provided with the same command line arguments.\n",
    "\n",
    "`get_top_genre_actors(\"Drama\", 5)`\n",
    "```\n",
    "Top 5 actors who played in highest rated Drama movies:\n",
    "Actor, Average Drama movie rating\n",
    "Bob Gunton, 9.3\n",
    "Brian Libby, 9.3\n",
    "Clancy Brown, 9.3\n",
    "David Proval, 9.3\n",
    "Gil Bellows, 9.3\n",
    "```\n",
    "\n",
    "`get_top_genre_actors(\"Action\", 10)`\n",
    "```\n",
    "Top 10 actors who played in highest rated Action movies:\n",
    "Actor, Average Action movie rating\n",
    "Aaron Eckhart, 9.0\n",
    "Anthony Michael Hall, 9.0\n",
    "Chin Han, 9.0\n",
    "Eric Roberts, 9.0\n",
    "Heath Ledger, 9.0\n",
    "Maggie Gyllenhaal, 9.0\n",
    "Monique Gabriela Curnen, 9.0\n",
    "Nestor Carbonell, 9.0\n",
    "Ritchie Coster, 9.0\n",
    "Ron Dean, 9.0\n",
    "```\n",
    "\n",
    "\n",
    "`get_top_genre_actors(\"Comedy\", 10)`\n",
    "```\n",
    "Top 10 actors who played in highest rated Comedy movies:\n",
    "Actor, Average Comedy movie rating\n",
    "Al Ernest Garcia, 8.6\n",
    "Alba Gaïa Kraghede Bellugi, 8.6\n",
    "Anne Le Ny, 8.6\n",
    "Audrey Fleurot, 8.6\n",
    "Cecil Reynolds, 8.6\n",
    "Christian Ameri, 8.6\n",
    "Cyril Mendy, 8.6\n",
    "Dominique Daguier, 8.6\n",
    "Dorothée Brière, 8.6\n",
    "Edward LeSaint, 8.6\n",
    "```"
   ]
  },
  {
   "cell_type": "code",
   "execution_count": 116,
   "metadata": {},
   "outputs": [],
   "source": [
    "# The function should print out the top k actors who played roles in the highest rated movies (on average) in the provided genre. You should use the sqlite3 database file you created in Part 1. Some example runs of my function are shown below. Your program should produce the same output when provided with the same command line arguments.\n",
    "\n",
    "def get_top_genre_actors(genre: str, k: int):\n",
    "    sql = \"SELECT actor, AVG(rating) FROM movie_actor LEFT JOIN movies USING(imdb_id) LEFT JOIN movie_genre USING(imdb_id) WHERE genre='{genre}' GROUP BY actor ORDER BY AVG(rating) DESC, actor LIMIT {k}\".format(genre=genre, k=k)\n",
    "    c = conn.cursor()\n",
    "    c.execute(sql)\n",
    "    print(\"Top {k} actors who played in highest rated {genre} movies:\".format(k=k, genre=genre))\n",
    "    df = pd.DataFrame(c.fetchall(), columns=[\"Actor\", \"Average {} movie rating\".format(genre)])\n",
    "    return df"
   ]
  },
  {
   "cell_type": "markdown",
   "metadata": {},
   "source": [
    "## What to submit: \n",
    "Please perform the following operations and turn in the corresponding files to canvas:\n",
    "1. Jupyter notebook titled uniqname_si618_hw3.ipynb and the corresponding html page (uniqname_si618_hw3.html) \n",
    "through Canvas.\n",
    "2. The sqlite database file you created. (uniqname_si618_hw3.db)"
   ]
  }
 ],
 "metadata": {
  "interpreter": {
   "hash": "ccfad3a08567331d09d2432bee1b50cab695c9379824f131d2e64405b63b07b1"
  },
  "kernelspec": {
   "display_name": "Python 3",
   "language": "python",
   "name": "python3"
  },
  "language_info": {
   "codemirror_mode": {
    "name": "ipython",
    "version": 3
   },
   "file_extension": ".py",
   "mimetype": "text/x-python",
   "name": "python",
   "nbconvert_exporter": "python",
   "pygments_lexer": "ipython3",
   "version": "3.8.8"
  }
 },
 "nbformat": 4,
 "nbformat_minor": 2
}
